{
 "cells": [
  {
   "cell_type": "code",
   "execution_count": null,
   "metadata": {},
   "outputs": [],
   "source": [
    "%load_ext autoreload\n",
    "%autoreload 2\n",
    "%config InlineBackend.figure_format='retina'"
   ]
  },
  {
   "cell_type": "code",
   "execution_count": null,
   "metadata": {},
   "outputs": [],
   "source": [
    "import os\n",
    "import json\n",
    "\n",
    "import numpy as np\n",
    "import pandas as pd\n",
    "import matplotlib.pyplot as plt\n",
    "import seaborn as sns\n",
    "\n",
    "import anndata\n",
    "import scanpy as sc\n",
    "import datasets"
   ]
  },
  {
   "cell_type": "code",
   "execution_count": null,
   "metadata": {},
   "outputs": [],
   "source": [
    "from tqdm.auto import tqdm\n",
    "\n",
    "import torch\n",
    "import torch.nn as nn\n",
    "import torch.nn.functional as F\n",
    "\n",
    "torch.set_float32_matmul_precision('high')"
   ]
  },
  {
   "cell_type": "code",
   "execution_count": null,
   "metadata": {},
   "outputs": [],
   "source": [
    "from scmg.model.manifold_generation import (ConditionalDiffusionModel, \n",
    "                                            train_diffusion_model)"
   ]
  },
  {
   "cell_type": "code",
   "execution_count": null,
   "metadata": {},
   "outputs": [],
   "source": [
    "#all_data = datasets.load_from_disk('/GPUData_xingjie/SCMG/manifold_generator_training/datasets/standard_adata_Tabula_Sapiens_HS_2022_all_0')\n",
    "all_data = datasets.load_from_disk('/GPUData_xingjie/SCMG/manifold_generator_training/training_dataset_combined/dataset/')\n",
    "\n",
    "all_data = all_data.with_format(\"torch\")\n",
    "print(f'The dataset contains {len(all_data)} points.')\n",
    "\n",
    "#data_loader = torch.utils.data.DataLoader(all_data, 4096, shuffle=True)\n",
    "\n",
    "data_loader = torch.utils.data.DataLoader(all_data, 4096, shuffle=True,\n",
    "                                           num_workers=48, persistent_workers=True)"
   ]
  },
  {
   "cell_type": "code",
   "execution_count": null,
   "metadata": {},
   "outputs": [],
   "source": [
    "device = 'cuda:1'\n",
    "\n",
    "condition_classes = pd.read_csv(\n",
    "    '/GPUData_xingjie/Softwares/SCMG_dev/tests/manifold_generator/cell_types.csv'\n",
    "    )['cell_type'].values\n",
    "\n",
    "model = ConditionalDiffusionModel(\n",
    "    n_feature=512,\n",
    "    n_time_feature=256,\n",
    "    condition_classes=condition_classes,\n",
    "    n_condition_feature=512,\n",
    "    n_steps=1000,\n",
    "    n_network_blocks=8,\n",
    ").to(device)"
   ]
  },
  {
   "cell_type": "code",
   "execution_count": null,
   "metadata": {},
   "outputs": [],
   "source": [
    "train_diffusion_model(\n",
    "    model,\n",
    "    data_loader,\n",
    "    num_epochs=1000,\n",
    "    output_path='/GPUData_xingjie/Softwares/SCMG_dev/tests/manifold_generator/trained_diffusion_model',\n",
    "    lr=1e-4,\n",
    ")"
   ]
  },
  {
   "cell_type": "code",
   "execution_count": null,
   "metadata": {},
   "outputs": [],
   "source": [
    "with open('/GPUData_xingjie/Softwares/SCMG_dev/tests/manifold_generator/trained_diffusion_model/loss_history.json') as f:\n",
    "    loss_history = json.load(f)\n",
    "start, stop = 10, 10000\n",
    "for k in loss_history:\n",
    "    plt.plot(np.arange(len(loss_history[k]))[start:stop],\n",
    "             np.array(loss_history[k])[start:stop])\n",
    "    plt.title(k)\n",
    "    plt.show()"
   ]
  },
  {
   "cell_type": "code",
   "execution_count": null,
   "metadata": {},
   "outputs": [],
   "source": [
    "# Load the diffusion model\n",
    "\n",
    "best_model = torch.load('/GPUData_xingjie/Softwares/SCMG_dev/tests/manifold_generator/trained_diffusion_model/model.pt')\n",
    "best_model.load_state_dict(torch.load('/GPUData_xingjie/Softwares/SCMG_dev/tests/manifold_generator/trained_diffusion_model/best_state_dict.pth'))\n",
    "\n",
    "device = 'cuda:0'\n",
    "best_model.to(device)\n",
    "best_model.eval()"
   ]
  },
  {
   "cell_type": "code",
   "execution_count": null,
   "metadata": {},
   "outputs": [],
   "source": [
    "batch = next(iter(data_loader))\n",
    "Z_shift = batch['X_ce_latent'].numpy()\n",
    "plt.hist(np.linalg.norm(Z_shift, axis=1), bins=100)\n",
    "plt.show()"
   ]
  },
  {
   "cell_type": "code",
   "execution_count": null,
   "metadata": {},
   "outputs": [],
   "source": [
    "generated_zs = []\n",
    "\n",
    "generated_zs = best_model.generate(batch['cell_type']).detach().cpu().numpy()\n",
    "\n",
    "plt.hist(np.linalg.norm(generated_zs, axis=1), bins=100)\n",
    "plt.show()"
   ]
  },
  {
   "cell_type": "code",
   "execution_count": null,
   "metadata": {},
   "outputs": [],
   "source": [
    "batch = next(iter(data_loader))\n",
    "np.unique(batch['cell_type'])"
   ]
  },
  {
   "cell_type": "code",
   "execution_count": null,
   "metadata": {},
   "outputs": [],
   "source": []
  }
 ],
 "metadata": {
  "kernelspec": {
   "display_name": "scmg",
   "language": "python",
   "name": "python3"
  },
  "language_info": {
   "codemirror_mode": {
    "name": "ipython",
    "version": 3
   },
   "file_extension": ".py",
   "mimetype": "text/x-python",
   "name": "python",
   "nbconvert_exporter": "python",
   "pygments_lexer": "ipython3",
   "version": "3.10.14"
  }
 },
 "nbformat": 4,
 "nbformat_minor": 2
}
