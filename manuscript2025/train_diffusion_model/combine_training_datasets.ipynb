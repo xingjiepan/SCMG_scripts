{
 "cells": [
  {
   "cell_type": "code",
   "execution_count": null,
   "metadata": {},
   "outputs": [],
   "source": [
    "%config InlineBackend.figure_format='retina'"
   ]
  },
  {
   "cell_type": "code",
   "execution_count": null,
   "metadata": {},
   "outputs": [],
   "source": [
    "import os\n",
    "import shutil\n",
    "\n",
    "import numpy as np\n",
    "import pandas as pd\n",
    "from tqdm import tqdm\n",
    "\n",
    "import datasets\n",
    "from datasets import Dataset, DatasetDict, concatenate_datasets"
   ]
  },
  {
   "cell_type": "code",
   "execution_count": null,
   "metadata": {},
   "outputs": [],
   "source": [
    "selected_dataset_prefices = [\n",
    "    'standard_adata_AllenBrain_WB_MM_2023_all',\n",
    "    'standard_adata_Allen_BrainAging_MM_2022_all',\n",
    "    'standard_adata_Arutyunyan_Placenta_HS_2023_all',\n",
    "    'standard_adata_Bhaduri_CtxDev_HS_2021_all',\n",
    "    'standard_adata_Cao_dev_HS_2020_all',\n",
    "    'standard_adata_Conde_Immune_HS_2022_all',\n",
    "    'standard_adata_Cowan_Retina_HS_2020_fovea',\n",
    "    'standard_adata_Cowan_Retina_HS_2020_periphery',\n",
    "    'standard_adata_Deng_CarT_HS_2020_all',\n",
    "    'standard_adata_Elmentaite_intestine_HS_2021_all',\n",
    "    'standard_adata_Enge_Pancrea_HS_2017_all',\n",
    "    'standard_adata_Eraslan_MultiTissue_HS_2022_all',\n",
    "    'standard_adata_Fawkner-Corbett_IntestineDev_HS_2021_all',\n",
    "    'standard_adata_Han_HS_2020_all',\n",
    "    'standard_adata_He_LungDev_HS_2022_all',\n",
    "    'standard_adata_Hrovatin_Pancrea_MM_2022_all',\n",
    "    'standard_adata_Jardine_BloodDev_HS_2021_normal',\n",
    "    'standard_adata_Khaled_Breast_HS_2023_all',\n",
    "    'standard_adata_Kuppe_Heart_HS_2022_all',\n",
    "    'standard_adata_LaManno_WBDev_MM_2021_all',\n",
    "    'standard_adata_Lake_Kidney_HS_2023_all',\n",
    "    'standard_adata_Lengyel_FallopianTube_HS_2022_all',\n",
    "    'standard_adata_Litvinukova_Heart_HS_2020_all',\n",
    "    'standard_adata_Park_Thymus_HS_2020_all',\n",
    "    'standard_adata_Qiu_Organogenesis_MM_2022_all',\n",
    "    'standard_adata_Qiu_whole_embryo_dev_MM_2024_all',\n",
    "    'standard_adata_Sikkema_Lung_HS_2023_core',\n",
    "    'standard_adata_Streets_Adipose_HS_2023_all',\n",
    "    'standard_adata_Suo_ImmuneDev_HS_2022_all',\n",
    "    'standard_adata_Tabula_Muris_MM_2020_10x',\n",
    "    'standard_adata_Tabula_Muris_MM_2020_smart-seq',\n",
    "    'standard_adata_Tabula_Sapiens_HS_2022_all',\n",
    "    'standard_adata_Tyser_Embryo_HS_2021_all',\n",
    "    'standard_adata_VentoTormo_Placenta_HS_2018_all',\n",
    "    'standard_adata_Wiedemann_Skin_HS_2023_all',\n",
    "    'standard_adata_Yanagida_Blastocyst_HS_2021_all',\n",
    "    'standard_adata_Yu_MultiTissue_HS_2021_all'\n",
    " ]"
   ]
  },
  {
   "cell_type": "code",
   "execution_count": null,
   "metadata": {},
   "outputs": [],
   "source": [
    "output_path = '/GPUData_xingjie/SCMG/manifold_generator_training/training_dataset_combined'\n",
    "\n",
    "input_path = '/GPUData_xingjie/SCMG/manifold_generator_training/'\n",
    "\n",
    "# Get the paths to the datasets to combine\n",
    "subset_paths = []\n",
    "for f in sorted(os.listdir(os.path.join(input_path, 'datasets'))):\n",
    "    for p in selected_dataset_prefices:\n",
    "        if f.startswith(p):\n",
    "            subset_paths.append(os.path.join(input_path, 'datasets', f))\n",
    "\n",
    "# Load the datasets\n",
    "subset_list = [datasets.load_from_disk(d) for d in subset_paths]\n",
    "combined_ds = concatenate_datasets(subset_list)\n",
    "display(combined_ds)\n",
    "\n",
    "# Save the combined dataset\n",
    "os.makedirs(output_path, exist_ok=True)\n",
    "\n",
    "combined_ds.save_to_disk(os.path.join(output_path, 'dataset'))"
   ]
  },
  {
   "cell_type": "code",
   "execution_count": null,
   "metadata": {},
   "outputs": [],
   "source": []
  }
 ],
 "metadata": {
  "kernelspec": {
   "display_name": "scmg",
   "language": "python",
   "name": "python3"
  },
  "language_info": {
   "codemirror_mode": {
    "name": "ipython",
    "version": 3
   },
   "file_extension": ".py",
   "mimetype": "text/x-python",
   "name": "python",
   "nbconvert_exporter": "python",
   "pygments_lexer": "ipython3",
   "version": "3.10.14"
  }
 },
 "nbformat": 4,
 "nbformat_minor": 2
}
