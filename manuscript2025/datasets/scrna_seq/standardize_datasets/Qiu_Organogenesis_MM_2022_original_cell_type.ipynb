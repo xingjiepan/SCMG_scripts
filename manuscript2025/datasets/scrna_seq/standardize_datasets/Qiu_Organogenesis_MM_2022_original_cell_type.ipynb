{
 "cells": [
  {
   "cell_type": "code",
   "execution_count": null,
   "metadata": {},
   "outputs": [],
   "source": [
    "%config InlineBackend.figure_format='retina'"
   ]
  },
  {
   "cell_type": "code",
   "execution_count": null,
   "metadata": {},
   "outputs": [],
   "source": [
    "import os\n",
    "\n",
    "import numpy as np\n",
    "import pandas as pd\n",
    "import matplotlib.pyplot as plt\n",
    "import scanpy as sc\n",
    "\n",
    "from cytofuture_data.gene_name_mapping import GeneNameMapper"
   ]
  },
  {
   "cell_type": "code",
   "execution_count": null,
   "metadata": {},
   "outputs": [],
   "source": [
    "# Load the gene name mapper\n",
    "gene_name_mapper = GeneNameMapper(\n",
    "    '../standard_genes/gene_names/human_genes.csv',\n",
    "    '../standard_genes/gene_names/mouse_genes.csv',\n",
    "    '../standard_genes/gene_names/orthologue_map_human2mouse_best.csv',\n",
    "    '../standard_genes/gene_names/orthologue_map_mouse2human_best.csv'\n",
    ")"
   ]
  },
  {
   "cell_type": "code",
   "execution_count": null,
   "metadata": {},
   "outputs": [],
   "source": [
    "# Load the data\n",
    "data_collection_name = 'Qiu_Organogenesis_MM_2022'\n",
    "data_path = os.path.join('/home/xingjie/Data/data2/cytofuture/datasets/scRNAseq/', data_collection_name)\n",
    "dataset_name = 'all'\n",
    "query_organism, query_var_id_type = 'mouse', 'id'\n",
    "\n",
    "adata = sc.read_h5ad(os.path.join(data_path, 'TOME', 'adata_all.h5ad'))\n",
    "adata"
   ]
  },
  {
   "cell_type": "code",
   "execution_count": null,
   "metadata": {},
   "outputs": [],
   "source": [
    "sc.pp.calculate_qc_metrics(adata, percent_top=None, log1p=False, inplace=True)\n",
    "sc.pl.violin(adata, ['n_genes_by_counts', 'total_counts'], jitter=0, multi_panel=True, log=True)"
   ]
  },
  {
   "cell_type": "code",
   "execution_count": null,
   "metadata": {},
   "outputs": [],
   "source": [
    "sc.pp.filter_cells(adata, min_genes=200)"
   ]
  },
  {
   "cell_type": "code",
   "execution_count": null,
   "metadata": {},
   "outputs": [],
   "source": [
    "# Append the dataset name into cel IDs\n",
    "adata.obs.index = [':'.join([data_collection_name, dataset_name, i]) for i in adata.obs.index]\n",
    "\n",
    "# Copy the standard meta-data\n",
    "adata_std = sc.AnnData(X=adata.X, obs=adata.obs[[]], var=adata.var[[]], dtype=np.float32)\n",
    "adata_std.obs['dataset_id'] = ':'.join([data_collection_name, dataset_name]) \n",
    "adata_std.obs['assay'] = 'seq'\n",
    "adata_std.obs['batch'] = [':'.join([data_collection_name, dataset_name, a]) \n",
    "                         for a in adata.obs['orig.ident']]\n",
    "adata_std.obs['development_stage'] = adata.obs['day']\n",
    "adata_std.obs['tissue'] = adata.obs['cell_type']\n",
    "adata_std.obs['cell_type'] = adata.obs['cell_type']\n",
    "\n",
    "# Map the genes to human gene IDs\n",
    "adata_std.var['human_gene_id'] = gene_name_mapper.map_gene_names(list(adata_std.var.index), \n",
    "                                                             query_organism, 'human', query_var_id_type, 'id')"
   ]
  },
  {
   "cell_type": "code",
   "execution_count": null,
   "metadata": {},
   "outputs": [],
   "source": [
    "print(np.unique(adata_std.obs['cell_type']))\n",
    "print(np.unique(adata_std.obs['development_stage']))\n",
    "display(adata_std)\n",
    "display(adata_std[:, adata_std.var['human_gene_id'] != 'na'])"
   ]
  },
  {
   "cell_type": "code",
   "execution_count": null,
   "metadata": {},
   "outputs": [],
   "source": [
    "%%time\n",
    "adata_std.write_h5ad(os.path.join(data_path, f'standard_adata_{data_collection_name}_{dataset_name}_origional_cell_type.h5ad'),\n",
    "                compression='gzip')"
   ]
  },
  {
   "cell_type": "code",
   "execution_count": null,
   "metadata": {},
   "outputs": [],
   "source": [
    "data_path"
   ]
  },
  {
   "cell_type": "code",
   "execution_count": null,
   "metadata": {},
   "outputs": [],
   "source": []
  }
 ],
 "metadata": {
  "kernelspec": {
   "display_name": "cytofuture",
   "language": "python",
   "name": "python3"
  },
  "language_info": {
   "codemirror_mode": {
    "name": "ipython",
    "version": 3
   },
   "file_extension": ".py",
   "mimetype": "text/x-python",
   "name": "python",
   "nbconvert_exporter": "python",
   "pygments_lexer": "ipython3",
   "version": "undefined.undefined.undefined"
  }
 },
 "nbformat": 4,
 "nbformat_minor": 2
}
