{
 "cells": [
  {
   "cell_type": "code",
   "execution_count": null,
   "id": "00f52838",
   "metadata": {},
   "outputs": [],
   "source": [
    "%config InlineBackend.figure_format='retina'"
   ]
  },
  {
   "cell_type": "code",
   "execution_count": null,
   "id": "fff57085",
   "metadata": {},
   "outputs": [],
   "source": [
    "import os\n",
    "\n",
    "import numpy as np\n",
    "import pandas as pd\n",
    "import matplotlib.pyplot as plt\n",
    "import scanpy as sc\n",
    "\n",
    "from cytofuture_data.gene_name_mapping import GeneNameMapper"
   ]
  },
  {
   "cell_type": "code",
   "execution_count": null,
   "id": "33fc85c5",
   "metadata": {},
   "outputs": [],
   "source": [
    "# Load the gene name mapper\n",
    "gene_name_mapper = GeneNameMapper(\n",
    "    '../standard_genes/gene_names/human_genes.csv',\n",
    "    '../standard_genes/gene_names/mouse_genes.csv',\n",
    "    '../standard_genes/gene_names/orthologue_map_human2mouse_best.csv',\n",
    "    '../standard_genes/gene_names/orthologue_map_mouse2human_best.csv'\n",
    ")"
   ]
  },
  {
   "cell_type": "code",
   "execution_count": null,
   "id": "428ceb4e",
   "metadata": {},
   "outputs": [],
   "source": [
    "# Load the data\n",
    "data_collection_name = 'AllenBrain_WB_MM_2023'\n",
    "data_path = os.path.join('/home/xingjie/Data/data2/cytofuture/datasets/scRNAseq/', data_collection_name)\n",
    "dataset_name = 'all'\n",
    "query_organism, query_var_id_type = 'mouse', 'name'\n",
    "\n",
    "adata = sc.read_h5ad('/home/xingjie/Data/data2/whole_brain/scRNA_seq/Allen_full_set/adata_WB_seq_anno_20230131_downsample_500K.h5ad')\n",
    "\n",
    "adata"
   ]
  },
  {
   "cell_type": "code",
   "execution_count": null,
   "id": "9f297888",
   "metadata": {},
   "outputs": [],
   "source": [
    "sc.pp.calculate_qc_metrics(adata, percent_top=None, log1p=False, inplace=True)\n",
    "sc.pl.violin(adata, ['n_genes_by_counts', 'total_counts'], jitter=0, multi_panel=True, log=True)"
   ]
  },
  {
   "cell_type": "code",
   "execution_count": null,
   "id": "131333c3",
   "metadata": {},
   "outputs": [],
   "source": [
    "sc.pp.filter_cells(adata, min_genes=200)"
   ]
  },
  {
   "cell_type": "code",
   "execution_count": null,
   "id": "400f5284",
   "metadata": {},
   "outputs": [],
   "source": [
    "adata.obs['class_label'].cat.categories"
   ]
  },
  {
   "cell_type": "code",
   "execution_count": null,
   "id": "5114c100",
   "metadata": {},
   "outputs": [],
   "source": [
    "cell_ontology_map = {\n",
    "    'Astro-Epen' : 'astrocyte', \n",
    "    'CB GABA' : 'cerebellar inhibitory GABAergic interneuron', \n",
    "    'CB Glut' : 'cerebellum glutamatergic neuron', \n",
    "    'CGE GABA' : 'GABAergic neuron', \n",
    "    'CNU GABA' : 'GABAergic neuron',\n",
    "    'CNU-HYa GABA' : 'GABAergic neuron', \n",
    "    'CNU-HYa Glut' : 'glutamatergic neuron', \n",
    "    'HY GABA' : 'GABAergic neuron', \n",
    "    'HY Glut' : 'glutamatergic neuron', \n",
    "    'HY Gnrh1 Glut' : 'glutamatergic neuron',\n",
    "    'HY MM Glut' : 'glutamatergic neuron', \n",
    "    'IT-ET Glut' : 'glutamatergic neuron', \n",
    "    'Immune' : 'defensive cell', \n",
    "    'LSX GABA' : 'GABAergic neuron', \n",
    "    'MB Dopa' : 'dopaminergic neuron', \n",
    "    'MB GABA' : 'GABAergic neuron',\n",
    "    'MB Glut' : 'glutamatergic neuron', \n",
    "    'MB-HB Sero' : 'serotonergic neuron', \n",
    "    'MGE GABA' : 'GABAergic neuron', \n",
    "    'MH-LH Glut' : 'glutamatergic neuron', \n",
    "    'MOB-CR Glut' : 'glutamatergic neuron',\n",
    "    'MOB-DG-IMN' : 'neural progenitor cell', \n",
    "    'MY GABA' : 'GABAergic neuron', \n",
    "    'MY Glut' : 'glutamatergic neuron', \n",
    "    'NP-CT-L6b Glut' : 'glutamatergic neuron', \n",
    "    'OEG' : 'olfactory ensheathing cell', \n",
    "    'Oligo' : 'oligodendrocyte',\n",
    "    'P GABA' : 'GABAergic neuron', \n",
    "    'P Glut' : 'glutamatergic neuron', \n",
    "    'Pineal Glut' : 'glutamatergic neuron', \n",
    "    'TH Glut' : 'glutamatergic neuron', \n",
    "    'Vascular' : 'brain vascular cell',\n",
    "}"
   ]
  },
  {
   "cell_type": "code",
   "execution_count": null,
   "id": "c59e1d6f",
   "metadata": {},
   "outputs": [],
   "source": [
    "# Append the dataset name into cel IDs\n",
    "adata.obs.index = [':'.join([data_collection_name, dataset_name, i]) for i in adata.obs.index]\n",
    "\n",
    "# Copy the standard meta-data\n",
    "adata_std = sc.AnnData(X=adata.X, obs=adata.obs[[]], var=adata.var[[]])\n",
    "adata_std.obs['dataset_id'] = ':'.join([data_collection_name, dataset_name]) \n",
    "adata_std.obs['assay'] = adata.obs['method']\n",
    "adata_std.obs['batch'] = [':'.join([data_collection_name, dataset_name, a]) \n",
    "                         for a in adata_std.obs['assay']]\n",
    "adata_std.obs['development_stage'] = adata.obs['age'].astype(str)\n",
    "adata_std.obs['tissue'] = adata.obs['roi']\n",
    "adata_std.obs['cell_type'] = adata.obs['class_label'].map(cell_ontology_map)\n",
    "\n",
    "# Map the genes to human gene IDs\n",
    "adata_std.var['human_gene_id'] = gene_name_mapper.map_gene_names(list(adata_std.var.index), \n",
    "                                                             query_organism, 'human', query_var_id_type, 'id')"
   ]
  },
  {
   "cell_type": "code",
   "execution_count": null,
   "id": "6e1e4026",
   "metadata": {},
   "outputs": [],
   "source": [
    "display(adata_std)\n",
    "display(adata_std[:, adata_std.var['human_gene_id'] != 'na'])"
   ]
  },
  {
   "cell_type": "code",
   "execution_count": null,
   "id": "0e4ac42f",
   "metadata": {},
   "outputs": [],
   "source": [
    "%%time\n",
    "adata_std.write_h5ad(os.path.join(data_path, f'standard_adata_{data_collection_name}_{dataset_name}.h5ad'),\n",
    "                compression='gzip')"
   ]
  },
  {
   "cell_type": "code",
   "execution_count": null,
   "id": "c435201d",
   "metadata": {},
   "outputs": [],
   "source": []
  }
 ],
 "metadata": {
  "kernelspec": {
   "display_name": "cytofuture",
   "language": "python",
   "name": "python3"
  },
  "language_info": {
   "codemirror_mode": {
    "name": "ipython",
    "version": 3
   },
   "file_extension": ".py",
   "mimetype": "text/x-python",
   "name": "python",
   "nbconvert_exporter": "python",
   "pygments_lexer": "ipython3",
   "version": "3.10.9"
  }
 },
 "nbformat": 4,
 "nbformat_minor": 5
}
