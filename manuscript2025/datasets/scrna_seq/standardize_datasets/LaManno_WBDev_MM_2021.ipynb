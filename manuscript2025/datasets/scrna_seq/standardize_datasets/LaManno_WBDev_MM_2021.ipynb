{
 "cells": [
  {
   "cell_type": "code",
   "execution_count": null,
   "id": "5e2e4966",
   "metadata": {},
   "outputs": [],
   "source": [
    "%config InlineBackend.figure_format='retina'"
   ]
  },
  {
   "cell_type": "code",
   "execution_count": null,
   "id": "da42527f",
   "metadata": {},
   "outputs": [],
   "source": [
    "import os\n",
    "\n",
    "import numpy as np\n",
    "import pandas as pd\n",
    "import matplotlib.pyplot as plt\n",
    "import scanpy as sc\n",
    "\n",
    "from cytofuture_data.gene_name_mapping import GeneNameMapper"
   ]
  },
  {
   "cell_type": "code",
   "execution_count": null,
   "id": "88be9c32",
   "metadata": {},
   "outputs": [],
   "source": [
    "# Load the gene name mapper\n",
    "gene_name_mapper = GeneNameMapper(\n",
    "    '../standard_genes/gene_names/human_genes.csv',\n",
    "    '../standard_genes/gene_names/mouse_genes.csv',\n",
    "    '../standard_genes/gene_names/orthologue_map_human2mouse_best.csv',\n",
    "    '../standard_genes/gene_names/orthologue_map_mouse2human_best.csv'\n",
    ")"
   ]
  },
  {
   "cell_type": "code",
   "execution_count": null,
   "id": "efe42ff9",
   "metadata": {},
   "outputs": [],
   "source": [
    "# Load the data\n",
    "data_collection_name = 'LaManno_WBDev_MM_2021'\n",
    "data_path = os.path.join('/home/xingjie/Data/data2/cytofuture/datasets/scRNAseq/', data_collection_name)\n",
    "dataset_name = 'all'\n",
    "query_organism, query_var_id_type = 'mouse', 'id'\n",
    "\n",
    "adata = sc.read_h5ad(os.path.join(data_path, 'download', 'adata_wb_dev.h5ad'))\n",
    "adata.var = adata.var.set_index('Accession')\n",
    "\n",
    "adata"
   ]
  },
  {
   "cell_type": "code",
   "execution_count": null,
   "id": "f2bac390",
   "metadata": {},
   "outputs": [],
   "source": [
    "adata.obsm['X_umap'] = adata.obsm['TSNE']\n",
    "sc.pl.umap(adata, color='Class', palette='tab20')"
   ]
  },
  {
   "cell_type": "code",
   "execution_count": null,
   "id": "002863d1",
   "metadata": {},
   "outputs": [],
   "source": [
    "sc.pp.calculate_qc_metrics(adata, percent_top=None, log1p=False, inplace=True)\n",
    "sc.pl.violin(adata, ['n_genes_by_counts', 'total_counts'], jitter=0, multi_panel=True, log=True)"
   ]
  },
  {
   "cell_type": "code",
   "execution_count": null,
   "id": "a3096435",
   "metadata": {},
   "outputs": [],
   "source": [
    "sc.pp.filter_cells(adata, min_genes=200)"
   ]
  },
  {
   "cell_type": "code",
   "execution_count": null,
   "id": "8992a486",
   "metadata": {},
   "outputs": [],
   "source": [
    "adata = adata[~adata.obs['Class'].isin(['Bad cells', 'Undefined'])]\n",
    "adata = adata[~adata.obs['Class'].isna()]"
   ]
  },
  {
   "cell_type": "code",
   "execution_count": null,
   "id": "79b670bd",
   "metadata": {},
   "outputs": [],
   "source": [
    "list(adata.obs['Class'].cat.categories)"
   ]
  },
  {
   "cell_type": "code",
   "execution_count": null,
   "id": "6b30376c",
   "metadata": {},
   "outputs": [],
   "source": [
    "cell_ontology_map = {\n",
    "    'Blood' : 'blood cell',\n",
    "    'Choroid plexus' : 'choroid plexus epithelial cell',\n",
    "    'Ectoderm' : 'ectodermal cell',\n",
    "    'Endoderm' : 'endodermal cell',\n",
    "    'Ependymal' : 'ependymal cell',\n",
    "    'Fibroblast' : 'fibroblast',\n",
    "    'Gastrulation' : 'gastrula cell',\n",
    "    'Glioblast' : 'glioblast',\n",
    "    'Immune' : 'defensive cell',\n",
    "    'Mesenchyme' : 'mesenchymal cell',\n",
    "    'Mesoderm' : 'mesodermal cell',\n",
    "    'Neural crest' : 'neural crest cell',\n",
    "    'Neural tube' : 'neural stem cell',\n",
    "    'Neuroblast' : 'neural progenitor cell',\n",
    "    'Neuron' : 'neuron',\n",
    "    'Olfactory ensheathing cell' : 'olfactory ensheathing cell',\n",
    "    'Oligodendrocyte' : 'oligodendrocyte',\n",
    "    'Pineal gland' : 'interstitial cell of pineal gland',\n",
    "    'Radial glia' : 'radial glial cell',\n",
    "    'Schwann cell' : 'Schwann cell',\n",
    "    'Subcommissural organ' : 'hypendymal cell',\n",
    "    'Vascular' : 'brain vascular cell',\n",
    "}"
   ]
  },
  {
   "cell_type": "code",
   "execution_count": null,
   "id": "70e02d54",
   "metadata": {},
   "outputs": [],
   "source": [
    "# Append the dataset name into cel IDs\n",
    "adata.obs.index = [':'.join([data_collection_name, dataset_name, i]) for i in adata.obs.index]\n",
    "\n",
    "# Copy the standard meta-data\n",
    "adata_std = sc.AnnData(X=adata.X, obs=adata.obs[[]], var=adata.var[[]])\n",
    "adata_std.obs['dataset_id'] = ':'.join([data_collection_name, dataset_name]) \n",
    "adata_std.obs['assay'] = '10x'\n",
    "adata_std.obs['batch'] = [':'.join([data_collection_name, dataset_name, a]) \n",
    "                         for a in adata.obs['Sample_Index']]\n",
    "adata_std.obs['development_stage'] = adata.obs['Age']\n",
    "adata_std.obs['tissue'] = adata.obs['Tissue']\n",
    "adata_std.obs['cell_type'] = adata.obs['Class'].map(cell_ontology_map)\n",
    "\n",
    "# Map the genes to human gene IDs\n",
    "adata_std.var['human_gene_id'] = gene_name_mapper.map_gene_names(list(adata_std.var.index), \n",
    "                                                             query_organism, 'human', query_var_id_type, 'id')"
   ]
  },
  {
   "cell_type": "code",
   "execution_count": null,
   "id": "f85d99c6",
   "metadata": {},
   "outputs": [],
   "source": [
    "print(np.unique(adata_std.obs['cell_type']))\n",
    "print(np.unique(adata_std.obs['development_stage']))\n",
    "display(adata_std)\n",
    "display(adata_std[:, adata_std.var['human_gene_id'] != 'na'])"
   ]
  },
  {
   "cell_type": "code",
   "execution_count": null,
   "id": "98c547b0",
   "metadata": {},
   "outputs": [],
   "source": [
    "%%time\n",
    "adata_std.write_h5ad(os.path.join(data_path, f'standard_adata_{data_collection_name}_{dataset_name}.h5ad'),\n",
    "                compression='gzip')"
   ]
  },
  {
   "cell_type": "code",
   "execution_count": null,
   "id": "b0d9ceec",
   "metadata": {},
   "outputs": [],
   "source": []
  }
 ],
 "metadata": {
  "kernelspec": {
   "display_name": "cytofuture",
   "language": "python",
   "name": "python3"
  },
  "language_info": {
   "codemirror_mode": {
    "name": "ipython",
    "version": 3
   },
   "file_extension": ".py",
   "mimetype": "text/x-python",
   "name": "python",
   "nbconvert_exporter": "python",
   "pygments_lexer": "ipython3",
   "version": "3.10.9"
  }
 },
 "nbformat": 4,
 "nbformat_minor": 5
}
