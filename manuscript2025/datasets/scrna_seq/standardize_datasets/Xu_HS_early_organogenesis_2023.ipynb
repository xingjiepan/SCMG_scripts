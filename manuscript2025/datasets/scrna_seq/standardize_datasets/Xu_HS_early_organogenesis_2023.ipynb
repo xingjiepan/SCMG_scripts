{
 "cells": [
  {
   "cell_type": "code",
   "execution_count": null,
   "id": "9e57125b",
   "metadata": {},
   "outputs": [],
   "source": [
    "%config InlineBackend.figure_format='retina'"
   ]
  },
  {
   "cell_type": "code",
   "execution_count": null,
   "id": "1c30b0e6",
   "metadata": {},
   "outputs": [],
   "source": [
    "import os\n",
    "\n",
    "import numpy as np\n",
    "import pandas as pd\n",
    "import matplotlib.pyplot as plt\n",
    "import scanpy as sc\n",
    "\n",
    "from cytofuture_data.gene_name_mapping import GeneNameMapper"
   ]
  },
  {
   "cell_type": "code",
   "execution_count": null,
   "id": "95871a12",
   "metadata": {},
   "outputs": [],
   "source": [
    "# Load the gene name mapper\n",
    "gene_name_mapper = GeneNameMapper(\n",
    "    '../standard_genes/gene_names/human_genes.csv',\n",
    "    '../standard_genes/gene_names/mouse_genes.csv',\n",
    "    '../standard_genes/gene_names/orthologue_map_human2mouse_best.csv',\n",
    "    '../standard_genes/gene_names/orthologue_map_mouse2human_best.csv'\n",
    ")"
   ]
  },
  {
   "cell_type": "code",
   "execution_count": null,
   "id": "a74ac2b0",
   "metadata": {},
   "outputs": [],
   "source": [
    "# Load the data\n",
    "data_collection_name = 'Xu_HS_early_organogenesis_2023'\n",
    "data_path = os.path.join('/home/xingjie/Data/data2/cytofuture/datasets/scRNAseq/', data_collection_name)\n",
    "dataset_name = 'all'\n",
    "query_organism, query_var_id_type = 'human', 'id'\n",
    "\n",
    "adata = sc.read_h5ad(os.path.join(data_path, 'download', 'adata_all.h5ad'))\n",
    "\n",
    "adata"
   ]
  },
  {
   "cell_type": "code",
   "execution_count": null,
   "id": "04d8a79e",
   "metadata": {},
   "outputs": [],
   "source": [
    "adata.obs[adata.obs['developmental system'] == 'IM']"
   ]
  },
  {
   "cell_type": "code",
   "execution_count": null,
   "id": "d0e52ab6",
   "metadata": {},
   "outputs": [],
   "source": [
    "list(adata.obs['final_annotation'].cat.categories)"
   ]
  },
  {
   "cell_type": "code",
   "execution_count": null,
   "id": "add3310b",
   "metadata": {},
   "outputs": [],
   "source": [
    "cell_ontology_map = {\n",
    "    'IM' : 'intermediate mesodermal cell',\n",
    "    'PGC' : 'primordial germ cell',\n",
    "    'blood' : 'blood cell',\n",
    "    'craniofacial' : 'craniofacial cell',\n",
    "    'endoderm' : 'endodermal cell',\n",
    "    'endothelium' : 'endothelial cell',\n",
    "    'epidermis' : 'epidermal cell',\n",
    "    'epithelium': 'epithelial cell',\n",
    "    'fibroblast' : 'fibroblast',\n",
    "    'head mesoderm' : 'head mesodermal cell',\n",
    "    'limb' : 'limb cell',\n",
    "    'miscellaneous' : 'miscellaneous',\n",
    "    'neural progenitor' : 'neural progenitor cell',\n",
    "    'neuron' : 'neuron',\n",
    "    'schwann' : 'Schwann cell',\n",
    "    'sensory neuron' : 'sensory neuron',\n",
    "    'somatic LPM' : 'lateral mesodermal cell',\n",
    "    'somite' : 'somite',\n",
    "    'splanchnic LPM' : 'lateral mesodermal cell'\n",
    "    }"
   ]
  },
  {
   "cell_type": "code",
   "execution_count": null,
   "id": "578339a9",
   "metadata": {},
   "outputs": [],
   "source": [
    "# Append the dataset name into cel IDs\n",
    "adata.obs.index = [':'.join([data_collection_name, dataset_name, i]) for i in adata.obs.index]\n",
    "\n",
    "# Copy the standard meta-data\n",
    "adata_std = sc.AnnData(X=adata.X, obs=adata.obs[[]], var=adata.var[[]])\n",
    "adata_std.obs['dataset_id'] = ':'.join([data_collection_name, dataset_name]) \n",
    "adata_std.obs['assay'] = '10x'\n",
    "adata_std.obs['batch'] = [':'.join([data_collection_name, dataset_name, d]) \n",
    "                         for d in adata.obs['sample']]\n",
    "adata_std.obs['development_stage'] = adata.obs['stage']\n",
    "adata_std.obs['tissue'] = adata.obs['dissection_part']\n",
    "adata_std.obs['cell_type'] = adata.obs['developmental system'].map(cell_ontology_map)\n",
    "\n",
    "# Map the genes to human gene IDs\n",
    "adata_std.var['human_gene_id'] = gene_name_mapper.map_gene_names(list(adata_std.var.index), \n",
    "                                                             query_organism, 'human', query_var_id_type, 'id')"
   ]
  },
  {
   "cell_type": "code",
   "execution_count": null,
   "id": "8de45378",
   "metadata": {},
   "outputs": [],
   "source": [
    "print(np.unique(adata_std.obs['cell_type']))\n",
    "print(np.unique(adata_std.obs['development_stage']))\n",
    "display(adata_std)\n",
    "display(adata_std[:, adata_std.var['human_gene_id'] != 'na'])"
   ]
  },
  {
   "cell_type": "code",
   "execution_count": null,
   "id": "f2ac1ef6",
   "metadata": {},
   "outputs": [],
   "source": [
    "%%time\n",
    "adata_std.write_h5ad(os.path.join(data_path, f'standard_adata_{data_collection_name}_{dataset_name}.h5ad'),\n",
    "                compression='gzip')"
   ]
  },
  {
   "cell_type": "code",
   "execution_count": null,
   "id": "3d70bcb3",
   "metadata": {},
   "outputs": [],
   "source": []
  }
 ],
 "metadata": {
  "kernelspec": {
   "display_name": "cytofuture",
   "language": "python",
   "name": "python3"
  },
  "language_info": {
   "codemirror_mode": {
    "name": "ipython",
    "version": 3
   },
   "file_extension": ".py",
   "mimetype": "text/x-python",
   "name": "python",
   "nbconvert_exporter": "python",
   "pygments_lexer": "ipython3",
   "version": "3.10.9"
  }
 },
 "nbformat": 4,
 "nbformat_minor": 5
}
