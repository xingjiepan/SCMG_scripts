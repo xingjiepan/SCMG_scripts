{
 "cells": [
  {
   "cell_type": "code",
   "execution_count": null,
   "id": "eab750f5",
   "metadata": {},
   "outputs": [],
   "source": [
    "%config InlineBackend.figure_format='retina'"
   ]
  },
  {
   "cell_type": "code",
   "execution_count": null,
   "id": "08e12c60",
   "metadata": {},
   "outputs": [],
   "source": [
    "import os\n",
    "\n",
    "import numpy as np\n",
    "import pandas as pd\n",
    "import matplotlib.pyplot as plt\n",
    "import scanpy as sc\n",
    "\n",
    "from cytofuture_data.gene_name_mapping import GeneNameMapper"
   ]
  },
  {
   "cell_type": "code",
   "execution_count": null,
   "id": "97a4086b",
   "metadata": {},
   "outputs": [],
   "source": [
    "#%%time\n",
    "#import anndata\n",
    "#\n",
    "#data_collection_name = 'Qiu_Organogenesis_MM_2022'\n",
    "#data_path = os.path.join('/home/xingjie/Data/data2/cytofuture/datasets/scRNAseq/', data_collection_name)\n",
    "#\n",
    "#ages = ['3.5', '4.5', '5.25', '5.5', '6.25', '6.5', '6.75', '7.0', '7.25', '7.5', '7.75', '8.0',\n",
    "#       '8.25', '8.5a', '8.5b', '9.5', '10.5', '11.5', '12.5', '13.5']\n",
    "#\n",
    "#adata_list = []\n",
    "#\n",
    "#for age in ages:\n",
    "#    print(age)\n",
    "#    adata_tmp = sc.read_h5ad(os.path.join(data_path, 'TOME', f'E{age}.h5ad'))\n",
    "#    meta_df = pd.read_csv(os.path.join(data_path, 'TOME', f'metadata_E{age}.csv'), index_col=0)\n",
    "#    adata_tmp.obs = meta_df\n",
    "#    adata_tmp.var = adata_tmp.var.set_index('features')\n",
    "#    \n",
    "#    adata_list.append(adata_tmp)\n",
    "#    \n",
    "#adata = anndata.concat(adata_list)\n",
    "#adata.obs = adata.obs.drop(columns='group')\n",
    "#\n",
    "#adata.write_h5ad(os.path.join(data_path, 'TOME', 'adata_all.h5ad'), compression='gzip')"
   ]
  },
  {
   "cell_type": "code",
   "execution_count": null,
   "id": "4aac51bd",
   "metadata": {},
   "outputs": [],
   "source": [
    "# Load the gene name mapper\n",
    "gene_name_mapper = GeneNameMapper(\n",
    "    '../standard_genes/gene_names/human_genes.csv',\n",
    "    '../standard_genes/gene_names/mouse_genes.csv',\n",
    "    '../standard_genes/gene_names/orthologue_map_human2mouse_best.csv',\n",
    "    '../standard_genes/gene_names/orthologue_map_mouse2human_best.csv'\n",
    ")"
   ]
  },
  {
   "cell_type": "code",
   "execution_count": null,
   "id": "4468aba6",
   "metadata": {},
   "outputs": [],
   "source": [
    "# Load the data\n",
    "data_collection_name = 'Qiu_Organogenesis_MM_2022'\n",
    "data_path = os.path.join('/home/xingjie/Data/data2/cytofuture/datasets/scRNAseq/', data_collection_name)\n",
    "dataset_name = 'all'\n",
    "query_organism, query_var_id_type = 'mouse', 'id'\n",
    "\n",
    "adata = sc.read_h5ad(os.path.join(data_path, 'TOME', 'adata_all.h5ad'))\n",
    "adata"
   ]
  },
  {
   "cell_type": "code",
   "execution_count": null,
   "id": "89a618d7",
   "metadata": {},
   "outputs": [],
   "source": [
    "sc.pp.calculate_qc_metrics(adata, percent_top=None, log1p=False, inplace=True)\n",
    "sc.pl.violin(adata, ['n_genes_by_counts', 'total_counts'], jitter=0, multi_panel=True, log=True)"
   ]
  },
  {
   "cell_type": "code",
   "execution_count": null,
   "id": "48699eb4",
   "metadata": {},
   "outputs": [],
   "source": [
    "sc.pp.filter_cells(adata, min_genes=200)"
   ]
  },
  {
   "cell_type": "code",
   "execution_count": null,
   "id": "c466d0b1",
   "metadata": {},
   "outputs": [],
   "source": [
    "list(adata.obs['cell_type'].cat.categories)"
   ]
  },
  {
   "cell_type": "code",
   "execution_count": null,
   "id": "f80c4687",
   "metadata": {},
   "outputs": [],
   "source": [
    "cell_ontology_map = {\n",
    " 'Allantois' : 'allantois',\n",
    " 'Amniochorionic mesoderm' : 'amniochorionic mesoderm',\n",
    " 'Amniochorionic mesoderm A' : 'amniochorionic mesoderm A',\n",
    " 'Amniochorionic mesoderm B' : 'amniochorionic mesoderm B',\n",
    " 'Anterior floor plate' : 'anterior floor plate',\n",
    " 'Anterior primitive streak' : 'anterior primitive streak',\n",
    " 'Apical ectodermal ridge' : 'apical ectodermal ridge',\n",
    " 'Blood progenitors' : 'blood progenitors',\n",
    " 'Brain endothelium' : 'brain endothelium',\n",
    " 'Branchial arch epithelium' : 'branchial arch epithelium',\n",
    " 'Cardiomyocytes' : 'fetal cardiomyocyte',\n",
    " 'Caudal lateral epiblast': 'caudal lateral epiblast',\n",
    " 'Caudal neuroectoderm': 'caudal neuroectoderm',\n",
    " 'Chondrocyte and osteoblast progenitors' : 'chondrocyte and osteoblast progenitors',\n",
    " 'Connective tissue progenitors' : 'connective tissue progenitors',\n",
    " 'Definitive endoderm' : 'definitive endoderm',\n",
    " 'Definitive erythroid cells' : 'definitive erythroid cells',\n",
    " 'Di/mesencephalon excitatory neurons' : 'di/mesencephalon excitatory neurons',\n",
    " 'Di/mesencephalon inhibitory neurons' : 'di/mesencephalon inhibitory neurons',\n",
    " 'Di/telencephalon' : 'di/telencephalon',\n",
    " 'Early chondrocytes' : 'early chondrocytes',\n",
    " 'Embryonic visceral endoderm' : 'embryonic visceral endoderm',\n",
    " 'Endothelium' : 'endothelial cell',\n",
    " 'Epiblast' : 'epiblast cell',\n",
    " 'Epidermis' : 'epidermal cell',\n",
    " 'Extraembryonic ectoderm' : 'extraembryonic ectoderm',\n",
    " 'Extraembryonic mesoderm' : 'extraembryonic mesoderm',\n",
    " 'Extraembryonic visceral endoderm' : 'extraembryonic visceral endoderm',\n",
    " 'First heart field' : 'first heart field',\n",
    " 'Forebrain/midbrain' : 'forebrain/midbrain',\n",
    " 'Foregut epithelium' : 'foregut epithelium',\n",
    " 'Fusing epithelium' : 'fusing epithelium',\n",
    " 'Gut' : 'gut',\n",
    " 'Gut and lung epithelium' : 'gut and lung epithelium',\n",
    " 'Hematoendothelial progenitors' : 'hematoendothelial progenitors',\n",
    " 'Hepatocytes' : 'hepatocyte',\n",
    " 'Hindbrain' : 'hindbrain',\n",
    " 'Hypoblast' : 'hypoblast',\n",
    " 'Inhibitory interneurons' : 'inhibitory interneuron',\n",
    " 'Inner cell mass' : 'inner cell mass cell',\n",
    " 'Intermediate mesoderm' : 'intermediate mesodermal cell',\n",
    " 'Intermediate progenitor cells' : 'intermediate progenitor cell',\n",
    " 'Limb mesenchyme progenitors' : 'limb mesenchyme progenitors',\n",
    " 'Liver endothelium' : 'liver endothelium',\n",
    " 'Lung epithelium' : 'lung epithelium',\n",
    " 'Megakaryocytes' : 'megakaryocyte',\n",
    " 'Mesencephalon/MHB' : 'mesencephalon/mhb',\n",
    " 'Mesenchymal stromal cells' : 'mesenchymal stromal cell',\n",
    " 'Midgut/Hindgut epithelium' : 'midgut/hindgut epithelium',\n",
    " 'Mixed mesoderm' : 'mixed mesoderm',\n",
    " 'Motor neurons' : 'motor neuron',\n",
    " 'Myocytes' : 'myocyte',\n",
    " 'Nascent mesoderm' : 'nascent mesoderm',\n",
    " 'Neural crest' : 'neural crest cell',\n",
    " 'Neural crest (PNS glia)' : 'neural crest (pns glia)',\n",
    " 'Neural crest (PNS neurons)' : 'neural crest (pns neurons)',\n",
    " 'Neuromesodermal progenitors' : 'neuromesodermal progenitors',\n",
    " 'Neuron progenitor cells' : 'neural progenitor cell',\n",
    " 'Noradrenergic neurons' : 'noradrenergic neuron',\n",
    " 'Notochord' : 'notochordal cell',\n",
    " 'Olfactory epithelium' : 'olfactory epithelium',\n",
    " 'Olfactory sensory neurons' : 'olfactory sensory neuron',\n",
    " 'Osteoblast progenitors A' : 'osteoblast progenitors A',\n",
    " 'Osteoblast progenitors B' : 'osteoblast progenitors B',\n",
    " 'Otic epithelium' : 'otic epithelium',\n",
    " 'Pancreatic epithelium' : 'pancreatic epithelium',\n",
    " 'Paraxial mesoderm A' : 'paraxial mesoderm A',\n",
    " 'Paraxial mesoderm B' : 'paraxial mesoderm B',\n",
    " 'Paraxial mesoderm C' : 'paraxial mesoderm C',\n",
    " 'Parietal endoderm' : 'parietal endoderm',\n",
    " 'Placodal area' : 'placodal area',\n",
    " 'Posterior floor plate' : 'posterior floor plate',\n",
    " 'Pre-epidermal keratinocytes' : 'pre-epidermal keratinocyte',\n",
    " 'Primitive erythroid cells' : 'primitive erythroid cells',\n",
    " 'Primitive streak and adjacent ectoderm' : 'primitive streak and adjacent ectoderm',\n",
    " 'Primordial germ cells' : 'primordial germ cell',\n",
    " 'Renal epithelium' : 'renal epithelium',\n",
    " 'Retinal neurons' : 'retinal neuron',\n",
    " 'Retinal pigment cells' : 'retinal pigment cell',\n",
    " 'Retinal primordium' : 'retinal primordium',\n",
    " 'Roof plate' : 'roof plate',\n",
    " 'Rostral neuroectoderm' : 'rostral neuroectoderm',\n",
    " 'Second heart field' : 'second heart field',\n",
    " 'Skeletal muscle progenitors' : 'skeletal muscle progenitors',\n",
    " 'Somatic mesoderm' : 'somatic mesoderm',\n",
    " 'Spinal cord' : 'spinal cord',\n",
    " 'Spinal cord (dorsal)' : 'spinal cord (dorsal)',\n",
    " 'Spinal cord (ventral)' : 'spinal cord (ventral)',\n",
    " 'Spinal cord excitatory neurons' : 'spinal cord excitatory neuron',\n",
    " 'Spinal cord inhibitory neurons' : 'spinal cord inhibitory neuron',\n",
    " 'Splanchnic mesoderm' : 'splanchnic mesoderm',\n",
    " 'Surface ectoderm' : 'surface ectoderm',\n",
    " 'Visceral endoderm': 'visceral endoderm',\n",
    " 'White blood cells' : 'white blood cell',\n",
    "}"
   ]
  },
  {
   "cell_type": "code",
   "execution_count": null,
   "id": "2624e897",
   "metadata": {},
   "outputs": [],
   "source": [
    "# Append the dataset name into cel IDs\n",
    "adata.obs.index = [':'.join([data_collection_name, dataset_name, i]) for i in adata.obs.index]\n",
    "\n",
    "# Copy the standard meta-data\n",
    "adata_std = sc.AnnData(X=adata.X, obs=adata.obs[[]], var=adata.var[[]], dtype=np.float32)\n",
    "adata_std.obs['dataset_id'] = ':'.join([data_collection_name, dataset_name]) \n",
    "adata_std.obs['assay'] = 'seq'\n",
    "adata_std.obs['batch'] = [':'.join([data_collection_name, dataset_name, a]) \n",
    "                         for a in adata.obs['orig.ident']]\n",
    "adata_std.obs['development_stage'] = adata.obs['day']\n",
    "adata_std.obs['tissue'] = adata.obs['cell_type']\n",
    "adata_std.obs['cell_type'] = adata.obs['cell_type'].map(cell_ontology_map)\n",
    "\n",
    "# Map the genes to human gene IDs\n",
    "adata_std.var['human_gene_id'] = gene_name_mapper.map_gene_names(list(adata_std.var.index), \n",
    "                                                             query_organism, 'human', query_var_id_type, 'id')"
   ]
  },
  {
   "cell_type": "code",
   "execution_count": null,
   "id": "25f4da72",
   "metadata": {},
   "outputs": [],
   "source": [
    "print(np.unique(adata_std.obs['cell_type']))\n",
    "print(np.unique(adata_std.obs['development_stage']))\n",
    "display(adata_std)\n",
    "display(adata_std[:, adata_std.var['human_gene_id'] != 'na'])"
   ]
  },
  {
   "cell_type": "code",
   "execution_count": null,
   "id": "1039d065",
   "metadata": {},
   "outputs": [],
   "source": [
    "%%time\n",
    "adata_std.write_h5ad(os.path.join(data_path, f'standard_adata_{data_collection_name}_{dataset_name}.h5ad'),\n",
    "                compression='gzip')"
   ]
  },
  {
   "cell_type": "code",
   "execution_count": null,
   "id": "0cea4797",
   "metadata": {},
   "outputs": [],
   "source": []
  }
 ],
 "metadata": {
  "kernelspec": {
   "display_name": "cytofuture",
   "language": "python",
   "name": "python3"
  },
  "language_info": {
   "codemirror_mode": {
    "name": "ipython",
    "version": 3
   },
   "file_extension": ".py",
   "mimetype": "text/x-python",
   "name": "python",
   "nbconvert_exporter": "python",
   "pygments_lexer": "ipython3",
   "version": "3.10.9"
  }
 },
 "nbformat": 4,
 "nbformat_minor": 5
}
