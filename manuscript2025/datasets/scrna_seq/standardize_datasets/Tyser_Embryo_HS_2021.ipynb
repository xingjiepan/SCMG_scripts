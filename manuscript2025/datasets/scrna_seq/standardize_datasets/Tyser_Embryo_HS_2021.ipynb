{
 "cells": [
  {
   "cell_type": "code",
   "execution_count": null,
   "id": "2a170021",
   "metadata": {},
   "outputs": [],
   "source": [
    "%config InlineBackend.figure_format='retina'"
   ]
  },
  {
   "cell_type": "code",
   "execution_count": null,
   "id": "c4dcfbc8",
   "metadata": {},
   "outputs": [],
   "source": [
    "import os\n",
    "\n",
    "import numpy as np\n",
    "import pandas as pd\n",
    "import matplotlib.pyplot as plt\n",
    "\n",
    "import anndata\n",
    "import scanpy as sc\n",
    "\n",
    "from cytofuture_data.gene_name_mapping import GeneNameMapper"
   ]
  },
  {
   "cell_type": "code",
   "execution_count": null,
   "id": "c6be02bf",
   "metadata": {},
   "outputs": [],
   "source": [
    "# Load the gene name mapper\n",
    "gene_name_mapper = GeneNameMapper(\n",
    "    '../standard_genes/gene_names/human_genes.csv',\n",
    "    '../standard_genes/gene_names/mouse_genes.csv',\n",
    "    '../standard_genes/gene_names/orthologue_map_human2mouse_best.csv',\n",
    "    '../standard_genes/gene_names/orthologue_map_mouse2human_best.csv'\n",
    ")"
   ]
  },
  {
   "cell_type": "code",
   "execution_count": null,
   "id": "b7fb2138",
   "metadata": {},
   "outputs": [],
   "source": [
    "data_path = '/home/xingjie/Data/data2/cytofuture/datasets/scRNAseq/Tyser_Embryo_HS_2021/download'\n",
    "\n",
    "exp_df = pd.read_csv(os.path.join(data_path, 'expression_values.csv'), index_col=0)\n",
    "anno_df = pd.read_csv(os.path.join(data_path, 'annot_umap.csv'), index_col=0)\n",
    "anno_df = anno_df.loc[exp_df.index]\n",
    "\n",
    "X = np.exp(exp_df.values) - 1\n",
    "adata = anndata.AnnData(X=X, obs=anno_df, var=exp_df.T[[]])\n",
    "adata.obsm['X_umap'] = adata.obs[['X0', 'X1']].values\n",
    "adata"
   ]
  },
  {
   "cell_type": "code",
   "execution_count": null,
   "id": "f2fb840a",
   "metadata": {},
   "outputs": [],
   "source": [
    "# Load the data\n",
    "data_collection_name = 'Tyser_Embryo_HS_2021'\n",
    "data_path = os.path.join('/home/xingjie/Data/data2/cytofuture/datasets/scRNAseq/', data_collection_name)\n",
    "dataset_name = 'all'\n",
    "query_organism, query_var_id_type = 'human', 'name'\n",
    "\n",
    "adata"
   ]
  },
  {
   "cell_type": "code",
   "execution_count": null,
   "id": "7e70e6d5",
   "metadata": {},
   "outputs": [],
   "source": [
    "sc.pl.umap(adata, color='cluster_id')"
   ]
  },
  {
   "cell_type": "code",
   "execution_count": null,
   "id": "34507e49",
   "metadata": {},
   "outputs": [],
   "source": [
    "# Append the dataset name into cel IDs\n",
    "adata.obs.index = [':'.join([data_collection_name, dataset_name, i]) for i in adata.obs.index]\n",
    "\n",
    "# Copy the standard meta-data\n",
    "adata_std = sc.AnnData(X=adata.X, obs=adata.obs[[]], var=adata.var[[]])\n",
    "adata_std.obs['dataset_id'] = ':'.join([data_collection_name, dataset_name]) \n",
    "adata_std.obs['assay'] = 'smart-seq2'\n",
    "adata_std.obs['batch'] = ':'.join([data_collection_name, dataset_name, '0'])\n",
    "\n",
    "adata_std.obs['development_stage'] = 'embryo'\n",
    "adata_std.obs['tissue'] = 'embryo'\n",
    "adata_std.obs['cell_type'] = adata.obs['cluster_id']\n",
    "\n",
    "# Map the genes to human gene IDs\n",
    "adata_std.var['human_gene_id'] = gene_name_mapper.map_gene_names(list(adata_std.var.index), \n",
    "                                         query_organism, 'human', query_var_id_type, 'id')"
   ]
  },
  {
   "cell_type": "code",
   "execution_count": null,
   "id": "db5d7985",
   "metadata": {},
   "outputs": [],
   "source": [
    "print(np.unique(adata_std.obs['cell_type']))\n",
    "print(np.unique(adata_std.obs['development_stage']))\n",
    "display(adata_std)\n",
    "display(adata_std[:, adata_std.var['human_gene_id'] != 'na'])"
   ]
  },
  {
   "cell_type": "code",
   "execution_count": null,
   "id": "1ba0bfc3",
   "metadata": {},
   "outputs": [],
   "source": [
    "%%time\n",
    "adata_std.write_h5ad(os.path.join(data_path, f'standard_adata_{data_collection_name}_{dataset_name}.h5ad'),\n",
    "                compression='gzip')"
   ]
  },
  {
   "cell_type": "code",
   "execution_count": null,
   "id": "a41ba2cb",
   "metadata": {},
   "outputs": [],
   "source": []
  }
 ],
 "metadata": {
  "kernelspec": {
   "display_name": "cytofuture",
   "language": "python",
   "name": "python3"
  },
  "language_info": {
   "codemirror_mode": {
    "name": "ipython",
    "version": 3
   },
   "file_extension": ".py",
   "mimetype": "text/x-python",
   "name": "python",
   "nbconvert_exporter": "python",
   "pygments_lexer": "ipython3",
   "version": "3.10.9"
  }
 },
 "nbformat": 4,
 "nbformat_minor": 5
}
