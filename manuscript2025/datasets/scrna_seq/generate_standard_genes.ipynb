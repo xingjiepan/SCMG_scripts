{
 "cells": [
  {
   "cell_type": "code",
   "execution_count": null,
   "metadata": {},
   "outputs": [],
   "source": [
    "%config InlineBackend.figure_format='retina'"
   ]
  },
  {
   "cell_type": "code",
   "execution_count": null,
   "metadata": {},
   "outputs": [],
   "source": [
    "import os\n",
    "\n",
    "import numpy as np\n",
    "import pandas as pd\n",
    "import matplotlib.pyplot as plt\n",
    "import scanpy as sc\n",
    "\n",
    "from cytofuture_data.gene_name_mapping import GeneNameMapper"
   ]
  },
  {
   "cell_type": "code",
   "execution_count": null,
   "metadata": {},
   "outputs": [],
   "source": [
    "# Load the gene name mapper\n",
    "gene_name_mapper = GeneNameMapper(\n",
    "    '../standard_genes/gene_names/human_genes.csv',\n",
    "    '../standard_genes/gene_names/mouse_genes.csv',\n",
    "    '../standard_genes/gene_names/orthologue_map_human2mouse_best.csv',\n",
    "    '../standard_genes/gene_names/orthologue_map_mouse2human_best.csv'\n",
    ")"
   ]
  },
  {
   "cell_type": "code",
   "execution_count": null,
   "metadata": {},
   "outputs": [],
   "source": [
    "adata = sc.read_h5ad(\n",
    "    '/home/xingjie/Data/data2/cytofuture/datasets/scRNAseq/standard_h5ads/standard_adata_Tabula_Sapiens_HS_2022_all.h5ad')\n",
    "adata"
   ]
  },
  {
   "cell_type": "code",
   "execution_count": null,
   "metadata": {},
   "outputs": [],
   "source": [
    "standard_gene_df = pd.DataFrame(\n",
    "    {\n",
    "        'human_id': np.unique(list(gene_name_mapper.d_human_id_to_name.keys())),\n",
    "\n",
    "    }\n",
    ").set_index('human_id')\n",
    "\n",
    "standard_gene_df['human_name'] = gene_name_mapper.map_gene_names(\n",
    "    standard_gene_df.index, 'human', 'human', 'id', 'name')\n",
    "standard_gene_df['mouse_id'] = gene_name_mapper.map_gene_names(\n",
    "    standard_gene_df.index, 'human', 'mouse', 'id', 'id')\n",
    "standard_gene_df['mouse_name'] = gene_name_mapper.map_gene_names(\n",
    "    standard_gene_df.index, 'human', 'mouse', 'id', 'name')\n",
    "\n",
    "standard_gene_df"
   ]
  },
  {
   "cell_type": "code",
   "execution_count": null,
   "metadata": {},
   "outputs": [],
   "source": [
    "standard_gene_df = standard_gene_df[\n",
    "     (standard_gene_df['mouse_id'] != 'na')\n",
    "    &(standard_gene_df['human_name'] != 'na')\n",
    "]\n",
    "\n",
    "standard_gene_df"
   ]
  },
  {
   "cell_type": "code",
   "execution_count": null,
   "metadata": {},
   "outputs": [],
   "source": [
    "standard_gene_df = standard_gene_df[\n",
    "    standard_gene_df.index.isin(adata.var_names)\n",
    "]\n",
    "\n",
    "standard_gene_df.to_csv('standard_genes.csv')\n",
    "standard_gene_df"
   ]
  },
  {
   "cell_type": "code",
   "execution_count": null,
   "metadata": {},
   "outputs": [],
   "source": []
  }
 ],
 "metadata": {
  "kernelspec": {
   "display_name": "cytofuture",
   "language": "python",
   "name": "python3"
  },
  "language_info": {
   "codemirror_mode": {
    "name": "ipython",
    "version": 3
   },
   "file_extension": ".py",
   "mimetype": "text/x-python",
   "name": "python",
   "nbconvert_exporter": "python",
   "pygments_lexer": "ipython3",
   "version": "3.10.9"
  }
 },
 "nbformat": 4,
 "nbformat_minor": 2
}
