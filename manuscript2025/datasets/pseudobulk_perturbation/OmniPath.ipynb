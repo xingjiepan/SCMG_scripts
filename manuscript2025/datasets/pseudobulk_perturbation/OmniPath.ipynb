{
 "cells": [
  {
   "cell_type": "code",
   "execution_count": null,
   "metadata": {},
   "outputs": [],
   "source": [
    "import os\n",
    "import json\n",
    "\n",
    "import numpy as np\n",
    "import pandas as pd\n",
    "import matplotlib.pyplot as plt\n",
    "import seaborn as sns\n",
    "import scipy.stats\n",
    "from tqdm.auto import tqdm\n",
    "\n",
    "import anndata\n",
    "import scanpy as sc\n",
    "\n",
    "from cytofuture_data.gene_name_mapping import GeneNameMapper"
   ]
  },
  {
   "cell_type": "code",
   "execution_count": null,
   "metadata": {},
   "outputs": [],
   "source": [
    "# Load the gene name mapper\n",
    "gene_name_mapper = GeneNameMapper(\n",
    "    '../../standard_genes/gene_names/human_genes.csv',\n",
    "    '../../standard_genes/gene_names/mouse_genes.csv',\n",
    "    '../../standard_genes/gene_names/orthologue_map_human2mouse_best.csv',\n",
    "    '../../standard_genes/gene_names/orthologue_map_mouse2human_best.csv'\n",
    ")"
   ]
  },
  {
   "cell_type": "code",
   "execution_count": null,
   "metadata": {},
   "outputs": [],
   "source": [
    "# Load the omnipath signaling network\n",
    "op_df = pd.read_csv('/home/xingjie/Data/data2/cytofuture/databases/omnipath/omnipath_webservice_interactions__latest.tsv',\n",
    "                            sep='\\t', low_memory=False)\n",
    "op_df['source_genesymbol'] = op_df['source_genesymbol'].str.upper()\n",
    "op_df['target_genesymbol'] = op_df['target_genesymbol'].str.upper()\n",
    "\n",
    "print(op_df.shape)\n",
    "op_df.columns"
   ]
  },
  {
   "cell_type": "code",
   "execution_count": null,
   "metadata": {},
   "outputs": [],
   "source": [
    "gene_corr_df = pd.read_parquet('../../gene_correlations/gene_corr_df_measured.parquet')\n",
    "gene_corr_df"
   ]
  },
  {
   "cell_type": "code",
   "execution_count": null,
   "metadata": {},
   "outputs": [],
   "source": [
    "# Get the transcriptional edges\n",
    "op_df = op_df[op_df['type'] == 'transcriptional'].copy()\n",
    "\n",
    "# Get the non-redudant edges\n",
    "op_df = op_df.sort_values('curation_effort', ascending=False)\n",
    "op_df = op_df.drop_duplicates(subset=['source_genesymbol', 'target_genesymbol'])\n",
    "\n",
    "op_df['source_id'] = gene_name_mapper.map_gene_names(op_df['source_genesymbol'], \n",
    "                                                             'human', 'human', 'name', 'id')\n",
    "op_df['target_id'] = gene_name_mapper.map_gene_names(op_df['target_genesymbol'], \n",
    "                                                             'human', 'human', 'name', 'id')\n",
    "\n",
    "op_df = op_df[op_df['source_id'] != 'na']\n",
    "op_df = op_df[op_df['target_id'] != 'na'].copy()\n",
    "\n",
    "# Only keep the edges that are in the gene correlation matrix\n",
    "op_df = op_df[op_df['source_id'].isin(gene_corr_df.index) \n",
    "              & op_df['target_id'].isin(gene_corr_df.index)].copy()\n",
    "\n",
    "# Get the weights and signs of the edges\n",
    "op_df['weight'] = (1 + op_df['curation_effort']) / (10 + op_df['curation_effort'])\n",
    "\n",
    "signs = []\n",
    "\n",
    "for i, row in tqdm(op_df.iterrows(), total=len(op_df)):\n",
    "    if row['consensus_stimulation'] == 1:\n",
    "        signs.append(1)\n",
    "    elif row['consensus_inhibition'] == 1:\n",
    "        signs.append(-1)\n",
    "    else:\n",
    "        # If the edge is not annotated, we use the correlation to determine\n",
    "        signs.append(gene_corr_df.loc[row['source_id'], row['target_id']]) \n",
    "\n",
    "op_df['sign'] = signs\n",
    "op_df = op_df[['source_id', 'target_id', 'sign', 'weight']].copy()"
   ]
  },
  {
   "cell_type": "code",
   "execution_count": null,
   "metadata": {},
   "outputs": [],
   "source": [
    "standard_gene_df = pd.read_csv('standard_genes.csv').set_index('human_id')\n",
    "op_df = op_df[op_df['target_id'].isin(standard_gene_df.index)].copy()\n",
    "\n",
    "obs_dict = {\n",
    "    'id' : [],\n",
    "    'condition' : [],\n",
    "    'perturbed_gene' : [],\n",
    "    'perturbation_sign' : [],\n",
    "}\n",
    "X = []\n",
    "X_measure_mask = []\n",
    "\n",
    "dataset_id = 'omnipath'\n",
    "tfs = np.unique(op_df['source_id'])\n",
    "\n",
    "# Get the perturbation data\n",
    "for tf in tqdm(tfs):\n",
    "    sample_df = op_df[op_df['source_id'] == tf]\n",
    "    sample_df = sample_df.set_index('target_id')\n",
    "    sample_df = sample_df[~sample_df.index.duplicated(keep='first')]\n",
    "\n",
    "    obs_dict['id'].append(f'{dataset_id}_{tf}')\n",
    "    obs_dict['condition'].append(dataset_id)\n",
    "    obs_dict['perturbed_gene'].append(tf)\n",
    "    obs_dict['perturbation_sign'].append(1) # -1 for knockdown, 1 for overexpression\n",
    "    \n",
    "    log2fcs = 3 * sample_df['sign'] * sample_df['weight']\n",
    "\n",
    "    standard_gene_df['log2fc'] = log2fcs\n",
    "    standard_gene_df['measure_mask'] = True\n",
    "\n",
    "    X.append(np.nan_to_num(standard_gene_df['log2fc'].values, \n",
    "                           nan=0).astype(np.float32))\n",
    "    X_measure_mask.append(standard_gene_df['measure_mask'].values.astype(np.float32))\n",
    "\n",
    "X = np.array(X)\n",
    "X_measure_mask = np.array(X_measure_mask)\n",
    "\n",
    "# Create the perturbation anndata\n",
    "adata_perturb = anndata.AnnData(\n",
    "    X=X, \n",
    "    obs=pd.DataFrame(obs_dict).set_index('id'),\n",
    "    var=standard_gene_df[[]].copy(),\n",
    ")\n",
    "adata_perturb.layers['measure_mask'] = X_measure_mask\n",
    "adata_perturb.layers['control'] = np.zeros(X.shape, dtype=np.float32)\n",
    "\n",
    "adata_perturb.obs['perturbed_gene_name'] = gene_name_mapper.map_gene_names(\n",
    "    adata_perturb.obs['perturbed_gene'], 'human', 'human', 'id', 'name')\n",
    "adata_perturb.var['gene_name'] = gene_name_mapper.map_gene_names(\n",
    "    adata_perturb.var.index, 'human', 'human', 'id', 'name')\n",
    "\n",
    "adata_perturb.write_h5ad(os.path.join(\n",
    "    '/home/xingjie/Data/data2/cytofuture/datasets/perturbation_data', \n",
    "    f'{dataset_id}.h5ad'))\n",
    "\n",
    "plt.hist(adata_perturb.X.flatten(), bins=100)\n",
    "adata_perturb"
   ]
  },
  {
   "cell_type": "code",
   "execution_count": null,
   "metadata": {},
   "outputs": [],
   "source": [
    "plt.hist(adata_perturb.X.flatten(), bins=100)\n",
    "plt.ylim(0, 1000)"
   ]
  },
  {
   "cell_type": "code",
   "execution_count": null,
   "metadata": {},
   "outputs": [],
   "source": []
  }
 ],
 "metadata": {
  "kernelspec": {
   "display_name": "cytofuture",
   "language": "python",
   "name": "python3"
  },
  "language_info": {
   "codemirror_mode": {
    "name": "ipython",
    "version": 3
   },
   "file_extension": ".py",
   "mimetype": "text/x-python",
   "name": "python",
   "nbconvert_exporter": "python",
   "pygments_lexer": "ipython3",
   "version": "3.10.9"
  }
 },
 "nbformat": 4,
 "nbformat_minor": 2
}
