{
 "cells": [
  {
   "cell_type": "code",
   "execution_count": null,
   "metadata": {},
   "outputs": [],
   "source": [
    "import os\n",
    "import json\n",
    "\n",
    "import numpy as np\n",
    "import pandas as pd\n",
    "import matplotlib.pyplot as plt\n",
    "import seaborn as sns\n",
    "import scipy.stats\n",
    "from tqdm import tqdm\n",
    "\n",
    "import anndata\n",
    "import scanpy as sc\n",
    "\n",
    "from cytofuture_data.gene_name_mapping import GeneNameMapper"
   ]
  },
  {
   "cell_type": "code",
   "execution_count": null,
   "metadata": {},
   "outputs": [],
   "source": [
    "# Load the gene name mapper\n",
    "gene_name_mapper = GeneNameMapper(\n",
    "    '../../standard_genes/gene_names/human_genes.csv',\n",
    "    '../../standard_genes/gene_names/mouse_genes.csv',\n",
    "    '../../standard_genes/gene_names/orthologue_map_human2mouse_best.csv',\n",
    "    '../../standard_genes/gene_names/orthologue_map_mouse2human_best.csv'\n",
    ")"
   ]
  },
  {
   "cell_type": "code",
   "execution_count": null,
   "metadata": {},
   "outputs": [],
   "source": [
    "tf_screen_df = pd.read_csv(\n",
    "    '/home/xingjie/Data/data2/cytofuture/datasets/TF_orf_screen/TF_hESC_screen.csv',\n",
    "    index_col=0)\n",
    "\n",
    "tf_screen_df.columns = [c.strip() for c in tf_screen_df.columns]\n",
    "\n",
    "tf_screen_df = 10 ** tf_screen_df\n",
    "tf_screen_df = 1e4 * tf_screen_df / tf_screen_df.sum(axis=0)\n",
    "\n",
    "# Remove genes that are not detected in some samples\n",
    "tf_screen_df = tf_screen_df.loc[tf_screen_df.min(axis=1) > 1e-6].copy()\n",
    "\n",
    "tf_screen_df.index = gene_name_mapper.map_gene_names(tf_screen_df.index, \n",
    "                                'human', 'human', 'name', 'id')\n",
    "tf_screen_df = tf_screen_df.loc[tf_screen_df.index.str.startswith('ENSG')].copy()\n",
    "\n",
    "tf_screen_df = tf_screen_df[~tf_screen_df.index.duplicated(keep='first')]\n",
    "tf_screen_df"
   ]
  },
  {
   "cell_type": "code",
   "execution_count": null,
   "metadata": {},
   "outputs": [],
   "source": [
    "for gn in tf_screen_df.columns:\n",
    "    gid = gene_name_mapper.map_gene_names([gn], 'human', 'human', 'name', 'id')[0]\n",
    "    if gid == 'na':\n",
    "        print(gn)"
   ]
  },
  {
   "cell_type": "code",
   "execution_count": null,
   "metadata": {},
   "outputs": [],
   "source": [
    "tf_screen_df = tf_screen_df.rename(columns={\n",
    "    'H2AFZ':'H2AZ1', 'HIST2H3C':'H3C14', 'SSX6':'SSX6P', 'T':'TBXT',\n",
    "})\n",
    "tf_screen_df = tf_screen_df.loc[:,~tf_screen_df.columns.duplicated(keep='first')].copy()\n",
    "tf_screen_df"
   ]
  },
  {
   "cell_type": "code",
   "execution_count": null,
   "metadata": {},
   "outputs": [],
   "source": [
    "standard_gene_df = pd.read_csv('standard_genes.csv').set_index('human_id')\n",
    "\n",
    "obs_dict = {\n",
    "    'id' : [],\n",
    "    'condition' : [],\n",
    "    'perturbed_gene' : [],\n",
    "    'perturbation_sign' : [],\n",
    "}\n",
    "X_perturb = []\n",
    "X_control = []\n",
    "X_measure_mask = []\n",
    "dataset_id = 'hESC_TF_screen'\n",
    "control_exp = tf_screen_df['Emerald']\n",
    "\n",
    "# Get the perturbation data\n",
    "for c in tqdm(tf_screen_df.columns):\n",
    "    pg = gene_name_mapper.map_gene_names([c], 'human', 'human', 'name', 'id')[0]\n",
    "    if not pg.startswith('ENSG'):\n",
    "        continue\n",
    "\n",
    "    obs_dict['id'].append(f'{dataset_id}_{c}')\n",
    "    obs_dict['condition'].append(dataset_id)\n",
    "    obs_dict['perturbed_gene'].append(pg)\n",
    "    obs_dict['perturbation_sign'].append(1) # -1 for knockdown, 1 for overexpression\n",
    "    \n",
    "    standard_gene_df['perturb'] = tf_screen_df[c]\n",
    "    standard_gene_df['control'] = control_exp\n",
    "    standard_gene_df['measure_mask'] = ~standard_gene_df['perturb'].isna()\n",
    "\n",
    "    X_perturb.append(np.nan_to_num(standard_gene_df['perturb'].values, \n",
    "                           nan=0).astype(np.float32))\n",
    "    X_control.append(np.nan_to_num(standard_gene_df['control'].values, \n",
    "                           nan=0).astype(np.float32))\n",
    "    X_measure_mask.append(standard_gene_df['measure_mask'].values.astype(np.float32))\n",
    "\n",
    "X_perturb = np.array(X_perturb)\n",
    "X_control = np.array(X_control)\n",
    "X_perturb = np.log1p(X_perturb / X_perturb.sum(axis=1, keepdims=True) * 1e4)\n",
    "X_control = np.log1p(X_control / X_control.sum(axis=1, keepdims=True) * 1e4)\n",
    "X_shift = X_perturb - X_control\n",
    "\n",
    "X_measure_mask = np.array(X_measure_mask)\n",
    "\n",
    "# Create the perturbation anndata\n",
    "adata_perturb = anndata.AnnData(\n",
    "    X=X_shift, \n",
    "    obs=pd.DataFrame(obs_dict).set_index('id'),\n",
    "    var=standard_gene_df[[]].copy(),\n",
    ")\n",
    "adata_perturb.layers['measure_mask'] = X_measure_mask\n",
    "adata_perturb.layers['control'] = X_control\n",
    "\n",
    "adata_perturb.obs['perturbed_gene_name'] = gene_name_mapper.map_gene_names(\n",
    "    adata_perturb.obs['perturbed_gene'], 'human', 'human', 'id', 'name')\n",
    "adata_perturb.var['gene_name'] = gene_name_mapper.map_gene_names(\n",
    "    adata_perturb.var.index, 'human', 'human', 'id', 'name')\n",
    "\n",
    "adata_perturb.write_h5ad(os.path.join(\n",
    "    '/home/xingjie/Data/data2/cytofuture/datasets/perturbation_data', \n",
    "    f'{dataset_id}.h5ad'))\n",
    "\n",
    "plt.hist(adata_perturb.X.flatten(), bins=100)\n",
    "adata_perturb"
   ]
  },
  {
   "cell_type": "code",
   "execution_count": null,
   "metadata": {},
   "outputs": [],
   "source": []
  }
 ],
 "metadata": {
  "kernelspec": {
   "display_name": "cytofuture",
   "language": "python",
   "name": "python3"
  },
  "language_info": {
   "codemirror_mode": {
    "name": "ipython",
    "version": 3
   },
   "file_extension": ".py",
   "mimetype": "text/x-python",
   "name": "python",
   "nbconvert_exporter": "python",
   "pygments_lexer": "ipython3",
   "version": "3.10.9"
  }
 },
 "nbformat": 4,
 "nbformat_minor": 2
}
