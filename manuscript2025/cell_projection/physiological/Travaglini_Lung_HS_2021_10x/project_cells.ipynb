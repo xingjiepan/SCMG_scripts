{
 "cells": [
  {
   "cell_type": "code",
   "execution_count": null,
   "metadata": {},
   "outputs": [],
   "source": [
    "%load_ext autoreload\n",
    "%autoreload 2\n",
    "%config InlineBackend.figure_format='retina'"
   ]
  },
  {
   "cell_type": "code",
   "execution_count": null,
   "metadata": {},
   "outputs": [],
   "source": [
    "import os\n",
    "\n",
    "from tqdm import tqdm\n",
    "import numpy as np\n",
    "import pandas as pd\n",
    "\n",
    "import anndata\n",
    "import scanpy as sc\n",
    "\n",
    "import torch\n",
    "\n",
    "from scmg.preprocessing.data_standardization import GeneNameMapper\n",
    "from scmg.model.contrastive_embedding import CellEmbedder, embed_adata, decode_adata\n",
    "\n",
    "gene_name_mapper = GeneNameMapper()"
   ]
  },
  {
   "cell_type": "code",
   "execution_count": null,
   "metadata": {},
   "outputs": [],
   "source": [
    "import matplotlib\n",
    "import matplotlib.pyplot as plt\n",
    "import seaborn as sns\n",
    "\n",
    "plt.rcParams[\"figure.autolayout\"] = False\n",
    "matplotlib.rc('pdf', fonttype=42)\n",
    "plt.rcParams['font.family'] = 'FreeSans'\n",
    "sc.set_figure_params(vector_friendly=True, dpi_save=300)\n",
    "plt.rcParams['axes.grid'] = False"
   ]
  },
  {
   "cell_type": "code",
   "execution_count": null,
   "metadata": {},
   "outputs": [],
   "source": [
    "output_path = 'Travaglini_Lung_cell_type_search_plots'\n",
    "os.makedirs(output_path, exist_ok=True)"
   ]
  },
  {
   "cell_type": "code",
   "execution_count": null,
   "metadata": {},
   "outputs": [],
   "source": [
    "# Load the autoencoder model\n",
    "model_ce_path = '../../../contrastive_embedding/trained_embedder/'\n",
    "\n",
    "model = torch.load(os.path.join(model_ce_path, 'model.pt'))\n",
    "model.load_state_dict(torch.load(os.path.join(model_ce_path, 'best_state_dict.pth')))\n",
    "\n",
    "device = 'cuda:0'\n",
    "model.to(device)\n",
    "model.eval()"
   ]
  },
  {
   "cell_type": "code",
   "execution_count": null,
   "metadata": {},
   "outputs": [],
   "source": [
    "adata_ct_ref = sc.read_h5ad('../../ref_cell_adata.h5ad')\n",
    "adata_ct_ref"
   ]
  },
  {
   "cell_type": "code",
   "execution_count": null,
   "metadata": {},
   "outputs": [],
   "source": [
    "#adata = sc.read_h5ad('../../../contrastive_embedding/test_embedding/Burclaff_intestine_HS_2022_all.h5ad')\n",
    "adata = sc.read_h5ad('../../../contrastive_embedding/test_embedding/Travaglini_Lung_HS_2021_10x.h5ad')\n",
    "\n",
    "adata.var.index = adata.var['feature_id']\n",
    "adata"
   ]
  },
  {
   "cell_type": "code",
   "execution_count": null,
   "metadata": {},
   "outputs": [],
   "source": [
    "embed_adata(model, adata, batch_size=8192)"
   ]
  },
  {
   "cell_type": "code",
   "execution_count": null,
   "metadata": {},
   "outputs": [],
   "source": [
    "major_ct_df = pd.read_csv('../../../cell_type_analysis/major_cell_type_annotation.csv')\n",
    "major_ct_df"
   ]
  },
  {
   "cell_type": "code",
   "execution_count": null,
   "metadata": {},
   "outputs": [],
   "source": [
    "sorted(major_ct_df['major_cell_type'].value_counts().index)"
   ]
  },
  {
   "cell_type": "code",
   "execution_count": null,
   "metadata": {},
   "outputs": [],
   "source": [
    "from scmg.model.cell_type_search import CellTypeSearcher\n",
    "\n",
    "cts = CellTypeSearcher(adata_ct_ref)"
   ]
  },
  {
   "cell_type": "code",
   "execution_count": null,
   "metadata": {},
   "outputs": [],
   "source": [
    "adata.obs['cell_type'].value_counts()"
   ]
  },
  {
   "cell_type": "code",
   "execution_count": null,
   "metadata": {},
   "outputs": [],
   "source": [
    "#query_emb = adata.obsm['X_ce_latent'][adata.obs['cell_type'] == \n",
    "#                        'colon goblet cell']\n",
    "query_emb = adata.obsm['X_ce_latent']\n",
    "\n",
    "cell_match_df = cts.search_ref_cell(query_emb)\n",
    "\n",
    "adata.obsm['X_project_umap'] = cell_match_df[['umap_x', 'umap_y']].values\n",
    "adata.obs['project_dist'] = cell_match_df['distance'].values"
   ]
  },
  {
   "cell_type": "code",
   "execution_count": null,
   "metadata": {},
   "outputs": [],
   "source": [
    "sc.pl.umap(adata_ct_ref, color='major_cell_type')\n",
    "\n",
    "fig, ax = plt.subplots(1, 1, figsize=(5, 5), dpi=300)\n",
    "sc.pl.umap(adata_ct_ref, ax=ax, show=False)\n",
    "sc.pl.embedding(adata, basis='X_project_umap', color='cell_type', ax=ax, frameon=False)\n",
    "#sc.pl.embedding(adata, basis='X_project_umap', color='project_dist', ax=ax)\n",
    "\n",
    "fig.savefig(os.path.join(output_path, 'umap_projected_cells.pdf'))"
   ]
  },
  {
   "cell_type": "code",
   "execution_count": null,
   "metadata": {},
   "outputs": [],
   "source": [
    "plt.scatter(adata_ct_ref.obsm['X_umap'][:, 0], adata_ct_ref.obsm['X_umap'][:, 1], \n",
    "            s=1, c='lightgrey')\n",
    "#plt.scatter(cell_match_df['umap_x'], cell_match_df['umap_y'], s=1, c='red')\n",
    "sct = plt.scatter(cell_match_df['umap_x'], cell_match_df['umap_y'],\n",
    "             s=1, c=cell_match_df['distance'], cmap='viridis')\n",
    "plt.colorbar(sct)"
   ]
  },
  {
   "cell_type": "code",
   "execution_count": null,
   "metadata": {},
   "outputs": [],
   "source": [
    "query_cell_types = np.unique(adata.obs['cell_type'])\n",
    "\n",
    "all_ct_match_df = pd.DataFrame(\n",
    "    data=np.zeros((len(query_cell_types), len(cts.cell_types)), dtype=np.float32),\n",
    "    index=query_cell_types, columns=cts.cell_types\n",
    ")\n",
    "\n",
    "for ct in tqdm(query_cell_types):\n",
    "    query_emb = adata.obsm['X_ce_latent'][adata.obs['cell_type'] == ct]\n",
    "    ct_match_df = cts.search_ref_cell_types(query_emb)\n",
    "\n",
    "    all_ct_match_df.loc[ct] = ct_match_df['weight']\n",
    "    "
   ]
  },
  {
   "cell_type": "code",
   "execution_count": null,
   "metadata": {},
   "outputs": [],
   "source": [
    "for ct in query_cell_types:\n",
    "    display(all_ct_match_df.loc[ct].sort_values(ascending=False)[:5])"
   ]
  },
  {
   "cell_type": "code",
   "execution_count": null,
   "metadata": {},
   "outputs": [],
   "source": [
    "fig, ax = plt.subplots(1, 1, figsize=(10, 10))\n",
    "sc.pl.embedding(adata, basis='X_project_umap', color='cell_type',\n",
    "                legend_loc='on data', ax=ax, legend_fontsize=5)"
   ]
  },
  {
   "cell_type": "code",
   "execution_count": null,
   "metadata": {},
   "outputs": [],
   "source": [
    "query_cts_to_show = [\n",
    "    'lung goblet cell', \n",
    "    'mucus secreting cell', \n",
    "    'respiratory basal cell', \n",
    "    'basal cell', \n",
    "    'club cell', \n",
    "    'type I pneumocyte', \n",
    "    'type II pneumocyte', \n",
    "    'epithelial cell', \n",
    "    'pulmonary ionocyte', \n",
    "    'tracheobronchial serous cell', ]\n",
    "\n",
    "ref_cts_to_show = [\n",
    "    'tracheobronchial goblet cell', \n",
    "    'respiratory basal cell', \n",
    "    'lung secretory cell', \n",
    "    'epithelial cell of alveolus of lung', \n",
    "    'type I pneumocyte', \n",
    "    'type II pneumocyte', \n",
    "    'pulmonary ionocyte', \n",
    "    'serous cell of epithelium of bronchus',\n",
    "    ]\n",
    "\n",
    "\n",
    "ct_mtx_to_show = all_ct_match_df.loc[query_cts_to_show, ref_cts_to_show]\n",
    "#ct_mtx_to_show = ct_mtx_to_show / ct_mtx_to_show.values.max(axis=1)[:, None]\n",
    "\n",
    "fig, ax = plt.subplots(figsize=(10, 6))\n",
    "sns.heatmap(ct_mtx_to_show.T, cmap='viridis', ax=ax, vmax=0.4, cbar_kws={'label': 'cell type match score'})\n",
    "ax.set_xlabel('query cell type')\n",
    "ax.set_ylabel('reference cell type')\n",
    "\n",
    "fig.savefig(os.path.join(output_path, 'cell_type_match_heatmap.pdf'))"
   ]
  },
  {
   "cell_type": "code",
   "execution_count": null,
   "metadata": {},
   "outputs": [],
   "source": [
    "adata.obs['project_dist'] = cell_match_df['distance'].values\n",
    "adata.obs['ref_cell'] = cell_match_df['ref_cell'].values\n",
    "adata.obs['projected_cell_type'] = adata_ct_ref.obs['cell_type'].loc[\n",
    "                                            cell_match_df['ref_cell']].values\n",
    "\n",
    "projected_cell_count_map = adata.obs['ref_cell'].value_counts().to_dict()\n",
    "adata_ct_ref.obs['projected_cell_count'] = adata_ct_ref.obs.index.map(\n",
    "    lambda x: projected_cell_count_map.get(x, 0))\n",
    "\n",
    "ct_confusion_df = pd.crosstab(adata.obs['cell_type'], adata.obs['projected_cell_type'])\n",
    "ct_confusion_df = ct_confusion_df / ct_confusion_df.values.sum(axis=1)[:, None]\n",
    "\n",
    "for ct_query in ct_confusion_df.index:\n",
    "    display(ct_confusion_df.loc[ct_query].sort_values(ascending=False).head(5))"
   ]
  },
  {
   "cell_type": "code",
   "execution_count": null,
   "metadata": {},
   "outputs": [],
   "source": [
    "fig, ax = plt.subplots(1, 1, figsize=(18, 12))\n",
    "\n",
    "\n",
    "sns.heatmap(ct_confusion_df.loc[\n",
    "    [\n",
    "    'plasma cell',\n",
    "    'B cell', \n",
    "\n",
    "    'natural killer cell',\n",
    "    'lymphocyte',\n",
    "    'mature NK T cell',\n",
    "    \n",
    "    'effector memory CD4-positive, alpha-beta T cell',\n",
    "    'effector memory CD8-positive, alpha-beta T cell',\n",
    "    'naive thymus-derived CD4-positive, alpha-beta T cell',\n",
    "    'naive thymus-derived CD8-positive, alpha-beta T cell',\n",
    "\n",
    "    \n",
    "    'plasmacytoid dendritic cell, human',\n",
    "    'CD1c-positive myeloid dendritic cell',\n",
    "    'myeloid dendritic cell, human',\n",
    "    'myeloid leukocyte',\n",
    "    'monocyte',\n",
    "    'classical monocyte',\n",
    "    'intermediate monocyte',\n",
    "    'non-classical monocyte',\n",
    "    'dendritic cell',\n",
    "    'macrophage',\n",
    "    'alveolar macrophage',\n",
    "    \n",
    "    'megakaryocyte',\n",
    "\n",
    "    'endothelial cell of artery',\n",
    "    'endothelial cell',\n",
    "    'capillary endothelial cell',\n",
    "    'vein endothelial cell',\n",
    "    'endothelial cell of lymphatic vessel',\n",
    "    'pericyte',\n",
    "\n",
    "    'vascular associated smooth muscle cell',\n",
    "    'bronchial smooth muscle cell',\n",
    "    'myofibroblast cell',\n",
    "    'pulmonary interstitial fibroblast',\n",
    "    'fibroblast',\n",
    "    \n",
    "    'mesothelial cell of pleura',\n",
    "    \n",
    "    'mucus secreting cell',\n",
    "    'club cell',\n",
    "    'basal cell',\n",
    "    'respiratory basal cell',\n",
    "    'ciliated cell',\n",
    "    'lung ciliated cell',\n",
    "    'lung goblet cell',\n",
    "    'tracheobronchial serous cell',\n",
    "    'pulmonary ionocyte',\n",
    "    'type I pneumocyte',\n",
    "    'type II pneumocyte',\n",
    "    'epithelial cell',\n",
    "\n",
    "    'lung neuroendocrine cell',\n",
    "    ], \n",
    "    [\n",
    "    'plasma cell',\n",
    "    'B cell', \n",
    "\n",
    "    'CD16-positive, CD56-dim natural killer cell, human',\n",
    "    'natural killer cell',\n",
    "\n",
    "    'T cell',\n",
    "\n",
    "    'plasmacytoid dendritic cell',\n",
    "    'conventional dendritic cell',\n",
    "    'mast cell',\n",
    "    'classical monocyte',\n",
    "    'monocyte',\n",
    "    'non-classical monocyte',\n",
    "    'macrophage',\n",
    "    'alveolar macrophage',\n",
    "\n",
    "    'megakaryocyte',\n",
    "\n",
    "    'pulmonary artery endothelial cell',\n",
    "    'capillary endothelial cell',\n",
    "    'vein endothelial cell',\n",
    "    'endothelial cell of lymphatic vessel',\n",
    "    'pericyte',\n",
    "\n",
    "    'tracheobronchial smooth muscle cell',\n",
    "    'vascular associated smooth muscle cell',\n",
    "    'myofibroblast cell',\n",
    "    'fibroblast',\n",
    "    'alveolar type 1 fibroblast cell',\n",
    "    'mesothelial cell',\n",
    "\n",
    "    'epithelial cell of lower respiratory tract',\n",
    "    'epithelial cell of alveolus of lung',\n",
    "    'respiratory basal cell',\n",
    "    'lung ciliated cell',\n",
    "    'ciliated columnar cell of tracheobronchial tree',\n",
    "    'nasal mucosa goblet cell',\n",
    "    'tracheobronchial serous cell',\n",
    "    'ionocyte',\n",
    "    'type I pneumocyte',\n",
    "    'type II pneumocyte',\n",
    "\n",
    "    'enteroendocrine cell',   \n",
    "    ]].T,\n",
    "    cmap='viridis', vmax=0.7)\n",
    "\n",
    "fig.savefig(os.path.join(output_path, 'cell_type_projection_confusion_matrix.pdf'))"
   ]
  },
  {
   "cell_type": "code",
   "execution_count": null,
   "metadata": {},
   "outputs": [],
   "source": []
  }
 ],
 "metadata": {
  "kernelspec": {
   "display_name": "scmg",
   "language": "python",
   "name": "python3"
  },
  "language_info": {
   "codemirror_mode": {
    "name": "ipython",
    "version": 3
   },
   "file_extension": ".py",
   "mimetype": "text/x-python",
   "name": "python",
   "nbconvert_exporter": "python",
   "pygments_lexer": "ipython3",
   "version": "3.10.14"
  }
 },
 "nbformat": 4,
 "nbformat_minor": 2
}
