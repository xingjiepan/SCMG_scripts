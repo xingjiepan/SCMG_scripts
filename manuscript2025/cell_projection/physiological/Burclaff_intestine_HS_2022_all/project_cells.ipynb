{
 "cells": [
  {
   "cell_type": "code",
   "execution_count": null,
   "metadata": {},
   "outputs": [],
   "source": [
    "%load_ext autoreload\n",
    "%autoreload 2\n",
    "%config InlineBackend.figure_format='retina'"
   ]
  },
  {
   "cell_type": "code",
   "execution_count": null,
   "metadata": {},
   "outputs": [],
   "source": [
    "import os\n",
    "\n",
    "from tqdm import tqdm\n",
    "import numpy as np\n",
    "import pandas as pd\n",
    "\n",
    "import anndata\n",
    "import scanpy as sc\n",
    "\n",
    "import torch\n",
    "\n",
    "from scmg.preprocessing.data_standardization import GeneNameMapper\n",
    "from scmg.model.contrastive_embedding import CellEmbedder, embed_adata, decode_adata\n",
    "\n",
    "gene_name_mapper = GeneNameMapper()"
   ]
  },
  {
   "cell_type": "code",
   "execution_count": null,
   "metadata": {},
   "outputs": [],
   "source": [
    "import matplotlib\n",
    "import matplotlib.pyplot as plt\n",
    "import seaborn as sns\n",
    "\n",
    "plt.rcParams[\"figure.autolayout\"] = False\n",
    "matplotlib.rc('pdf', fonttype=42)\n",
    "plt.rcParams['font.family'] = 'FreeSans'\n",
    "sc.set_figure_params(vector_friendly=True, dpi_save=300)\n",
    "plt.rcParams['axes.grid'] = False"
   ]
  },
  {
   "cell_type": "code",
   "execution_count": null,
   "metadata": {},
   "outputs": [],
   "source": [
    "output_path = 'Burclaff_intestine_cell_type_search_plots'\n",
    "os.makedirs(output_path, exist_ok=True)"
   ]
  },
  {
   "cell_type": "code",
   "execution_count": null,
   "metadata": {},
   "outputs": [],
   "source": [
    "# Load the autoencoder model\n",
    "model_ce_path = '../../../contrastive_embedding/trained_embedder/'\n",
    "\n",
    "model = torch.load(os.path.join(model_ce_path, 'model.pt'))\n",
    "model.load_state_dict(torch.load(os.path.join(model_ce_path, 'best_state_dict.pth')))\n",
    "\n",
    "device = 'cuda:0'\n",
    "model.to(device)\n",
    "model.eval()"
   ]
  },
  {
   "cell_type": "code",
   "execution_count": null,
   "metadata": {},
   "outputs": [],
   "source": [
    "adata_ct_ref = sc.read_h5ad('../../ref_cell_adata.h5ad')\n",
    "adata_ct_ref"
   ]
  },
  {
   "cell_type": "code",
   "execution_count": null,
   "metadata": {},
   "outputs": [],
   "source": [
    "adata = sc.read_h5ad('../../../contrastive_embedding/test_embedding/Burclaff_intestine_HS_2022_all.h5ad')\n",
    "#adata = sc.read_h5ad('../../../contrastive_embedding/test_embedding/Triana_BoneMarrow_HS_2021_healthy.h5ad')\n",
    "\n",
    "\n",
    "adata.var.index = adata.var['feature_id']\n",
    "adata"
   ]
  },
  {
   "cell_type": "code",
   "execution_count": null,
   "metadata": {},
   "outputs": [],
   "source": [
    "embed_adata(model, adata, batch_size=8192)"
   ]
  },
  {
   "cell_type": "code",
   "execution_count": null,
   "metadata": {},
   "outputs": [],
   "source": [
    "major_ct_df = pd.read_csv('../../../cell_type_analysis/major_cell_type_annotation.csv')\n",
    "major_ct_df"
   ]
  },
  {
   "cell_type": "code",
   "execution_count": null,
   "metadata": {},
   "outputs": [],
   "source": [
    "sorted(major_ct_df['major_cell_type'].value_counts().index)"
   ]
  },
  {
   "cell_type": "code",
   "execution_count": null,
   "metadata": {},
   "outputs": [],
   "source": [
    "from scmg.model.cell_type_search import CellTypeSearcher\n",
    "\n",
    "cts = CellTypeSearcher(adata_ct_ref)"
   ]
  },
  {
   "cell_type": "code",
   "execution_count": null,
   "metadata": {},
   "outputs": [],
   "source": [
    "adata.obs['cell_type'].value_counts()"
   ]
  },
  {
   "cell_type": "code",
   "execution_count": null,
   "metadata": {},
   "outputs": [],
   "source": [
    "#query_emb = adata.obsm['X_ce_latent'][adata.obs['cell_type'] == \n",
    "#                        'colon goblet cell']\n",
    "query_emb = adata.obsm['X_ce_latent']\n",
    "\n",
    "cell_match_df = cts.search_ref_cell(query_emb)\n",
    "\n",
    "adata.obsm['X_project_umap'] = cell_match_df[['umap_x', 'umap_y']].values\n",
    "adata.obs['project_dist'] = cell_match_df['distance'].values"
   ]
  },
  {
   "cell_type": "code",
   "execution_count": null,
   "metadata": {},
   "outputs": [],
   "source": [
    "sc.pl.umap(adata_ct_ref, color='major_cell_type')\n",
    "\n",
    "fig, ax = plt.subplots(1, 1, figsize=(5, 5), dpi=300)\n",
    "sc.pl.umap(adata_ct_ref, ax=ax, show=False)\n",
    "sc.pl.embedding(adata, basis='X_project_umap', color='cell_type', ax=ax, frameon=False)\n",
    "#sc.pl.embedding(adata, basis='X_project_umap', color='project_dist', ax=ax)\n",
    "\n",
    "fig.savefig(os.path.join(output_path, 'umap_projected_cells.pdf'))"
   ]
  },
  {
   "cell_type": "code",
   "execution_count": null,
   "metadata": {},
   "outputs": [],
   "source": [
    "plt.scatter(adata_ct_ref.obsm['X_umap'][:, 0], adata_ct_ref.obsm['X_umap'][:, 1], \n",
    "            s=1, c='lightgrey')\n",
    "#plt.scatter(cell_match_df['umap_x'], cell_match_df['umap_y'], s=1, c='red')\n",
    "sct = plt.scatter(cell_match_df['umap_x'], cell_match_df['umap_y'],\n",
    "             s=1, c=cell_match_df['distance'], cmap='viridis')\n",
    "plt.colorbar(sct)"
   ]
  },
  {
   "cell_type": "code",
   "execution_count": null,
   "metadata": {},
   "outputs": [],
   "source": [
    "query_cell_types = np.unique(adata.obs['cell_type'])\n",
    "\n",
    "all_ct_match_df = pd.DataFrame(\n",
    "    data=np.zeros((len(query_cell_types), len(cts.cell_types)), dtype=np.float32),\n",
    "    index=query_cell_types, columns=cts.cell_types\n",
    ")\n",
    "\n",
    "for ct in tqdm(query_cell_types):\n",
    "    query_emb = adata.obsm['X_ce_latent'][adata.obs['cell_type'] == ct]\n",
    "    ct_match_df = cts.search_ref_cell_types(query_emb)\n",
    "\n",
    "    all_ct_match_df.loc[ct] = ct_match_df['weight']\n",
    "    "
   ]
  },
  {
   "cell_type": "code",
   "execution_count": null,
   "metadata": {},
   "outputs": [],
   "source": [
    "for ct in query_cell_types:\n",
    "    display(all_ct_match_df.loc[ct].sort_values(ascending=False)[:5])"
   ]
  },
  {
   "cell_type": "code",
   "execution_count": null,
   "metadata": {},
   "outputs": [],
   "source": [
    "fig, ax = plt.subplots(1, 1, figsize=(10, 10))\n",
    "sc.pl.embedding(adata, basis='X_project_umap', color='cell_type',\n",
    "                legend_loc='on data', ax=ax, legend_fontsize=5)"
   ]
  },
  {
   "cell_type": "code",
   "execution_count": null,
   "metadata": {},
   "outputs": [],
   "source": [
    "query_cts_to_show = [\n",
    "    'BEST4+ intestinal epithelial cell, human',\n",
    "    'intestinal crypt stem cell of colon',\n",
    "    'transit amplifying cell of colon',\n",
    "    'enterocyte of epithelium of large intestine',\n",
    "    'intestinal crypt stem cell of small intestine',\n",
    "    'transit amplifying cell of small intestine',\n",
    "    'enterocyte of epithelium of small intestine',\n",
    "    'microfold cell of epithelium of small intestine',\n",
    "    'epithelial cell of small intestine',\n",
    "    'enteroendocrine cell of colon',\n",
    "    'enteroendocrine cell of small intestine',\n",
    "    'intestinal tuft cell',\n",
    "    'tuft cell of colon',\n",
    "    'paneth cell of epithelium of small intestine',\n",
    "    'progenitor cell',\n",
    "    'colon goblet cell',\n",
    "    'small intestine goblet cell',\n",
    "]\n",
    "\n",
    "\n",
    "ref_cts_to_show = [\n",
    "    'paneth cell of colon',\n",
    "    'transit amplifying cell', \n",
    "    'intestinal crypt stem cell',\n",
    "    'transit amplifying cell of colon',\n",
    "    'transit amplifying cell of small intestine',\n",
    "    'Midgut/Hindgut epithelial cells',\n",
    "    'intestinal enteroendocrine cell',\n",
    "    'intestinal tuft cell',\n",
    "    'Intestinal goblet cells',\n",
    "    'large intestine goblet cell', \n",
    "\n",
    "]\n",
    "\n",
    "ct_mtx_to_show = all_ct_match_df.loc[query_cts_to_show, ref_cts_to_show]\n",
    "#ct_mtx_to_show = ct_mtx_to_show / ct_mtx_to_show.values.max(axis=1)[:, None]\n",
    "\n",
    "fig, ax = plt.subplots(figsize=(10, 6))\n",
    "sns.heatmap(ct_mtx_to_show.T, cmap='viridis', ax=ax, vmax=0.4, cbar_kws={'label': 'cell type match score'})\n",
    "ax.set_xlabel('query cell type')\n",
    "ax.set_ylabel('reference cell type')\n",
    "\n",
    "fig.savefig(os.path.join(output_path, 'cell_type_match_heatmap.pdf'))"
   ]
  },
  {
   "cell_type": "code",
   "execution_count": null,
   "metadata": {},
   "outputs": [],
   "source": [
    "adata.obs['project_dist'] = cell_match_df['distance'].values\n",
    "adata.obs['ref_cell'] = cell_match_df['ref_cell'].values\n",
    "adata.obs['projected_cell_type'] = adata_ct_ref.obs['cell_type'].loc[\n",
    "                                            cell_match_df['ref_cell']].values\n",
    "\n",
    "projected_cell_count_map = adata.obs['ref_cell'].value_counts().to_dict()\n",
    "adata_ct_ref.obs['projected_cell_count'] = adata_ct_ref.obs.index.map(\n",
    "    lambda x: projected_cell_count_map.get(x, 0))\n",
    "\n",
    "ct_confusion_df = pd.crosstab(adata.obs['cell_type'], adata.obs['projected_cell_type'])\n",
    "ct_confusion_df = ct_confusion_df / ct_confusion_df.values.sum(axis=1)[:, None]\n",
    "\n",
    "for ct_query in ct_confusion_df.index:\n",
    "    display(ct_confusion_df.loc[ct_query].sort_values(ascending=False).head(5))"
   ]
  },
  {
   "cell_type": "code",
   "execution_count": null,
   "metadata": {},
   "outputs": [],
   "source": [
    "fig, ax = plt.subplots(1, 1, figsize=(10, 6))\n",
    "\n",
    "\n",
    "sns.heatmap(ct_confusion_df.loc[\n",
    "    [\n",
    "    'epithelial cell of small intestine',\n",
    "    'BEST4+ intestinal epithelial cell, human',\n",
    "    'intestinal crypt stem cell of small intestine',\n",
    "    'intestinal crypt stem cell of colon',\n",
    "    'enterocyte of epithelium of large intestine',\n",
    "    'transit amplifying cell of colon',\n",
    "    'transit amplifying cell of small intestine',\n",
    "    'enterocyte of epithelium of small intestine',\n",
    "    'microfold cell of epithelium of small intestine',\n",
    "    'intestinal tuft cell',\n",
    "    'tuft cell of colon',\n",
    "    'paneth cell of epithelium of small intestine',\n",
    "    'small intestine goblet cell',\n",
    "    'progenitor cell',\n",
    "    'colon goblet cell',\n",
    "    'enteroendocrine cell of colon',\n",
    "    'enteroendocrine cell of small intestine',\n",
    "     ], \n",
    "    [\n",
    "    'epithelial cell',\n",
    "    'intestinal crypt stem cell',\n",
    "    'transit amplifying cell',\n",
    "    'transit amplifying cell of colon',\n",
    "    'transit amplifying cell of small intestine',\n",
    "    'enterocyte',\n",
    "    'enterocyte of colon',\n",
    "    'intestinal tuft cell',\n",
    "    'intestine goblet cell',\n",
    "    'large intestine goblet cell',\n",
    "    'enteroendocrine cell',\n",
    "     ]].T,\n",
    "    cmap='viridis', vmax=0.7)\n",
    "\n",
    "fig.savefig(os.path.join(output_path, 'cell_type_projection_confusion_matrix.pdf'))"
   ]
  },
  {
   "cell_type": "code",
   "execution_count": null,
   "metadata": {},
   "outputs": [],
   "source": []
  }
 ],
 "metadata": {
  "kernelspec": {
   "display_name": "scmg",
   "language": "python",
   "name": "python3"
  },
  "language_info": {
   "codemirror_mode": {
    "name": "ipython",
    "version": 3
   },
   "file_extension": ".py",
   "mimetype": "text/x-python",
   "name": "python",
   "nbconvert_exporter": "python",
   "pygments_lexer": "ipython3",
   "version": "3.10.14"
  }
 },
 "nbformat": 4,
 "nbformat_minor": 2
}
