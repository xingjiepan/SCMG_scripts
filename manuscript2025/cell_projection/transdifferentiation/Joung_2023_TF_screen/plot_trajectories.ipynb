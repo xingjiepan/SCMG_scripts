{
 "cells": [
  {
   "cell_type": "code",
   "execution_count": null,
   "metadata": {},
   "outputs": [],
   "source": [
    "%load_ext autoreload\n",
    "%autoreload 2\n",
    "%config InlineBackend.figure_format='retina'"
   ]
  },
  {
   "cell_type": "code",
   "execution_count": null,
   "metadata": {},
   "outputs": [],
   "source": [
    "import os\n",
    "\n",
    "import numpy as np\n",
    "import pandas as pd\n",
    "import matplotlib.pyplot as plt\n",
    "import seaborn as sns\n",
    "\n",
    "import anndata\n",
    "import scanpy as sc\n",
    "\n",
    "import torch\n",
    "\n",
    "from scmg.model.contrastive_embedding import CellEmbedder, embed_adata, decode_adata, score_marker_genes\n",
    "from scmg.preprocessing.data_standardization import GeneNameMapper, standardize_adata\n",
    "\n",
    "gene_name_mapper = GeneNameMapper()"
   ]
  },
  {
   "cell_type": "code",
   "execution_count": null,
   "metadata": {},
   "outputs": [],
   "source": [
    "import matplotlib\n",
    "import matplotlib.pyplot as plt\n",
    "import seaborn as sns\n",
    "\n",
    "plt.rcParams[\"figure.autolayout\"] = False\n",
    "matplotlib.rc('pdf', fonttype=42)\n",
    "plt.rcParams['font.family'] = 'FreeSans'\n",
    "sc.set_figure_params(vector_friendly=True, dpi_save=300)\n",
    "plt.rcParams['axes.grid'] = False"
   ]
  },
  {
   "cell_type": "code",
   "execution_count": null,
   "metadata": {},
   "outputs": [],
   "source": [
    "output_path = 'Joung_2023_TF_screen_plots'\n",
    "os.makedirs(output_path, exist_ok=True)"
   ]
  },
  {
   "cell_type": "code",
   "execution_count": null,
   "metadata": {},
   "outputs": [],
   "source": [
    "# Load the autoencoder model\n",
    "\n",
    "model_path = '../../../contrastive_embedding/trained_embedder'\n",
    "\n",
    "model = torch.load(os.path.join(model_path, 'model.pt'))\n",
    "model.load_state_dict(torch.load(os.path.join(model_path, 'best_state_dict.pth')))\n",
    "\n",
    "device = 'cuda'\n",
    "model.to(device)\n",
    "model.eval()"
   ]
  },
  {
   "cell_type": "code",
   "execution_count": null,
   "metadata": {},
   "outputs": [],
   "source": [
    "adata = sc.read_h5ad(\n",
    "    '/GPUData_xingjie/SCMG/perturbation_trajectories/Joung_2023_TF_screen.h5ad')\n",
    "\n",
    "adata.obs_names_make_unique()\n",
    "adata.var.index = gene_name_mapper.map_gene_names(adata.var.index,\n",
    "                            'human', 'human', 'name', 'id')\n",
    "adata = adata[:, adata.var.index != 'na'].copy()\n",
    "adata.var_names_make_unique()\n",
    "\n",
    "embed_adata(model, adata, batch_size=4096)\n",
    "adata"
   ]
  },
  {
   "cell_type": "code",
   "execution_count": null,
   "metadata": {},
   "outputs": [],
   "source": [
    "adata_ct_ref = sc.read_h5ad('../../../manifold_generator/ref_cell_adata.h5ad')\n",
    "adata_ct_ref"
   ]
  },
  {
   "cell_type": "code",
   "execution_count": null,
   "metadata": {},
   "outputs": [],
   "source": [
    "adata_measured_ref = sc.read_h5ad('../../../manifold_generator/ref_cell_adata_measured_count.h5ad')\n",
    "sc.pp.normalize_total(adata_measured_ref, target_sum=1e4)\n",
    "sc.pp.log1p(adata_measured_ref)\n",
    "adata_measured_ref"
   ]
  },
  {
   "cell_type": "code",
   "execution_count": null,
   "metadata": {},
   "outputs": [],
   "source": [
    "from scmg.model.cell_type_search import CellTypeSearcher\n",
    "\n",
    "cts = CellTypeSearcher(adata_ct_ref)"
   ]
  },
  {
   "cell_type": "code",
   "execution_count": null,
   "metadata": {},
   "outputs": [],
   "source": [
    "cell_match_df = cts.search_ref_cell(adata.obsm['X_ce_latent'])\n",
    "\n",
    "adata.obsm['X_project_umap'] = cell_match_df[['umap_x', 'umap_y']].values\n",
    "# Add a small random shift to the UMAP coordinates to avoid overlapping points\n",
    "adata.obsm['X_project_umap'] += np.clip(np.random.normal(0, 0.2, \n",
    "                                adata.obsm['X_project_umap'].shape), -0.5, 0.5)\n",
    "\n",
    "adata.obs['project_dist'] = cell_match_df['distance'].values\n",
    "adata.obs['ref_cell'] = cell_match_df['ref_cell'].values\n",
    "adata.obs['projected_cell_type'] = adata_ct_ref.obs['cell_type'].loc[\n",
    "                                            cell_match_df['ref_cell']].values"
   ]
  },
  {
   "cell_type": "code",
   "execution_count": null,
   "metadata": {},
   "outputs": [],
   "source": [
    "projected_cell_count_map = adata.obs['ref_cell'].value_counts().to_dict()\n",
    "adata_ct_ref.obs['projected_cell_count'] = adata_ct_ref.obs.index.map(\n",
    "    lambda x: projected_cell_count_map.get(x, 0))"
   ]
  },
  {
   "cell_type": "code",
   "execution_count": null,
   "metadata": {},
   "outputs": [],
   "source": [
    "sc.pl.umap(adata_ct_ref, color='major_cell_type')\n",
    "sc.pl.umap(adata_ct_ref, color='projected_cell_count', vmax=20, \n",
    "           cmap='inferno_r', alpha=1, s=20)"
   ]
  },
  {
   "cell_type": "code",
   "execution_count": null,
   "metadata": {},
   "outputs": [],
   "source": [
    "sc.pl.umap(adata_ct_ref, color='major_cell_type')\n",
    "\n",
    "fig, ax = plt.subplots(1, 1, figsize=(5, 5), dpi=200)\n",
    "sc.pl.umap(adata_ct_ref, ax=ax, show=False)\n",
    "sc.pl.embedding(adata, \n",
    "                basis='X_project_umap', color='difflouvain', \n",
    "                ax=ax, s=0.3)\n",
    "fig.savefig(os.path.join(output_path, 'umap_projected_cells.pdf'))"
   ]
  },
  {
   "cell_type": "code",
   "execution_count": null,
   "metadata": {},
   "outputs": [],
   "source": [
    "adata_ref_named = adata_measured_ref.copy()\n",
    "adata_ref_named.var.index = adata_measured_ref.var['human_gene_name']\n",
    "adata_ref_named = adata_ref_named[:, adata_ref_named.var.index != 'na'].copy()\n",
    "adata_ref_named.var_names_make_unique()\n",
    "\n",
    "adata_named = adata.copy()\n",
    "adata_named.var.index = gene_name_mapper.map_gene_names(\n",
    "    adata_named.var.index, 'human', 'human', 'id', 'name')\n",
    "adata_named.var_names_make_unique()\n",
    "\n",
    "\n",
    "common_genes = np.intersect1d(adata_named.var.index, adata_ref_named.var.index)\n",
    "adata_named = adata_named[:, common_genes].copy()\n",
    "adata_ref_named = adata_ref_named[:, common_genes].copy()\n",
    "\n",
    "sc.pp.normalize_total(adata_named, target_sum=1e4)\n",
    "sc.pp.log1p(adata_named)"
   ]
  },
  {
   "cell_type": "code",
   "execution_count": null,
   "metadata": {},
   "outputs": [],
   "source": [
    "sc.pp.highly_variable_genes(adata_named, n_top_genes=2000)\n",
    "adata_named_hvg = adata_named[:, adata_named.var['highly_variable']].copy()\n",
    "sc.pp.scale(adata_named_hvg)\n",
    "sc.pp.pca(adata_named_hvg, n_comps=50)\n",
    "\n",
    "sc.pp.neighbors(adata_named_hvg, n_neighbors=20)\n",
    "sc.tl.umap(adata_named_hvg)"
   ]
  },
  {
   "cell_type": "code",
   "execution_count": null,
   "metadata": {},
   "outputs": [],
   "source": [
    "#sc.pp.neighbors(adata_named, use_rep='X_ce_latent', n_neighbors=20)\n",
    "#sc.tl.umap(adata_named)\n",
    "\n",
    "adata_named.obsm['X_umap'] = adata_named_hvg.obsm['X_umap']"
   ]
  },
  {
   "cell_type": "code",
   "execution_count": null,
   "metadata": {},
   "outputs": [],
   "source": [
    "fig, ax = plt.subplots(1, 1, figsize=(3, 3), dpi=300)\n",
    "sc.pl.umap(adata_named, color=['difflouvain'], ax=ax, legend_loc='on data', legend_fontsize=6)\n",
    "fig.savefig(os.path.join(output_path, 'umap_transdiff_cells.pdf'))"
   ]
  },
  {
   "cell_type": "code",
   "execution_count": null,
   "metadata": {},
   "outputs": [],
   "source": [
    "ct_confusion_df = pd.crosstab(adata.obs['difflouvain'], adata.obs['projected_cell_type'])\n",
    "ct_confusion_df = ct_confusion_df / ct_confusion_df.values.sum(axis=1)[:, None]\n",
    "\n",
    "for ct_query in ct_confusion_df.index:\n",
    "    display(ct_confusion_df.loc[ct_query].sort_values(ascending=False).head(5))"
   ]
  },
  {
   "cell_type": "code",
   "execution_count": null,
   "metadata": {},
   "outputs": [],
   "source": [
    "adata.obs['projected_cell_type'].value_counts()[:10]"
   ]
  },
  {
   "cell_type": "code",
   "execution_count": null,
   "metadata": {},
   "outputs": [],
   "source": [
    "fig, ax = plt.subplots(1, 1, figsize=(5.5, 8), dpi=300)\n",
    "\n",
    "sns.heatmap(ct_confusion_df.loc[\n",
    "    ['0', '1', '2', '3', '4', '5', '6', '7-0', '7-1', '7-2', '8-0', '8-1',\n",
    "       '9-0', '9-1', '9-2', '10', '11-0', '11-1', '12-0', '12-1', '13', '14',\n",
    "       '15', '16', '17'], \n",
    "    ['Primordial germ cells', 'embryonic stem cell', 'primordial germ cell', 'Lens epithelial cells', 'Thyroid gland cells']],\n",
    "    cmap='viridis')\n",
    "\n",
    "fig.savefig(os.path.join(output_path, 'cell_type_confusion_matrix.pdf'))"
   ]
  },
  {
   "cell_type": "code",
   "execution_count": null,
   "metadata": {},
   "outputs": [],
   "source": [
    "adata_measured_ref.var['mean'] = adata_measured_ref.X.mean(axis=0)\n",
    "adata_measured_ref.var['std'] = adata_measured_ref.X.std(axis=0)"
   ]
  },
  {
   "cell_type": "code",
   "execution_count": null,
   "metadata": {},
   "outputs": [],
   "source": [
    "query_ct = '8-1'\n",
    "projected_ct = 'Primordial germ cells'\n",
    "\n",
    "adata_selected_query = standardize_adata(adata[\n",
    "    (adata.obs['difflouvain'] == query_ct) & (adata.obs['projected_cell_type'] == projected_ct)\n",
    "    #(adata.obs['assignment'] == projected_ct])\n",
    "].copy())\n",
    "\n",
    "sc.pp.normalize_total(adata_selected_query, target_sum=1e4)\n",
    "sc.pp.log1p(adata_selected_query)\n",
    "\n",
    "adata_selected_ref = adata_measured_ref[\n",
    "    adata_measured_ref.obs['cell_type'] == projected_ct\n",
    "].copy()\n",
    "\n",
    "x_query = adata_selected_query.X.mean(axis=0) - adata_measured_ref.var['mean']\n",
    "x_query = x_query / np.maximum(adata_measured_ref.var['std'], 0.1)\n",
    "x_ref = adata_selected_ref.X.mean(axis=0) - adata_measured_ref.var['mean']\n",
    "x_ref = x_ref / np.maximum(adata_measured_ref.var['std'], 0.1)\n",
    "\n",
    "comp_df = pd.DataFrame({\n",
    "    'gene': list(adata_measured_ref.var['human_gene_name']),\n",
    "    'x_query': x_query,\n",
    "    'x_ref': x_ref,\n",
    "}).set_index('gene')\n",
    "\n",
    "comp_df['x_diff'] = comp_df['x_query'] - comp_df['x_ref']\n",
    "\n",
    "# Only keep the genes measured in the query dataset\n",
    "comp_df = comp_df[comp_df.index.isin(\n",
    "    gene_name_mapper.map_gene_names(adata.var.index, 'human', 'human', 'id', 'name'))].copy()"
   ]
  },
  {
   "cell_type": "code",
   "execution_count": null,
   "metadata": {},
   "outputs": [],
   "source": [
    "# Find the matched and unmatched genes\n",
    "double_pos_genes = comp_df[(comp_df['x_query'] > 2) & (comp_df['x_ref'] > 2)\n",
    "                           ].sort_values('x_ref', ascending=False)[:10].index.values\n",
    "\n",
    "q_pos_r_neg_genes = comp_df[(comp_df['x_query'] > 3) & (comp_df['x_ref'] < 1)\n",
    "                           ].sort_values('x_diff', ascending=False)[:10].index.values\n",
    "\n",
    "q_neg_r_pos_genes = comp_df[(comp_df['x_query'] < 1) & (comp_df['x_ref'] > 3)\n",
    "                            ].sort_values('x_diff', ascending=True)[:10].index.values\n",
    "\n",
    "print('Double positive genes:')\n",
    "display(double_pos_genes)\n",
    "print('Query positive, ref negative genes:')\n",
    "display(q_pos_r_neg_genes)\n",
    "print('Query negative, ref positive genes:')\n",
    "display(q_neg_r_pos_genes)"
   ]
  },
  {
   "cell_type": "code",
   "execution_count": null,
   "metadata": {},
   "outputs": [],
   "source": [
    "fig, ax = plt.subplots(figsize=(4, 4), dpi=300)\n",
    "\n",
    "ax.scatter(comp_df['x_query'], comp_df['x_ref'], s=1, rasterized=True)\n",
    "\n",
    "comp_df_to_show = comp_df[comp_df.index.isin(\n",
    "    np.concatenate([double_pos_genes, q_pos_r_neg_genes, q_neg_r_pos_genes]))]\n",
    "\n",
    "for i, row in comp_df_to_show.iterrows():\n",
    "    ax.text(row['x_query'], row['x_ref'], i, fontsize=8)\n",
    "\n",
    "ax.axhline(c='grey', lw=0.5)\n",
    "ax.axvline(c='grey', lw=0.5)\n",
    "ax.set_xlabel(query_ct + ' normalized expression', fontsize=10)\n",
    "ax.set_ylabel(projected_ct +  ' normalized expression', fontsize=10)\n",
    "\n",
    "#fig.savefig(os.path.join(output_path, f'{query_ct}_{projected_ct}_gene_expression_scatter.pdf'))\n",
    "import scipy.stats\n",
    "scipy.stats.pearsonr(x_query, x_ref)"
   ]
  },
  {
   "cell_type": "code",
   "execution_count": null,
   "metadata": {},
   "outputs": [],
   "source": [
    "genes_to_show = np.concatenate([double_pos_genes, q_pos_r_neg_genes, q_neg_r_pos_genes])\n",
    "fig = sc.pl.umap(adata_ref_named, color=genes_to_show, vmax=None, cmap='inferno_r')\n",
    "fig = sc.pl.umap(adata_named, color=genes_to_show, cmap='inferno_r')"
   ]
  },
  {
   "cell_type": "code",
   "execution_count": null,
   "metadata": {},
   "outputs": [],
   "source": [
    "all_gene_de_df = pd.read_parquet('cluster_DE_scores.parquet')\n",
    "all_gene_de_df = all_gene_de_df[all_gene_de_df['gene'].isin(adata_ref_named.var.index)].copy()\n",
    "all_gene_de_df = all_gene_de_df[all_gene_de_df['foreground_exp_frac'] > 0.3].copy()\n",
    "all_gene_de_df"
   ]
  },
  {
   "cell_type": "code",
   "execution_count": null,
   "metadata": {},
   "outputs": [],
   "source": [
    "top_marker_genes = []\n",
    "\n",
    "for c in np.unique(all_gene_de_df['difflouvain']):\n",
    "    top_marker_genes.extend(all_gene_de_df[\n",
    "        all_gene_de_df['difflouvain'] == c].sort_values('fc', ascending=False)['gene'].values[:3])\n",
    "    \n",
    "top_marker_genes = np.unique(top_marker_genes)"
   ]
  },
  {
   "cell_type": "code",
   "execution_count": null,
   "metadata": {},
   "outputs": [],
   "source": [
    "fig = sc.pl.umap(adata_ref_named, color=top_marker_genes, vmax=None, cmap='inferno_r', return_fig=True)\n",
    "fig = sc.pl.umap(adata_named, color=top_marker_genes, cmap='inferno_r', return_fig=True)"
   ]
  },
  {
   "cell_type": "code",
   "execution_count": null,
   "metadata": {},
   "outputs": [],
   "source": [
    "genes_to_show = ['POU5F1', 'VRTN', 'LIN28A', 'GRID2', \n",
    "                 'ADGRL4', 'ANGPT1', 'ANKRD1', 'CFTR', 'COL3A1', 'CUBN', \n",
    "                 'LRFN5', 'NTS', 'SHH', 'TSPEAR', 'TTC6']\n",
    "fig = sc.pl.umap(adata_ref_named, color=genes_to_show, vmax=None, cmap='inferno_r', return_fig=True)\n",
    "fig.savefig(os.path.join(output_path, f'mutual_exclusive_genes_global_umap.pdf'))\n",
    "\n",
    "fig = sc.pl.umap(adata_named, color=genes_to_show, cmap='inferno_r', return_fig=True)\n",
    "fig.savefig(os.path.join(output_path, f'mutual_exclusive_genes_query_umap.pdf'))"
   ]
  },
  {
   "cell_type": "code",
   "execution_count": null,
   "metadata": {},
   "outputs": [],
   "source": []
  }
 ],
 "metadata": {
  "kernelspec": {
   "display_name": "scmg",
   "language": "python",
   "name": "python3"
  },
  "language_info": {
   "codemirror_mode": {
    "name": "ipython",
    "version": 3
   },
   "file_extension": ".py",
   "mimetype": "text/x-python",
   "name": "python",
   "nbconvert_exporter": "python",
   "pygments_lexer": "ipython3",
   "version": "3.10.14"
  }
 },
 "nbformat": 4,
 "nbformat_minor": 2
}
