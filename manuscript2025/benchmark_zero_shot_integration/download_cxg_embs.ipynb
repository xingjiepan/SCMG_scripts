{
 "cells": [
  {
   "cell_type": "code",
   "execution_count": null,
   "metadata": {},
   "outputs": [],
   "source": [
    "import warnings\n",
    "from typing import List\n",
    "\n",
    "import anndata\n",
    "import cellxgene_census\n",
    "import numpy as np\n",
    "import scanpy as sc\n",
    "\n",
    "warnings.filterwarnings(\"ignore\")\n",
    "\n",
    "\n",
    "def remove_missing_embedding_cells(adata: anndata.AnnData, emb_names: List[str]):\n",
    "    \"\"\"Embeddings with missing data contain all NaN,\n",
    "    so we must find the intersection of non-NaN rows in the fetched embeddings\n",
    "    and subset the AnnData accordingly.\n",
    "    \"\"\"\n",
    "    filt = np.ones(adata.shape[0], dtype=\"bool\")\n",
    "    for key in emb_names:\n",
    "        nan_row_sums = np.sum(np.isnan(adata.obsm[key]), axis=1)\n",
    "        total_columns = adata.obsm[key].shape[1]\n",
    "        filt = filt & (nan_row_sums != total_columns)\n",
    "    adata = adata[filt].copy()\n",
    "\n",
    "    return adata"
   ]
  },
  {
   "cell_type": "code",
   "execution_count": null,
   "metadata": {},
   "outputs": [],
   "source": [
    "# human embeddings\n",
    "CENSUS_VERSION = \"2023-12-15\"\n",
    "EXPERIMENT_NAME = \"homo_sapiens\"\n",
    "\n",
    "# These are embeddings available to this Census version\n",
    "embedding_names = [\"geneformer\", \"scvi\", \"scgpt\", \"uce\"]\n",
    "census = cellxgene_census.open_soma(census_version=CENSUS_VERSION)"
   ]
  },
  {
   "cell_type": "code",
   "execution_count": null,
   "metadata": {},
   "outputs": [],
   "source": [
    "def download_dataset(dataset_id, dataset_name):\n",
    "    obs_value_filter = (\n",
    "     f\"dataset_id in ['{dataset_id}']\" \n",
    "     + \" and is_primary_data == True\")\n",
    "\n",
    "    obs_df = census[\"census_data\"][EXPERIMENT_NAME].obs.read(value_filter=obs_value_filter, column_names=[\"soma_joinid\"])\n",
    "    obs_df = obs_df.concat().to_pandas()\n",
    "\n",
    "    print(obs_df.shape[0], \"cells in\", obs_value_filter)\n",
    "\n",
    "    # Subset to 100K\n",
    "    n_subset_cells = 100000\n",
    "\n",
    "    print(\"Selecting\", min(n_subset_cells, obs_df.shape[0]), \"random cells\")\n",
    "    idx_rand = np.random.choice(obs_df.shape[0], size=min(n_subset_cells, obs_df.shape[0]), \n",
    "                                replace=False)\n",
    "    soma_joinids_subset = obs_df[\"soma_joinid\"].values[idx_rand].tolist()\n",
    "\n",
    "    # Let's get the AnnData\n",
    "    adata = cellxgene_census.get_anndata(\n",
    "        census=census,\n",
    "        organism=EXPERIMENT_NAME,\n",
    "        obs_coords=soma_joinids_subset,\n",
    "        obs_embeddings=embedding_names,\n",
    "    )\n",
    "\n",
    "    adata = remove_missing_embedding_cells(adata, embedding_names)\n",
    "    adata.write_h5ad(f'{dataset_name}.h5ad')"
   ]
  },
  {
   "cell_type": "code",
   "execution_count": null,
   "metadata": {},
   "outputs": [],
   "source": [
    "download_dataset('53d208b0-2cfd-4366-9866-c3c6114081bc', 'Tabula_Sapiens_HS_2022_all')"
   ]
  },
  {
   "cell_type": "code",
   "execution_count": null,
   "metadata": {},
   "outputs": [],
   "source": [
    "download_dataset('fd072bc3-2dfb-46f8-b4e3-467cb3223182', 'Suo_ImmuneDev_HS_2022_all')"
   ]
  },
  {
   "cell_type": "code",
   "execution_count": null,
   "metadata": {},
   "outputs": [],
   "source": [
    "download_dataset('f7c1c579-2dc0-47e2-ba19-8165c5a0e353', 'Cao_dev_HS_2020_all')"
   ]
  },
  {
   "cell_type": "code",
   "execution_count": null,
   "metadata": {},
   "outputs": [],
   "source": [
    "download_dataset('2adb1f8a-a6b1-4909-8ee8-484814e2d4bf', 'Han_HS_2020_all')"
   ]
  },
  {
   "cell_type": "code",
   "execution_count": null,
   "metadata": {},
   "outputs": [],
   "source": [
    "download_dataset('cd4c96bb-ad66-4e83-ba9e-a7df8790eb12', \n",
    "                 'Triana_BoneMarrow_HS_2021_healthy')"
   ]
  },
  {
   "cell_type": "code",
   "execution_count": null,
   "metadata": {},
   "outputs": [],
   "source": [
    "download_dataset('8c42cfd0-0b0a-46d5-910c-fc833d83c45e', \n",
    "                 'Travaglini_Lung_HS_2021_10x')"
   ]
  },
  {
   "cell_type": "code",
   "execution_count": null,
   "metadata": {},
   "outputs": [],
   "source": [
    "download_dataset('019c7af2-c827-4454-9970-44d5e39ce068', \n",
    "                 'Burclaff_intestine_HS_2022_all')"
   ]
  },
  {
   "cell_type": "code",
   "execution_count": null,
   "metadata": {},
   "outputs": [],
   "source": [
    "download_dataset('4ed927e9-c099-49af-b8ce-a2652d069333', \n",
    "                 'Eraslan_MultiTissue_HS_2022_all')"
   ]
  },
  {
   "cell_type": "code",
   "execution_count": null,
   "metadata": {},
   "outputs": [],
   "source": []
  }
 ],
 "metadata": {
  "kernelspec": {
   "display_name": "scmg",
   "language": "python",
   "name": "python3"
  },
  "language_info": {
   "codemirror_mode": {
    "name": "ipython",
    "version": 3
   },
   "file_extension": ".py",
   "mimetype": "text/x-python",
   "name": "python",
   "nbconvert_exporter": "python",
   "pygments_lexer": "ipython3",
   "version": "3.10.14"
  }
 },
 "nbformat": 4,
 "nbformat_minor": 2
}
