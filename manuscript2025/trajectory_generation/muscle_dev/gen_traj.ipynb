{
 "cells": [
  {
   "cell_type": "code",
   "execution_count": null,
   "metadata": {},
   "outputs": [],
   "source": [
    "%load_ext autoreload\n",
    "%autoreload 2\n",
    "%config InlineBackend.figure_format='retina'"
   ]
  },
  {
   "cell_type": "code",
   "execution_count": null,
   "metadata": {},
   "outputs": [],
   "source": [
    "import os\n",
    "\n",
    "import numpy as np\n",
    "import pandas as pd\n",
    "import matplotlib.pyplot as plt\n",
    "import seaborn as sns\n",
    "\n",
    "import scanpy as sc\n",
    "import umap\n",
    "\n",
    "import torch\n",
    "\n",
    "from scmg.model.contrastive_embedding import (CellEmbedder, \n",
    "                                        decode_cell_state_embedding)\n",
    "\n",
    "from scmg.model.manifold_generation import ConditionalDiffusionModel, generate_transition_cells\n",
    "from scmg.preprocessing.data_standardization import GeneNameMapper\n",
    "gene_name_mapper = GeneNameMapper()\n"
   ]
  },
  {
   "cell_type": "code",
   "execution_count": null,
   "metadata": {},
   "outputs": [],
   "source": [
    "import matplotlib\n",
    "import matplotlib.pyplot as plt\n",
    "import seaborn as sns\n",
    "\n",
    "plt.rcParams[\"figure.autolayout\"] = False\n",
    "matplotlib.rc('pdf', fonttype=42)\n",
    "plt.rcParams['font.family'] = 'FreeSans'\n",
    "sc.set_figure_params(vector_friendly=True, dpi_save=300)\n",
    "plt.rcParams['axes.grid'] = False"
   ]
  },
  {
   "cell_type": "code",
   "execution_count": null,
   "metadata": {},
   "outputs": [],
   "source": [
    "# Load the autoencoder model\n",
    "model_ce_path = '../../../contrastive_embedding/trained_embedder/'\n",
    "\n",
    "model_ce = torch.load(os.path.join(model_ce_path, 'model.pt'))\n",
    "model_ce.load_state_dict(torch.load(os.path.join(model_ce_path, 'best_state_dict.pth')))\n",
    "\n",
    "device = 'cuda:0'\n",
    "model_ce.to(device)\n",
    "model_ce.eval()"
   ]
  },
  {
   "cell_type": "code",
   "execution_count": null,
   "metadata": {},
   "outputs": [],
   "source": [
    "# Load the diffusion model\n",
    "model_d_path = '../../trained_diffusion_model'\n",
    "\n",
    "model_d = torch.load(os.path.join(model_d_path, 'model.pt'))\n",
    "model_d.load_state_dict(torch.load(os.path.join(model_d_path, 'best_state_dict.pth')))\n",
    "\n",
    "device = 'cuda:0'\n",
    "model_d.to(device)\n",
    "model_d.eval()"
   ]
  },
  {
   "cell_type": "code",
   "execution_count": null,
   "metadata": {},
   "outputs": [],
   "source": [
    "traj_cell_types = ['Epiblast', 'Primitive streak and adjacent ectoderm', 'Nascent mesoderm', 'Mixed mesoderm',\n",
    "                   'Paraxial mesoderm A', 'Dermomyotome', 'Myocytes', 'fast muscle cell']\n",
    "\n",
    "generated_cells = []\n",
    "cond_classes = []\n",
    "\n",
    "for i in range(len(traj_cell_types) - 1):\n",
    "    start_cell_type = traj_cell_types[i]\n",
    "    end_cell_type = traj_cell_types[i + 1]\n",
    "    \n",
    "    local_generated_cells, local_cond_classes = generate_transition_cells(model_d, start_cell_type, end_cell_type, 500)\n",
    "\n",
    "    for j in range(len(local_generated_cells)):\n",
    "        generated_cells.append(local_generated_cells[j])\n",
    "        cond_classes.append(local_cond_classes[j])\n",
    "\n",
    "generated_cells = np.array(generated_cells)\n",
    "cond_classes = np.array(cond_classes)"
   ]
  },
  {
   "cell_type": "code",
   "execution_count": null,
   "metadata": {},
   "outputs": [],
   "source": [
    "adata_generated = decode_cell_state_embedding(model_ce, generated_cells, ['Qiu_Organogenesis_MM_2022:all'] * len(generated_cells))\n",
    "adata_generated.obs['cell_type'] = cond_classes\n",
    "\n",
    "adata_generated.var.index = gene_name_mapper.map_gene_names(\n",
    "        adata_generated.var.index, 'human', 'human', 'id', 'name')\n",
    "adata_generated.var_names_make_unique()\n",
    "\n",
    "adata_generated"
   ]
  },
  {
   "cell_type": "code",
   "execution_count": null,
   "metadata": {},
   "outputs": [],
   "source": [
    "sc.pp.neighbors(adata_generated, use_rep='X_ce_latent', n_neighbors=50)\n",
    "\n",
    "sc.tl.paga(adata_generated, groups='cell_type')\n",
    "sc.pl.paga(adata_generated, plot=False)  \n",
    "sc.tl.umap(adata_generated, init_pos='paga', min_dist=0.5)\n",
    "\n",
    "#sc.tl.umap(adata_generated, min_dist=0.5)"
   ]
  },
  {
   "cell_type": "code",
   "execution_count": null,
   "metadata": {},
   "outputs": [],
   "source": [
    "adata_generated.obs['cell_type'].cat.categories"
   ]
  },
  {
   "cell_type": "code",
   "execution_count": null,
   "metadata": {},
   "outputs": [],
   "source": [
    "from sklearn.metrics.pairwise import pairwise_distances\n",
    "#terminal_ct = 'Nascent mesoderm'\n",
    "terminal_ct = 'Mixed mesoderm'\n",
    "\n",
    "ref_points = adata_generated[adata_generated.obs['cell_type'] == \n",
    "                        terminal_ct].obsm['X_ce_latent']\n",
    "\n",
    "dists = pairwise_distances(adata_generated.obsm['X_ce_latent'], ref_points,\n",
    "                                           metric='euclidean')\n",
    "adata_generated.obs['terminal_ct_dist'] = np.mean(dists, axis=1)"
   ]
  },
  {
   "cell_type": "code",
   "execution_count": null,
   "metadata": {},
   "outputs": [],
   "source": [
    "root_cell = adata_generated.obs[adata_generated.obs[\"cell_type\"] == \"Epiblast\"\n",
    "                    ].sort_values('terminal_ct_dist', ascending=False).iloc[0].name\n",
    "\n",
    "adata_generated.uns[\"iroot\"] = adata_generated.obs.index.get_loc(root_cell)\n",
    "\n",
    "sc.tl.dpt(adata_generated)\n",
    "adata_generated.obs['dpt_rele_rank'] = adata_generated.obs['dpt_pseudotime'].rank() / adata_generated.shape[0]"
   ]
  },
  {
   "cell_type": "code",
   "execution_count": null,
   "metadata": {},
   "outputs": [],
   "source": [
    "sc.pl.umap(adata_generated, color='INS')"
   ]
  },
  {
   "cell_type": "code",
   "execution_count": null,
   "metadata": {},
   "outputs": [],
   "source": [
    "import matplotlib.pyplot as plt\n",
    "\n",
    "fig, ax = plt.subplots(figsize=(3, 3), dpi=300)\n",
    "sc.pl.umap(adata_generated, color='cell_type',\n",
    "           legend_loc='on data', legend_fontsize=4, ax=ax, frameon=False, title='')\n",
    "\n",
    "fig.savefig('umap_cell_types.pdf', dpi=300)"
   ]
  },
  {
   "cell_type": "code",
   "execution_count": null,
   "metadata": {},
   "outputs": [],
   "source": [
    "import matplotlib.pyplot as plt\n",
    "\n",
    "fig, ax = plt.subplots(figsize=(3, 3), dpi=300)\n",
    "sc.pl.umap(adata_generated, color='dpt_rele_rank', title='pseudotime', cmap='jet', ax=ax, frameon=False)\n",
    "\n",
    "fig.savefig('umap_pseudotime.pdf', dpi=300)"
   ]
  },
  {
   "cell_type": "code",
   "execution_count": null,
   "metadata": {},
   "outputs": [],
   "source": [
    "ct_color_map = {ct : c for ct, c in \n",
    "    zip(adata_generated.obs['cell_type'].cat.categories,\n",
    "    adata_generated.uns['cell_type_colors'])}\n",
    "\n",
    "adata_generated.obs['cell_type_color'] = adata_generated.obs['cell_type'].map(\n",
    "    ct_color_map)"
   ]
  },
  {
   "cell_type": "code",
   "execution_count": null,
   "metadata": {},
   "outputs": [],
   "source": [
    "X_normalized = adata_generated.X / adata_generated.X.sum(axis=0)[None, :]\n",
    "adata_generated.var['mean'] = adata_generated.X.mean(axis=0)\n",
    "adata_generated.var['gene_mean_time'] = np.sum(X_normalized * adata_generated.obs['dpt_rele_rank'].values[:, None], axis=0)\n",
    "\n",
    "cell_order = adata_generated.obs['dpt_pseudotime'].sort_values().index.values\n",
    "gene_order = adata_generated.var['gene_mean_time'].sort_values().index.values\n",
    "adata_ordered = adata_generated[cell_order, gene_order].copy()\n",
    "\n",
    "#adata_ordered.X = (adata_ordered.X - gene_stats_df['mean'].values[None, :]) / np.maximum(0.1, gene_stats_df['std'].values)[None, :]\n",
    "adata_ordered.X = adata_ordered.X / adata_ordered.X.mean(axis=0)[None, :]"
   ]
  },
  {
   "cell_type": "code",
   "execution_count": null,
   "metadata": {},
   "outputs": [],
   "source": [
    "sc.pp.highly_variable_genes(adata_generated, n_top_genes=5000)\n",
    "adata_generated.var['max'] = adata_generated.X.max(axis=0)\n",
    "hv_genes = adata_generated.var_names[\n",
    "    adata_generated.var['highly_variable'] \n",
    "    #& (adata_generated.var['mean'] > 0.1)\n",
    "    #& (adata_generated.var['max'] > 1)\n",
    "]"
   ]
  },
  {
   "cell_type": "code",
   "execution_count": null,
   "metadata": {},
   "outputs": [],
   "source": [
    "fig, ax = plt.subplots(figsize=(4, 4), dpi=300)\n",
    "\n",
    "X = adata_ordered[:, adata_ordered.var.index.isin(hv_genes)].X.T\n",
    "\n",
    "ax.imshow(X, vmax=5, cmap='inferno_r', aspect=X.shape[1] / X.shape[0])\n",
    "ax.set_xticks(np.linspace(0, adata_ordered.shape[0], num=11), \n",
    "              [f'{x:.1f}' for x in np.linspace(0, 1, num=11)], \n",
    "              size=8)\n",
    "ax.set_yticks(np.linspace(0, X.shape[0], num=11), \n",
    "              np.linspace(0, X.shape[0], num=11, dtype=int),\n",
    "              size=8)\n",
    "\n",
    "ax.set_xlabel('pseudotime')\n",
    "ax.set_ylabel('genes')\n",
    "\n",
    "fig.savefig('gene_expression_heatmap.pdf')"
   ]
  },
  {
   "cell_type": "code",
   "execution_count": null,
   "metadata": {},
   "outputs": [],
   "source": [
    "adata_ordered[:, adata_ordered.var.index.isin(hv_genes)].var.to_csv('var_ordered.csv')"
   ]
  },
  {
   "cell_type": "code",
   "execution_count": null,
   "metadata": {},
   "outputs": [],
   "source": [
    "genes_to_print = adata_ordered[:, adata_ordered.var.index.isin(hv_genes)].var.index[1500:4000]\n",
    "\n",
    "n_per_line = 20\n",
    "\n",
    "for i in range(len(genes_to_print) // n_per_line + 1):\n",
    "    for j in range(n_per_line):\n",
    "        if i * n_per_line + j < len(genes_to_print):\n",
    "            print(\"'\" + genes_to_print[i * n_per_line + j] + \"'\", end=',')\n",
    "    print()"
   ]
  },
  {
   "cell_type": "code",
   "execution_count": null,
   "metadata": {},
   "outputs": [],
   "source": []
  }
 ],
 "metadata": {
  "kernelspec": {
   "display_name": "scmg",
   "language": "python",
   "name": "python3"
  },
  "language_info": {
   "codemirror_mode": {
    "name": "ipython",
    "version": 3
   },
   "file_extension": ".py",
   "mimetype": "text/x-python",
   "name": "python",
   "nbconvert_exporter": "python",
   "pygments_lexer": "ipython3",
   "version": "3.10.14"
  }
 },
 "nbformat": 4,
 "nbformat_minor": 2
}
