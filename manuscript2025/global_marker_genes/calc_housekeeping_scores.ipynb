{
 "cells": [
  {
   "cell_type": "code",
   "execution_count": null,
   "metadata": {},
   "outputs": [],
   "source": [
    "%load_ext autoreload\n",
    "%autoreload 2\n",
    "%config InlineBackend.figure_format='retina'"
   ]
  },
  {
   "cell_type": "code",
   "execution_count": null,
   "metadata": {},
   "outputs": [],
   "source": [
    "import os\n",
    "\n",
    "from tqdm import tqdm\n",
    "import numpy as np\n",
    "import pandas as pd\n",
    "import seaborn as sns\n",
    "import scipy.spatial\n",
    "\n",
    "import anndata\n",
    "import scanpy as sc\n",
    "import umap\n",
    "\n",
    "import torch\n",
    "from scmg.model.contrastive_embedding import CellEmbedder, embed_adata, decode_cell_state_embedding\n",
    "\n",
    "from scmg.preprocessing.data_standardization import GeneNameMapper\n",
    "gene_name_mapper = GeneNameMapper()\n"
   ]
  },
  {
   "cell_type": "code",
   "execution_count": null,
   "metadata": {},
   "outputs": [],
   "source": [
    "adata = sc.read_h5ad('../ref_cell_adata_measured_count.h5ad')\n",
    "\n",
    "adata"
   ]
  },
  {
   "cell_type": "code",
   "execution_count": null,
   "metadata": {},
   "outputs": [],
   "source": [
    "all_gene_de_df = pd.read_parquet('cell_type_DE_scores.parquet')\n",
    "all_gene_de_df"
   ]
  },
  {
   "cell_type": "code",
   "execution_count": null,
   "metadata": {},
   "outputs": [],
   "source": [
    "all_gene_de_df['expressed'] = ((all_gene_de_df['foreground_exp_frac'] > 0.1) \n",
    "                             & (all_gene_de_df['foreground_mean'] > 0.1))\n",
    "all_gene_de_df"
   ]
  },
  {
   "cell_type": "code",
   "execution_count": null,
   "metadata": {},
   "outputs": [],
   "source": [
    "expressed_gene_df = all_gene_de_df[all_gene_de_df['expressed']]\n",
    "expressed_gene_df"
   ]
  },
  {
   "cell_type": "code",
   "execution_count": null,
   "metadata": {},
   "outputs": [],
   "source": [
    "housekeeping_score_df = adata.var.copy()\n",
    "housekeeping_score_df['expressed_cell_type_count'] = expressed_gene_df['gene'].value_counts()\n",
    "housekeeping_score_df['expressed_cell_type_count'].fillna(0, inplace=True)\n",
    "\n",
    "n_cell_types = len(adata.obs['cell_type'].cat.categories)\n",
    "housekeeping_score_df['housekeeping_score'] = housekeeping_score_df['expressed_cell_type_count'] / n_cell_types\n",
    "\n",
    "housekeeping_score_df.to_parquet('housekeeping_score.parquet')\n",
    "housekeeping_score_df"
   ]
  },
  {
   "cell_type": "code",
   "execution_count": null,
   "metadata": {},
   "outputs": [],
   "source": [
    "housekeeping_score_df['housekeeping_score'].hist(bins=100)"
   ]
  },
  {
   "cell_type": "code",
   "execution_count": null,
   "metadata": {},
   "outputs": [],
   "source": []
  }
 ],
 "metadata": {
  "kernelspec": {
   "display_name": "scmg",
   "language": "python",
   "name": "python3"
  },
  "language_info": {
   "codemirror_mode": {
    "name": "ipython",
    "version": 3
   },
   "file_extension": ".py",
   "mimetype": "text/x-python",
   "name": "python",
   "nbconvert_exporter": "python",
   "pygments_lexer": "ipython3",
   "version": "3.10.14"
  }
 },
 "nbformat": 4,
 "nbformat_minor": 2
}
