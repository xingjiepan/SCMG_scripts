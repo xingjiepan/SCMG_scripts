{
 "cells": [
  {
   "cell_type": "code",
   "execution_count": null,
   "metadata": {},
   "outputs": [],
   "source": [
    "%load_ext autoreload\n",
    "%autoreload 2\n",
    "%config InlineBackend.figure_format='retina'"
   ]
  },
  {
   "cell_type": "code",
   "execution_count": null,
   "metadata": {},
   "outputs": [],
   "source": [
    "import os\n",
    "\n",
    "from tqdm import tqdm\n",
    "import numpy as np\n",
    "import pandas as pd\n",
    "import seaborn as sns\n",
    "import scipy.spatial\n",
    "\n",
    "import anndata\n",
    "import scanpy as sc\n",
    "import umap\n",
    "\n",
    "import torch\n",
    "from scmg.model.contrastive_embedding import CellEmbedder, embed_adata, decode_cell_state_embedding\n",
    "\n",
    "from scmg.preprocessing.data_standardization import GeneNameMapper\n",
    "gene_name_mapper = GeneNameMapper()\n"
   ]
  },
  {
   "cell_type": "code",
   "execution_count": null,
   "metadata": {},
   "outputs": [],
   "source": [
    "from sklearn.metrics.pairwise import pairwise_distances\n",
    "\n",
    "def get_neighbor_mask(adata, ct):\n",
    "\n",
    "    ct_mask = adata.obs['cell_type'] == ct\n",
    "\n",
    "    dist_mtx = pairwise_distances(adata.obsm['X_scmg'], adata[ct_mask].obsm['X_scmg'],\n",
    "                                        metric='euclidean', n_jobs=32)\n",
    "\n",
    "    radius = 2\n",
    "    weights = np.exp(-(dist_mtx / radius) ** 2).mean(axis=1)\n",
    "    \n",
    "    return np.logical_and(weights > 0.2, ~ct_mask)"
   ]
  },
  {
   "cell_type": "code",
   "execution_count": null,
   "metadata": {},
   "outputs": [],
   "source": [
    "adata = sc.read_h5ad('../ref_cell_adata_measured_count.h5ad')\n",
    "adata.X = adata.X.astype(np.float32)\n",
    "sc.pp.normalize_total(adata, target_sum=1e4)\n",
    "\n",
    "adata"
   ]
  },
  {
   "cell_type": "code",
   "execution_count": null,
   "metadata": {},
   "outputs": [],
   "source": [
    "cell_types = np.unique(adata.obs['cell_type'])\n",
    "\n",
    "adata_ct = anndata.AnnData(X=np.zeros((len(cell_types), adata.shape[1]), dtype=np.float32), \n",
    "                           obs=pd.DataFrame({'cell_type': cell_types}).set_index('cell_type'), \n",
    "                           var=adata.var.copy())\n",
    "adata_ct.obs['cell_count'] = 0\n",
    "adata_ct.obs['neighbor_cell_count'] = 0\n",
    "\n",
    "adata_ct.layers['foreground_mean'] = np.zeros((len(cell_types), adata.shape[1]), dtype=np.float32)\n",
    "adata_ct.layers['background_mean'] = np.zeros((len(cell_types), adata.shape[1]), dtype=np.float32)\n",
    "adata_ct.layers['neighbor_mean'] = np.zeros((len(cell_types), adata.shape[1]), dtype=np.float32)\n",
    "adata_ct.layers['foreground_exp_frac'] = np.zeros((len(cell_types), adata.shape[1]), dtype=np.float32)\n",
    "adata_ct.layers['background_exp_frac'] = np.zeros((len(cell_types), adata.shape[1]), dtype=np.float32)\n",
    "adata_ct.layers['neighbor_exp_frac'] = np.zeros((len(cell_types), adata.shape[1]), dtype=np.float32)\n",
    "adata_ct.layers['pval'] = np.zeros((len(cell_types), adata.shape[1]), dtype=np.float32)\n",
    "\n",
    "adata_ct"
   ]
  },
  {
   "cell_type": "code",
   "execution_count": null,
   "metadata": {},
   "outputs": [],
   "source": [
    "from scipy.stats import ttest_ind\n",
    "import statsmodels.stats.multitest\n",
    "\n",
    "for i in tqdm(range(adata_ct.shape[0])):\n",
    "    ct = adata_ct.obs.index[i]\n",
    "\n",
    "    adata_foreground = adata[adata.obs['cell_type'] == ct].copy()\n",
    "    adata_ct.X[i] = adata_foreground.X.mean(axis=0)\n",
    "\n",
    "    neighbor_mask = get_neighbor_mask(adata, ct)\n",
    "    adata_neighbor = adata[neighbor_mask].copy()\n",
    "    adata_ct.obs['cell_count'].iloc[i] = adata_foreground.shape[0]\n",
    "    adata_ct.obs['neighbor_cell_count'].iloc[i] = adata_neighbor.shape[0]\n",
    "\n",
    "    adata_ct.layers['foreground_mean'][i] = adata_foreground.X.mean(axis=0)\n",
    "    adata_ct.layers['background_mean'][i] = adata.X.mean(axis=0)\n",
    "    adata_ct.layers['foreground_exp_frac'][i] = (adata_foreground.X > 0).mean(axis=0)\n",
    "    adata_ct.layers['background_exp_frac'][i] = (adata.X > 0).mean(axis=0)\n",
    "\n",
    "    if adata_neighbor.shape[0] > 0:\n",
    "        adata_ct.layers['neighbor_mean'][i] = adata_neighbor.X.mean(axis=0)\n",
    "        adata_ct.layers['neighbor_exp_frac'][i] = (adata_neighbor.X > 0).mean(axis=0)\n",
    "\n",
    "    pvals = []\n",
    "    for j in range(adata_ct.shape[1]):\n",
    "        result = ttest_ind(adata_foreground.X[:, j], adata.X[:, j], \n",
    "                 alternative='greater', equal_var=False)\n",
    "        pvals.append(result.pvalue)\n",
    "\n",
    "    adata_ct.layers['pval'][i] = pvals\n",
    "\n",
    "adata_ct.layers['pval'] = np.nan_to_num(adata_ct.layers['pval'], nan=1)\n",
    "adata_ct.layers['pval_adj'] = statsmodels.stats.multitest.multipletests(\n",
    "    adata_ct.layers['pval'].reshape(-1), method='fdr_bh'\n",
    "    )[1].reshape(adata_ct.layers['pval'].shape)\n",
    "\n",
    "adata_ct.write_h5ad('adata_cell_type_DE_scores.h5ad')"
   ]
  },
  {
   "cell_type": "code",
   "execution_count": null,
   "metadata": {},
   "outputs": [],
   "source": [
    "all_gene_de_df = pd.DataFrame({\n",
    "    'cell_type' : np.repeat(adata_ct.obs.index, adata_ct.shape[1]),\n",
    "    'neighbor_cell_count' : np.repeat(adata_ct.obs['neighbor_cell_count'], adata_ct.shape[1]),\n",
    "    'gene' : np.tile(adata_ct.var.index, adata_ct.shape[0]),\n",
    "    'human_gene_name' : np.tile(adata_ct.var['human_gene_name'], adata_ct.shape[0]),\n",
    "    'foreground_mean' : adata_ct.layers['foreground_mean'].reshape(-1),\n",
    "    'background_mean' : adata_ct.layers['background_mean'].reshape(-1),\n",
    "    'neighbor_mean' : adata_ct.layers['neighbor_mean'].reshape(-1),\n",
    "    'fc'  : (adata_ct.layers['foreground_mean'] / (adata_ct.layers['background_mean'] + 1e-9)).reshape(-1),\n",
    "    'foreground_exp_frac' : adata_ct.layers['foreground_exp_frac'].reshape(-1),\n",
    "    'background_exp_frac' : adata_ct.layers['background_exp_frac'].reshape(-1),\n",
    "    'neighbor_exp_frac' : adata_ct.layers['neighbor_exp_frac'].reshape(-1),\n",
    "    'pval' : adata_ct.layers['pval'].reshape(-1),\n",
    "    'pval_adj' : adata_ct.layers['pval_adj'].reshape(-1),\n",
    "})\n",
    "\n",
    "all_gene_de_df.to_parquet('cell_type_DE_scores.parquet', index=False)\n",
    "all_gene_de_df"
   ]
  },
  {
   "cell_type": "code",
   "execution_count": null,
   "metadata": {},
   "outputs": [],
   "source": [
    "all_gene_de_df = pd.read_parquet('cell_type_DE_scores.parquet')\n",
    "all_gene_de_df"
   ]
  },
  {
   "cell_type": "code",
   "execution_count": null,
   "metadata": {},
   "outputs": [],
   "source": [
    "marker_gene_df = all_gene_de_df[all_gene_de_df['pval_adj'] < 0.01]\n",
    "marker_gene_df = marker_gene_df[marker_gene_df['fc'] > 5]\n",
    "marker_gene_df = marker_gene_df[marker_gene_df['foreground_exp_frac'] > 0.2]\n",
    "marker_gene_df = marker_gene_df[marker_gene_df['foreground_exp_frac'] > 3 * marker_gene_df['background_exp_frac']].copy()\n",
    "marker_gene_df = marker_gene_df.sort_values('fc', ascending=False)\n",
    "marker_gene_df"
   ]
  },
  {
   "cell_type": "code",
   "execution_count": null,
   "metadata": {},
   "outputs": [],
   "source": [
    "marker_gene_df[marker_gene_df['cell_type'] == 'Epiblast'][:30]"
   ]
  },
  {
   "cell_type": "code",
   "execution_count": null,
   "metadata": {},
   "outputs": [],
   "source": [
    "marker_gene_df[marker_gene_df['human_gene_name'] == 'IKZF1']"
   ]
  },
  {
   "cell_type": "code",
   "execution_count": null,
   "metadata": {},
   "outputs": [],
   "source": [
    "all_gene_de_df\n",
    "\n",
    "all_gene_de_df[all_gene_de_df['human_gene_name'] == 'POU5F1'].sort_values('fc', ascending=False)[:20]"
   ]
  },
  {
   "cell_type": "code",
   "execution_count": null,
   "metadata": {},
   "outputs": [],
   "source": [
    "marker_gene_count_map = marker_gene_df['cell_type'].value_counts().to_dict()\n",
    "adata.obs['marker_gene_count'] = adata.obs['cell_type'].map(marker_gene_count_map).fillna(0)\n",
    "adata.obs['n_exp_genes'] = np.sum(adata.X > 0, axis=1)\n",
    "\n",
    "sc.pl.umap(adata, color=['n_exp_genes'], vmax=6000)\n",
    "sc.pl.umap(adata, color=['marker_gene_count'], vmax=500)"
   ]
  },
  {
   "cell_type": "code",
   "execution_count": null,
   "metadata": {},
   "outputs": [],
   "source": [
    "marker_gene_df['cell_type'].value_counts().hist(bins=30)"
   ]
  },
  {
   "cell_type": "code",
   "execution_count": null,
   "metadata": {},
   "outputs": [],
   "source": []
  }
 ],
 "metadata": {
  "kernelspec": {
   "display_name": "scmg",
   "language": "python",
   "name": "python3"
  },
  "language_info": {
   "codemirror_mode": {
    "name": "ipython",
    "version": 3
   },
   "file_extension": ".py",
   "mimetype": "text/x-python",
   "name": "python",
   "nbconvert_exporter": "python",
   "pygments_lexer": "ipython3",
   "version": "3.10.14"
  }
 },
 "nbformat": 4,
 "nbformat_minor": 2
}
