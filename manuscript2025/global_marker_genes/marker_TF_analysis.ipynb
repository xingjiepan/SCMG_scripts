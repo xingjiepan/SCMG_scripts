{
 "cells": [
  {
   "cell_type": "code",
   "execution_count": null,
   "metadata": {},
   "outputs": [],
   "source": [
    "%load_ext autoreload\n",
    "%autoreload 2\n",
    "%config InlineBackend.figure_format='retina'"
   ]
  },
  {
   "cell_type": "code",
   "execution_count": null,
   "metadata": {},
   "outputs": [],
   "source": [
    "import os\n",
    "\n",
    "from tqdm import tqdm\n",
    "import numpy as np\n",
    "import pandas as pd\n",
    "import seaborn as sns\n",
    "import scipy.spatial\n",
    "\n",
    "import anndata\n",
    "import scanpy as sc\n",
    "import umap\n",
    "\n",
    "import torch\n",
    "from scmg.model.contrastive_embedding import CellEmbedder, embed_adata, decode_cell_state_embedding\n",
    "\n",
    "from scmg.preprocessing.data_standardization import GeneNameMapper\n",
    "gene_name_mapper = GeneNameMapper()\n"
   ]
  },
  {
   "cell_type": "code",
   "execution_count": null,
   "metadata": {},
   "outputs": [],
   "source": [
    "import matplotlib\n",
    "import matplotlib.pyplot as plt\n",
    "\n",
    "plt.rcParams[\"figure.autolayout\"] = False\n",
    "matplotlib.rc('pdf', fonttype=42)\n",
    "plt.rcParams['font.family'] = 'FreeSans'\n",
    "sc.set_figure_params(vector_friendly=True, dpi_save=300)"
   ]
  },
  {
   "cell_type": "code",
   "execution_count": null,
   "metadata": {},
   "outputs": [],
   "source": [
    "output_path = 'marker_TF_plots'\n",
    "os.makedirs(output_path, exist_ok=True)"
   ]
  },
  {
   "cell_type": "code",
   "execution_count": null,
   "metadata": {},
   "outputs": [],
   "source": [
    "adata = sc.read_h5ad('../ref_cell_adata_measured_count.h5ad')\n",
    "adata.X = adata.X.astype(np.float32)\n",
    "sc.pp.normalize_total(adata, target_sum=1e4)\n",
    "sc.pp.log1p(adata)\n",
    "adata"
   ]
  },
  {
   "cell_type": "code",
   "execution_count": null,
   "metadata": {},
   "outputs": [],
   "source": [
    "adata_named = adata.copy()\n",
    "adata_named.var.index = list(adata_named.var['human_gene_name'])"
   ]
  },
  {
   "cell_type": "code",
   "execution_count": null,
   "metadata": {},
   "outputs": [],
   "source": [
    "fig, ax = plt.subplots(figsize=(4, 4), dpi=300)\n",
    "indices = list(adata_named.obs.index.values)\n",
    "np.random.shuffle(indices)\n",
    "\n",
    "sc.pl.umap(adata_named[indices], color='cell_type', \n",
    "           legend_fontsize=0, legend_loc='on data',\n",
    "           ax=ax, s=1, frameon=False, palette='tab20')\n",
    "fig.savefig(os.path.join(output_path, 'umap_cell_type.pdf'))"
   ]
  },
  {
   "cell_type": "code",
   "execution_count": null,
   "metadata": {},
   "outputs": [],
   "source": [
    "all_gene_de_df = pd.read_parquet('cell_type_DE_scores.parquet')\n",
    "all_gene_de_df"
   ]
  },
  {
   "cell_type": "code",
   "execution_count": null,
   "metadata": {},
   "outputs": [],
   "source": [
    "marker_gene_df = all_gene_de_df[all_gene_de_df['pval_adj'] < 0.01]\n",
    "marker_gene_df = marker_gene_df[marker_gene_df['fc'] > 5]\n",
    "marker_gene_df = marker_gene_df[marker_gene_df['foreground_exp_frac'] > 0.2]\n",
    "marker_gene_df = marker_gene_df[marker_gene_df['foreground_exp_frac'] > 3 * marker_gene_df['background_exp_frac']].copy()\n",
    "marker_gene_df = marker_gene_df.sort_values('fc', ascending=False)\n",
    "marker_gene_df"
   ]
  },
  {
   "cell_type": "code",
   "execution_count": null,
   "metadata": {},
   "outputs": [],
   "source": [
    "tf_df = pd.read_csv('tf_genes_Tfome.csv')\n",
    "tf_df"
   ]
  },
  {
   "cell_type": "code",
   "execution_count": null,
   "metadata": {},
   "outputs": [],
   "source": [
    "marker_tf_df = marker_gene_df[marker_gene_df['human_gene_name'].isin(tf_df['TF_name'])]\n",
    "marker_tf_df"
   ]
  },
  {
   "cell_type": "code",
   "execution_count": null,
   "metadata": {},
   "outputs": [],
   "source": [
    "marker_gene_count_map = marker_gene_df['cell_type'].value_counts().to_dict()\n",
    "adata.obs['marker_gene_count'] = adata.obs['cell_type'].map(marker_gene_count_map).fillna(0)\n",
    "marker_tf_count_map = marker_tf_df['cell_type'].value_counts().to_dict()\n",
    "adata.obs['marker_tf_count'] = adata.obs['cell_type'].map(marker_tf_count_map).fillna(0)\n",
    "adata.obs['n_exp_genes'] = np.sum(adata.X > 0, axis=1)"
   ]
  },
  {
   "cell_type": "code",
   "execution_count": null,
   "metadata": {},
   "outputs": [],
   "source": [
    "fig, ax = plt.subplots(figsize=(4, 4), dpi=300)\n",
    "sc.pl.umap(adata, color='n_exp_genes', \n",
    "           vmax=None, cmap='gnuplot', ax=ax)\n",
    "fig.savefig(os.path.join(output_path, 'umap_n_exp_genes.pdf'))\n",
    "\n",
    "fig, ax = plt.subplots(figsize=(4, 4), dpi=300)\n",
    "sc.pl.umap(adata, color='marker_gene_count', \n",
    "           vmax=None, cmap='gnuplot', ax=ax)\n",
    "fig.savefig(os.path.join(output_path, 'umap_marker_gene_count.pdf'))\n",
    "\n",
    "fig, ax = plt.subplots(figsize=(4, 4), dpi=300)\n",
    "sc.pl.umap(adata, color='marker_tf_count', \n",
    "           vmax=None, cmap='gnuplot', ax=ax)\n",
    "fig.savefig(os.path.join(output_path, 'umap_marker_tf_count.pdf'))"
   ]
  },
  {
   "cell_type": "code",
   "execution_count": null,
   "metadata": {},
   "outputs": [],
   "source": [
    "marker_gene_df['cell_type'].value_counts().hist(bins=30)"
   ]
  },
  {
   "cell_type": "code",
   "execution_count": null,
   "metadata": {},
   "outputs": [],
   "source": [
    "fig, ax = plt.subplots(figsize=(4, 4), dpi=300)\n",
    "\n",
    "marker_tf_df['cell_type'].value_counts().hist(bins=np.arange(56) + 0.5, color='grey', ax=ax)\n",
    "ax.grid(False)\n",
    "ax.set_xlabel('Number of marker TFs')\n",
    "ax.set_ylabel('Number of cell types')\n",
    "fig.savefig(os.path.join(output_path, 'hist_marker_tf_count.pdf'))"
   ]
  },
  {
   "cell_type": "code",
   "execution_count": null,
   "metadata": {},
   "outputs": [],
   "source": [
    "marker_tf_df['cell_type'].value_counts()"
   ]
  },
  {
   "cell_type": "code",
   "execution_count": null,
   "metadata": {},
   "outputs": [],
   "source": [
    "marker_tf_df[marker_tf_df['cell_type'] == 'erythrocyte'].sort_values('fc', ascending=False)"
   ]
  },
  {
   "cell_type": "code",
   "execution_count": null,
   "metadata": {},
   "outputs": [],
   "source": [
    "cell_type = 'erythrocyte'\n",
    "genes = ['KLF1', 'GATA1', 'NFE2', 'GFI1B', 'TAL1', 'LYL1']\n",
    "\n",
    "fig = sc.pl.umap(adata_named, color=genes,\n",
    "   vmax=None, cmap='inferno_r',\n",
    "   return_fig=True)\n",
    "\n",
    "fig.savefig(os.path.join(output_path, f'umap_marker_tfs_{cell_type}.pdf'), dpi=300)"
   ]
  },
  {
   "cell_type": "code",
   "execution_count": null,
   "metadata": {},
   "outputs": [],
   "source": [
    "all_gene_de_df[\n",
    "    (all_gene_de_df['human_gene_name'] == 'TAL1')\n",
    "    #&(all_gene_de_df['cell_type'] == 'Epiblast')\n",
    "    ].sort_values('fc', ascending=False)[:20]"
   ]
  },
  {
   "cell_type": "code",
   "execution_count": null,
   "metadata": {},
   "outputs": [],
   "source": []
  }
 ],
 "metadata": {
  "kernelspec": {
   "display_name": "scmg",
   "language": "python",
   "name": "python3"
  },
  "language_info": {
   "codemirror_mode": {
    "name": "ipython",
    "version": 3
   },
   "file_extension": ".py",
   "mimetype": "text/x-python",
   "name": "python",
   "nbconvert_exporter": "python",
   "pygments_lexer": "ipython3",
   "version": "3.10.14"
  }
 },
 "nbformat": 4,
 "nbformat_minor": 2
}
