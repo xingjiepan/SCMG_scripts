{
 "cells": [
  {
   "cell_type": "code",
   "execution_count": null,
   "metadata": {},
   "outputs": [],
   "source": [
    "import os\n",
    "import json\n",
    "\n",
    "import numpy as np\n",
    "import pandas as pd\n",
    "import matplotlib.pyplot as plt\n",
    "import seaborn as sns\n",
    "import scipy.stats\n",
    "from tqdm import tqdm\n",
    "\n",
    "import anndata\n",
    "import scanpy as sc\n",
    "\n",
    "from scmg.preprocessing.data_standardization import GeneNameMapper\n",
    "\n",
    "gene_name_mapper = GeneNameMapper()"
   ]
  },
  {
   "cell_type": "code",
   "execution_count": null,
   "metadata": {},
   "outputs": [],
   "source": [
    "adata = sc.read_h5ad('/GPUData_xingjie/SCMG/hESC_perturb_seq/adata_single_gene_pert.h5ad')\n",
    "adata.obs_names_make_unique()\n",
    "adata"
   ]
  },
  {
   "cell_type": "code",
   "execution_count": null,
   "metadata": {},
   "outputs": [],
   "source": [
    "sc.pp.normalize_total(adata, target_sum=1e4)\n",
    "adata"
   ]
  },
  {
   "cell_type": "code",
   "execution_count": null,
   "metadata": {},
   "outputs": [],
   "source": [
    "feature_calls = np.unique(adata.obs['feature_call'])"
   ]
  },
  {
   "cell_type": "code",
   "execution_count": null,
   "metadata": {},
   "outputs": [],
   "source": [
    "kd_dict = {\n",
    "    'feature_call' : [],\n",
    "    'perturbed_gene' : [],\n",
    "    'n_cells' : [],\n",
    "    'mean_exp_ctl' : [],\n",
    "    'mean_exp_perturbed' : [],\n",
    "    'fc' : [],\n",
    "    'pval' : []\n",
    "}\n",
    "\n",
    "adata_ctl = adata[adata.obs['perturbed_gene'] == 'non-targeting']\n",
    "\n",
    "for feature in feature_calls:\n",
    "    adata_feature = adata[adata.obs['feature_call'] == feature]\n",
    "    perturbed_gene = adata_feature.obs['perturbed_gene'].values[0]\n",
    "\n",
    "    kd_dict['feature_call'].append(feature)\n",
    "    kd_dict['perturbed_gene'].append(perturbed_gene)\n",
    "    kd_dict['n_cells'].append(adata_feature.n_obs)\n",
    "\n",
    "    if perturbed_gene not in adata.var_names:\n",
    "        kd_dict['mean_exp_ctl'].append(np.nan)\n",
    "        kd_dict['mean_exp_perturbed'].append(np.nan)\n",
    "        kd_dict['fc'].append(np.nan)\n",
    "        kd_dict['pval'].append(np.nan)\n",
    "\n",
    "    else:\n",
    "        control_exps = adata_ctl[:, perturbed_gene\n",
    "                             ].X.toarray().reshape(-1)\n",
    "        perturbed_exps = adata_feature[:, perturbed_gene\n",
    "                               ].X.toarray().reshape(-1)\n",
    "        \n",
    "        # Calculate the fold-change and p-val for the perturbed gene\n",
    "        mean_exp_ctl = np.mean(control_exps)\n",
    "        mean_exp_perturbed = np.mean(perturbed_exps)\n",
    "        pval = scipy.stats.mannwhitneyu(control_exps, perturbed_exps, alternative='greater')[1]\n",
    "\n",
    "        kd_dict['mean_exp_ctl'].append(mean_exp_ctl)\n",
    "        kd_dict['mean_exp_perturbed'].append(mean_exp_perturbed)\n",
    "        kd_dict['fc'].append(mean_exp_perturbed / mean_exp_ctl)\n",
    "        kd_dict['pval'].append(pval)\n",
    "\n",
    "    print(kd_dict['feature_call'][-1], kd_dict['perturbed_gene'][-1], kd_dict['n_cells'][-1], \n",
    "          kd_dict['mean_exp_ctl'][-1], kd_dict['mean_exp_perturbed'][-1], kd_dict['fc'][-1], kd_dict['pval'][-1])\n",
    "    \n",
    "\n",
    "kd_df = pd.DataFrame(kd_dict).set_index('feature_call')\n",
    "kd_df.to_csv('KD_efficiency.csv')"
   ]
  },
  {
   "cell_type": "code",
   "execution_count": null,
   "metadata": {},
   "outputs": [],
   "source": [
    "kd_df = pd.read_csv('KD_efficiency.csv', index_col=0)\n",
    "kd_df"
   ]
  },
  {
   "cell_type": "code",
   "execution_count": null,
   "metadata": {},
   "outputs": [],
   "source": [
    "kd_df['fc'].hist(bins=50, range=(0, 2))\n",
    "plt.xlabel('Target gene expression fold-change')\n",
    "plt.ylabel('Number of guide RNAs')"
   ]
  },
  {
   "cell_type": "code",
   "execution_count": null,
   "metadata": {},
   "outputs": [],
   "source": [
    "plt.scatter(np.log2(kd_df['fc']), -np.log10(kd_df['pval']), s=1)"
   ]
  },
  {
   "cell_type": "code",
   "execution_count": null,
   "metadata": {},
   "outputs": [],
   "source": [
    "significant_kd_df = kd_df[(kd_df['pval'] < 0.05) & (kd_df['fc'] < 0.9)]\n",
    "significant_kd_df"
   ]
  },
  {
   "cell_type": "code",
   "execution_count": null,
   "metadata": {},
   "outputs": [],
   "source": [
    "gene_significant_guide_count = significant_kd_df['perturbed_gene'].value_counts()\n",
    "gene_significant_guide_count"
   ]
  },
  {
   "cell_type": "code",
   "execution_count": null,
   "metadata": {},
   "outputs": [],
   "source": [
    "count_of_counts = gene_significant_guide_count.value_counts()\n",
    "\n",
    "plt.bar(count_of_counts.index, count_of_counts.values)\n",
    "plt.xlabel('Number of functional guides')\n",
    "plt.ylabel('Number of genes')"
   ]
  },
  {
   "cell_type": "code",
   "execution_count": null,
   "metadata": {},
   "outputs": [],
   "source": []
  }
 ],
 "metadata": {
  "kernelspec": {
   "display_name": "scmg",
   "language": "python",
   "name": "python3"
  },
  "language_info": {
   "codemirror_mode": {
    "name": "ipython",
    "version": 3
   },
   "file_extension": ".py",
   "mimetype": "text/x-python",
   "name": "python",
   "nbconvert_exporter": "python",
   "pygments_lexer": "ipython3",
   "version": "3.10.14"
  }
 },
 "nbformat": 4,
 "nbformat_minor": 2
}
