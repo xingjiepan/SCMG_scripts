{
 "cells": [
  {
   "cell_type": "code",
   "execution_count": null,
   "metadata": {},
   "outputs": [],
   "source": [
    "%load_ext autoreload\n",
    "%autoreload 2\n",
    "%config InlineBackend.figure_format='retina'"
   ]
  },
  {
   "cell_type": "code",
   "execution_count": null,
   "metadata": {},
   "outputs": [],
   "source": [
    "import os\n",
    "import json\n",
    "\n",
    "from tqdm import tqdm\n",
    "import numpy as np\n",
    "import scipy.spatial\n",
    "import pandas as pd\n",
    "import matplotlib.pyplot as plt\n",
    "import seaborn as sns\n",
    "\n",
    "import anndata\n",
    "import scanpy as sc"
   ]
  },
  {
   "cell_type": "code",
   "execution_count": null,
   "metadata": {},
   "outputs": [],
   "source": [
    "import matplotlib\n",
    "import matplotlib.pyplot as plt\n",
    "import seaborn as sns\n",
    "\n",
    "plt.rcParams[\"figure.autolayout\"] = False\n",
    "matplotlib.rc('pdf', fonttype=42)\n",
    "plt.rcParams['font.family'] = 'FreeSans'\n",
    "sc.set_figure_params(vector_friendly=True, dpi_save=300)\n",
    "plt.rcParams['axes.grid'] = False"
   ]
  },
  {
   "cell_type": "code",
   "execution_count": null,
   "metadata": {},
   "outputs": [],
   "source": [
    "plot_output_path = 'hesc_sc_analysis_plots'\n",
    "os.makedirs(plot_output_path, exist_ok=True)"
   ]
  },
  {
   "cell_type": "code",
   "execution_count": null,
   "metadata": {},
   "outputs": [],
   "source": [
    "adata = sc.read_h5ad('/GPUData_xingjie/SCMG/hESC_perturb_seq/adata_single_gene_pert.h5ad')\n",
    "adata.obs_names_make_unique()\n",
    "adata"
   ]
  },
  {
   "cell_type": "code",
   "execution_count": null,
   "metadata": {},
   "outputs": [],
   "source": [
    "l2_obs_df = pd.read_csv('adata_obs_l2.csv', index_col=0)\n",
    "adata.obs['leiden_l1'] = l2_obs_df['leiden_l1'].astype(str)\n",
    "adata.obs['cluster'] = l2_obs_df['cluster'].astype(str)\n",
    "adata.obsm['X_umap'] = l2_obs_df[['umap_x', 'umap_y']].values\n",
    "adata"
   ]
  },
  {
   "cell_type": "code",
   "execution_count": null,
   "metadata": {},
   "outputs": [],
   "source": [
    "fig, ax = plt.subplots(figsize=(10, 10), dpi=200)\n",
    "\n",
    "sc.pl.umap(adata, color='cluster', legend_loc='on data', ax=ax, legend_fontsize=5, s=1, show=False)\n",
    "\n",
    "fig.savefig(f'{plot_output_path}/hesc_sc_all_clusters_umap.pdf', bbox_inches='tight')"
   ]
  },
  {
   "cell_type": "code",
   "execution_count": null,
   "metadata": {},
   "outputs": [],
   "source": [
    "pd.DataFrame({\n",
    "    'cluster' : list(adata.obs['cluster'].cat.categories),\n",
    "    'color' : adata.uns['cluster_colors']\n",
    "}).to_csv('cluster_colors.csv', index=False)"
   ]
  },
  {
   "cell_type": "code",
   "execution_count": null,
   "metadata": {},
   "outputs": [],
   "source": [
    "non_target_frac_dict = {\n",
    "    'cluster' : [],\n",
    "    'color' : [],\n",
    "    'total_count' : [],\n",
    "    'non_target_count' : [],\n",
    "}\n",
    "\n",
    "for i in range(len(adata.obs['cluster'].cat.categories)):\n",
    "    cluster = adata.obs['cluster'].cat.categories[i]\n",
    "    non_target_frac_dict['cluster'].append(cluster)\n",
    "    non_target_frac_dict['color'].append(adata.uns['cluster_colors'][i])\n",
    "    non_target_frac_dict['total_count'].append(np.sum(adata.obs['cluster'] == cluster))\n",
    "    non_target_frac_dict['non_target_count'].append(np.sum((adata.obs['cluster'] == cluster)\n",
    "                                                         & (adata.obs['perturbed_gene'] == 'non-targeting')))\n",
    "    \n",
    "non_target_frac_df = pd.DataFrame(non_target_frac_dict)\n",
    "non_target_frac_df['non_target_frac'] = non_target_frac_df['non_target_count'] / non_target_frac_df['total_count']\n",
    "global_nt_frac = np.sum(non_target_frac_df['non_target_count']) / np.sum(non_target_frac_df['total_count'])\n",
    "non_target_frac_df['enrichment'] = non_target_frac_df['non_target_frac'] / global_nt_frac\n",
    "non_target_frac_df = non_target_frac_df.sort_values('enrichment', ascending=False)"
   ]
  },
  {
   "cell_type": "code",
   "execution_count": null,
   "metadata": {},
   "outputs": [],
   "source": [
    "fig, ax = plt.subplots(figsize=(5, 5), dpi=200)\n",
    "\n",
    "ax.scatter(non_target_frac_df['total_count'], non_target_frac_df['enrichment'], c=non_target_frac_df['color'], s=10)\n",
    "ax.axhline(1, color='grey', linestyle='--')\n",
    "ax.set_xscale('log')\n",
    "ax.set_xticks([1e1, 1e2, 1e3, 1e4, 1e5], [10, 100, 1000, 10000, 100000])\n",
    "ax.set_xlabel('Cluster size')\n",
    "ax.set_ylabel('Enrichment of non-targeting cells')\n",
    "\n",
    "fig.savefig(f'{plot_output_path}/hesc_cluster_size_nt_enrichment_scatter.pdf', bbox_inches='tight')"
   ]
  },
  {
   "cell_type": "code",
   "execution_count": null,
   "metadata": {},
   "outputs": [],
   "source": [
    "targeting_umap_df = pd.read_csv('targeting_umap.csv', index_col=0)\n",
    "\n",
    "adata_targeting = adata[targeting_umap_df.index.values].copy()\n",
    "adata_targeting.obsm['X_umap'] = targeting_umap_df[['umap_targeting_x', 'umap_targeting_y']].values\n",
    "\n",
    "fig, ax = plt.subplots(figsize=(10, 10), dpi=200)\n",
    "\n",
    "sc.pl.umap(adata_targeting, color='cluster', legend_loc='on data', ax=ax, legend_fontsize=5, s=1, show=False)\n",
    "\n",
    "fig.savefig(f'{plot_output_path}/hesc_sc_targeting_clusters_umap.pdf', bbox_inches='tight')"
   ]
  },
  {
   "cell_type": "code",
   "execution_count": null,
   "metadata": {},
   "outputs": [],
   "source": [
    "adata_targeting.var[\"MT\"] = adata_targeting.var_names.str.startswith(\"MT-\")\n",
    "sc.pp.calculate_qc_metrics(\n",
    "    adata_targeting, qc_vars=[\"MT\"], percent_top=None, log1p=False, inplace=True\n",
    ")\n",
    "adata_targeting"
   ]
  },
  {
   "cell_type": "code",
   "execution_count": null,
   "metadata": {},
   "outputs": [],
   "source": [
    "fig, ax = plt.subplots(figsize=(5, 5), dpi=100)\n",
    "\n",
    "sc.pl.umap(adata_targeting, color='total_counts', \n",
    "           ax=ax, show=False, vmax=30000)\n",
    "\n",
    "fig.savefig(f'{plot_output_path}/hesc_sc_targeting_total_counts_umap.pdf')"
   ]
  },
  {
   "cell_type": "code",
   "execution_count": null,
   "metadata": {},
   "outputs": [],
   "source": [
    "fig, ax = plt.subplots(figsize=(5, 5), dpi=100)\n",
    "\n",
    "sc.pl.umap(adata_targeting, color='n_genes_by_counts', \n",
    "           ax=ax, show=False, vmax=7000)\n",
    "\n",
    "fig.savefig(f'{plot_output_path}/hesc_sc_targeting_n_genes_by_counts_umap.pdf')"
   ]
  },
  {
   "cell_type": "code",
   "execution_count": null,
   "metadata": {},
   "outputs": [],
   "source": [
    "fig, ax = plt.subplots(figsize=(5, 5), dpi=100)\n",
    "\n",
    "sc.pl.umap(adata_targeting, color='pct_counts_MT', \n",
    "           ax=ax, show=False, vmax=16)\n",
    "\n",
    "fig.savefig(f'{plot_output_path}/hesc_sc_targeting_pct_counts_MT_umap.pdf')"
   ]
  },
  {
   "cell_type": "code",
   "execution_count": null,
   "metadata": {},
   "outputs": [],
   "source": [
    "sc.pp.normalize_total(adata_targeting, target_sum=1e4)\n",
    "sc.pp.log1p(adata_targeting)"
   ]
  },
  {
   "cell_type": "code",
   "execution_count": null,
   "metadata": {},
   "outputs": [],
   "source": [
    "fig, ax = plt.subplots(figsize=(5, 5), dpi=100)\n",
    "\n",
    "sc.pl.umap(adata_targeting, color='POU5F1', \n",
    "           ax=ax, show=False, cmap='inferno_r')\n",
    "\n",
    "fig.savefig(f'{plot_output_path}/hesc_sc_targeting_POU5F1_umap.pdf')"
   ]
  },
  {
   "cell_type": "code",
   "execution_count": null,
   "metadata": {},
   "outputs": [],
   "source": [
    "sc.pl.umap(adata_targeting, color=['DOCK1', 'CLTC', 'EPHA7'], vmax=None,\n",
    "           cmap='inferno_r')"
   ]
  },
  {
   "cell_type": "code",
   "execution_count": null,
   "metadata": {},
   "outputs": [],
   "source": [
    "dg_cluster_df = pd.read_csv('../pseudo_bulk_analysis/clustering/downstream_gene_clusters_hESC.csv', index_col=0)"
   ]
  },
  {
   "cell_type": "code",
   "execution_count": null,
   "metadata": {},
   "outputs": [],
   "source": [
    "adata_t_scaled = adata_targeting.copy()\n",
    "sc.pp.scale(adata_t_scaled, max_value=10)"
   ]
  },
  {
   "cell_type": "code",
   "execution_count": null,
   "metadata": {},
   "outputs": [],
   "source": [
    "ds_gene_module = 17\n",
    "selected_genes = dg_cluster_df[dg_cluster_df['leiden'] == ds_gene_module]['gene_name'].values\n",
    "\n",
    "adata_t_scaled.obs['mean_z_score'] = adata_t_scaled[:, adata_t_scaled.var.index.isin(selected_genes)].X.mean(axis=1)\n",
    "\n",
    "\n",
    "fig, ax = plt.subplots(figsize=(4, 4), dpi=300)\n",
    "sc.pl.umap(adata_t_scaled, color='mean_z_score', cmap='seismic', vmin=-3, vmax=3, \n",
    "           title=f'anti-pluripotency module z-score', ax=ax)\n",
    "#fig.savefig(f'{plot_output_path}/hESC_anti-pluripotency_module_targeting_umap.pdf')"
   ]
  },
  {
   "cell_type": "code",
   "execution_count": null,
   "metadata": {},
   "outputs": [],
   "source": [
    "selected_genes = ['TARS']\n",
    "\n",
    "adata_t_scaled.obs['selected_genes'] = (adata_t_scaled.obs['perturbed_gene'].isin(selected_genes)).astype(int)\n",
    "\n",
    "fig, ax = plt.subplots(figsize=(4, 4), dpi=300)\n",
    "sc.pl.umap(adata_t_scaled, color='selected_genes', cmap='Reds', ax=ax,\n",
    "       title=f'non-targeting', \n",
    "       show=False)\n",
    "\n",
    "#fig.savefig(f'{plot_output_path}/hESC_perturb_DBR1_targeting_umap.pdf')"
   ]
  },
  {
   "cell_type": "code",
   "execution_count": null,
   "metadata": {},
   "outputs": [],
   "source": [
    "fig, ax = plt.subplots(1, 1, figsize=(4, 4), dpi=200)\n",
    "sc.pl.umap(adata_t_scaled, ax=ax, show=False)\n",
    "sc.pl.umap(adata_t_scaled[adata_t_scaled.obs['perturbed_gene'].isin([\n",
    "    'DDX21'\n",
    "])],\n",
    "           color='feature_call', ax=ax, show=False, s=5, palette='rainbow')"
   ]
  },
  {
   "cell_type": "code",
   "execution_count": null,
   "metadata": {},
   "outputs": [],
   "source": [
    "selected_genes = [\n",
    "   'MED19', 'SP1', 'SUPT20H', 'NANOG', 'SOX2', #'POU5F1',\n",
    " \n",
    "]\n",
    "\n",
    "fig, ax = plt.subplots(1, 1, figsize=(4, 4), dpi=200)\n",
    "sc.pl.umap(adata_t_scaled, ax=ax, show=False)\n",
    "sc.pl.umap(adata_t_scaled[adata_t_scaled.obs['perturbed_gene'].isin(selected_genes)], \n",
    "           color='perturbed_gene', ax=ax, show=False, s=5, palette='jet')"
   ]
  },
  {
   "cell_type": "code",
   "execution_count": null,
   "metadata": {},
   "outputs": [],
   "source": [
    "selected_genes = [\n",
    "   'EIF1AX', 'EIF2B2', 'EIF2S2', 'EIF2S3', 'EIF4A2', 'EIF4E', 'EIF4G1', \n",
    "    'EIF5A', 'EIF5B',\n",
    "    'EIF3J', 'EIF3I', 'EIF3A', 'EIF3C', 'EIF3CL', 'EIF3D', 'EIF3F',\n",
    "    'EIF3M', 'EIF3G', 'EIF4A1', 'EIF3H',\n",
    "    'EIF4G2', 'EIF2B3', 'EIF2B4', 'EIF2B5', 'EIF6'\n",
    " \n",
    "]\n",
    "\n",
    "fig, ax = plt.subplots(1, 1, figsize=(4, 4), dpi=200)\n",
    "sc.pl.umap(adata_t_scaled, ax=ax, show=False)\n",
    "sc.pl.umap(adata_t_scaled[adata_t_scaled.obs['perturbed_gene'].isin(selected_genes)], \n",
    "           color='perturbed_gene', ax=ax, show=False, s=5, palette='jet')\n",
    "\n",
    "fig.savefig(f'{plot_output_path}/hesc_sc_targeting_EIFs_umap.pdf')"
   ]
  },
  {
   "cell_type": "code",
   "execution_count": null,
   "metadata": {},
   "outputs": [],
   "source": []
  }
 ],
 "metadata": {
  "kernelspec": {
   "display_name": "scmg",
   "language": "python",
   "name": "python3"
  },
  "language_info": {
   "codemirror_mode": {
    "name": "ipython",
    "version": 3
   },
   "file_extension": ".py",
   "mimetype": "text/x-python",
   "name": "python",
   "nbconvert_exporter": "python",
   "pygments_lexer": "ipython3",
   "version": "3.10.14"
  }
 },
 "nbformat": 4,
 "nbformat_minor": 2
}
