{
 "cells": [
  {
   "cell_type": "code",
   "execution_count": null,
   "metadata": {},
   "outputs": [],
   "source": [
    "%load_ext autoreload\n",
    "%autoreload 2\n",
    "%config InlineBackend.figure_format='retina'"
   ]
  },
  {
   "cell_type": "code",
   "execution_count": null,
   "metadata": {},
   "outputs": [],
   "source": [
    "import os\n",
    "import json\n",
    "\n",
    "from tqdm import tqdm\n",
    "import numpy as np\n",
    "import scipy.spatial\n",
    "import pandas as pd\n",
    "import matplotlib.pyplot as plt\n",
    "import seaborn as sns\n",
    "\n",
    "import anndata\n",
    "import scanpy as sc"
   ]
  },
  {
   "cell_type": "code",
   "execution_count": null,
   "metadata": {},
   "outputs": [],
   "source": [
    "plot_output_path = 'hesc_sc_analysis_plots'\n",
    "os.makedirs(plot_output_path, exist_ok=True)"
   ]
  },
  {
   "cell_type": "code",
   "execution_count": null,
   "metadata": {},
   "outputs": [],
   "source": [
    "adata = sc.read_h5ad('/GPUData_xingjie/SCMG/hESC_perturb_seq/adata_single_gene_pert.h5ad')\n",
    "adata.obs_names_make_unique()\n",
    "adata"
   ]
  },
  {
   "cell_type": "code",
   "execution_count": null,
   "metadata": {},
   "outputs": [],
   "source": [
    "l2_obs_df = pd.read_csv('adata_obs_l2.csv', index_col=0)\n",
    "adata.obs['leiden_l1'] = l2_obs_df['leiden_l1'].astype(str)\n",
    "adata.obs['cluster'] = l2_obs_df['cluster'].astype(str)\n",
    "adata.obsm['X_umap'] = l2_obs_df[['umap_x', 'umap_y']].values\n",
    "adata"
   ]
  },
  {
   "cell_type": "code",
   "execution_count": null,
   "metadata": {},
   "outputs": [],
   "source": [
    "sc.pp.normalize_total(adata, target_sum=1e4)\n",
    "sc.pp.log1p(adata)\n",
    "sc.pp.scale(adata, max_value=10)"
   ]
  },
  {
   "cell_type": "code",
   "execution_count": null,
   "metadata": {},
   "outputs": [],
   "source": [
    "targeting_umap_df = pd.read_csv('targeting_umap.csv', index_col=0)\n",
    "adata_targeting = adata[targeting_umap_df.index.values].copy()\n",
    "#sc.pp.normalize_total(adata_targeting, target_sum=1e4)\n",
    "#sc.pp.log1p(adata_targeting)\n",
    "#sc.pp.scale(adata_targeting, max_value=10)"
   ]
  },
  {
   "cell_type": "code",
   "execution_count": null,
   "metadata": {},
   "outputs": [],
   "source": [
    "class_anno_map = {\n",
    "'0_0' : 'non-targeting enriched',\n",
    "'10_0' : 'non-targeting like',\n",
    "'11_0' : 'upregulation of lipid biosynthesis',\n",
    "'12_0' : 'upregulation of stress response',\n",
    "'13_0' : 'non-targeting enriched',\n",
    "'14_0' : 'pert cell cycle',\n",
    "'14_1' : 'pert spliceosome',\n",
    "'14_2' : 'pert mRNA-3 processing',\n",
    "'14_3' : 'pert mRNA transcription',\n",
    "'14_4' : 'pert mRNA transcription',\n",
    "'14_5' : 'pert mRNA transcription',\n",
    "'15_0' : 'germ layer differentiation',\n",
    "'15_1' : 'germ layer differentiation',\n",
    "'15_10' : 'germ layer differentiation',\n",
    "'15_11' : 'germ layer differentiation',\n",
    "'15_12' : 'germ layer differentiation',\n",
    "'15_13' : 'germ layer differentiation',\n",
    "'15_14' : 'mesenchymal differentiation',\n",
    "'15_2' : 'germ layer differentiation',\n",
    "'15_3' : 'germ layer differentiation',\n",
    "'15_4' : 'germ layer differentiation',\n",
    "'15_5' : 'non-targeting enriched',\n",
    "'15_6' : 'germ layer differentiation',\n",
    "'15_7' : 'germ layer differentiation',\n",
    "'15_8' : 'germ layer differentiation',\n",
    "'15_9' : 'germ layer differentiation',\n",
    "'16_0' : 'low UMI count',\n",
    "'16_1' : 'low UMI count',\n",
    "'16_2' : 'low UMI count',\n",
    "'16_3' : 'low UMI count',\n",
    "'16_4' : 'low UMI count',\n",
    "'16_5' : 'low UMI count',\n",
    "'16_6' : 'low UMI count',\n",
    "'16_7' : 'pert DBR1',\n",
    "'17_0' : 'non-targeting enriched',\n",
    "'18_0' : 'pert translation',\n",
    "'18_1' : 'pert mTOR signaling',\n",
    "'18_10' : 'pert translation',\n",
    "'18_11' : 'pert translation',\n",
    "'18_12' : 'pert translation',\n",
    "'18_2' : 'pert translation',\n",
    "'18_3' : 'pert translation',\n",
    "'18_4' : 'pert translation',\n",
    "'18_5' : 'pert mTOR signaling',\n",
    "'18_6' : 'pert translation',\n",
    "'18_7' : 'pert translation',\n",
    "'18_8' : 'pert translation',\n",
    "'18_9' : 'pert translation',\n",
    "'19_0' : 'non-targeting enriched',\n",
    "'19_1' : 'non-targeting like',\n",
    "'1_0' : 'non-targeting enriched',\n",
    "'20_0' : 'pert mRNA transcription',\n",
    "'20_1' : 'pert mRNA transcription',\n",
    "'20_10' : 'pert mRNA deadenylation',\n",
    "'20_11' : 'pert mRNA transcription',\n",
    "'20_2' : 'pert GNB2L1',\n",
    "'20_3' : 'pert mRNA deadenylation',\n",
    "'20_4' : 'pert mRNA transcription',\n",
    "'20_5' : 'pert mRNA transcription',\n",
    "'20_6' : 'pert mRNA transcription',\n",
    "'20_7' : 'pert mRNA transcription',\n",
    "'20_8' : 'pert mRNA transcription',\n",
    "'20_9' : 'pert mRNA transcription',\n",
    "'21_0' : 'non-targeting enriched',\n",
    "'21_1' : 'pert DBR1',\n",
    "'22_0' : 'non-targeting enriched',\n",
    "'23_0' : 'pert ubiquitin E3 ligase',\n",
    "'23_1' : 'pert protein neddylation',\n",
    "'24_0' : 'low mito-genes',\n",
    "'24_1' : 'low mito-genes',\n",
    "'24_2' : 'upregulation of stress response',\n",
    "'25_0' : 'mesenchymal differentiation',\n",
    "'25_1' : 'mesenchymal differentiation',\n",
    "'25_2' : 'mesenchymal differentiation',\n",
    "'25_3' : 'low UMI count',\n",
    "'25_4' : 'mesenchymal differentiation',\n",
    "'26_0' : 'pert DBR1',\n",
    "'27_0' : 'pert RNA methylation',\n",
    "'28_0' : 'pert DNA damage checkpoint',\n",
    "'28_1' : 'pert DNA damage checkpoint',\n",
    "'2_0' : 'non-targeting enriched',\n",
    "'3_0' : 'non-targeting enriched',\n",
    "'4_0' : 'non-targeting enriched',\n",
    "'5_0' : 'non-targeting enriched',\n",
    "'6_0' : 'non-targeting enriched',\n",
    "'7_0' : 'non-targeting enriched',\n",
    "'8_0' : 'non-targeting enriched',\n",
    "'9_0' : 'non-targeting enriched',\n",
    "'9_1' : 'non-targeting enriched',\n",
    "}\n",
    "\n",
    "cluster_annotation_map = {\n",
    "    k : class_anno_map[k] + '_' + k for k in class_anno_map.keys()\n",
    "}\n",
    "\n",
    "adata_targeting.obs['cluster_name'] = adata_targeting.obs['cluster'].map(cluster_annotation_map)"
   ]
  },
  {
   "cell_type": "code",
   "execution_count": null,
   "metadata": {},
   "outputs": [],
   "source": [
    "dg_cluster_df = pd.read_csv('../pseudo_bulk_analysis/clustering/downstream_gene_clusters_hESC.csv', index_col=0)\n",
    "dg_cluster_df"
   ]
  },
  {
   "cell_type": "code",
   "execution_count": null,
   "metadata": {},
   "outputs": [],
   "source": [
    "clusters = np.unique(adata_targeting.obs['cluster_name'])\n",
    "gene_modules = np.unique(dg_cluster_df['leiden'])\n",
    "mean_exp_df = pd.DataFrame(index=clusters, columns=gene_modules, dtype=float)\n",
    "\n",
    "\n",
    "for c in tqdm(clusters):\n",
    "    adata_c = adata_targeting[adata_targeting.obs['cluster_name'] == c]\n",
    "\n",
    "    for g in gene_modules:\n",
    "        genes = list(dg_cluster_df[dg_cluster_df['leiden'] == g]['gene_name'])\n",
    "        mean_exp = adata_c[:, genes].X.mean()\n",
    "        mean_exp_df.loc[c, g] = mean_exp"
   ]
  },
  {
   "cell_type": "code",
   "execution_count": null,
   "metadata": {},
   "outputs": [],
   "source": [
    "clsmap = sns.clustermap(mean_exp_df, cmap='seismic', center=0, figsize=(20, 20), vmax=3, vmin=-3, cbar_kws={'label': 'z-score gene module expression'})\n",
    "clsmap.ax_heatmap.set_xlabel('pseudo-bulk readout gene module')\n",
    "clsmap.ax_heatmap.set_ylabel('single-cell cluster')\n",
    "\n",
    "clsmap.savefig(os.path.join(plot_output_path, 'hESC_sc_cluster_pseduobulk_gene_module_expression.pdf'))"
   ]
  },
  {
   "cell_type": "code",
   "execution_count": null,
   "metadata": {},
   "outputs": [],
   "source": []
  }
 ],
 "metadata": {
  "kernelspec": {
   "display_name": "scmg",
   "language": "python",
   "name": "python3"
  },
  "language_info": {
   "codemirror_mode": {
    "name": "ipython",
    "version": 3
   },
   "file_extension": ".py",
   "mimetype": "text/x-python",
   "name": "python",
   "nbconvert_exporter": "python",
   "pygments_lexer": "ipython3",
   "version": "3.10.14"
  }
 },
 "nbformat": 4,
 "nbformat_minor": 2
}
