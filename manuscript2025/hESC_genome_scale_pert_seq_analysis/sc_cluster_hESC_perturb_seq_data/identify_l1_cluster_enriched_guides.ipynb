{
 "cells": [
  {
   "cell_type": "code",
   "execution_count": null,
   "metadata": {},
   "outputs": [],
   "source": [
    "%load_ext autoreload\n",
    "%autoreload 2\n",
    "%config InlineBackend.figure_format='retina'"
   ]
  },
  {
   "cell_type": "code",
   "execution_count": null,
   "metadata": {},
   "outputs": [],
   "source": [
    "import os\n",
    "import json\n",
    "\n",
    "from tqdm import tqdm\n",
    "import numpy as np\n",
    "import scipy.spatial\n",
    "import pandas as pd\n",
    "import matplotlib.pyplot as plt\n",
    "import seaborn as sns\n",
    "\n",
    "import anndata\n",
    "import scanpy as sc"
   ]
  },
  {
   "cell_type": "code",
   "execution_count": null,
   "metadata": {},
   "outputs": [],
   "source": [
    "import scipy.stats\n",
    "import statsmodels.stats.multitest\n",
    "\n",
    "def adjust_p_value_matrix_by_BH(p_val_mtx):\n",
    "    '''Adjust the p-values in a matrix by the Benjamini/Hochberg method.\n",
    "    The matrix should be symmetric.\n",
    "    '''\n",
    "    p_val_sequential_bh = statsmodels.stats.multitest.multipletests(\n",
    "        p_val_mtx.reshape(-1), method='fdr_bh')[1]\n",
    "\n",
    "            \n",
    "    return p_val_sequential_bh.reshape(p_val_mtx.shape)"
   ]
  },
  {
   "cell_type": "code",
   "execution_count": null,
   "metadata": {},
   "outputs": [],
   "source": [
    "obs_df = pd.read_csv('adata_obs_l2.csv', index_col=0)\n",
    "print(len(obs_df))\n",
    "\n",
    "# Keep cells with enough UMI\n",
    "obs_df = obs_df[(obs_df['num_umis'] > 20)]\n",
    "obs_df"
   ]
  },
  {
   "cell_type": "code",
   "execution_count": null,
   "metadata": {},
   "outputs": [],
   "source": [
    "# Keep the perturbations with enough cells\n",
    "pg_counts = obs_df['feature_call'].value_counts()\n",
    "obs_df = obs_df[obs_df['feature_call'].isin(pg_counts[pg_counts > 20].index)]\n",
    "obs_df"
   ]
  },
  {
   "cell_type": "code",
   "execution_count": null,
   "metadata": {},
   "outputs": [],
   "source": [
    "output_path = 'enrichment_results'\n",
    "os.makedirs(output_path, exist_ok=True)\n",
    "all_clusters = np.unique(obs_df['leiden_l1'])\n",
    "\n",
    "positive_count_df = pd.DataFrame(\n",
    "    index=all_clusters,\n",
    "    columns=np.unique(obs_df['feature_call']),\n",
    "    dtype=int) \n",
    "log2fc_df = pd.DataFrame(\n",
    "    index=all_clusters,\n",
    "    columns=np.unique(obs_df['feature_call']),\n",
    "    dtype=float)\n",
    "pval_df = log2fc_df.copy()\n",
    "\n",
    "for cluster_of_interest in log2fc_df.index:\n",
    "    print(cluster_of_interest)\n",
    "\n",
    "    for pg_of_interest in tqdm(log2fc_df.columns):\n",
    "        contigency_table = pd.crosstab(obs_df['leiden_l1'] == cluster_of_interest, \n",
    "                            obs_df['feature_call'] == pg_of_interest)\n",
    "        if contigency_table.shape != (2, 2):\n",
    "            print(contigency_table.shape)\n",
    "            continue\n",
    "\n",
    "        results = scipy.stats.chi2_contingency(contigency_table)\n",
    "        pval_df.loc[cluster_of_interest, pg_of_interest] = results[1] \n",
    "\n",
    "        positive_count_df.loc[cluster_of_interest, pg_of_interest] = contigency_table.values[1, 1]\n",
    "        log2fc_df.loc[cluster_of_interest, pg_of_interest] = np.log2(\n",
    "            contigency_table.values[1, 1] / results.expected_freq[1, 1] + 1e-6)\n",
    "\n",
    "positive_count_df.to_parquet(os.path.join(output_path, 'l1_c_enrich_guide_positive_count.parquet'))\n",
    "log2fc_df.to_parquet(os.path.join(output_path, 'l1_c_enrich_guide_log2fc.parquet'))\n",
    "pval_df.to_parquet(os.path.join(output_path, 'l1_c_enrich_guide_pval.parquet'))    "
   ]
  },
  {
   "cell_type": "code",
   "execution_count": null,
   "metadata": {},
   "outputs": [],
   "source": [
    "guide_to_gene_map = {guide : gene for guide, gene in zip(obs_df['feature_call'], obs_df['perturbed_gene'])}\n",
    "\n",
    "cep_dict = {\n",
    "    'cluster': [],\n",
    "    'feature_call': [],\n",
    "    'perturbed_gene': [],\n",
    "    'positive_count': [],\n",
    "    'log2fc': [],\n",
    "    'pval': []\n",
    "}\n",
    "\n",
    "for cluster in positive_count_df.index:\n",
    "    for pg in positive_count_df.columns:\n",
    "        cep_dict['cluster'].append(cluster)\n",
    "        cep_dict['feature_call'].append(pg)\n",
    "        cep_dict['perturbed_gene'].append(guide_to_gene_map[pg])\n",
    "        cep_dict['positive_count'].append(positive_count_df.loc[cluster, pg])\n",
    "        cep_dict['log2fc'].append(log2fc_df.loc[cluster, pg])\n",
    "        cep_dict['pval'].append(pval_df.loc[cluster, pg])\n",
    "\n",
    "cep_df = pd.DataFrame(cep_dict)\n",
    "cep_df['pval_adj'] = statsmodels.stats.multitest.multipletests(\n",
    "        cep_df['pval'].values, method='fdr_bh')[1]\n",
    "\n",
    "cep_df.to_parquet(os.path.join(output_path, 'l1_c_enrich_guide.parquet'))\n",
    "\n",
    "cep_df"
   ]
  },
  {
   "cell_type": "code",
   "execution_count": null,
   "metadata": {},
   "outputs": [],
   "source": [
    "cep_df[(cep_df['log2fc'] > 1) \n",
    "     & (cep_df['pval_adj'] < 0.01)\n",
    "     & (cep_df['positive_count'] > 3)\n",
    "     & (cep_df['cluster'].isin([15]))\n",
    "].value_counts('perturbed_gene')"
   ]
  },
  {
   "cell_type": "code",
   "execution_count": null,
   "metadata": {},
   "outputs": [],
   "source": [
    "for cluster in cep_df['cluster'].unique():\n",
    "    print(cluster)\n",
    "    pg_counts = cep_df[(cep_df['log2fc'] > 1) \n",
    "         & (cep_df['pval_adj'] < 0.01)\n",
    "         & (cep_df['positive_count'] > 3)\n",
    "         & (cep_df['cluster'].isin([cluster]))\n",
    "        ].value_counts('perturbed_gene')\n",
    "    print(pg_counts.value_counts())\n",
    "    print()"
   ]
  },
  {
   "cell_type": "code",
   "execution_count": null,
   "metadata": {},
   "outputs": [],
   "source": []
  }
 ],
 "metadata": {
  "kernelspec": {
   "display_name": "scmg",
   "language": "python",
   "name": "python3"
  },
  "language_info": {
   "codemirror_mode": {
    "name": "ipython",
    "version": 3
   },
   "file_extension": ".py",
   "mimetype": "text/x-python",
   "name": "python",
   "nbconvert_exporter": "python",
   "pygments_lexer": "ipython3",
   "version": "3.10.14"
  }
 },
 "nbformat": 4,
 "nbformat_minor": 2
}
