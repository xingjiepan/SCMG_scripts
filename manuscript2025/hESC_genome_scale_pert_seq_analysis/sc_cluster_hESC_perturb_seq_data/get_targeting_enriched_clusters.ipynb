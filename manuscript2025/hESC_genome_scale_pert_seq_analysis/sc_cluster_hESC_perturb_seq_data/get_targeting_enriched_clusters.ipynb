{
 "cells": [
  {
   "cell_type": "code",
   "execution_count": null,
   "metadata": {},
   "outputs": [],
   "source": [
    "%load_ext autoreload\n",
    "%autoreload 2\n",
    "%config InlineBackend.figure_format='retina'"
   ]
  },
  {
   "cell_type": "code",
   "execution_count": null,
   "metadata": {},
   "outputs": [],
   "source": [
    "import os\n",
    "import json\n",
    "\n",
    "from tqdm import tqdm\n",
    "import numpy as np\n",
    "import scipy.spatial\n",
    "import pandas as pd\n",
    "import matplotlib.pyplot as plt\n",
    "import seaborn as sns\n",
    "\n",
    "import anndata\n",
    "import scanpy as sc"
   ]
  },
  {
   "cell_type": "code",
   "execution_count": null,
   "metadata": {},
   "outputs": [],
   "source": [
    "import matplotlib\n",
    "import matplotlib.pyplot as plt\n",
    "import seaborn as sns\n",
    "\n",
    "plt.rcParams[\"figure.autolayout\"] = False\n",
    "matplotlib.rc('pdf', fonttype=42)\n",
    "plt.rcParams['font.family'] = 'FreeSans'\n",
    "sc.set_figure_params(vector_friendly=True, dpi_save=300)\n",
    "plt.rcParams['axes.grid'] = False"
   ]
  },
  {
   "cell_type": "code",
   "execution_count": null,
   "metadata": {},
   "outputs": [],
   "source": [
    "plot_output_path = 'hesc_sc_analysis_plots'\n",
    "os.makedirs(plot_output_path, exist_ok=True)"
   ]
  },
  {
   "cell_type": "code",
   "execution_count": null,
   "metadata": {},
   "outputs": [],
   "source": [
    "adata_bulk = sc.read_h5ad('/GPUData_xingjie/SCMG/hESC_perturb_seq/pseudo_bulk.h5ad')\n",
    "adata_bulk"
   ]
  },
  {
   "cell_type": "code",
   "execution_count": null,
   "metadata": {},
   "outputs": [],
   "source": [
    "# Mask out the direct target genes\n",
    "for i in range(adata_bulk.shape[0]):\n",
    "    pg = adata_bulk.obs['perturbed_gene'].iloc[i]\n",
    "    \n",
    "    if pg in adata_bulk.var_names:\n",
    "        adata_bulk.X[i, adata_bulk.var_names.get_loc(pg)] = 0\n",
    "\n",
    "hv_genes = list(adata_bulk.var[(np.abs(adata_bulk.X) > 0.2).sum(axis=0) > 1]['gene_name'])\n",
    "\n",
    "print(len(hv_genes))"
   ]
  },
  {
   "cell_type": "code",
   "execution_count": null,
   "metadata": {},
   "outputs": [],
   "source": [
    "enrichment_df = pd.read_parquet('enrichment_results/l2_c_enrich_gene.parquet')\n",
    "enrichment_df"
   ]
  },
  {
   "cell_type": "code",
   "execution_count": null,
   "metadata": {},
   "outputs": [],
   "source": [
    "enrichment_df[enrichment_df['perturbed_gene'] == 'non-targeting'].sort_values('log2fc')[60:]"
   ]
  },
  {
   "cell_type": "code",
   "execution_count": null,
   "metadata": {},
   "outputs": [],
   "source": [
    "targeting_clusters = enrichment_df[(enrichment_df['perturbed_gene'] == 'non-targeting')\n",
    "            &(enrichment_df['log2fc'] < 0)]['cluster'].values\n",
    "targeting_clusters"
   ]
  },
  {
   "cell_type": "code",
   "execution_count": null,
   "metadata": {},
   "outputs": [],
   "source": [
    "adata = sc.read_h5ad('/GPUData_xingjie/SCMG/hESC_perturb_seq/adata_single_gene_pert.h5ad')\n",
    "adata.obs_names_make_unique()\n",
    "\n",
    "sc.pp.normalize_total(adata, target_sum=1e4)\n",
    "sc.pp.log1p(adata)\n",
    "adata"
   ]
  },
  {
   "cell_type": "code",
   "execution_count": null,
   "metadata": {},
   "outputs": [],
   "source": [
    "l2_obs_df = pd.read_csv('adata_obs_l2.csv', index_col=0)\n",
    "adata.obs['leiden_l1'] = l2_obs_df['leiden_l1'].astype(str)\n",
    "adata.obs['cluster'] = l2_obs_df['cluster'].astype(str)\n",
    "adata"
   ]
  },
  {
   "cell_type": "code",
   "execution_count": null,
   "metadata": {},
   "outputs": [],
   "source": [
    "adata_targeting = adata[adata.obs['cluster'].isin(targeting_clusters)].copy()\n",
    "adata_targeting"
   ]
  },
  {
   "cell_type": "code",
   "execution_count": null,
   "metadata": {},
   "outputs": [],
   "source": [
    "adata_targeting.raw = adata_targeting.copy()\n",
    "adata_targeting = adata_targeting[:, hv_genes].copy()\n",
    "sc.pp.scale(adata_targeting, max_value=10)\n",
    "sc.tl.pca(adata_targeting, svd_solver='arpack')\n",
    "adata_targeting"
   ]
  },
  {
   "cell_type": "code",
   "execution_count": null,
   "metadata": {},
   "outputs": [],
   "source": [
    "sc.pp.neighbors(adata_targeting, n_neighbors=20)"
   ]
  },
  {
   "cell_type": "code",
   "execution_count": null,
   "metadata": {},
   "outputs": [],
   "source": [
    "sc.tl.umap(adata_targeting)"
   ]
  },
  {
   "cell_type": "code",
   "execution_count": null,
   "metadata": {},
   "outputs": [],
   "source": [
    "fig, ax = plt.subplots(figsize=(10, 10))\n",
    "\n",
    "sc.pl.umap(adata_targeting, color='cluster', legend_loc='on data', ax=ax, legend_fontsize=5)"
   ]
  },
  {
   "cell_type": "code",
   "execution_count": null,
   "metadata": {},
   "outputs": [],
   "source": [
    "targeting_umap_df = adata_targeting.obs[[]].copy()\n",
    "targeting_umap_df['umap_targeting_x'] = adata_targeting.obsm['X_umap'][:, 0]\n",
    "targeting_umap_df['umap_targeting_y'] = adata_targeting.obsm['X_umap'][:, 1]\n",
    "targeting_umap_df.to_csv('targeting_umap.csv')"
   ]
  },
  {
   "cell_type": "code",
   "execution_count": null,
   "metadata": {},
   "outputs": [],
   "source": []
  }
 ],
 "metadata": {
  "kernelspec": {
   "display_name": "scmg",
   "language": "python",
   "name": "python3"
  },
  "language_info": {
   "codemirror_mode": {
    "name": "ipython",
    "version": 3
   },
   "file_extension": ".py",
   "mimetype": "text/x-python",
   "name": "python",
   "nbconvert_exporter": "python",
   "pygments_lexer": "ipython3",
   "version": "3.10.14"
  }
 },
 "nbformat": 4,
 "nbformat_minor": 2
}
