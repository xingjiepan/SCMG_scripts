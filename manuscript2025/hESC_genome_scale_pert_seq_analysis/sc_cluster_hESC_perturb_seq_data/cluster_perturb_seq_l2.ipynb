{
 "cells": [
  {
   "cell_type": "code",
   "execution_count": null,
   "metadata": {},
   "outputs": [],
   "source": [
    "%load_ext autoreload\n",
    "%autoreload 2\n",
    "%config InlineBackend.figure_format='retina'"
   ]
  },
  {
   "cell_type": "code",
   "execution_count": null,
   "metadata": {},
   "outputs": [],
   "source": [
    "import os\n",
    "import json\n",
    "\n",
    "from tqdm import tqdm\n",
    "import numpy as np\n",
    "import scipy.spatial\n",
    "import pandas as pd\n",
    "import matplotlib.pyplot as plt\n",
    "import seaborn as sns\n",
    "\n",
    "import anndata\n",
    "import scanpy as sc"
   ]
  },
  {
   "cell_type": "code",
   "execution_count": null,
   "metadata": {},
   "outputs": [],
   "source": [
    "adata_bulk = sc.read_h5ad('/GPUData_xingjie/SCMG/hESC_perturb_seq/pseudo_bulk.h5ad')\n",
    "adata_bulk"
   ]
  },
  {
   "cell_type": "code",
   "execution_count": null,
   "metadata": {},
   "outputs": [],
   "source": [
    "# Mask out the direct target genes\n",
    "for i in range(adata_bulk.shape[0]):\n",
    "    pg = adata_bulk.obs['perturbed_gene'].iloc[i]\n",
    "    \n",
    "    if pg in adata_bulk.var_names:\n",
    "        adata_bulk.X[i, adata_bulk.var_names.get_loc(pg)] = 0\n",
    "\n",
    "hv_genes = list(adata_bulk.var[(np.abs(adata_bulk.X) > 0.2).sum(axis=0) > 1]['gene_name'])\n",
    "\n",
    "print(len(hv_genes))"
   ]
  },
  {
   "cell_type": "code",
   "execution_count": null,
   "metadata": {},
   "outputs": [],
   "source": [
    "adata_all = sc.read_h5ad('/GPUData_xingjie/SCMG/hESC_perturb_seq/adata_single_gene_pert.h5ad')\n",
    "adata_all"
   ]
  },
  {
   "cell_type": "code",
   "execution_count": null,
   "metadata": {},
   "outputs": [],
   "source": [
    "l1_obs_df = pd.read_csv('adata_obs_l1.csv', index_col=0)\n",
    "adata_all.obs['leiden_l1'] = l1_obs_df['leiden'].astype(str)\n",
    "adata_all.obsm['X_umap'] = l1_obs_df.loc[adata_all.obs.index][['umap_x', 'umap_y']].values\n",
    "adata_all"
   ]
  },
  {
   "cell_type": "code",
   "execution_count": null,
   "metadata": {},
   "outputs": [],
   "source": [
    "sc.pl.umap(adata_all, color=['leiden_l1', 'n_genes'], cmap='inferno_r', legend_loc='on data')"
   ]
  },
  {
   "cell_type": "code",
   "execution_count": null,
   "metadata": {},
   "outputs": [],
   "source": [
    "sc.pl.umap(adata_all, color=['POU5F1'], cmap='viridis', legend_loc='on data', vmax=50)"
   ]
  },
  {
   "cell_type": "code",
   "execution_count": null,
   "metadata": {},
   "outputs": [],
   "source": [
    "cluster_map = {}\n",
    "for i in range(adata_all.shape[0]):\n",
    "    cluster_map[adata_all.obs.index[i]] = adata_all.obs['leiden_l1'].iloc[i] + '_0'"
   ]
  },
  {
   "cell_type": "code",
   "execution_count": null,
   "metadata": {},
   "outputs": [],
   "source": [
    "leiden_l1 = '9'\n",
    "\n",
    "adata = adata_all[adata_all.obs['leiden_l1'] == leiden_l1].copy()\n",
    "sc.pp.normalize_total(adata, target_sum=1e4)\n",
    "sc.pp.log1p(adata)\n",
    "\n",
    "\n",
    "adata.raw = adata.copy()\n",
    "adata = adata[:, hv_genes].copy()\n",
    "hv_genes\n",
    "sc.pp.scale(adata, max_value=10)\n",
    "sc.tl.pca(adata, svd_solver='arpack')\n",
    "\n",
    "sc.pp.neighbors(adata, n_neighbors=20)\n",
    "sc.tl.umap(adata)\n",
    "\n",
    "sc.tl.leiden(adata, resolution=0.1)\n",
    "for i in range(adata.shape[0]):\n",
    "    cluster_map[adata.obs.index[i]] = leiden_l1 + '_' + adata.obs['leiden'].iloc[i]\n",
    "\n",
    "sc.pl.umap(adata, color=['leiden'], legend_loc='on data')"
   ]
  },
  {
   "cell_type": "code",
   "execution_count": null,
   "metadata": {},
   "outputs": [],
   "source": [
    "leiden_l1 = '14'\n",
    "\n",
    "adata = adata_all[adata_all.obs['leiden_l1'] == leiden_l1].copy()\n",
    "sc.pp.normalize_total(adata, target_sum=1e4)\n",
    "sc.pp.log1p(adata)\n",
    "\n",
    "\n",
    "adata.raw = adata.copy()\n",
    "adata = adata[:, hv_genes].copy()\n",
    "hv_genes\n",
    "sc.pp.scale(adata, max_value=10)\n",
    "sc.tl.pca(adata, svd_solver='arpack')\n",
    "\n",
    "sc.pp.neighbors(adata, n_neighbors=20)\n",
    "sc.tl.umap(adata)\n",
    "\n",
    "sc.tl.leiden(adata, resolution=0.2)\n",
    "for i in range(adata.shape[0]):\n",
    "    cluster_map[adata.obs.index[i]] = leiden_l1 + '_' + adata.obs['leiden'].iloc[i]\n",
    "\n",
    "sc.pl.umap(adata, color=['leiden'], legend_loc='on data')"
   ]
  },
  {
   "cell_type": "code",
   "execution_count": null,
   "metadata": {},
   "outputs": [],
   "source": [
    "leiden_l1 = '15'\n",
    "\n",
    "adata = adata_all[adata_all.obs['leiden_l1'] == leiden_l1].copy()\n",
    "sc.pp.normalize_total(adata, target_sum=1e4)\n",
    "sc.pp.log1p(adata)\n",
    "\n",
    "\n",
    "adata.raw = adata.copy()\n",
    "adata = adata[:, hv_genes].copy()\n",
    "hv_genes\n",
    "sc.pp.scale(adata, max_value=10)\n",
    "sc.tl.pca(adata, svd_solver='arpack')\n",
    "\n",
    "sc.pp.neighbors(adata, n_neighbors=20)\n",
    "sc.tl.umap(adata)\n",
    "\n",
    "sc.tl.leiden(adata, resolution=0.8)\n",
    "for i in range(adata.shape[0]):\n",
    "    cluster_map[adata.obs.index[i]] = leiden_l1 + '_' + adata.obs['leiden'].iloc[i]\n",
    "\n",
    "sc.pl.umap(adata, color=['leiden'], legend_loc='on data')"
   ]
  },
  {
   "cell_type": "code",
   "execution_count": null,
   "metadata": {},
   "outputs": [],
   "source": [
    "leiden_l1 = '16'\n",
    "\n",
    "adata = adata_all[adata_all.obs['leiden_l1'] == leiden_l1].copy()\n",
    "sc.pp.normalize_total(adata, target_sum=1e4)\n",
    "sc.pp.log1p(adata)\n",
    "\n",
    "adata.raw = adata.copy()\n",
    "adata = adata[:, hv_genes].copy()\n",
    "hv_genes\n",
    "sc.pp.scale(adata, max_value=10)\n",
    "sc.tl.pca(adata, svd_solver='arpack')\n",
    "\n",
    "sc.pp.neighbors(adata, n_neighbors=20)\n",
    "sc.tl.umap(adata)\n",
    "\n",
    "sc.tl.leiden(adata, resolution=0.3)\n",
    "for i in range(adata.shape[0]):\n",
    "    cluster_map[adata.obs.index[i]] = leiden_l1 + '_' + adata.obs['leiden'].iloc[i]\n",
    "\n",
    "sc.pl.umap(adata, color=['leiden'], legend_loc='on data')"
   ]
  },
  {
   "cell_type": "code",
   "execution_count": null,
   "metadata": {},
   "outputs": [],
   "source": [
    "leiden_l1 = '18'\n",
    "\n",
    "adata = adata_all[adata_all.obs['leiden_l1'] == leiden_l1].copy()\n",
    "sc.pp.normalize_total(adata, target_sum=1e4)\n",
    "sc.pp.log1p(adata)\n",
    "\n",
    "adata.raw = adata.copy()\n",
    "adata = adata[:, hv_genes].copy()\n",
    "hv_genes\n",
    "sc.pp.scale(adata, max_value=10)\n",
    "sc.tl.pca(adata, svd_solver='arpack')\n",
    "\n",
    "sc.pp.neighbors(adata, n_neighbors=20)\n",
    "sc.tl.umap(adata)\n",
    "\n",
    "sc.tl.leiden(adata, resolution=0.8)\n",
    "for i in range(adata.shape[0]):\n",
    "    cluster_map[adata.obs.index[i]] = leiden_l1 + '_' + adata.obs['leiden'].iloc[i]\n",
    "\n",
    "sc.pl.umap(adata, color=['leiden'], legend_loc='on data')"
   ]
  },
  {
   "cell_type": "code",
   "execution_count": null,
   "metadata": {},
   "outputs": [],
   "source": [
    "leiden_l1 = '19'\n",
    "\n",
    "adata = adata_all[adata_all.obs['leiden_l1'] == leiden_l1].copy()\n",
    "sc.pp.normalize_total(adata, target_sum=1e4)\n",
    "sc.pp.log1p(adata)\n",
    "\n",
    "adata.raw = adata.copy()\n",
    "adata = adata[:, hv_genes].copy()\n",
    "hv_genes\n",
    "sc.pp.scale(adata, max_value=10)\n",
    "sc.tl.pca(adata, svd_solver='arpack')\n",
    "\n",
    "sc.pp.neighbors(adata, n_neighbors=20)\n",
    "sc.tl.umap(adata)\n",
    "\n",
    "sc.tl.leiden(adata, resolution=0.15)\n",
    "for i in range(adata.shape[0]):\n",
    "    cluster_map[adata.obs.index[i]] = leiden_l1 + '_' + adata.obs['leiden'].iloc[i]\n",
    "\n",
    "sc.pl.umap(adata, color=['leiden'], legend_loc='on data')"
   ]
  },
  {
   "cell_type": "code",
   "execution_count": null,
   "metadata": {},
   "outputs": [],
   "source": [
    "leiden_l1 = '20'\n",
    "\n",
    "adata = adata_all[adata_all.obs['leiden_l1'] == leiden_l1].copy()\n",
    "sc.pp.normalize_total(adata, target_sum=1e4)\n",
    "sc.pp.log1p(adata)\n",
    "\n",
    "adata.raw = adata.copy()\n",
    "adata = adata[:, hv_genes].copy()\n",
    "hv_genes\n",
    "sc.pp.scale(adata, max_value=10)\n",
    "sc.tl.pca(adata, svd_solver='arpack')\n",
    "\n",
    "sc.pp.neighbors(adata, n_neighbors=20)\n",
    "sc.tl.umap(adata)\n",
    "\n",
    "sc.tl.leiden(adata, resolution=0.8)\n",
    "for i in range(adata.shape[0]):\n",
    "    cluster_map[adata.obs.index[i]] = leiden_l1 + '_' + adata.obs['leiden'].iloc[i]\n",
    "\n",
    "sc.pl.umap(adata, color=['leiden'], legend_loc='on data')"
   ]
  },
  {
   "cell_type": "code",
   "execution_count": null,
   "metadata": {},
   "outputs": [],
   "source": [
    "leiden_l1 = '21'\n",
    "\n",
    "adata = adata_all[adata_all.obs['leiden_l1'] == leiden_l1].copy()\n",
    "sc.pp.normalize_total(adata, target_sum=1e4)\n",
    "sc.pp.log1p(adata)\n",
    "\n",
    "adata.raw = adata.copy()\n",
    "adata = adata[:, hv_genes].copy()\n",
    "hv_genes\n",
    "sc.pp.scale(adata, max_value=10)\n",
    "sc.tl.pca(adata, svd_solver='arpack')\n",
    "\n",
    "sc.pp.neighbors(adata, n_neighbors=20)\n",
    "sc.tl.umap(adata)\n",
    "\n",
    "sc.tl.leiden(adata, resolution=0.1)\n",
    "for i in range(adata.shape[0]):\n",
    "    cluster_map[adata.obs.index[i]] = leiden_l1 + '_' + adata.obs['leiden'].iloc[i]\n",
    "\n",
    "sc.pl.umap(adata, color=['leiden'], legend_loc='on data')"
   ]
  },
  {
   "cell_type": "code",
   "execution_count": null,
   "metadata": {},
   "outputs": [],
   "source": [
    "leiden_l1 = '23'\n",
    "\n",
    "adata = adata_all[adata_all.obs['leiden_l1'] == leiden_l1].copy()\n",
    "sc.pp.normalize_total(adata, target_sum=1e4)\n",
    "sc.pp.log1p(adata)\n",
    "\n",
    "adata.raw = adata.copy()\n",
    "adata = adata[:, hv_genes].copy()\n",
    "hv_genes\n",
    "sc.pp.scale(adata, max_value=10)\n",
    "sc.tl.pca(adata, svd_solver='arpack')\n",
    "\n",
    "sc.pp.neighbors(adata, n_neighbors=20)\n",
    "sc.tl.umap(adata)\n",
    "\n",
    "sc.tl.leiden(adata, resolution=0.1)\n",
    "for i in range(adata.shape[0]):\n",
    "    cluster_map[adata.obs.index[i]] = leiden_l1 + '_' + adata.obs['leiden'].iloc[i]\n",
    "\n",
    "sc.pl.umap(adata, color=['leiden'], legend_loc='on data')"
   ]
  },
  {
   "cell_type": "code",
   "execution_count": null,
   "metadata": {},
   "outputs": [],
   "source": [
    "leiden_l1 = '24'\n",
    "\n",
    "adata = adata_all[adata_all.obs['leiden_l1'] == leiden_l1].copy()\n",
    "sc.pp.normalize_total(adata, target_sum=1e4)\n",
    "sc.pp.log1p(adata)\n",
    "\n",
    "adata.raw = adata.copy()\n",
    "adata = adata[:, hv_genes].copy()\n",
    "hv_genes\n",
    "sc.pp.scale(adata, max_value=10)\n",
    "sc.tl.pca(adata, svd_solver='arpack')\n",
    "\n",
    "sc.pp.neighbors(adata, n_neighbors=20)\n",
    "sc.tl.umap(adata)\n",
    "\n",
    "sc.tl.leiden(adata, resolution=0.2)\n",
    "for i in range(adata.shape[0]):\n",
    "    cluster_map[adata.obs.index[i]] = leiden_l1 + '_' + adata.obs['leiden'].iloc[i]\n",
    "\n",
    "sc.pl.umap(adata, color=['leiden'], legend_loc='on data')"
   ]
  },
  {
   "cell_type": "code",
   "execution_count": null,
   "metadata": {},
   "outputs": [],
   "source": [
    "leiden_l1 = '25'\n",
    "\n",
    "adata = adata_all[adata_all.obs['leiden_l1'] == leiden_l1].copy()\n",
    "sc.pp.normalize_total(adata, target_sum=1e4)\n",
    "sc.pp.log1p(adata)\n",
    "\n",
    "adata.raw = adata.copy()\n",
    "adata = adata[:, hv_genes].copy()\n",
    "hv_genes\n",
    "sc.pp.scale(adata, max_value=10)\n",
    "sc.tl.pca(adata, svd_solver='arpack')\n",
    "\n",
    "sc.pp.neighbors(adata, n_neighbors=20)\n",
    "sc.tl.umap(adata)\n",
    "\n",
    "sc.tl.leiden(adata, resolution=0.2)\n",
    "for i in range(adata.shape[0]):\n",
    "    cluster_map[adata.obs.index[i]] = leiden_l1 + '_' + adata.obs['leiden'].iloc[i]\n",
    "\n",
    "sc.pl.umap(adata, color=['leiden'], legend_loc='on data')"
   ]
  },
  {
   "cell_type": "code",
   "execution_count": null,
   "metadata": {},
   "outputs": [],
   "source": [
    "leiden_l1 = '28'\n",
    "\n",
    "adata = adata_all[adata_all.obs['leiden_l1'] == leiden_l1].copy()\n",
    "sc.pp.normalize_total(adata, target_sum=1e4)\n",
    "sc.pp.log1p(adata)\n",
    "\n",
    "adata.raw = adata.copy()\n",
    "adata = adata[:, hv_genes].copy()\n",
    "hv_genes\n",
    "sc.pp.scale(adata, max_value=10)\n",
    "sc.tl.pca(adata, svd_solver='arpack')\n",
    "\n",
    "sc.pp.neighbors(adata, n_neighbors=20)\n",
    "sc.tl.umap(adata)\n",
    "\n",
    "sc.tl.leiden(adata, resolution=0.1)\n",
    "for i in range(adata.shape[0]):\n",
    "    cluster_map[adata.obs.index[i]] = leiden_l1 + '_' + adata.obs['leiden'].iloc[i]\n",
    "\n",
    "sc.pl.umap(adata, color=['leiden'], legend_loc='on data')"
   ]
  },
  {
   "cell_type": "code",
   "execution_count": null,
   "metadata": {},
   "outputs": [],
   "source": [
    "adata_all.obs['cluster'] = adata_all.obs.index.map(cluster_map)\n",
    "adata_all.obs['umap_x'] = adata_all.obsm['X_umap'][:, 0]\n",
    "adata_all.obs['umap_y'] = adata_all.obsm['X_umap'][:, 1]\n",
    "\n",
    "adata_all.obs.to_csv('adata_obs_l2.csv')"
   ]
  },
  {
   "cell_type": "code",
   "execution_count": null,
   "metadata": {},
   "outputs": [],
   "source": [
    "# mitochondrial genes, \"MT-\" for human, \"Mt-\" for mouse\n",
    "adata_all.var[\"mt\"] = adata_all.var_names.str.startswith(\"MT-\")\n",
    "\n",
    "sc.pp.calculate_qc_metrics(\n",
    "    adata_all, qc_vars=[\"mt\"], inplace=True, log1p=True\n",
    ")\n",
    "\n",
    "sc.pl.violin(\n",
    "    adata_all,\n",
    "    [\"n_genes_by_counts\", \"total_counts\", \"pct_counts_mt\"],\n",
    "    jitter=0.0,\n",
    "    multi_panel=True,\n",
    ")"
   ]
  },
  {
   "cell_type": "code",
   "execution_count": null,
   "metadata": {},
   "outputs": [],
   "source": [
    "sc.pl.umap(adata_all, color=['leiden_l1', 'cluster', 'total_counts'], vmax=50000, legend_loc='on data')"
   ]
  },
  {
   "cell_type": "code",
   "execution_count": null,
   "metadata": {},
   "outputs": [],
   "source": [
    "sc.pl.umap(adata_all, color=['IFNA2'], vmax=0.1, legend_loc='on data')"
   ]
  },
  {
   "cell_type": "code",
   "execution_count": null,
   "metadata": {},
   "outputs": [],
   "source": [
    "fig, ax = plt.subplots(figsize=(30, 4))\n",
    "sns.boxplot(data=adata_all.obs, x='cluster', y='total_counts', ax=ax,\n",
    "            showfliers=False)\n",
    "fig, ax = plt.subplots(figsize=(30, 4))\n",
    "sns.boxplot(data=adata_all.obs, x='cluster', y='n_genes_by_counts', ax=ax,\n",
    "            showfliers=False)\n",
    "fig, ax = plt.subplots(figsize=(30, 4))\n",
    "sns.boxplot(data=adata_all.obs, x='cluster', y='pct_counts_mt', ax=ax,\n",
    "            showfliers=False)"
   ]
  },
  {
   "cell_type": "code",
   "execution_count": null,
   "metadata": {},
   "outputs": [],
   "source": [
    "sc.pl.umap(adata_all[adata_all.obs['leiden_l1'] == '15'], color=['cluster', 'HESX1'])"
   ]
  },
  {
   "cell_type": "code",
   "execution_count": null,
   "metadata": {},
   "outputs": [],
   "source": [
    "adata = adata_all[adata_all.obs['leiden_l1'] == '15']\n",
    "\n",
    "fig, ax = plt.subplots(1, 1, figsize=(5, 5))\n",
    "sc.pl.umap(adata, ax=ax, show=False)\n",
    "sc.pl.umap(adata[adata.obs['perturbed_gene'] == 'PDCD11'], \n",
    "           color='perturbed_gene', ax=ax, show=False, s=20)"
   ]
  },
  {
   "cell_type": "code",
   "execution_count": null,
   "metadata": {},
   "outputs": [],
   "source": [
    "fig, ax = plt.subplots(1, 1, figsize=(5, 5))\n",
    "sc.pl.umap(adata_all, ax=ax, show=False)\n",
    "sc.pl.umap(adata_all[adata_all.obs['perturbed_gene'] == 'TIMELESS'], \n",
    "           color='perturbed_gene', ax=ax, show=False, s=3)"
   ]
  },
  {
   "cell_type": "code",
   "execution_count": null,
   "metadata": {},
   "outputs": [],
   "source": []
  }
 ],
 "metadata": {
  "kernelspec": {
   "display_name": "scmg",
   "language": "python",
   "name": "python3"
  },
  "language_info": {
   "codemirror_mode": {
    "name": "ipython",
    "version": 3
   },
   "file_extension": ".py",
   "mimetype": "text/x-python",
   "name": "python",
   "nbconvert_exporter": "python",
   "pygments_lexer": "ipython3",
   "version": "3.10.14"
  }
 },
 "nbformat": 4,
 "nbformat_minor": 2
}
