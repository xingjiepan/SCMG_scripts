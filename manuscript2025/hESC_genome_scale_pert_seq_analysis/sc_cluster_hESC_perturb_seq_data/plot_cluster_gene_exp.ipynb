{
 "cells": [
  {
   "cell_type": "code",
   "execution_count": null,
   "metadata": {},
   "outputs": [],
   "source": [
    "%load_ext autoreload\n",
    "%autoreload 2\n",
    "%config InlineBackend.figure_format='retina'"
   ]
  },
  {
   "cell_type": "code",
   "execution_count": null,
   "metadata": {},
   "outputs": [],
   "source": [
    "import os\n",
    "\n",
    "from tqdm import tqdm\n",
    "import numpy as np\n",
    "import pandas as pd\n",
    "import matplotlib.pyplot as plt\n",
    "\n",
    "import anndata\n",
    "import scanpy as sc\n",
    "\n",
    "import torch\n",
    "\n",
    "from scmg.preprocessing.data_standardization import GeneNameMapper, standardize_adata\n",
    "from scmg.model.contrastive_embedding import CellEmbedder, embed_adata, decode_adata, score_marker_genes\n",
    "\n",
    "gene_name_mapper = GeneNameMapper()"
   ]
  },
  {
   "cell_type": "code",
   "execution_count": null,
   "metadata": {},
   "outputs": [],
   "source": [
    "# Load the autoencoder model\n",
    "model_ce_path = '../../contrastive_embedding/trained_embedder/'\n",
    "\n",
    "model = torch.load(os.path.join(model_ce_path, 'model.pt'))\n",
    "model.load_state_dict(torch.load(os.path.join(model_ce_path, 'best_state_dict.pth')))\n",
    "\n",
    "device = 'cuda:0'\n",
    "model.to(device)\n",
    "model.eval()"
   ]
  },
  {
   "cell_type": "code",
   "execution_count": null,
   "metadata": {},
   "outputs": [],
   "source": [
    "adata_ct_ref = sc.read_h5ad('../../manifold_generator/ref_cell_adata.h5ad')\n",
    "adata_ct_ref"
   ]
  },
  {
   "cell_type": "code",
   "execution_count": null,
   "metadata": {},
   "outputs": [],
   "source": [
    "adata = sc.read_h5ad('/GPUData_xingjie/SCMG/hESC_perturb_seq/adata_single_gene_pert.h5ad')\n",
    "adata.obs_names_make_unique()\n",
    "\n",
    "sc.pp.normalize_total(adata, target_sum=1e4)\n",
    "sc.pp.log1p(adata)\n",
    "adata"
   ]
  },
  {
   "cell_type": "code",
   "execution_count": null,
   "metadata": {},
   "outputs": [],
   "source": [
    "l2_obs_df = pd.read_csv('adata_obs_l2.csv', index_col=0)\n",
    "adata.obs['leiden_l1'] = l2_obs_df['leiden_l1'].astype(str)\n",
    "adata.obs['cluster'] = l2_obs_df['cluster'].astype(str)\n",
    "adata.obsm['X_umap'] = l2_obs_df.loc[adata.obs.index][['umap_x', 'umap_y']].values\n",
    "adata"
   ]
  },
  {
   "cell_type": "code",
   "execution_count": null,
   "metadata": {},
   "outputs": [],
   "source": [
    "sc.pl.umap(adata, color=['ANK2'], cmap='cool', vmax=None)"
   ]
  },
  {
   "cell_type": "code",
   "execution_count": null,
   "metadata": {},
   "outputs": [],
   "source": [
    "fig, ax = plt.subplots(1, 1, figsize=(5, 5))\n",
    "sc.pl.umap(adata, ax=ax, show=False)\n",
    "sc.pl.umap(adata[adata.obs['perturbed_gene'].isin(['ELP5'])], \n",
    "           color='feature_call', ax=ax, show=False, s=20)"
   ]
  },
  {
   "cell_type": "code",
   "execution_count": null,
   "metadata": {},
   "outputs": [],
   "source": [
    "cluster_annotation_map = {\n",
    "    '0_0' : 'non_target_like_0_0',\n",
    "    '1_0' : 'non_target_like_1_0',\n",
    "    '2_0' : 'non_target_like_2_0',\n",
    "    '3_0' : 'non_target_like_3_0',\n",
    "    '4_0' : 'non_target_like_4_0',\n",
    "    '5_0' : 'non_target_like_5_0',\n",
    "    '6_0' : 'non_target_like_6_0',\n",
    "    '7_0' : 'non_target_like_7_0',\n",
    "    '8_0' : 'non_target_like_8_0',\n",
    "    '9_0' : 'non_target_like_9_0',\n",
    "    '10_0' : 'mitochondrial_translation_10_0',\n",
    "    '11_0' : 'mitochondrial_gene_expression_11_0',\n",
    "    '11_1' : 'mitochondrion_organization_11_1',\n",
    "    '11_2' : 'LAMTOR3_11_2',\n",
    "    '12_0' : 'low_count_12_0',\n",
    "    '12_1' : 'low_count_Golgi_vesicle_transport_12_1',\n",
    "    '12_2' : 'non_target_like_12_2',\n",
    "    '12_3' : 'low_count_12_3',\n",
    "    '12_4' : 'low_count_12_4',\n",
    "    '13_0' : 'exit_pluripotency_13_0',\n",
    "    '13_1' : 'mesoderm_13_1',\n",
    "    '13_2' : 'mesoderm_endoderm_13_2',\n",
    "    '13_3' : 'cardiac_mesoderm_13_3',\n",
    "    '13_4' : 'cardiac_mesoderm_13_4',\n",
    "    '13_5' : 'anterior_neural_tube_13_5',\n",
    "    '13_6' : 'mixed_germ_layer_13_6',\n",
    "    '13_7' : 'ectoderm_13_7',\n",
    "    '13_8' : 'endoderm_13_8',\n",
    "    '13_9' : 'vascular_smooth_muscle_13_9',\n",
    "    '13_10' : 'advanced_mesoderm_13_10',\n",
    "    '13_11' : 'axial_mesoderm_13_11',\n",
    "    '14_0' : 'multivesicular_body_assembly_14_0',\n",
    "    '15_0' : 'low_count_DNA_damage_response_15_0',\n",
    "    '15_1' : 'spindle_assembly_checkpoint_signaling_15_1',\n",
    "    '15_2' : 'mRNA_processing_15_2',\n",
    "    '15_3' : 'CCR4-NOT_complex_15_3',\n",
    "    '15_4' : 'RNA_exosome_complex_15_4',\n",
    "    '15_5' : 'nucleosome_disassembly_15_5',\n",
    "    '16_0' : 'transcription_initiation_16_0',\n",
    "    '16_1' : 'epigenetic_regulation_16_1',\n",
    "    '16_2' : 'heterochromatin_formation_16_2',\n",
    "    '17_0' : 'low_count_17_0',\n",
    "    '17_1' : 'low_count_17_1',\n",
    "    '18_0' : 'low_count_translational_initiation_18_0',\n",
    "    '19_0' : 'translational_initiation_19_0',\n",
    "    '20_0' : 'fibroblast_20_0',\n",
    "    '20_1' : 'fibroblast_20_1',\n",
    "    '20_2' : 'fibroblast_20_2',\n",
    "    '20_3' : 'fibroblast_20_3',\n",
    "    '21_0' : 'unknown_21_0',\n",
    "    '22_0' : 'unknown_22_0',\n",
    "}\n",
    "\n",
    "cluster_groups = {\n",
    "    'non_target_like' : ['0_0', '1_0', '2_0', '3_0', '4_0', '5_0', '6_0', '7_0', '8_0', '9_0', '12_2'],\n",
    "    'development_aligned' : ['13_0', '13_1', '13_2', '13_3', '13_4', '13_5', '13_6', '13_7', '13_8', '13_9', '13_10', '13_11',\n",
    "                         '20_0', '20_1', '20_2', '20_3'],\n",
    "    'development_orthogonal' : ['10_0', '11_0', '11_1', '11_2', '12_0', '12_1', '12_3', '12_4',\n",
    "                                '14_0', '15_0', '15_1', '15_2', '15_3', '15_4', '15_5', '16_0', '16_1', '16_2',\n",
    "                                '17_0', '17_1', '18_0', '19_0', '21_0', '22_0'], \n",
    "}\n",
    "\n",
    "adata.obs['cluster_name'] = adata.obs['cluster'].map(cluster_annotation_map)"
   ]
  },
  {
   "cell_type": "code",
   "execution_count": null,
   "metadata": {},
   "outputs": [],
   "source": [
    "adata_d = adata[adata.obs['cluster'].isin(cluster_groups['development_aligned'])].copy()\n",
    "\n",
    "sc.pp.highly_variable_genes(adata_d, min_mean=0.0125, max_mean=3, min_disp=0.5)\n",
    "\n",
    "adata_d.raw = adata_d.copy()\n",
    "adata_d = adata_d[:, adata_d.var.highly_variable].copy()\n",
    "sc.pp.scale(adata_d, max_value=10)\n",
    "sc.tl.pca(adata_d, svd_solver='arpack')\n",
    "\n",
    "sc.pp.neighbors(adata_d, n_neighbors=20)\n",
    "sc.tl.umap(adata_d)\n",
    "\n",
    "sc.pl.umap(adata_d, color=['cluster_name'])"
   ]
  },
  {
   "cell_type": "code",
   "execution_count": null,
   "metadata": {},
   "outputs": [],
   "source": [
    "sc.pl.umap(adata, color=['cluster_name'])"
   ]
  },
  {
   "cell_type": "code",
   "execution_count": null,
   "metadata": {},
   "outputs": [],
   "source": [
    "sc.pl.umap(adata, color=['cluster_name'])"
   ]
  },
  {
   "cell_type": "code",
   "execution_count": null,
   "metadata": {},
   "outputs": [],
   "source": [
    "adata_ct_ref.obsm['X_ce_latent'] = adata_ct_ref.X\n",
    "adata_ref_decoded = decode_adata(model, adata_ct_ref, adata_ct_ref.obs['dataset_id'])\n",
    "adata_ref_decoded.var['gene_name'] = gene_name_mapper.map_gene_names(\n",
    "    adata_ref_decoded.var.index, 'human', 'human', 'id', 'name')\n",
    "\n",
    "adata_ref_named = adata_ref_decoded.copy()\n",
    "adata_ref_named.var.index = adata_ref_decoded.var['gene_name']\n",
    "adata_ref_named = adata_ref_named[:, adata_ref_named.var.index != 'na'].copy()\n",
    "adata_ref_named.var_names_make_unique()"
   ]
  },
  {
   "cell_type": "code",
   "execution_count": null,
   "metadata": {},
   "outputs": [],
   "source": [
    "gene_to_plot = ['GAL']\n",
    "\n",
    "sc.pl.umap(adata_ref_named, color=gene_to_plot, cmap='inferno_r')\n",
    "sc.pl.umap(adata, color=gene_to_plot, cmap='inferno_r')\n",
    "sc.pl.umap(adata_d, color=gene_to_plot, cmap='inferno_r')"
   ]
  },
  {
   "cell_type": "code",
   "execution_count": null,
   "metadata": {},
   "outputs": [],
   "source": [
    "fig, ax = plt.subplots(1, 1, figsize=(5, 5))\n",
    "sc.pl.umap(adata_d, ax=ax, show=False)\n",
    "sc.pl.umap(adata_d[adata_d.obs['perturbed_gene'].isin(gene_to_plot)], \n",
    "           color='feature_call', ax=ax, show=False, s=20)"
   ]
  },
  {
   "cell_type": "code",
   "execution_count": null,
   "metadata": {},
   "outputs": [],
   "source": [
    "gene_list = ['ARHGEF37', 'NANOG', \n",
    "       'PRDM14', 'SUPT20H', 'SOX2', \n",
    "       'ZFP90', 'ZNF396',\n",
    "       'EIF3B', 'RAD18', \n",
    "       'DSEL', 'MPPED1', 'PET117',\n",
    "       'POU5F1', 'DCTN5', 'ETF1', 'GRK4', 'SC5D',\n",
    "       'KIAA0753', 'MBD5', \n",
    "       'ALS2', 'CPSF4', 'FBLN5',\n",
    "       'CHIC2', 'CLTC', 'CUL1', 'HECTD4','MED19', 'OTUB2',\n",
    "       'PGPEP1', 'RARA', 'SP1', 'TADA2B', 'UCMA', 'USP8',\n",
    "       'TAF12', \n",
    "       'GEMIN5', 'CENPI', 'RPP14', 'PDCD11', 'ZC3H8', \n",
    "       'CCNH', 'DCTN2', 'FOXD3', 'MED22', \n",
    "       'SKA3', 'BRIX1',]"
   ]
  },
  {
   "cell_type": "code",
   "execution_count": null,
   "metadata": {},
   "outputs": [],
   "source": [
    "pgs = ['TAF12']\n",
    "\n",
    "fig, ax = plt.subplots(1, 1, figsize=(5, 5))\n",
    "sc.pl.umap(adata_d, ax=ax, show=False)\n",
    "sc.pl.umap(adata_d[adata_d.obs['perturbed_gene'].isin(pgs)], \n",
    "           color='feature_call', ax=ax, show=False, s=20)"
   ]
  },
  {
   "cell_type": "code",
   "execution_count": null,
   "metadata": {},
   "outputs": [],
   "source": [
    "fig, ax = plt.subplots(1, 1, figsize=(5, 5))\n",
    "sc.pl.umap(adata, ax=ax, show=False)\n",
    "sc.pl.umap(adata[adata.obs['perturbed_gene'].isin(pgs)], \n",
    "           color='feature_call', ax=ax, show=False, s=20)"
   ]
  },
  {
   "cell_type": "code",
   "execution_count": null,
   "metadata": {},
   "outputs": [],
   "source": []
  }
 ],
 "metadata": {
  "kernelspec": {
   "display_name": "scmg",
   "language": "python",
   "name": "python3"
  },
  "language_info": {
   "codemirror_mode": {
    "name": "ipython",
    "version": 3
   },
   "file_extension": ".py",
   "mimetype": "text/x-python",
   "name": "python",
   "nbconvert_exporter": "python",
   "pygments_lexer": "ipython3",
   "version": "3.10.14"
  }
 },
 "nbformat": 4,
 "nbformat_minor": 2
}
