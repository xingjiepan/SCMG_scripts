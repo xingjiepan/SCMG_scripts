{
 "cells": [
  {
   "cell_type": "code",
   "execution_count": null,
   "metadata": {},
   "outputs": [],
   "source": [
    "import os\n",
    "import json\n",
    "\n",
    "import numpy as np\n",
    "import pandas as pd\n",
    "import matplotlib.pyplot as plt\n",
    "from matplotlib.colors import to_rgba\n",
    "import seaborn as sns\n",
    "import scipy.stats\n",
    "from tqdm import tqdm\n",
    "\n",
    "import anndata\n",
    "import scanpy as sc\n",
    "\n",
    "from scmg.preprocessing.data_standardization import GeneNameMapper\n",
    "\n",
    "gene_name_mapper = GeneNameMapper()"
   ]
  },
  {
   "cell_type": "code",
   "execution_count": null,
   "metadata": {},
   "outputs": [],
   "source": [
    "import matplotlib\n",
    "import matplotlib.pyplot as plt\n",
    "import seaborn as sns\n",
    "\n",
    "plt.rcParams[\"figure.autolayout\"] = False\n",
    "matplotlib.rc('pdf', fonttype=42)\n",
    "plt.rcParams['font.family'] = 'FreeSans'\n",
    "sc.set_figure_params(vector_friendly=True, dpi_save=300)\n",
    "plt.rcParams['axes.grid'] = False"
   ]
  },
  {
   "cell_type": "code",
   "execution_count": null,
   "metadata": {},
   "outputs": [],
   "source": [
    "plot_output_path = 'hesc_pseudobulk_plots'\n",
    "os.makedirs(plot_output_path, exist_ok=True)"
   ]
  },
  {
   "cell_type": "code",
   "execution_count": null,
   "metadata": {},
   "outputs": [],
   "source": [
    "dg_cluster_df = pd.read_csv('clustering/downstream_gene_clusters_hESC.csv', index_col=0)\n",
    "dg_cluster_df"
   ]
  },
  {
   "cell_type": "code",
   "execution_count": null,
   "metadata": {},
   "outputs": [],
   "source": [
    "adata = sc.read_h5ad('/GPUData_xingjie/SCMG/hESC_perturb_seq/pseudo_bulk.h5ad')\n",
    "\n",
    "pert_cluster_df = pd.read_csv('clustering/perturbed_gene_clusters_hESC.csv', index_col=0)\n",
    "dg_cluster_df = pd.read_csv('clustering/downstream_gene_clusters_hESC.csv', index_col=0)\n",
    "\n",
    "common_perts = list(set(pert_cluster_df.index) & set(adata.obs.index))\n",
    "common_dgs = list(set(dg_cluster_df.index) & set(adata.var.index))\n",
    "\n",
    "pert_cluster_df = pert_cluster_df.loc[common_perts].copy()\n",
    "dg_cluster_df = dg_cluster_df.loc[common_dgs].copy()\n",
    "adata = adata[common_perts, common_dgs].copy()\n",
    "\n",
    "pert_df = pd.DataFrame(\n",
    "    data=adata.X,\n",
    "    index=list(adata.obs['perturbed_gene_name']),\n",
    "    columns=list(adata.var['gene_name'])\n",
    ")\n",
    "\n",
    "downstream_gene_sim_df = pd.DataFrame(\n",
    "    data= 1 - scipy.spatial.distance.cdist(pert_df.values.T, pert_df.values.T, metric='cosine'),\n",
    "    index=list(pert_df.columns),\n",
    "    columns=list(pert_df.columns)\n",
    ")"
   ]
  },
  {
   "cell_type": "code",
   "execution_count": null,
   "metadata": {},
   "outputs": [],
   "source": [
    "all_gene_corr_df = pd.read_parquet('/GPUData_xingjie/Softwares/SCMG_dev/tests/manifold_generator/global_gene_correlation/direct_gene_corr_df_measured.parquet')\n",
    "#all_gene_corr_df = pd.read_parquet('/GPUData_xingjie/Softwares/SCMG_dev/tests/manifold_generator/global_gene_correlation/gene_corr_df_measured.parquet')\n",
    "\n",
    "\n",
    "named_all_gene_corr_df = all_gene_corr_df.copy()\n",
    "named_all_gene_corr_df.index = gene_name_mapper.map_gene_names(\n",
    "    named_all_gene_corr_df.index, 'human', 'human', 'id', 'name')\n",
    "named_all_gene_corr_df.columns = gene_name_mapper.map_gene_names(\n",
    "    named_all_gene_corr_df.columns, 'human', 'human', 'id', 'name')"
   ]
  },
  {
   "cell_type": "code",
   "execution_count": null,
   "metadata": {},
   "outputs": [],
   "source": [
    "selected_cluster = 19\n",
    "selected_genes = list(dg_cluster_df[dg_cluster_df['leiden'].isin([selected_cluster])]['gene_name'])\n",
    "selected_gene_df = named_all_gene_corr_df.loc[selected_genes, selected_genes]\n",
    "\n",
    "\n",
    "Z_dg = scipy.cluster.hierarchy.linkage(selected_gene_df.values, method='average', metric='euclidean')\n",
    "Z_dg_optimal = scipy.cluster.hierarchy.optimal_leaf_ordering(Z_dg, selected_gene_df.values, metric='euclidean')\n",
    "optimal_downstream_gene_order = selected_gene_df.index.values[scipy.cluster.hierarchy.leaves_list(Z_dg_optimal)]\n",
    "\n",
    "fig, ax = plt.subplots(figsize=(12, 10))\n",
    "sns.heatmap(selected_gene_df.loc[optimal_downstream_gene_order, optimal_downstream_gene_order],\n",
    "            center=0, cmap='PiYG_r', vmax=0.7, vmin=-0.7, ax=ax, rasterized=True,\n",
    "            cbar_kws={'label': 'global manifold correlation'})\n",
    "ax.set_xticks(np.arange(len(optimal_downstream_gene_order)) + 0.5, optimal_downstream_gene_order, size=7)\n",
    "ax.set_yticks(np.arange(len(optimal_downstream_gene_order)) + 0.5, optimal_downstream_gene_order, size=7)\n",
    "ax.set_title(f'Downstream gene cluster {selected_cluster}', size=20)\n",
    "\n",
    "fig.savefig(os.path.join(plot_output_path, f'downstream_gene_cluster_{selected_cluster}_corr_mtx.pdf'))\n",
    "\n",
    "fig, ax = plt.subplots(figsize=(12, 10))\n",
    "sns.heatmap(downstream_gene_sim_df.loc[optimal_downstream_gene_order, optimal_downstream_gene_order],\n",
    "            center=0, cmap='PuOr_r', vmax=1, vmin=-1, ax=ax)"
   ]
  },
  {
   "cell_type": "code",
   "execution_count": null,
   "metadata": {},
   "outputs": [],
   "source": [
    "optimal_downstream_gene_order"
   ]
  },
  {
   "cell_type": "code",
   "execution_count": null,
   "metadata": {},
   "outputs": [],
   "source": [
    "gene_exp_modules = {\n",
    "    '12_neuronal' : ['ADGRL3', 'ANK2', 'MAGI2', 'NLGN1', 'GRID2', 'LINGO2', 'LRRTM4',\n",
    "       'KCND2', 'DLGAP1', 'RBFOX1', 'CADM2', 'NRXN1', 'NRG3', 'GRIA4',\n",
    "       'GABRB3', 'SYT1', 'RIMS2', 'MGAT4C', 'FGF12', 'PPP2R2B', 'ADCY2',\n",
    "       'TMEM132D', 'ZMAT4', 'UNC5D', 'PCDH11X', 'EDIL3', 'NALF1',\n",
    "       'HS3ST5', 'TRPM3', 'DST', 'FAT3', 'LARGE1', 'PRKG1', 'RASAL2',\n",
    "       'KIAA0825', 'PTPN4', 'TOX', 'RYR2', 'CTNNA3', 'GPM6B', 'PHF21B'],\n",
    "    '17_exit_pluripotency' : ['CECR2', 'NRF1', 'TCF4', 'ZFAND3', 'TRIO', 'KANSL1', 'EXOC4',\n",
    "       'EXT1', 'MACF1', 'ARID1B', 'PLEKHA5', 'PTBP2', 'MBTD1', 'FBXO11',\n",
    "       'ASH1L', 'ACACA', 'ERBIN', 'MKLN1', 'FNDC3B', 'SND1', 'INO80',\n",
    "       'KDM2B', 'PTPN14', 'CTDSPL', 'GLG1', 'WAC'],\n",
    "    '17_immediate_early_gene' : ['EGR1', 'FOS', 'IER2'],\n",
    "    '18_mesenchymal' : ['COL4A1', 'COL4A2', 'IGFBP5', 'COL12A1', 'COL5A2', 'POSTN',\n",
    "       'COL8A1', 'FRZB', 'CXCL14', 'LUM', 'CCN2', 'CCN1', 'IGFBP7',\n",
    "       'TIMP3', 'PRSS23', 'ACTG2', 'LGALS1', 'VIM'],\n",
    "    '19_mesenchymal' : ['FN1', 'FSTL1', 'MMP2', 'OLFML3',\n",
    "       'COL1A1', 'COL1A2', 'SPARC', 'BGN', 'PDLIM7', 'TPM1', 'ACTA2',\n",
    "       'TAGLN', 'MYL9', 'CALD1', 'CSRP1', 'FLNA', 'ITGB1', 'RGS5',\n",
    "       'ANXA6', 'TUBB6', 'TPM4', 'TIMP1', 'IER3', 'ANXA2', 'ANXA1',\n",
    "       'TAGLN2', 'ACTG1', 'MYL12B', 'ZNF428'],\n",
    "    '4_differentiation' : ['PCDH10', 'SPOCK3', 'PCDH9', 'IL1RAPL1', 'LRP1B', 'CNTNAP2',\n",
    "       'MAPK10', 'TTC3', 'MEIS2', 'EFNA5', 'MAML3', 'DACH1', 'SLIT2',\n",
    "       'CADM1', 'CDH2', 'DCC', 'ERBB4', 'PCDH7', 'SOX5', 'SSBP2',\n",
    "       'GREB1L', 'PRTG', 'ROR2', 'FBN2', 'CDH11', 'FLRT2', 'PAM', 'NRP2',\n",
    "       'EBF2', 'ADAMTS6', 'DNAJC1', 'NRIP1', 'TLE4', 'ZEB2', 'ATP2B1',\n",
    "       'TGFB1', 'VAMP8', 'S100A4', 'COTL1', 'CCDC167', 'GLIPR2', 'IFITM1',\n",
    "       'SAMD3', 'EOMES', 'DNAJC15', 'CITED2', 'DCTN3', 'SVBP', 'CRABP1',\n",
    "       'CRABP2', 'MACROH2A2', 'ID4', 'TUSC3', 'ENC1', 'MLLT11', 'CPE',\n",
    "       'LHX1', 'CER1', 'CYP26A1', 'FGF8', 'FGF17', 'SIX6', 'SIX3',\n",
    "       'CCKBR', 'GMPR', 'NPPB', 'MYL7', 'FLNC', 'DLK1', 'HAPLN1',\n",
    "       'COL2A1', 'P3H2', 'LAMB1', 'WLS', 'GPC3', 'LRIG3', 'SEPTIN11',\n",
    "       'MRC2', 'HAS2', 'TNC', 'SERPINE2', 'RBP1', 'PCOLCE', 'FBLN1',\n",
    "       'BMP4', 'CYP1B1', 'GJA1', 'IGFBP3', 'TMEM88', 'SELENOP', 'TFPI',\n",
    "       'GNG11', 'IFITM3', 'RHOC', 'CD151', 'SPRY1', 'PTGR1', 'DSP',\n",
    "       'PERP', 'WFDC2'],\n",
    "    '16_pluripotency_marker' : [\n",
    "        'AP1S2', 'CTSC', 'PYCARD', 'ZFP36L2', 'PIM2', 'AKIRIN1', 'EBPL',\n",
    "       'PEBP1', 'UGP2', 'ADM', 'ERBB2', 'ESRP1', 'CYP2S1', 'TGIF1',\n",
    "       'CLDN7', 'CD9', 'CD24', 'MAD2L2', 'CDCA7L', 'PSIP1', 'PAICS',\n",
    "       'HELLS', 'SEPHS1', 'TERF1', 'RBPMS2', 'DNMT3B', 'DPPA4', 'L1TD1',\n",
    "       'POU5F1', 'FOXH1', 'ZSCAN10', 'PODXL', 'RRAS2', 'ETV4', 'TET1',\n",
    "       'PHC1', 'USP44', 'VASH2', 'DPYSL3', 'SCG3', 'PTPRZ1', 'SOX2',\n",
    "       'CNMD', 'MFGE8', 'JADE1', 'EIF2AK4', 'GPR176', 'VSNL1', 'SNRPN'\n",
    "    ],\n",
    "    '9_pluripotency_marker' : ['AP1S2', 'CTSC', 'PYCARD', 'ZFP36L2', 'PIM2', 'AKIRIN1', 'EBPL',\n",
    "       'PEBP1', 'UGP2', 'ADM', 'ERBB2', 'ESRP1', 'CYP2S1', 'TGIF1',\n",
    "       'CLDN7', 'CD9', 'CD24', 'MAD2L2', 'CDCA7L', 'PSIP1', 'PAICS',\n",
    "       'HELLS', 'SEPHS1', 'TERF1', 'RBPMS2', 'DNMT3B', 'DPPA4', 'L1TD1',\n",
    "       'POU5F1', 'FOXH1', 'ZSCAN10', 'PODXL', 'RRAS2', 'ETV4', 'TET1',\n",
    "       'PHC1', 'USP44', 'VASH2', 'DPYSL3', 'SCG3', 'PTPRZ1', 'SOX2',\n",
    "       'CNMD', 'MFGE8', 'JADE1', 'EIF2AK4', 'GPR176', 'VSNL1', 'SNRPN'],\n",
    "\n",
    "    '7_p53_signaling' : ['BAX', 'BBC3', 'CCNG1', 'RRM2B', 'SESN1', 'DDB2', 'MDM2', 'CDKN1A',\n",
    "       'EI24'],\n",
    "\n",
    "    '6_Eukaryotic_Translation_Elongation' : ['RPL4', 'RPLP1', 'EEF2', 'RPS15A', 'RPL30', 'RPS28', 'FAU', 'RPS7',\n",
    "       'RPL27A', 'RPS3A', 'RPL14', 'RPL27', 'RPL37A', 'RPL7A', 'RPS10',\n",
    "       'RPS6', 'RPL23A', 'RPL34', 'RPL6', 'RPS29', 'RPL10A', 'RPL32',\n",
    "       'RPS8', 'RPS25', 'RPS13', 'RPS20', 'RPS4X', 'RPL36', 'RPS16',\n",
    "       'RPS17', 'RPL3', 'RPL7', 'RPL13A', 'RPS9', 'RPL8', 'RPS19', 'RPS5',\n",
    "       'RPL12', 'RPSA', 'EEF1D', 'RPL28', 'RPL39', 'EEF1B2', 'RPS2',\n",
    "       'RPS15', 'RPL26', 'RPS14', 'RPL11', 'RPLP2'],\n",
    "    '3_Metabolism_Of_Lipids' : ['ACLY', 'CYP51A1', 'DHCR24', 'DHCR7', 'ELOVL6', 'FABP3', 'FABP7',\n",
    "       'FASN', 'FDFT1', 'FDPS', 'HMGCR', 'HMGCS1', 'HSD17B12', 'IDI1',\n",
    "       'INSIG1', 'MSMO1', 'MVD', 'PCYT2', 'SC5D', 'SCD', 'SLC25A1',\n",
    "       'SQLE', 'TM7SF2'],\n",
    "    '10_Cellular_Responses_To_Stress' : ['ATF3', 'ATF4', 'ATF5', 'BAG1', 'CDK6', 'CEBPG', 'CHAC1', 'DDIT3',\n",
    "       'EIF2S2', 'H1-0', 'HERPUD1', 'HMOX1', 'HSPA9', 'PHGDH', 'PPP1R15A',\n",
    "       'PRDX5', 'RSL24D1', 'SESN2', 'SLC7A11', 'TRIB3'],\n",
    "    '15_Protein_processing_in_endoplasmic_reticulum' : ['CALR', 'CANX', 'DNAJB11', 'HSP90B1', 'HSPA5', 'P4HB', 'PDIA3',\n",
    "       'PDIA4', 'PDIA6', 'SEC61G', 'SEC62'],\n",
    "}"
   ]
  },
  {
   "cell_type": "code",
   "execution_count": null,
   "metadata": {},
   "outputs": [],
   "source": [
    "np.array(pert_cluster_df[pert_cluster_df['leiden'] == 34]['perturbed_gene_name'])"
   ]
  },
  {
   "cell_type": "code",
   "execution_count": null,
   "metadata": {},
   "outputs": [],
   "source": [
    "np.array(dg_cluster_df[dg_cluster_df['leiden'] == 23]['gene_name'])"
   ]
  },
  {
   "cell_type": "code",
   "execution_count": null,
   "metadata": {},
   "outputs": [],
   "source": []
  }
 ],
 "metadata": {
  "kernelspec": {
   "display_name": "scmg",
   "language": "python",
   "name": "python3"
  },
  "language_info": {
   "codemirror_mode": {
    "name": "ipython",
    "version": 3
   },
   "file_extension": ".py",
   "mimetype": "text/x-python",
   "name": "python",
   "nbconvert_exporter": "python",
   "pygments_lexer": "ipython3",
   "version": "3.10.14"
  }
 },
 "nbformat": 4,
 "nbformat_minor": 2
}
