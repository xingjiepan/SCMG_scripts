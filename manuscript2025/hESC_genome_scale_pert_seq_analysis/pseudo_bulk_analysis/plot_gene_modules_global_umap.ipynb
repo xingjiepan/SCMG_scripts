{
 "cells": [
  {
   "cell_type": "code",
   "execution_count": null,
   "metadata": {},
   "outputs": [],
   "source": [
    "import os\n",
    "import json\n",
    "\n",
    "import numpy as np\n",
    "import pandas as pd\n",
    "import matplotlib.pyplot as plt\n",
    "from matplotlib.colors import to_rgba\n",
    "import seaborn as sns\n",
    "import scipy.stats\n",
    "from tqdm import tqdm\n",
    "\n",
    "import anndata\n",
    "import scanpy as sc\n",
    "\n",
    "from scmg.preprocessing.data_standardization import GeneNameMapper\n",
    "\n",
    "gene_name_mapper = GeneNameMapper()"
   ]
  },
  {
   "cell_type": "code",
   "execution_count": null,
   "metadata": {},
   "outputs": [],
   "source": [
    "import matplotlib\n",
    "import matplotlib.pyplot as plt\n",
    "import seaborn as sns\n",
    "\n",
    "plt.rcParams[\"figure.autolayout\"] = False\n",
    "matplotlib.rc('pdf', fonttype=42)\n",
    "plt.rcParams['font.family'] = 'FreeSans'\n",
    "sc.set_figure_params(vector_friendly=True, dpi_save=300)\n",
    "plt.rcParams['axes.grid'] = False"
   ]
  },
  {
   "cell_type": "code",
   "execution_count": null,
   "metadata": {},
   "outputs": [],
   "source": [
    "plot_output_path = 'hesc_pseudobulk_readout_gene_module_umaps'\n",
    "os.makedirs(plot_output_path, exist_ok=True)"
   ]
  },
  {
   "cell_type": "code",
   "execution_count": null,
   "metadata": {},
   "outputs": [],
   "source": [
    "dg_cluster_df = pd.read_csv('clustering/downstream_gene_clusters_hESC.csv', index_col=0)"
   ]
  },
  {
   "cell_type": "code",
   "execution_count": null,
   "metadata": {},
   "outputs": [],
   "source": [
    "adata_ct_ref = sc.read_h5ad('../../manifold_generator/ref_cell_adata_measured_count.h5ad')\n",
    "sc.pp.normalize_total(adata_ct_ref, target_sum=1e4)\n",
    "sc.pp.log1p(adata_ct_ref)\n",
    "#sc.pp.scale(adata_ct_ref, max_value=10)\n",
    "\n",
    "adata_ct_ref.obs['total_exp'] = adata_ct_ref.X.sum(axis=1)\n",
    "adata_ct_ref"
   ]
  },
  {
   "cell_type": "code",
   "execution_count": null,
   "metadata": {},
   "outputs": [],
   "source": [
    "named_adata = adata_ct_ref.copy()\n",
    "named_adata.var.index = adata_ct_ref.var['human_gene_name']"
   ]
  },
  {
   "cell_type": "code",
   "execution_count": null,
   "metadata": {},
   "outputs": [],
   "source": [
    "sc.pp.scale(named_adata, max_value=10)"
   ]
  },
  {
   "cell_type": "code",
   "execution_count": null,
   "metadata": {},
   "outputs": [],
   "source": [
    "readout_gc_cols = []\n",
    "\n",
    "for ds_gene_module in np.unique(dg_cluster_df['leiden']):\n",
    "    selected_genes = dg_cluster_df[dg_cluster_df['leiden'] == ds_gene_module]['gene_name'].values\n",
    "\n",
    "    readout_gc = f'readout gene cluster {ds_gene_module}'\n",
    "    readout_gc_cols.append(readout_gc)\n",
    "    named_adata.obs[readout_gc] = named_adata[:, named_adata.var.index.isin(selected_genes)].X.mean(axis=1)\n",
    "\n",
    "    fig, ax = plt.subplots(figsize=(4, 4), dpi=300)\n",
    "    sc.pl.umap(named_adata, color=readout_gc, cmap='seismic', vmin=-3, vmax=3, \n",
    "               title=readout_gc, ax=ax, show=False)\n",
    "    fig.savefig(f'{plot_output_path}/hESC_readout_g_module_{ds_gene_module}_global_umap.pdf')\n",
    "    plt.close(fig)"
   ]
  },
  {
   "cell_type": "code",
   "execution_count": null,
   "metadata": {},
   "outputs": [],
   "source": [
    "fig = sc.pl.umap(named_adata, color=readout_gc_cols, cmap='seismic', vmin=-3, vmax=3, ncols=5, return_fig=True)\n",
    "fig.savefig(f'{plot_output_path}/hESC_readout_g_modules_global_umap.pdf')"
   ]
  },
  {
   "cell_type": "code",
   "execution_count": null,
   "metadata": {},
   "outputs": [],
   "source": [
    "pg_cluster_df = pd.read_csv('clustering/perturbed_gene_clusters_hESC.csv', index_col=0)\n",
    "pg_cluster_df"
   ]
  },
  {
   "cell_type": "code",
   "execution_count": null,
   "metadata": {},
   "outputs": [],
   "source": [
    "os.makedirs('hesc_pseudobulk_perturbed_gene_module_umaps', exist_ok=True)\n",
    "\n",
    "perturbed_gc_cols = []\n",
    "\n",
    "for ds_gene_module in np.unique(pg_cluster_df['leiden']):\n",
    "    selected_genes = pg_cluster_df[pg_cluster_df['leiden'] == ds_gene_module]['perturbed_gene_name'].values\n",
    "\n",
    "    perturbed_gc = f'perturbed gene cluster {ds_gene_module}'\n",
    "    perturbed_gc_cols.append(perturbed_gc)\n",
    "    named_adata.obs[perturbed_gc] = named_adata[:, named_adata.var.index.isin(selected_genes)].X.mean(axis=1)\n",
    "\n",
    "    fig, ax = plt.subplots(figsize=(4, 4), dpi=300)\n",
    "    sc.pl.umap(named_adata, color=perturbed_gc, cmap='seismic', vmin=-3, vmax=3, \n",
    "               title=perturbed_gc, ax=ax, show=False)\n",
    "    fig.savefig(f'hesc_pseudobulk_perturbed_gene_module_umaps/hESC_perturbed_g_module_{ds_gene_module}_global_umap.pdf')\n",
    "    plt.close(fig)"
   ]
  },
  {
   "cell_type": "code",
   "execution_count": null,
   "metadata": {},
   "outputs": [],
   "source": [
    "fig = sc.pl.umap(named_adata, color=perturbed_gc_cols, cmap='seismic', vmin=-3, vmax=3, ncols=5, return_fig=True)\n",
    "fig.savefig(f'hesc_pseudobulk_perturbed_gene_module_umaps/hESC_perturbed_g_modules_global_umap.pdf')"
   ]
  },
  {
   "cell_type": "code",
   "execution_count": null,
   "metadata": {},
   "outputs": [],
   "source": []
  }
 ],
 "metadata": {
  "kernelspec": {
   "display_name": "scmg",
   "language": "python",
   "name": "python3"
  },
  "language_info": {
   "codemirror_mode": {
    "name": "ipython",
    "version": 3
   },
   "file_extension": ".py",
   "mimetype": "text/x-python",
   "name": "python",
   "nbconvert_exporter": "python",
   "pygments_lexer": "ipython3",
   "version": "3.10.14"
  }
 },
 "nbformat": 4,
 "nbformat_minor": 2
}
