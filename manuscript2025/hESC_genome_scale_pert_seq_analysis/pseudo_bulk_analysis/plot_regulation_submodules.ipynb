{
 "cells": [
  {
   "cell_type": "code",
   "execution_count": null,
   "metadata": {},
   "outputs": [],
   "source": [
    "import os\n",
    "import json\n",
    "\n",
    "import numpy as np\n",
    "import pandas as pd\n",
    "import matplotlib.pyplot as plt\n",
    "from matplotlib.colors import to_rgba\n",
    "import seaborn as sns\n",
    "import scipy.stats\n",
    "from tqdm import tqdm\n",
    "\n",
    "import anndata\n",
    "import scanpy as sc\n",
    "\n",
    "from scmg.preprocessing.data_standardization import GeneNameMapper\n",
    "\n",
    "gene_name_mapper = GeneNameMapper()"
   ]
  },
  {
   "cell_type": "code",
   "execution_count": null,
   "metadata": {},
   "outputs": [],
   "source": [
    "import matplotlib\n",
    "import matplotlib.pyplot as plt\n",
    "import seaborn as sns\n",
    "\n",
    "plt.rcParams[\"figure.autolayout\"] = False\n",
    "matplotlib.rc('pdf', fonttype=42)\n",
    "plt.rcParams['font.family'] = 'FreeSans'\n",
    "sc.set_figure_params(vector_friendly=True, dpi_save=300)\n",
    "plt.rcParams['axes.grid'] = False"
   ]
  },
  {
   "cell_type": "code",
   "execution_count": null,
   "metadata": {},
   "outputs": [],
   "source": [
    "plot_output_path = 'hesc_pseudobulk_plots'\n",
    "os.makedirs(plot_output_path, exist_ok=True)\n",
    "\n",
    "table_output_path = 'hesc_pseudobulk_tables'\n",
    "os.makedirs(table_output_path, exist_ok=True)"
   ]
  },
  {
   "cell_type": "code",
   "execution_count": null,
   "metadata": {},
   "outputs": [],
   "source": [
    "adata = sc.read_h5ad('/GPUData_xingjie/SCMG/hESC_perturb_seq/pseudo_bulk.h5ad')\n",
    "#adata = sc.read_h5ad('/GPUData_xingjie/SCMG/perturbation_data/ReplogleWeissman2022_K562_gwps.h5ad')\n",
    "\n",
    "adata"
   ]
  },
  {
   "cell_type": "code",
   "execution_count": null,
   "metadata": {},
   "outputs": [],
   "source": [
    "pert_cluster_df = pd.read_csv('clustering/perturbed_gene_clusters_hESC.csv', index_col=0)\n",
    "dg_cluster_df = pd.read_csv('clustering/downstream_gene_clusters_hESC.csv', index_col=0)\n",
    "\n",
    "common_perts = list(set(pert_cluster_df.index) & set(adata.obs.index))\n",
    "common_dgs = list(set(dg_cluster_df.index) & set(adata.var.index))\n",
    "\n",
    "pert_cluster_df = pert_cluster_df.loc[common_perts].copy()\n",
    "dg_cluster_df = dg_cluster_df.loc[common_dgs].copy()\n",
    "adata = adata[common_perts, common_dgs].copy()"
   ]
  },
  {
   "cell_type": "code",
   "execution_count": null,
   "metadata": {},
   "outputs": [],
   "source": [
    "pert_df = pd.DataFrame(\n",
    "    data=adata.X,\n",
    "    index=list(adata.obs['perturbed_gene_name']),\n",
    "    columns=list(adata.var['gene_name'])\n",
    ")"
   ]
  },
  {
   "cell_type": "code",
   "execution_count": null,
   "metadata": {},
   "outputs": [],
   "source": [
    "#selected_p_genes = list(pert_cluster_df[pert_cluster_df['leiden'].isin([8, 18, 20, 32, 17, 3, 13])]['perturbed_gene_name'])\n",
    "selected_p_genes = list(pert_df.index)\n",
    "\n",
    "selected_d_genes = list(dg_cluster_df[dg_cluster_df['leiden'].isin([11])]['gene_name'])"
   ]
  },
  {
   "cell_type": "code",
   "execution_count": null,
   "metadata": {},
   "outputs": [],
   "source": [
    "selected_p_genes = list(pert_df.index)\n",
    "selected_d_genes = ['AP1S2', 'CTSC', 'PYCARD', 'ZFP36L2', 'PIM2', 'AKIRIN1', 'EBPL',\n",
    "       'PEBP1', 'UGP2', 'ADM', 'ERBB2', 'ESRP1', 'CYP2S1', 'TGIF1',\n",
    "       'CLDN7', 'CD9', 'CD24', 'MAD2L2', 'CDCA7L', 'PSIP1', 'PAICS',\n",
    "       'HELLS', 'SEPHS1', 'TERF1', 'RBPMS2', 'DNMT3B', 'DPPA4', 'L1TD1',\n",
    "       'POU5F1', 'FOXH1', 'ZSCAN10', 'PODXL', 'RRAS2', 'ETV4', 'TET1',\n",
    "       'PHC1', 'USP44', 'VASH2', 'DPYSL3', 'SCG3', 'PTPRZ1', 'SOX2',\n",
    "       'CNMD', 'MFGE8', 'JADE1', 'EIF2AK4', 'GPR176', 'VSNL1', 'SNRPN']"
   ]
  },
  {
   "cell_type": "code",
   "execution_count": null,
   "metadata": {},
   "outputs": [],
   "source": [
    "selected_pert_df = pert_df.loc[selected_p_genes, selected_d_genes].copy()\n",
    "optimal_pert_gene_order = list(selected_pert_df.sum(axis=1).sort_values().index)\n",
    "optimal_downstream_gene_order = list(selected_pert_df.sum(axis=0).sort_values().index)\n",
    "\n",
    "#Z_pg = scipy.cluster.hierarchy.linkage(selected_pert_df.values, method='average', metric='euclidean')\n",
    "#Z_pg_optimal = scipy.cluster.hierarchy.optimal_leaf_ordering(Z_pg, selected_pert_df.values, metric='euclidean')\n",
    "#optimal_pert_gene_order = selected_pert_df.index.values[scipy.cluster.hierarchy.leaves_list(Z_pg_optimal)]\n",
    "#\n",
    "#Z_dg = scipy.cluster.hierarchy.linkage(selected_pert_df.T.values, method='average', metric='euclidean')\n",
    "#Z_dg_optimal = scipy.cluster.hierarchy.optimal_leaf_ordering(Z_dg, selected_pert_df.T.values, metric='euclidean')\n",
    "#optimal_downstream_gene_order = selected_pert_df.T.index.values[scipy.cluster.hierarchy.leaves_list(Z_dg_optimal)]"
   ]
  },
  {
   "cell_type": "code",
   "execution_count": null,
   "metadata": {},
   "outputs": [],
   "source": [
    "fig, ax = plt.subplots(figsize=(22, 20))\n",
    "sns.heatmap(selected_pert_df.loc[optimal_pert_gene_order, optimal_downstream_gene_order],\n",
    "            center=0, cmap='seismic', vmax=0.5, vmin=-0.5, ax=ax)"
   ]
  },
  {
   "cell_type": "code",
   "execution_count": null,
   "metadata": {},
   "outputs": [],
   "source": [
    "import gseapy as gp\n",
    "GO_Biological_Process_2023 = gp.get_library(name='GO_Biological_Process_2023', organism='human')\n",
    "Reactome_2022 = gp.get_library(name='Reactome_2022', organism='human')\n",
    "CORUM = gp.get_library(name='CORUM', organism='human')\n",
    "KEGG_2021_Human = gp.get_library(name='KEGG_2021_Human', organism='human')"
   ]
  },
  {
   "cell_type": "code",
   "execution_count": null,
   "metadata": {},
   "outputs": [],
   "source": [
    "rnk_df = pd.DataFrame({\n",
    "    'gene': optimal_pert_gene_order, \n",
    "    'rank': -selected_pert_df.sum(axis=1).loc[optimal_pert_gene_order].values\n",
    "}).set_index('gene')\n",
    "rnk_df"
   ]
  },
  {
   "cell_type": "code",
   "execution_count": null,
   "metadata": {},
   "outputs": [],
   "source": [
    "pre_res = gp.prerank(rnk=rnk_df,\n",
    "                     gene_sets=[GO_Biological_Process_2023, Reactome_2022, CORUM, KEGG_2021_Human],\n",
    "                     threads=4,\n",
    "                     min_size=5,\n",
    "                     max_size=1000,\n",
    "                     permutation_num=1000, # reduce number to speed up testing\n",
    "                     outdir=None, # don't write to disk\n",
    "                     seed=6,\n",
    "                     verbose=True, # see what's going on behind the scenes\n",
    "                    )"
   ]
  },
  {
   "cell_type": "code",
   "execution_count": null,
   "metadata": {},
   "outputs": [],
   "source": [
    "pre_res.res2d.sort_values('NES').to_csv(\n",
    "    os.path.join(table_output_path, 'regulatory_submodules_16_pluripotency_markers.csv')\n",
    ")\n",
    "pre_res.res2d.sort_values('NES')"
   ]
  },
  {
   "cell_type": "code",
   "execution_count": null,
   "metadata": {},
   "outputs": [],
   "source": [
    "pre_res.res2d[pre_res.res2d['NES'] > 0][:60]"
   ]
  },
  {
   "cell_type": "code",
   "execution_count": null,
   "metadata": {},
   "outputs": [],
   "source": [
    "pre_res.res2d[pre_res.res2d['NES'] < 0][:20]"
   ]
  },
  {
   "cell_type": "code",
   "execution_count": null,
   "metadata": {},
   "outputs": [],
   "source": [
    "reg_module_genes = pre_res.res2d.loc[43, 'Lead_genes'].split(';')\n",
    "\n",
    "Z_pg = scipy.cluster.hierarchy.linkage(selected_pert_df.loc[reg_module_genes].values, method='average', metric='euclidean')\n",
    "Z_pg_optimal = scipy.cluster.hierarchy.optimal_leaf_ordering(Z_pg, selected_pert_df.loc[reg_module_genes].values, metric='euclidean')\n",
    "optimal_pert_gene_order = selected_pert_df.loc[reg_module_genes].index.values[scipy.cluster.hierarchy.leaves_list(Z_pg_optimal)]\n",
    "\n",
    "fig, ax = plt.subplots(figsize=(12, 10))\n",
    "sns.heatmap(selected_pert_df.loc[optimal_pert_gene_order, optimal_downstream_gene_order],\n",
    "            center=0, cmap='seismic', vmax=0.5, vmin=-0.5, ax=ax, rasterized=True,\n",
    "            cbar_kws={'label': 'gene expression shift'})\n",
    "\n",
    "ax.set_xticks(np.arange(len(optimal_downstream_gene_order)) + 0.5, optimal_downstream_gene_order, size=7)\n",
    "ax.set_yticks(np.arange(len(optimal_pert_gene_order)) + 0.5, optimal_pert_gene_order, size=7)\n",
    "\n",
    "ax.set_xlabel('Pluripotency markers')\n",
    "ax.set_ylabel('Mediator complex')\n",
    "\n",
    "fig.savefig(os.path.join(plot_output_path, f'regulatory_submodules_16_pluripotency_markers_mediator_complex.pdf'))\n"
   ]
  },
  {
   "cell_type": "code",
   "execution_count": null,
   "metadata": {},
   "outputs": [],
   "source": []
  }
 ],
 "metadata": {
  "kernelspec": {
   "display_name": "scmg",
   "language": "python",
   "name": "python3"
  },
  "language_info": {
   "codemirror_mode": {
    "name": "ipython",
    "version": 3
   },
   "file_extension": ".py",
   "mimetype": "text/x-python",
   "name": "python",
   "nbconvert_exporter": "python",
   "pygments_lexer": "ipython3",
   "version": "3.10.14"
  }
 },
 "nbformat": 4,
 "nbformat_minor": 2
}
