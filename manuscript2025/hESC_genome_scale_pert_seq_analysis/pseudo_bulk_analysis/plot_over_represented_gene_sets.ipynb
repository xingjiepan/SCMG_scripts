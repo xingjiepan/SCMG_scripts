{
 "cells": [
  {
   "cell_type": "code",
   "execution_count": null,
   "metadata": {},
   "outputs": [],
   "source": [
    "%load_ext autoreload\n",
    "%autoreload 2\n",
    "%config InlineBackend.figure_format='retina'"
   ]
  },
  {
   "cell_type": "code",
   "execution_count": null,
   "metadata": {},
   "outputs": [],
   "source": [
    "import os\n",
    "import json\n",
    "\n",
    "from tqdm import tqdm\n",
    "import numpy as np\n",
    "import scipy.spatial\n",
    "import pandas as pd\n",
    "import matplotlib.pyplot as plt\n",
    "import seaborn as sns\n",
    "\n",
    "import anndata\n",
    "import scanpy as sc"
   ]
  },
  {
   "cell_type": "code",
   "execution_count": null,
   "metadata": {},
   "outputs": [],
   "source": [
    "import gseapy as gp"
   ]
  },
  {
   "cell_type": "code",
   "execution_count": null,
   "metadata": {},
   "outputs": [],
   "source": [
    "plot_output_path = 'hesc_pseudobulk_gene_overrep_gene_set'\n",
    "os.makedirs(plot_output_path, exist_ok=True)"
   ]
  },
  {
   "cell_type": "code",
   "execution_count": null,
   "metadata": {},
   "outputs": [],
   "source": [
    "gp.get_library_name()"
   ]
  },
  {
   "cell_type": "code",
   "execution_count": null,
   "metadata": {},
   "outputs": [],
   "source": [
    "GO_Biological_Process_2023 = gp.get_library(name='GO_Biological_Process_2023', organism='human')\n",
    "Reactome_2022 = gp.get_library(name='Reactome_2022', organism='human')\n",
    "CORUM = gp.get_library(name='CORUM', organism='human')\n",
    "KEGG_2021_Human = gp.get_library(name='KEGG_2021_Human', organism='human')"
   ]
  },
  {
   "cell_type": "code",
   "execution_count": null,
   "metadata": {},
   "outputs": [],
   "source": [
    "dg_cluster_df = pd.read_csv('clustering/downstream_gene_clusters_hESC.csv', index_col=0)\n",
    "\n",
    "for ds_gene_module in np.unique(dg_cluster_df['leiden']):\n",
    "    selected_genes = list(dg_cluster_df[dg_cluster_df['leiden'] == ds_gene_module]['gene_name'].values)\n",
    "    \n",
    "    try:\n",
    "        enr = gp.enrichr(gene_list=selected_genes, \n",
    "                 gene_sets=[GO_Biological_Process_2023, Reactome_2022, CORUM, KEGG_2021_Human],\n",
    "                 organism='human', \n",
    "                 outdir=None, # don't write to disk\n",
    "                )\n",
    "        \n",
    "        gene_set_map = {\n",
    "            'gs_ind_0' : 'GO_Biological_Process_2023',\n",
    "            'gs_ind_1' : 'Reactome_2022',\n",
    "            'gs_ind_2' : 'CORUM',\n",
    "            'gs_ind_3' : 'KEGG_2021_Human',\n",
    "        }\n",
    "        enr.results['Gene_set'] = enr.results['Gene_set'].map(gene_set_map)\n",
    "\n",
    "        ax = gp.barplot(enr.results,\n",
    "                      column=\"Adjusted P-value\",\n",
    "                      group='Gene_set', \n",
    "                      size=10,\n",
    "                      top_term=4,\n",
    "                      figsize=(3,5),\n",
    "                      color=['darkred', 'darkblue', 'darkgreen', 'orange'] # set colors for group\n",
    "                     )\n",
    "        ax.set_title(f'readout gene cluster {ds_gene_module}')\n",
    "\n",
    "        fig = plt.gcf()\n",
    "        plt.savefig(f'{plot_output_path}/hESC_readout_cluster_{ds_gene_module}_overrep_g_sets.pdf')\n",
    "        plt.close(fig)\n",
    "\n",
    "    except:\n",
    "        continue"
   ]
  },
  {
   "cell_type": "code",
   "execution_count": null,
   "metadata": {},
   "outputs": [],
   "source": [
    "dg_cluster_df = pd.read_csv('clustering/perturbed_gene_clusters_hESC.csv', index_col=0)\n",
    "\n",
    "for ds_gene_module in np.unique(dg_cluster_df['leiden']):\n",
    "    selected_genes = list(dg_cluster_df[dg_cluster_df['leiden'] == ds_gene_module]['perturbed_gene_name'].values)\n",
    "    \n",
    "    try:\n",
    "        enr = gp.enrichr(gene_list=selected_genes, \n",
    "                 gene_sets=[GO_Biological_Process_2023, Reactome_2022, CORUM, KEGG_2021_Human],\n",
    "                 organism='human', \n",
    "                 outdir=None, # don't write to disk\n",
    "                )\n",
    "        \n",
    "        gene_set_map = {\n",
    "            'gs_ind_0' : 'GO_Biological_Process_2023',\n",
    "            'gs_ind_1' : 'Reactome_2022',\n",
    "            'gs_ind_2' : 'CORUM',\n",
    "            'gs_ind_3' : 'KEGG_2021_Human',\n",
    "        }\n",
    "        enr.results['Gene_set'] = enr.results['Gene_set'].map(gene_set_map)\n",
    "\n",
    "        ax = gp.barplot(enr.results,\n",
    "                      column=\"Adjusted P-value\",\n",
    "                      group='Gene_set', \n",
    "                      size=10,\n",
    "                      top_term=4,\n",
    "                      figsize=(3,5),\n",
    "                      color=['darkred', 'darkblue', 'darkgreen', 'orange'] # set colors for group\n",
    "                     )\n",
    "        ax.set_title(f'perturbed gene cluster {ds_gene_module}')\n",
    "\n",
    "        fig = plt.gcf()\n",
    "        plt.savefig(f'{plot_output_path}/hESC_perturbed_cluster_{ds_gene_module}_overrep_g_sets.pdf')\n",
    "        plt.close(fig)\n",
    "\n",
    "    except:\n",
    "        continue"
   ]
  },
  {
   "cell_type": "code",
   "execution_count": null,
   "metadata": {},
   "outputs": [],
   "source": []
  }
 ],
 "metadata": {
  "kernelspec": {
   "display_name": "scmg",
   "language": "python",
   "name": "python3"
  },
  "language_info": {
   "codemirror_mode": {
    "name": "ipython",
    "version": 3
   },
   "file_extension": ".py",
   "mimetype": "text/x-python",
   "name": "python",
   "nbconvert_exporter": "python",
   "pygments_lexer": "ipython3",
   "version": "3.10.14"
  }
 },
 "nbformat": 4,
 "nbformat_minor": 2
}
