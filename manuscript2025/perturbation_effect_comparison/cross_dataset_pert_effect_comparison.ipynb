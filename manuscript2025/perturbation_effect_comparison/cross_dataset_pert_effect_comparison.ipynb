{
 "cells": [
  {
   "cell_type": "code",
   "execution_count": null,
   "metadata": {},
   "outputs": [],
   "source": [
    "%load_ext autoreload\n",
    "%autoreload 2\n",
    "%config InlineBackend.figure_format='retina'"
   ]
  },
  {
   "cell_type": "code",
   "execution_count": null,
   "metadata": {},
   "outputs": [],
   "source": [
    "import os\n",
    "\n",
    "from tqdm import tqdm\n",
    "import numpy as np\n",
    "import pandas as pd\n",
    "import matplotlib.pyplot as plt\n",
    "import seaborn as sns\n",
    "\n",
    "import anndata\n",
    "import scanpy as sc\n",
    "import umap\n",
    "import scipy.stats\n",
    "\n",
    "import torch\n",
    "\n",
    "from scmg.model.contrastive_embedding import (CellEmbedder,  embed_adata)\n",
    "\n",
    "from scmg.preprocessing.data_standardization import GeneNameMapper\n",
    "gene_name_mapper = GeneNameMapper()\n"
   ]
  },
  {
   "cell_type": "code",
   "execution_count": null,
   "metadata": {},
   "outputs": [],
   "source": [
    "import matplotlib\n",
    "import matplotlib.pyplot as plt\n",
    "import seaborn as sns\n",
    "\n",
    "plt.rcParams[\"figure.autolayout\"] = False\n",
    "matplotlib.rc('pdf', fonttype=42)\n",
    "plt.rcParams['font.family'] = 'FreeSans'\n",
    "sc.set_figure_params(vector_friendly=True, dpi_save=300)\n",
    "plt.rcParams['axes.grid'] = False"
   ]
  },
  {
   "cell_type": "code",
   "execution_count": null,
   "metadata": {},
   "outputs": [],
   "source": [
    "# Load the autoencoder model\n",
    "model_ce_path = '../../contrastive_embedding/trained_embedder/'\n",
    "\n",
    "model_ce = torch.load(os.path.join(model_ce_path, 'model.pt'))\n",
    "model_ce.load_state_dict(torch.load(os.path.join(model_ce_path, 'best_state_dict.pth')))\n",
    "\n",
    "device = 'cuda:0'\n",
    "model_ce.to(device)\n",
    "model_ce.eval()"
   ]
  },
  {
   "cell_type": "code",
   "execution_count": null,
   "metadata": {},
   "outputs": [],
   "source": [
    "pert_data_files = [\n",
    "    '/GPUData_xingjie/SCMG/perturbation_data/AdamsonWeissman2016_GSM2406681_10X010.h5ad',\n",
    "    '/GPUData_xingjie/SCMG/perturbation_data/FrangiehIzar2021_RNA.h5ad',\n",
    "    '/GPUData_xingjie/SCMG/perturbation_data/hESC_TF_screen.h5ad',\n",
    "    '/GPUData_xingjie/SCMG/perturbation_data/JiangSatija2024_IFNB.h5ad',\n",
    "    '/GPUData_xingjie/SCMG/perturbation_data/JiangSatija2024_IFNG.h5ad',\n",
    "    '/GPUData_xingjie/SCMG/perturbation_data/JiangSatija2024_INS.h5ad',\n",
    "    '/GPUData_xingjie/SCMG/perturbation_data/JiangSatija2024_TGFB.h5ad',\n",
    "    '/GPUData_xingjie/SCMG/perturbation_data/JiangSatija2024_TNFA.h5ad',\n",
    "    '/GPUData_xingjie/SCMG/perturbation_data/Joung_TFScreen_HS_2023.h5ad',\n",
    "    '/GPUData_xingjie/SCMG/perturbation_data/knockTF_human.h5ad',\n",
    "    '/GPUData_xingjie/SCMG/perturbation_data/knockTF_mouse.h5ad',\n",
    "    #'/GPUData_xingjie/SCMG/perturbation_data/omnipath.h5ad',\n",
    "    '/GPUData_xingjie/SCMG/perturbation_data/PertOrg.h5ad',\n",
    "    '/GPUData_xingjie/SCMG/perturbation_data/ReplogleWeissman2022_K562_essential.h5ad',\n",
    "    '/GPUData_xingjie/SCMG/perturbation_data/ReplogleWeissman2022_K562_gwps.h5ad',\n",
    "    '/GPUData_xingjie/SCMG/perturbation_data/ReplogleWeissman2022_rpe1.h5ad',\n",
    "    '/GPUData_xingjie/SCMG/perturbation_data/TianKampmann2021_CRISPRa.h5ad',\n",
    "    '/GPUData_xingjie/SCMG/perturbation_data/TianKampmann2021_CRISPRi.h5ad',\n",
    "    #'/GPUData_xingjie/SCMG/hESC_perturb_seq/pseudo_bulk.h5ad', # Test\n",
    "]\n",
    "\n",
    "adata_pert_list = []\n",
    "for pdf in pert_data_files:\n",
    "    adata_pert_list.append(sc.read_h5ad(pdf))\n",
    "    print(os.path.basename(pdf), adata_pert_list[-1].shape[0])\n",
    "\n",
    "adata_pert = anndata.concat(adata_pert_list, axis=0)\n",
    "adata_pert.var['gene_name'] = adata_pert_list[0].var['gene_name']\n",
    "\n",
    "adata_pert"
   ]
  },
  {
   "cell_type": "code",
   "execution_count": null,
   "metadata": {},
   "outputs": [],
   "source": [
    "adata_pert_ctl = adata_pert.copy()\n",
    "adata_pert_ctl.X = np.exp(adata_pert_ctl.layers['control']) - 1\n",
    "embed_adata(model_ce, adata_pert_ctl, batch_size=8192)\n",
    "\n",
    "adata_pert.obsm['X_ctl_ce_latent'] = adata_pert_ctl.obsm['X_ce_latent']\n",
    "adata_pert"
   ]
  },
  {
   "cell_type": "code",
   "execution_count": null,
   "metadata": {},
   "outputs": [],
   "source": [
    "import scipy.spatial\n",
    "\n",
    "pert_compare_dict = {\n",
    "    'pert_id1' : [],\n",
    "    'pert_id2' : [],\n",
    "    'perturbed_gene' : [],\n",
    "    'perturbed_gene_name' : [],\n",
    "    'perturbation_sign1' : [],\n",
    "    'perturbation_sign2' : [],\n",
    "    'mag1' : [],\n",
    "    'mag2' : [],\n",
    "    'cosine_similarity' : [],\n",
    "    'emb_distance' : [],\n",
    "}\n",
    "\n",
    "for i in tqdm(range(adata_pert.shape[0] - 1)):\n",
    "    perturbed_gene1 = adata_pert.obs['perturbed_gene'].iloc[i]\n",
    "    perturbation_sign1 = adata_pert.obs['perturbation_sign'].iloc[i]\n",
    "    v1 = adata_pert.X[i]\n",
    "    mag1 = np.linalg.norm(v1)\n",
    "    emb1 = adata_pert.obsm['X_ctl_ce_latent'][i]\n",
    "\n",
    "    for j in range(i+1, adata_pert.shape[0]):\n",
    "        perturbed_gene2 = adata_pert.obs['perturbed_gene'].iloc[j]\n",
    "        perturbation_sign2 = adata_pert.obs['perturbation_sign'].iloc[j]\n",
    "\n",
    "        if perturbed_gene1 != perturbed_gene2:\n",
    "            continue\n",
    "\n",
    "        v2 = adata_pert.X[j]\n",
    "        mag2 = np.linalg.norm(v2)\n",
    "        emb2 = adata_pert.obsm['X_ctl_ce_latent'][j]\n",
    "\n",
    "        # Mask out the perturbed gene itself\n",
    "        mask = np.ones(adata_pert.shape[1], dtype=bool)\n",
    "        if perturbed_gene1 in adata_pert.var.index:\n",
    "            mask[adata_pert.var.index.get_loc(perturbed_gene1)] = False\n",
    "\n",
    "        cos_sim = 1 - scipy.spatial.distance.cosine(v1[mask], v2[mask])\n",
    "        emb_dist = np.linalg.norm(emb1 - emb2)\n",
    "\n",
    "        pert_compare_dict['pert_id1'].append(adata_pert.obs.index[i])\n",
    "        pert_compare_dict['pert_id2'].append(adata_pert.obs.index[j])\n",
    "        pert_compare_dict['perturbed_gene'].append(perturbed_gene1)\n",
    "        pert_compare_dict['perturbed_gene_name'].append(adata_pert.obs['perturbed_gene_name'].iloc[i])\n",
    "        pert_compare_dict['perturbation_sign1'].append(perturbation_sign1)\n",
    "        pert_compare_dict['perturbation_sign2'].append(perturbation_sign2)\n",
    "        pert_compare_dict['mag1'].append(mag1)\n",
    "        pert_compare_dict['mag2'].append(mag2)\n",
    "        pert_compare_dict['cosine_similarity'].append(cos_sim)\n",
    "        pert_compare_dict['emb_distance'].append(emb_dist)\n",
    "\n",
    "pert_compare_df = pd.DataFrame(pert_compare_dict)\n",
    "pert_compare_df = pert_compare_df[pert_compare_df['emb_distance'] != 0]\n",
    "pert_compare_df.to_parquet('pert_compare_df.parquet')\n",
    "pert_compare_df"
   ]
  },
  {
   "cell_type": "code",
   "execution_count": null,
   "metadata": {},
   "outputs": [],
   "source": [
    "pert_compare_df = pd.read_parquet('pert_compare_df.parquet')\n",
    "pert_compare_df = pert_compare_df[(~pert_compare_df['pert_id1'].str.startswith('hESC_perturb_seq')) \n",
    "                            & (~pert_compare_df['pert_id2'].str.startswith('hESC_perturb_seq'))]\n",
    "\n",
    "# Remove potentional duplates\n",
    "pert_compare_df = pert_compare_df[np.abs(pert_compare_df['cosine_similarity']) < 0.95]\n",
    "\n",
    "sim_sign_pert_compare_df = pert_compare_df[pert_compare_df['perturbation_sign1'] == pert_compare_df['perturbation_sign2']].copy()\n",
    "diff_sign_pert_compare_df = pert_compare_df[pert_compare_df['perturbation_sign1'] != pert_compare_df['perturbation_sign2']].copy()"
   ]
  },
  {
   "cell_type": "code",
   "execution_count": null,
   "metadata": {},
   "outputs": [],
   "source": [
    "np.mean(sim_sign_pert_compare_df['cosine_similarity']), np.std(sim_sign_pert_compare_df['cosine_similarity'])"
   ]
  },
  {
   "cell_type": "code",
   "execution_count": null,
   "metadata": {},
   "outputs": [],
   "source": [
    "np.mean(diff_sign_pert_compare_df['cosine_similarity']), np.std(diff_sign_pert_compare_df['cosine_similarity'])"
   ]
  },
  {
   "cell_type": "code",
   "execution_count": null,
   "metadata": {},
   "outputs": [],
   "source": [
    "from sklearn.linear_model import LinearRegression\n",
    "from sklearn.metrics import explained_variance_score\n",
    "\n",
    "X = np.array([\n",
    "    sim_sign_pert_compare_df['emb_distance'].values,\n",
    "    np.minimum(sim_sign_pert_compare_df['mag1'], sim_sign_pert_compare_df['mag2'])\n",
    "    #sim_sign_pert_compare_df['mag1'].values,\n",
    "    #sim_sign_pert_compare_df['mag2'].values\n",
    "    ]).T\n",
    "y = sim_sign_pert_compare_df['cosine_similarity'].values\n",
    "\n",
    "reg = LinearRegression().fit(X, y)\n",
    "\n",
    "y_pred = reg.predict(X)\n",
    "explained_variance_score(y, y_pred)"
   ]
  },
  {
   "cell_type": "code",
   "execution_count": null,
   "metadata": {},
   "outputs": [],
   "source": [
    "import scipy.stats\n",
    "\n",
    "plt.scatter(sim_sign_pert_compare_df['emb_distance'], sim_sign_pert_compare_df['cosine_similarity'],\n",
    "            c=np.minimum(sim_sign_pert_compare_df['mag1'], sim_sign_pert_compare_df['mag2']), \n",
    "            vmin=0, vmax=18, s=0.1, cmap='gnuplot')\n",
    "\n",
    "scipy.stats.pearsonr(sim_sign_pert_compare_df['emb_distance'], sim_sign_pert_compare_df['cosine_similarity'])"
   ]
  },
  {
   "cell_type": "code",
   "execution_count": null,
   "metadata": {},
   "outputs": [],
   "source": [
    "import scipy.stats\n",
    "\n",
    "plt.scatter(diff_sign_pert_compare_df['emb_distance'], diff_sign_pert_compare_df['cosine_similarity'],\n",
    "            c=np.minimum(diff_sign_pert_compare_df['mag1'], diff_sign_pert_compare_df['mag2']), \n",
    "            vmin=0, vmax=18, s=0.1, cmap='gnuplot')\n",
    "\n",
    "scipy.stats.pearsonr(diff_sign_pert_compare_df['emb_distance'], diff_sign_pert_compare_df['cosine_similarity'])"
   ]
  },
  {
   "cell_type": "code",
   "execution_count": null,
   "metadata": {},
   "outputs": [],
   "source": [
    "sns.jointplot(data=sim_sign_pert_compare_df, x='emb_distance', y='cosine_similarity', kind='hex', bins='log',\n",
    "              xlim=(-0.5, 9), ylim=(-0.7, 1))"
   ]
  },
  {
   "cell_type": "code",
   "execution_count": null,
   "metadata": {},
   "outputs": [],
   "source": [
    "sns.jointplot(data=diff_sign_pert_compare_df, x='emb_distance', y='cosine_similarity', kind='hex', bins='log',\n",
    "              xlim=(-0.5, 9), ylim=(-0.7, 1))"
   ]
  },
  {
   "cell_type": "code",
   "execution_count": null,
   "metadata": {},
   "outputs": [],
   "source": [
    "x = np.minimum(sim_sign_pert_compare_df['mag1'], sim_sign_pert_compare_df['mag2']).values\n",
    "y = sim_sign_pert_compare_df['cosine_similarity'].values\n",
    "z = sim_sign_pert_compare_df['emb_distance'].values\n",
    "\n",
    "order = np.arange(len(x))\n",
    "np.random.shuffle(order)\n",
    "\n",
    "fig, ax = plt.subplots(figsize=(5.3, 4), dpi=300)\n",
    "sct = ax.scatter(x[order], y[order], c=z[order], \n",
    "            vmin=0, vmax=8, s=0.6, alpha=1, cmap='cool_r', edgecolors='none',\n",
    "            rasterized=True)\n",
    "fig.colorbar(sct, label='embedding distance')\n",
    "ax.set_xlim(0, 20)\n",
    "ax.set_ylim(-0.5, 1)\n",
    "ax.set_xlabel('Min perturbation magnitude')\n",
    "ax.set_ylabel('Cosine similarity')\n",
    "\n",
    "scipy.stats.pearsonr(x, y)\n",
    "\n",
    "fig.savefig('pert_dataset_stats/pert_condition_compare_scatter.pdf')"
   ]
  },
  {
   "cell_type": "code",
   "execution_count": null,
   "metadata": {},
   "outputs": [],
   "source": [
    "x = np.minimum(sim_sign_pert_compare_df['mag1'], sim_sign_pert_compare_df['mag2']).values\n",
    "y = sim_sign_pert_compare_df['cosine_similarity'].values\n",
    "z = sim_sign_pert_compare_df['emb_distance'].values\n",
    "\n",
    "order = np.arange(len(x))\n",
    "np.random.shuffle(order)\n",
    "\n",
    "fig, ax = plt.subplots(figsize=(5.3, 4), dpi=300)\n",
    "sct = ax.scatter(x[order], z[order], c=y[order], \n",
    "             cmap='coolwarm', s=1, vmin=-0.7, vmax=0.7, alpha=1, edgecolors='none')\n",
    "fig.colorbar(sct, label='cosine similarity')\n",
    "ax.set_xlim(0, 20)\n",
    "\n",
    "ax.set_xlabel('Min perturbation magnitude')\n",
    "ax.set_ylabel('Embedding distance')"
   ]
  },
  {
   "cell_type": "code",
   "execution_count": null,
   "metadata": {},
   "outputs": [],
   "source": [
    "selected_pert_compare_df = sim_sign_pert_compare_df[\n",
    "    np.logical_xor(sim_sign_pert_compare_df['pert_id1'].str.startswith('ReplogleWeissman2022'),\n",
    "    sim_sign_pert_compare_df['pert_id2'].str.startswith('ReplogleWeissman2022'))\n",
    "]\n",
    "\n",
    "plt.scatter(selected_pert_compare_df['emb_distance'], selected_pert_compare_df['cosine_similarity'], s=1)\n",
    "scipy.stats.pearsonr(selected_pert_compare_df['emb_distance'], selected_pert_compare_df['cosine_similarity'])"
   ]
  },
  {
   "cell_type": "code",
   "execution_count": null,
   "metadata": {},
   "outputs": [],
   "source": []
  }
 ],
 "metadata": {
  "kernelspec": {
   "display_name": "scmg",
   "language": "python",
   "name": "python3"
  },
  "language_info": {
   "codemirror_mode": {
    "name": "ipython",
    "version": 3
   },
   "file_extension": ".py",
   "mimetype": "text/x-python",
   "name": "python",
   "nbconvert_exporter": "python",
   "pygments_lexer": "ipython3",
   "version": "3.10.14"
  }
 },
 "nbformat": 4,
 "nbformat_minor": 2
}
