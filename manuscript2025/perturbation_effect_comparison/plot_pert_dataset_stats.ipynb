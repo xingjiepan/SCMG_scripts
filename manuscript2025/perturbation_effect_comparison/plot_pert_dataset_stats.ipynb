{
 "cells": [
  {
   "cell_type": "code",
   "execution_count": null,
   "metadata": {},
   "outputs": [],
   "source": [
    "%load_ext autoreload\n",
    "%autoreload 2\n",
    "%config InlineBackend.figure_format='retina'"
   ]
  },
  {
   "cell_type": "code",
   "execution_count": null,
   "metadata": {},
   "outputs": [],
   "source": [
    "import os\n",
    "import json\n",
    "\n",
    "from tqdm import tqdm\n",
    "import numpy as np\n",
    "import scipy.spatial\n",
    "import pandas as pd\n",
    "import matplotlib.pyplot as plt\n",
    "import seaborn as sns\n",
    "\n",
    "import anndata\n",
    "import scanpy as sc"
   ]
  },
  {
   "cell_type": "code",
   "execution_count": null,
   "metadata": {},
   "outputs": [],
   "source": [
    "from scmg.preprocessing.data_standardization import GeneNameMapper, standardize_adata\n",
    "from scmg.model.causal_prediction import CausalGenePredictor\n",
    "\n",
    "gene_name_mapper = GeneNameMapper()"
   ]
  },
  {
   "cell_type": "code",
   "execution_count": null,
   "metadata": {},
   "outputs": [],
   "source": [
    "output_path = 'pert_dataset_stats'\n",
    "os.makedirs(output_path, exist_ok=True)"
   ]
  },
  {
   "cell_type": "code",
   "execution_count": null,
   "metadata": {},
   "outputs": [],
   "source": [
    "pert_data_files = [\n",
    "    '/GPUData_xingjie/SCMG/perturbation_data/AdamsonWeissman2016_GSM2406681_10X010.h5ad',\n",
    "    '/GPUData_xingjie/SCMG/perturbation_data/FrangiehIzar2021_RNA.h5ad',\n",
    "    '/GPUData_xingjie/SCMG/perturbation_data/hESC_TF_screen.h5ad',\n",
    "    '/GPUData_xingjie/SCMG/perturbation_data/JiangSatija2024_IFNB.h5ad',\n",
    "    '/GPUData_xingjie/SCMG/perturbation_data/JiangSatija2024_IFNG.h5ad',\n",
    "    '/GPUData_xingjie/SCMG/perturbation_data/JiangSatija2024_INS.h5ad',\n",
    "    '/GPUData_xingjie/SCMG/perturbation_data/JiangSatija2024_TGFB.h5ad',\n",
    "    '/GPUData_xingjie/SCMG/perturbation_data/JiangSatija2024_TNFA.h5ad',\n",
    "    '/GPUData_xingjie/SCMG/perturbation_data/Joung_TFScreen_HS_2023.h5ad',\n",
    "    '/GPUData_xingjie/SCMG/perturbation_data/knockTF_human.h5ad',\n",
    "    '/GPUData_xingjie/SCMG/perturbation_data/knockTF_mouse.h5ad',\n",
    "    #'/GPUData_xingjie/SCMG/perturbation_data/omnipath.h5ad',\n",
    "    '/GPUData_xingjie/SCMG/perturbation_data/PertOrg.h5ad',\n",
    "    '/GPUData_xingjie/SCMG/perturbation_data/ReplogleWeissman2022_K562_essential.h5ad',\n",
    "    '/GPUData_xingjie/SCMG/perturbation_data/ReplogleWeissman2022_K562_gwps.h5ad',\n",
    "    '/GPUData_xingjie/SCMG/perturbation_data/ReplogleWeissman2022_rpe1.h5ad',\n",
    "    '/GPUData_xingjie/SCMG/perturbation_data/TianKampmann2021_CRISPRa.h5ad',\n",
    "    '/GPUData_xingjie/SCMG/perturbation_data/TianKampmann2021_CRISPRi.h5ad',\n",
    "]\n",
    "\n",
    "adata_pert_list = []\n",
    "for pdf in pert_data_files:\n",
    "    adata_local = sc.read_h5ad(pdf)\n",
    "    adata_local.obs['data_file'] = os.path.basename(pdf).split('.')[0]\n",
    "    adata_pert_list.append(adata_local)\n",
    "    print(os.path.basename(pdf), adata_pert_list[-1].shape[0])\n",
    "\n",
    "adata_pert = anndata.concat(adata_pert_list, axis=0)\n",
    "adata_pert.var['gene_name'] = adata_pert_list[0].var['gene_name']\n",
    "\n",
    "adata_pert"
   ]
  },
  {
   "cell_type": "code",
   "execution_count": null,
   "metadata": {},
   "outputs": [],
   "source": [
    "adata_pert.obs['data_file'].value_counts()"
   ]
  },
  {
   "cell_type": "code",
   "execution_count": null,
   "metadata": {},
   "outputs": [],
   "source": [
    "species_map = {\n",
    "    'ReplogleWeissman2022_K562_gwps' : 'human',\n",
    "    'PertOrg' : 'mouse',\n",
    "    'ReplogleWeissman2022_K562_essential' : 'human',\n",
    "    'ReplogleWeissman2022_rpe1' : 'human',\n",
    "    'knockTF_human' : 'human',\n",
    "    'knockTF_mouse' : 'mouse',\n",
    "    'hESC_TF_screen' : 'human',\n",
    "    'JiangSatija2024_IFNB' : 'human',\n",
    "    'JiangSatija2024_TNFA' : 'human',\n",
    "    'JiangSatija2024_TGFB' : 'human',\n",
    "    'JiangSatija2024_IFNG' : 'human',\n",
    "    'JiangSatija2024_INS' : 'human',\n",
    "    'FrangiehIzar2021_RNA' : 'human',\n",
    "    'TianKampmann2021_CRISPRi' : 'human',\n",
    "    'TianKampmann2021_CRISPRa' : 'human',\n",
    "    'AdamsonWeissman2016_GSM2406681_10X010' : 'human',\n",
    "    'Joung_TFScreen_HS_2023' : 'human',\n",
    "}\n",
    "\n",
    "adata_pert.obs['species'] = adata_pert.obs['data_file'].map(species_map)\n",
    "species_counts = adata_pert.obs['species'].value_counts()\n",
    "\n",
    "fig, ax = plt.subplots(figsize=(3, 3), dpi=300)\n",
    "\n",
    "ax.pie(species_counts.values, labels=species_counts.index, autopct=lambda p: '{:.0f}'.format(p * species_counts.sum() / 100))\n",
    "ax.set_title('species')\n",
    "fig.savefig(f'{output_path}/species_pie.pdf')"
   ]
  },
  {
   "cell_type": "code",
   "execution_count": null,
   "metadata": {},
   "outputs": [],
   "source": [
    "exp_type_map = {\n",
    "    'ReplogleWeissman2022_K562_gwps' : 'single-cell',\n",
    "    'PertOrg' : 'bulk',\n",
    "    'ReplogleWeissman2022_K562_essential' : 'single-cell',\n",
    "    'ReplogleWeissman2022_rpe1' : 'single-cell',\n",
    "    'knockTF_human' : 'bulk',\n",
    "    'knockTF_mouse' : 'bulk',\n",
    "    'hESC_TF_screen' : 'bulk',\n",
    "    'JiangSatija2024_IFNB' : 'single-cell',\n",
    "    'JiangSatija2024_TNFA' : 'single-cell',\n",
    "    'JiangSatija2024_TGFB' : 'single-cell',\n",
    "    'JiangSatija2024_IFNG' : 'single-cell',\n",
    "    'JiangSatija2024_INS' : 'single-cell',\n",
    "    'FrangiehIzar2021_RNA' : 'single-cell',\n",
    "    'TianKampmann2021_CRISPRi' : 'single-cell',\n",
    "    'TianKampmann2021_CRISPRa' : 'single-cell',\n",
    "    'AdamsonWeissman2016_GSM2406681_10X010' : 'single-cell',\n",
    "    'Joung_TFScreen_HS_2023' : 'single-cell',\n",
    "}\n",
    "\n",
    "adata_pert.obs['exp_type'] = adata_pert.obs['data_file'].map(exp_type_map)\n",
    "exp_type_counts = adata_pert.obs['exp_type'].value_counts()\n",
    "\n",
    "fig, ax = plt.subplots(figsize=(3, 3), dpi=300)\n",
    "\n",
    "ax.pie(exp_type_counts.values, labels=exp_type_counts.index, autopct=lambda p: '{:.0f}'.format(p * species_counts.sum() / 100))\n",
    "ax.set_title('experiment type')\n",
    "fig.savefig(f'{output_path}/exp_type_pie.pdf')"
   ]
  },
  {
   "cell_type": "code",
   "execution_count": null,
   "metadata": {},
   "outputs": [],
   "source": [
    "pert_dir_counts = adata_pert.obs['perturbation_sign'].value_counts()\n",
    "\n",
    "fig, ax = plt.subplots(figsize=(3, 3), dpi=300)\n",
    "\n",
    "ax.pie(pert_dir_counts.values, labels=pert_dir_counts.index.map({-1: 'down', 1: 'up'}), autopct=lambda p: '{:.0f}'.format(p * species_counts.sum() / 100))\n",
    "ax.set_title('perturbation direction')\n",
    "fig.savefig(f'{output_path}/pert_dir_pie.pdf')"
   ]
  },
  {
   "cell_type": "code",
   "execution_count": null,
   "metadata": {},
   "outputs": [],
   "source": [
    "dataset_map = {\n",
    "    'ReplogleWeissman2022_K562_gwps' : 'Replogle2022_K562',\n",
    "    'PertOrg' : 'PertOrg',\n",
    "    'ReplogleWeissman2022_K562_essential' : 'Replogle2022_K562',\n",
    "    'ReplogleWeissman2022_rpe1' : 'Replogle2022_rpe1',\n",
    "    'knockTF_human' : 'knockTF',\n",
    "    'knockTF_mouse' : 'knockTF',\n",
    "    'hESC_TF_screen' : 'Nakatake2020',\n",
    "    'JiangSatija2024_IFNB' : 'Jiang2024',\n",
    "    'JiangSatija2024_TNFA' : 'Jiang2024',\n",
    "    'JiangSatija2024_TGFB' : 'Jiang2024',\n",
    "    'JiangSatija2024_IFNG' : 'Jiang2024',\n",
    "    'JiangSatija2024_INS' : 'Jiang2024',\n",
    "    'FrangiehIzar2021_RNA' : 'Frangieh2021',\n",
    "    'TianKampmann2021_CRISPRi' : 'Tian2021_CRISPRi',\n",
    "    'TianKampmann2021_CRISPRa' : 'Tian2021_CRISPRa',\n",
    "    'AdamsonWeissman2016_GSM2406681_10X010' : 'Adamson2016',\n",
    "    'Joung_TFScreen_HS_2023' : 'Joung2023',\n",
    "}\n",
    "\n",
    "adata_pert.obs['dataset'] = adata_pert.obs['data_file'].map(dataset_map)\n",
    "dataset_counts = adata_pert.obs['dataset'].value_counts()\n",
    "\n",
    "fig, ax = plt.subplots(figsize=(3, 3), dpi=300)\n",
    "\n",
    "ax.bar(dataset_counts.index, dataset_counts.values, color='gray')\n",
    "ax.tick_params(axis='x', rotation=90)\n",
    "\n",
    "ax.set_xlabel('Dataset')\n",
    "ax.set_ylabel('Number of perturbations')\n",
    "fig.savefig(f'{output_path}/dataset_bar.pdf')"
   ]
  },
  {
   "cell_type": "code",
   "execution_count": null,
   "metadata": {},
   "outputs": [],
   "source": [
    "dataset_counts"
   ]
  },
  {
   "cell_type": "code",
   "execution_count": null,
   "metadata": {},
   "outputs": [],
   "source": [
    "pert_gene_counts = adata_pert.obs['perturbed_gene'].value_counts()\n",
    "\n",
    "fig, ax = plt.subplots(figsize=(3, 3), dpi=300)\n",
    "ax.hist(pert_gene_counts, bins=np.arange(-0.5, 11.5, 1), color='gray')\n",
    "ax.set_xticks(range(0, 15, 1))\n",
    "ax.grid(False)\n",
    "ax.set_xlim(0, 10)\n",
    "ax.set_xlabel('Number of perturbations')\n",
    "ax.set_ylabel('Gene counts')\n",
    "fig.savefig(f'{output_path}/pert_gene_hist.pdf')"
   ]
  },
  {
   "cell_type": "code",
   "execution_count": null,
   "metadata": {},
   "outputs": [],
   "source": []
  }
 ],
 "metadata": {
  "kernelspec": {
   "display_name": "scmg",
   "language": "python",
   "name": "python3"
  },
  "language_info": {
   "codemirror_mode": {
    "name": "ipython",
    "version": 3
   },
   "file_extension": ".py",
   "mimetype": "text/x-python",
   "name": "python",
   "nbconvert_exporter": "python",
   "pygments_lexer": "ipython3",
   "version": "3.10.14"
  }
 },
 "nbformat": 4,
 "nbformat_minor": 2
}
