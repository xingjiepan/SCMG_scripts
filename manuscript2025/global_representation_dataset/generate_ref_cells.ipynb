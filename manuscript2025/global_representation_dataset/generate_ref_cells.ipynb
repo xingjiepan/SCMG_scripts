{
 "cells": [
  {
   "cell_type": "code",
   "execution_count": null,
   "metadata": {},
   "outputs": [],
   "source": [
    "%load_ext autoreload\n",
    "%autoreload 2\n",
    "%config InlineBackend.figure_format='retina'"
   ]
  },
  {
   "cell_type": "code",
   "execution_count": null,
   "metadata": {},
   "outputs": [],
   "source": [
    "import os\n",
    "\n",
    "from tqdm.auto import tqdm\n",
    "import numpy as np\n",
    "import pandas as pd\n",
    "import scipy.sparse\n",
    "\n",
    "import anndata\n",
    "import scanpy as sc\n",
    "import datasets\n",
    "from datasets import Dataset\n",
    "\n",
    "import torch\n",
    "from scmg.model.contrastive_embedding import (CellEmbedder, \n",
    "                         embed_adata)"
   ]
  },
  {
   "cell_type": "code",
   "execution_count": null,
   "metadata": {},
   "outputs": [],
   "source": [
    "# Load the autoencoder model\n",
    "model_ce_path = '../contrastive_embedding/trained_embedder/'\n",
    "\n",
    "model_ce = torch.load(os.path.join(model_ce_path, 'model.pt'))\n",
    "model_ce.load_state_dict(torch.load(os.path.join(model_ce_path, 'best_state_dict.pth')))\n",
    "\n",
    "device = 'cuda:0'\n",
    "model_ce.to(device)\n",
    "model_ce.eval()"
   ]
  },
  {
   "cell_type": "code",
   "execution_count": null,
   "metadata": {},
   "outputs": [],
   "source": [
    "dataset_names = [\n",
    "    'standard_adata_AllenBrain_WB_MM_2023_all',\n",
    "    'standard_adata_Allen_BrainAging_MM_2022_all',\n",
    "    'standard_adata_Arutyunyan_Placenta_HS_2023_all',\n",
    "    'standard_adata_Bhaduri_CtxDev_HS_2021_all',\n",
    "    'standard_adata_Cao_dev_HS_2020_all',\n",
    "    'standard_adata_Conde_Immune_HS_2022_all',\n",
    "    'standard_adata_Cowan_Retina_HS_2020_fovea',\n",
    "    'standard_adata_Cowan_Retina_HS_2020_periphery',\n",
    "    'standard_adata_Deng_CarT_HS_2020_all',\n",
    "    'standard_adata_Elmentaite_intestine_HS_2021_all',\n",
    "    'standard_adata_Enge_Pancrea_HS_2017_all',\n",
    "    'standard_adata_Eraslan_MultiTissue_HS_2022_all',\n",
    "    'standard_adata_Fawkner-Corbett_IntestineDev_HS_2021_all',\n",
    "    'standard_adata_Han_HS_2020_all',\n",
    "    'standard_adata_He_LungDev_HS_2022_all',\n",
    "    'standard_adata_Hrovatin_Pancrea_MM_2022_all',\n",
    "    'standard_adata_Jardine_BloodDev_HS_2021_normal',\n",
    "    'standard_adata_Khaled_Breast_HS_2023_all',\n",
    "    'standard_adata_Kuppe_Heart_HS_2022_all',\n",
    "    'standard_adata_LaManno_WBDev_MM_2021_all',\n",
    "    'standard_adata_Lake_Kidney_HS_2023_all',\n",
    "    'standard_adata_Lengyel_FallopianTube_HS_2022_all',\n",
    "    'standard_adata_Litvinukova_Heart_HS_2020_all',\n",
    "    'standard_adata_Park_Thymus_HS_2020_all',\n",
    "    'standard_adata_Qiu_Organogenesis_MM_2022_all',\n",
    "    'standard_adata_Qiu_whole_embryo_dev_MM_2024_all',\n",
    "    'standard_adata_Sikkema_Lung_HS_2023_core',\n",
    "    'standard_adata_Streets_Adipose_HS_2023_all',\n",
    "    'standard_adata_Suo_ImmuneDev_HS_2022_all',\n",
    "    'standard_adata_Tabula_Muris_MM_2020_10x',\n",
    "    'standard_adata_Tabula_Muris_MM_2020_smart-seq',\n",
    "    'standard_adata_Tabula_Sapiens_HS_2022_all',\n",
    "    'standard_adata_Tyser_Embryo_HS_2021_all',\n",
    "    'standard_adata_VentoTormo_Placenta_HS_2018_all',\n",
    "    'standard_adata_Wiedemann_Skin_HS_2023_all',\n",
    "    'standard_adata_Yanagida_Blastocyst_HS_2021_all',\n",
    "    'standard_adata_Yu_MultiTissue_HS_2021_all'\n",
    " ]\n",
    "\n",
    "import json\n",
    "with open('dataset_cell_types.json', 'r') as f:\n",
    "    ds_ct_dict = json.load(f)"
   ]
  },
  {
   "cell_type": "code",
   "execution_count": null,
   "metadata": {},
   "outputs": [],
   "source": [
    "standard_gene_df = pd.read_csv(\n",
    "    '/GPUData_xingjie/Softwares/SCMG_dev/scmg/data/standard_genes.csv')\n",
    "standard_ids = list(standard_gene_df['human_id'])\n",
    "\n",
    "adata_input_path = '/GPUData_xingjie/SCMG/sc_rna_data/'"
   ]
  },
  {
   "cell_type": "code",
   "execution_count": null,
   "metadata": {},
   "outputs": [],
   "source": [
    "adata_ce_list = []\n",
    "\n",
    "for ds in ds_ct_dict:\n",
    "    dataset_name = f'standard_adata_{ds}'.replace(':', '_')\n",
    "    if dataset_name not in dataset_names:\n",
    "        continue\n",
    "\n",
    "    print(dataset_name)\n",
    "    adata = sc.read_h5ad(os.path.join(adata_input_path, f'{dataset_name}.h5ad'))\n",
    "    display(adata)\n",
    "\n",
    "    # Choose cell types to keep\n",
    "    adata = adata[adata.obs['cell_type'].isin(ds_ct_dict[ds])]\n",
    "\n",
    "    # Subset to the standard genes\n",
    "    common_genes = np.intersect1d(standard_ids, adata.var['human_gene_id'])\n",
    "    adata = adata[:, adata.var['human_gene_id'].isin(common_genes)].copy()\n",
    "    adata.var.index = adata.var['human_gene_id']\n",
    "    sc.pp.filter_cells(adata, min_genes=100)\n",
    "    display(adata)\n",
    "\n",
    "    # Extract seed cells for each cell type\n",
    "    cell_types = list(adata.obs['cell_type'].value_counts().index)\n",
    "    selected_cells = []\n",
    "    for ct in cell_types:\n",
    "        ct_cell_ids = list(adata.obs.index[adata.obs['cell_type'] == ct])\n",
    "\n",
    "        if len(ct_cell_ids) > 100:\n",
    "            ct_cell_ids = list(np.random.choice(ct_cell_ids, 100, replace=False))\n",
    "\n",
    "        selected_cells.extend(ct_cell_ids)\n",
    "\n",
    "    adata_selected = adata[selected_cells].copy()\n",
    "    embed_adata(model_ce, adata_selected)\n",
    "\n",
    "    local_adata_ce = anndata.AnnData(\n",
    "        X=adata_selected.obsm['X_ce_latent'],\n",
    "        obs=adata_selected.obs.copy()\n",
    "    )\n",
    "    adata_ce_list.append(local_adata_ce)\n",
    "\n",
    "adata_ce = anndata.concat(adata_ce_list)\n",
    "adata_ce.write_h5ad('ref_cell_adata.h5ad')"
   ]
  },
  {
   "cell_type": "markdown",
   "metadata": {},
   "source": [
    "# Generate the reference UMAP"
   ]
  },
  {
   "cell_type": "code",
   "execution_count": null,
   "metadata": {},
   "outputs": [],
   "source": [
    "ref_cell_emb_adata = sc.read_h5ad('ref_cell_adata.h5ad')\n",
    "ref_cell_emb_adata"
   ]
  },
  {
   "cell_type": "code",
   "execution_count": null,
   "metadata": {},
   "outputs": [],
   "source": [
    "# Map cell types to major cell types\n",
    "major_ct_df = pd.read_csv('../cell_type_analysis/major_cell_type_annotation.csv')\n",
    "ct_to_mct_map = {row['cell_type']: row['major_cell_type'] \n",
    "                for _, row in major_ct_df.iterrows()}\n",
    "\n",
    "ref_cell_emb_adata.obs['major_cell_type'] = ref_cell_emb_adata.obs[\n",
    "                                        'cell_type'].map(ct_to_mct_map)\n",
    "ref_cell_emb_adata"
   ]
  },
  {
   "cell_type": "code",
   "execution_count": null,
   "metadata": {},
   "outputs": [],
   "source": [
    "sc.pp.neighbors(ref_cell_emb_adata, use_rep='X', n_neighbors=50)\n",
    "\n",
    "sc.tl.paga(ref_cell_emb_adata, groups='cell_type')\n",
    "sc.pl.paga(ref_cell_emb_adata, plot=False)  \n",
    "sc.tl.umap(ref_cell_emb_adata, init_pos='paga')\n",
    "\n",
    "#sc.tl.umap(ref_cell_emb_adata)"
   ]
  },
  {
   "cell_type": "code",
   "execution_count": null,
   "metadata": {},
   "outputs": [],
   "source": [
    "sc.pl.umap(ref_cell_emb_adata, color='dataset_id')\n",
    "sc.pl.umap(ref_cell_emb_adata, color='major_cell_type')\n",
    "sc.pl.umap(ref_cell_emb_adata, color='major_cell_type', legend_loc='on data', \n",
    "           legend_fontsize=6)"
   ]
  },
  {
   "cell_type": "code",
   "execution_count": null,
   "metadata": {},
   "outputs": [],
   "source": [
    "import matplotlib.pyplot as plt\n",
    "\n",
    "fig, ax = plt.subplots(figsize=(20, 20), dpi=200)\n",
    "sc.pl.umap(ref_cell_emb_adata, color='cell_type', palette='tab20',\n",
    "           legend_loc='on data', legend_fontsize=2, ax=ax, s=10)"
   ]
  },
  {
   "cell_type": "code",
   "execution_count": null,
   "metadata": {},
   "outputs": [],
   "source": [
    "# Save the adata with the UMAP\n",
    "ref_cell_emb_adata.write_h5ad('ref_cell_adata.h5ad')"
   ]
  },
  {
   "cell_type": "code",
   "execution_count": null,
   "metadata": {},
   "outputs": [],
   "source": []
  }
 ],
 "metadata": {
  "kernelspec": {
   "display_name": "scmg",
   "language": "python",
   "name": "python3"
  },
  "language_info": {
   "codemirror_mode": {
    "name": "ipython",
    "version": 3
   },
   "file_extension": ".py",
   "mimetype": "text/x-python",
   "name": "python",
   "nbconvert_exporter": "python",
   "pygments_lexer": "ipython3",
   "version": "3.10.14"
  }
 },
 "nbformat": 4,
 "nbformat_minor": 2
}
