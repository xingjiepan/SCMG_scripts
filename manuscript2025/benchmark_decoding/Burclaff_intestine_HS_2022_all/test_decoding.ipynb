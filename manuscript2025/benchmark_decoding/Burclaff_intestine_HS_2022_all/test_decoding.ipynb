{
 "cells": [
  {
   "cell_type": "code",
   "execution_count": null,
   "metadata": {},
   "outputs": [],
   "source": [
    "%load_ext autoreload\n",
    "%autoreload 2\n",
    "%config InlineBackend.figure_format='retina'"
   ]
  },
  {
   "cell_type": "code",
   "execution_count": null,
   "metadata": {},
   "outputs": [],
   "source": [
    "import os\n",
    "\n",
    "from tqdm import tqdm\n",
    "import numpy as np\n",
    "import pandas as pd\n",
    "\n",
    "import anndata\n",
    "import scanpy as sc\n",
    "\n",
    "import torch\n",
    "\n",
    "from scmg.preprocessing.data_standardization import GeneNameMapper\n",
    "from scmg.model.contrastive_embedding import CellEmbedder, embed_adata, decode_adata\n",
    "\n",
    "gene_name_mapper = GeneNameMapper()"
   ]
  },
  {
   "cell_type": "code",
   "execution_count": null,
   "metadata": {},
   "outputs": [],
   "source": [
    "import matplotlib\n",
    "import matplotlib.pyplot as plt\n",
    "\n",
    "plt.rcParams[\"figure.autolayout\"] = False\n",
    "matplotlib.rc('pdf', fonttype=42)\n",
    "plt.rcParams['font.family'] = 'FreeSans'\n",
    "sc.set_figure_params(vector_friendly=True, dpi_save=300)"
   ]
  },
  {
   "cell_type": "code",
   "execution_count": null,
   "metadata": {},
   "outputs": [],
   "source": [
    "# Load the autoencoder model\n",
    "model_ce_path = '../../trained_embedder/'\n",
    "\n",
    "model = torch.load(os.path.join(model_ce_path, 'model.pt'))\n",
    "model.load_state_dict(torch.load(os.path.join(model_ce_path, 'best_state_dict.pth')))\n",
    "\n",
    "device = 'cuda:0'\n",
    "model.to(device)\n",
    "model.eval()\n",
    "\n",
    "model.dataset_id_map"
   ]
  },
  {
   "cell_type": "code",
   "execution_count": null,
   "metadata": {},
   "outputs": [],
   "source": [
    "adata = sc.read_h5ad('../../test_embedding/Burclaff_intestine_HS_2022_all.h5ad')\n",
    "adata.var.index = adata.var['feature_id']\n",
    "adata"
   ]
  },
  {
   "cell_type": "code",
   "execution_count": null,
   "metadata": {},
   "outputs": [],
   "source": [
    "embed_adata(model, adata, batch_size=8192)"
   ]
  },
  {
   "cell_type": "code",
   "execution_count": null,
   "metadata": {},
   "outputs": [],
   "source": [
    "sc.pp.neighbors(adata, use_rep='X_ce_latent', n_neighbors=30)\n",
    "sc.tl.umap(adata)"
   ]
  },
  {
   "cell_type": "code",
   "execution_count": null,
   "metadata": {},
   "outputs": [],
   "source": [
    "fig = sc.pl.umap(adata, color='cell_type', frameon=False, return_fig=True)\n",
    "fig.savefig('umap_cell_type.pdf', dpi=300)"
   ]
  },
  {
   "cell_type": "code",
   "execution_count": null,
   "metadata": {},
   "outputs": [],
   "source": [
    "adata_pred_named = decode_adata(model, adata, ['Tabula_Sapiens_HS_2022:all'] * adata.shape[0])\n",
    "\n",
    "adata_pred_named.var.index = gene_name_mapper.map_gene_names(\n",
    "    adata_pred_named.var.index, 'human', 'human', 'id', 'name')\n",
    "adata_pred_named.var_names_make_unique()"
   ]
  },
  {
   "cell_type": "code",
   "execution_count": null,
   "metadata": {},
   "outputs": [],
   "source": [
    "adata_gene_named = adata.copy()\n",
    "\n",
    "adata_gene_named.var.index = gene_name_mapper.map_gene_names(\n",
    "    adata_gene_named.var.index, 'human', 'human', 'id', 'name')\n",
    "adata_gene_named.var_names_make_unique()\n",
    "adata_gene_named = adata_gene_named[:, adata_gene_named.var.index.isin(\n",
    "    adata_pred_named.var.index)]\n",
    "\n",
    "sc.pp.normalize_total(adata_gene_named, target_sum=1e4)\n",
    "sc.pp.log1p(adata_gene_named)"
   ]
  },
  {
   "cell_type": "code",
   "execution_count": null,
   "metadata": {},
   "outputs": [],
   "source": [
    "#sc.pp.highly_variable_genes(adata_gene_named, n_top_genes=2000)\n",
    "sc.pp.highly_variable_genes(adata_gene_named, min_mean=0.05, max_mean=3, min_disp=0.5)\n",
    "\n",
    "adata_gene_named = adata_gene_named[:, adata_gene_named.var.highly_variable].copy()\n",
    "adata_gene_named.X = adata_gene_named.X.toarray()\n",
    "\n",
    "adata_pred_named = adata_pred_named[:, adata_gene_named.var.index]"
   ]
  },
  {
   "cell_type": "code",
   "execution_count": null,
   "metadata": {},
   "outputs": [],
   "source": [
    "sc.tl.rank_genes_groups(adata_gene_named, groupby=\"cell_type\", method=\"wilcoxon\")\n",
    "\n",
    "sc.pl.rank_genes_groups_heatmap(\n",
    "    adata_gene_named,\n",
    "    n_genes=3,\n",
    "    swap_axes=True,\n",
    "    cmap='inferno',\n",
    "    vmax=5,\n",
    "    save='rank_genes_groups_heatmap.pdf',\n",
    ")"
   ]
  },
  {
   "cell_type": "code",
   "execution_count": null,
   "metadata": {},
   "outputs": [],
   "source": [
    "adata_pred_named.uns['rank_genes_groups'] = adata_gene_named.uns['rank_genes_groups']\n",
    "adata_pred_named.uns['dendrogram_cell_type'] = adata_gene_named.uns['dendrogram_cell_type']\n",
    "\n",
    "sc.pl.rank_genes_groups_heatmap(\n",
    "    adata_pred_named,\n",
    "    n_genes=3,\n",
    "    swap_axes=True,\n",
    "    cmap='inferno',\n",
    "    vmax=5,\n",
    "    save='rank_genes_groups_heatmap_decoded.pdf',\n",
    ")"
   ]
  },
  {
   "cell_type": "code",
   "execution_count": null,
   "metadata": {},
   "outputs": [],
   "source": [
    "def get_cluster_mean_expression_matrix_low_mem(adata, cluster_column):\n",
    "    '''Get a dataframe of mean gene expression of each cluster.'''\n",
    "    cluster_names = np.unique(adata.obs[cluster_column].values)\n",
    "    cluster_mean_df = pd.DataFrame(np.zeros((len(cluster_names), adata.shape[1]), dtype=np.float32), \n",
    "                                   index=cluster_names, columns=adata.var.index)\n",
    "    \n",
    "    for c in tqdm(cluster_names):\n",
    "        X_c = adata[adata.obs[cluster_column] == c].X\n",
    "        cluster_mean_df.loc[c] = X_c.mean(axis=0)\n",
    "    \n",
    "    return cluster_mean_df\n",
    "\n",
    "ct_gene_exp_true_df = get_cluster_mean_expression_matrix_low_mem(adata_gene_named, 'cell_type')\n",
    "ct_gene_exp_pred_df = get_cluster_mean_expression_matrix_low_mem(adata_pred_named, 'cell_type')"
   ]
  },
  {
   "cell_type": "code",
   "execution_count": null,
   "metadata": {},
   "outputs": [],
   "source": [
    "import scipy.stats\n",
    "\n",
    "ct_corr_dict = {'gene': [], 'corr': []}\n",
    "\n",
    "for gene in tqdm(adata_gene_named.var.index):\n",
    "    if gene in adata_pred_named.var.index:\n",
    "        gene_true = ct_gene_exp_true_df[gene].values\n",
    "        gene_pred = ct_gene_exp_pred_df[gene].values\n",
    "        corr = scipy.stats.pearsonr(gene_true, gene_pred)[0]\n",
    "        \n",
    "        ct_corr_dict['gene'].append(gene)\n",
    "        ct_corr_dict['corr'].append(corr)\n",
    "\n",
    "ct_corr_df = pd.DataFrame(ct_corr_dict)"
   ]
  },
  {
   "cell_type": "code",
   "execution_count": null,
   "metadata": {},
   "outputs": [],
   "source": [
    "fig, ax = plt.subplots(figsize=(4, 4), dpi=300)\n",
    "ax.hist(ct_corr_df['corr'], bins=20, density=False, color='gray')\n",
    "ax.grid(False)\n",
    "ax.set_xlabel('Pearson correlation')\n",
    "ax.set_ylabel('Number of genes')\n",
    "ax.set_title('cell type level')\n",
    "fig.savefig('cell_type_correlation_hist.pdf')"
   ]
  },
  {
   "cell_type": "code",
   "execution_count": null,
   "metadata": {},
   "outputs": [],
   "source": [
    "import scipy.stats\n",
    "\n",
    "corr_dict = {'gene': [], 'corr': []}\n",
    "\n",
    "for gene in tqdm(adata_gene_named.var.index):\n",
    "    if gene in adata_pred_named.var.index:\n",
    "        gene_true = adata_gene_named[:, gene].X.flatten()\n",
    "        gene_pred = adata_pred_named[:, gene].X.flatten()\n",
    "        corr = scipy.stats.pearsonr(gene_true, gene_pred)[0]\n",
    "        \n",
    "        corr_dict['gene'].append(gene)\n",
    "        corr_dict['corr'].append(corr)\n",
    "\n",
    "corr_df = pd.DataFrame(corr_dict)"
   ]
  },
  {
   "cell_type": "code",
   "execution_count": null,
   "metadata": {},
   "outputs": [],
   "source": [
    "fig, ax = plt.subplots(figsize=(4, 4), dpi=300)\n",
    "ax.hist(corr_df['corr'], bins=20, density=False, color='gray')\n",
    "ax.grid(False)\n",
    "ax.set_xlabel('Pearson correlation')\n",
    "ax.set_ylabel('Number of genes')\n",
    "ax.set_title('single cell level')\n",
    "fig.savefig('single_cell_correlation_hist.pdf')"
   ]
  },
  {
   "cell_type": "code",
   "execution_count": null,
   "metadata": {},
   "outputs": [],
   "source": [
    "corr_df.sort_values('corr')[1030:1050]"
   ]
  },
  {
   "cell_type": "code",
   "execution_count": null,
   "metadata": {},
   "outputs": [],
   "source": [
    "genes_to_plot = ['BRME1', 'LRRC31', 'HK2', 'DPP4']\n",
    "\n",
    "fig = sc.pl.umap(adata_gene_named, color=genes_to_plot, return_fig=True, cmap='inferno_r')\n",
    "fig.savefig('umap_genes.pdf', dpi=300)\n",
    "\n",
    "fig = sc.pl.umap(adata_pred_named, color=genes_to_plot, return_fig=True, cmap='inferno_r')\n",
    "fig.savefig('umap_genes_decoded.pdf', dpi=300)\n",
    "\n",
    "corr_df[corr_df['gene'].isin(genes_to_plot)]"
   ]
  },
  {
   "cell_type": "code",
   "execution_count": null,
   "metadata": {},
   "outputs": [],
   "source": []
  }
 ],
 "metadata": {
  "kernelspec": {
   "display_name": "scmg",
   "language": "python",
   "name": "python3"
  },
  "language_info": {
   "codemirror_mode": {
    "name": "ipython",
    "version": 3
   },
   "file_extension": ".py",
   "mimetype": "text/x-python",
   "name": "python",
   "nbconvert_exporter": "python",
   "pygments_lexer": "ipython3",
   "version": "3.10.14"
  }
 },
 "nbformat": 4,
 "nbformat_minor": 2
}
