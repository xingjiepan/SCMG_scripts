{
 "cells": [
  {
   "cell_type": "code",
   "execution_count": null,
   "metadata": {},
   "outputs": [],
   "source": [
    "import os\n",
    "import numpy as np\n",
    "import pandas as pd"
   ]
  },
  {
   "cell_type": "code",
   "execution_count": null,
   "metadata": {},
   "outputs": [],
   "source": [
    "input_path = '/GPUData_xingjie/SCMG/contrastive_embedding_training/edges/inter_dataset'\n",
    "total_count = 0\n",
    "\n",
    "datasets = os.listdir(input_path)\n",
    "counts = []\n",
    "df_list = []\n",
    "\n",
    "for input_file in os.listdir(input_path):\n",
    "    df = pd.read_parquet(os.path.join(input_path, input_file))\n",
    "    df_list.append(df)\n",
    "    counts.append(len(df))\n",
    "\n",
    "count_df = pd.DataFrame({'dataset': datasets, 'count': counts}\n",
    "                        ).sort_values('count', ascending=False)\n",
    "\n",
    "all_edge_df = pd.concat(df_list)\n",
    "print(count_df['count'].sum())"
   ]
  },
  {
   "cell_type": "code",
   "execution_count": null,
   "metadata": {},
   "outputs": [],
   "source": [
    "all_edge_df"
   ]
  },
  {
   "cell_type": "code",
   "execution_count": null,
   "metadata": {},
   "outputs": [],
   "source": [
    "all_edge_df[all_edge_df['cell_type_ref'] == 'Border-associated macrophages']['cell_type_query'].value_counts()"
   ]
  },
  {
   "cell_type": "code",
   "execution_count": null,
   "metadata": {},
   "outputs": [],
   "source": [
    "all_edge_df[(all_edge_df['cell_type_ref'] == 'Monocytes')\n",
    "        & (all_edge_df['cell_type_query'] == 'monocyte')]"
   ]
  },
  {
   "cell_type": "code",
   "execution_count": null,
   "metadata": {},
   "outputs": [],
   "source": [
    "for i, f in enumerate(sorted(os.listdir(input_path))):\n",
    "    df = pd.read_parquet(os.path.join(input_path, f))\n",
    "    print(f'{i}: {f} : {len(df)}')\n",
    "    "
   ]
  },
  {
   "cell_type": "code",
   "execution_count": null,
   "metadata": {},
   "outputs": [],
   "source": [
    "count_df[count_df['dataset'].str.contains('Suo_ImmuneDev')]"
   ]
  },
  {
   "cell_type": "code",
   "execution_count": null,
   "metadata": {},
   "outputs": [],
   "source": [
    "def sigmoid(x, center, scale):\n",
    "    return 1 / (1 + np.exp(-scale * (x - center)))\n",
    "\n",
    "sigmoid(x=1.2, center=1, scale=-10)"
   ]
  },
  {
   "cell_type": "code",
   "execution_count": null,
   "metadata": {},
   "outputs": [],
   "source": [
    "input_file = os.path.join(\n",
    "    '/GPUData_xingjie/SCMG/contrastive_embedding_training/edges/inter_dataset',\n",
    "    'Qiu_Organogenesis_MM_2022_all_AND_Qiu_whole_embryo_dev_MM_2024_all.parquet')\n",
    "#input_file = os.path.join(\n",
    "#    '/GPUData_xingjie/SCMG/contrastive_embedding_training/edges/intra_dataset',\n",
    "#    'Park_Thymus_HS_2020_all.parquet')\n",
    "\n",
    "mkn_df = pd.read_parquet(input_file)\n",
    "\n",
    "print(mkn_df.shape[0])\n",
    "\n",
    "cross_df = pd.crosstab(\n",
    "    mkn_df['cell_type_ref'].values,\n",
    "    mkn_df['cell_type_query'].values,\n",
    ")\n",
    "\n",
    "for ct2 in sorted(cross_df.columns):\n",
    "\n",
    "    print(f'\\n{ct2}:')\n",
    "    for ct1 in cross_df[ct2].sort_values(ascending=False).index[:5]:\n",
    "        if cross_df.loc[ct1, ct2] > 0:\n",
    "            local_df = mkn_df[(mkn_df['cell_type_ref'] == ct1) & (mkn_df['cell_type_query'] == ct2)]\n",
    "\n",
    "            print(f'{cross_df.loc[ct1, ct2]}, \\t{ct1}')\n",
    "    \n",
    "    #if ct in cross_df_filtered.columns:\n",
    "    #    display(cross_df_filtered[ct].sort_values(ascending=False).head(5))"
   ]
  },
  {
   "cell_type": "code",
   "execution_count": null,
   "metadata": {},
   "outputs": [],
   "source": [
    "mkn_df['dist'].hist(bins=100)"
   ]
  },
  {
   "cell_type": "code",
   "execution_count": null,
   "metadata": {},
   "outputs": [],
   "source": [
    "cross_df['Epiblast'].sort_values(ascending=False)[:20]"
   ]
  },
  {
   "cell_type": "code",
   "execution_count": null,
   "metadata": {},
   "outputs": [],
   "source": [
    "import json\n",
    "import numpy as np\n",
    "\n",
    "with open('integration_specs.json', 'r') as f:\n",
    "    i_spec_dict = json.load(f)\n",
    "\n",
    "dataset_ids = []\n",
    "for k in i_spec_dict:\n",
    "    dataset_ids.append(k)\n",
    "    for v in i_spec_dict[k]:\n",
    "        if k == v:\n",
    "            print(f'Error: {k} cannot integrate with itself')\n",
    "        dataset_ids.append(v)\n",
    "\n",
    "dataset_ids = list(np.unique(dataset_ids))\n",
    "\n",
    "# Sort the dataset IDs by the number of integration events\n",
    "dataset_counts = np.zeros(len(dataset_ids), dtype=int)\n",
    "for k in i_spec_dict:\n",
    "    for v in i_spec_dict[k]:\n",
    "        dataset_counts[dataset_ids.index(k)] += 1\n",
    "        dataset_counts[dataset_ids.index(v)] += 1\n",
    "\n",
    "for i in dataset_counts.argsort()[::-1]:\n",
    "    print(f'{dataset_ids[i]}: {dataset_counts[i]}')\n",
    "\n",
    "print(dataset_counts.sum() / 2)"
   ]
  },
  {
   "cell_type": "code",
   "execution_count": null,
   "metadata": {},
   "outputs": [],
   "source": []
  }
 ],
 "metadata": {
  "kernelspec": {
   "display_name": "scmg",
   "language": "python",
   "name": "python3"
  },
  "language_info": {
   "codemirror_mode": {
    "name": "ipython",
    "version": 3
   },
   "file_extension": ".py",
   "mimetype": "text/x-python",
   "name": "python",
   "nbconvert_exporter": "python",
   "pygments_lexer": "ipython3",
   "version": "3.10.14"
  }
 },
 "nbformat": 4,
 "nbformat_minor": 2
}
