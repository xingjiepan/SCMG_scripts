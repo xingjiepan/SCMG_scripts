{
 "cells": [
  {
   "cell_type": "code",
   "execution_count": null,
   "metadata": {},
   "outputs": [],
   "source": [
    "%config InlineBackend.figure_format='retina'"
   ]
  },
  {
   "cell_type": "code",
   "execution_count": null,
   "metadata": {},
   "outputs": [],
   "source": [
    "#import time\n",
    "#import os\n",
    "#\n",
    "#while True:\n",
    "#    \n",
    "#    if os.path.exists(\n",
    "#        '/GPUData_xingjie/SCMG/contrastive_embedding_training/edges/inter_dataset/Tabula_Sapiens_HS_2022_all_AND_Yu_MultiTissue_HS_2021_all.parquet'\n",
    "#    ):\n",
    "#        break\n",
    "#\n",
    "#    time.sleep(10)"
   ]
  },
  {
   "cell_type": "code",
   "execution_count": null,
   "metadata": {},
   "outputs": [],
   "source": [
    "import os\n",
    "import json\n",
    "\n",
    "import numpy as np\n",
    "import pandas as pd\n",
    "import matplotlib.pyplot as plt\n",
    "import seaborn as sns\n",
    "\n",
    "import anndata\n",
    "import scanpy as sc\n",
    "import datasets"
   ]
  },
  {
   "cell_type": "code",
   "execution_count": null,
   "metadata": {},
   "outputs": [],
   "source": [
    "output_path = '/GPUData_xingjie/SCMG/contrastive_embedding_training/training_dataset/'"
   ]
  },
  {
   "cell_type": "code",
   "execution_count": null,
   "metadata": {},
   "outputs": [],
   "source": [
    "exp_dataset = datasets.load_from_disk(os.path.join(output_path, 'combined_exp'))\n",
    "exp_dataset"
   ]
  },
  {
   "cell_type": "code",
   "execution_count": null,
   "metadata": {},
   "outputs": [],
   "source": [
    "cell_id_df = pd.DataFrame({\n",
    "    'cell_id' : exp_dataset['cell_id'],\n",
    "    'dataset_id' : exp_dataset['dataset_id']\n",
    "})\n",
    "cell_id_df.to_parquet(os.path.join(output_path, 'cell_id.parquet'))\n",
    "\n",
    "cell_id_to_idx_map = {cell_id: idx for idx, cell_id in enumerate(exp_dataset['cell_id'])}\n",
    "\n",
    "cell_id_df"
   ]
  },
  {
   "cell_type": "code",
   "execution_count": null,
   "metadata": {},
   "outputs": [],
   "source": [
    "edge_file_paths = [\n",
    "    '/GPUData_xingjie/SCMG/contrastive_embedding_training/edges/inter_dataset',\n",
    "    '/GPUData_xingjie/SCMG/contrastive_embedding_training/edges/intra_dataset_core',\n",
    "    '/GPUData_xingjie/SCMG/contrastive_embedding_training/edges/intra_integration'\n",
    "]\n",
    "\n",
    "edge_df_list = []\n",
    "\n",
    "for edge_file_path in edge_file_paths:\n",
    "    for f in os.listdir(edge_file_path):\n",
    "        if f.endswith('.parquet'):\n",
    "            edge_df = pd.read_parquet(os.path.join(edge_file_path, f))\n",
    "            edge_df_list.append(edge_df)\n",
    "\n",
    "edge_df = pd.concat(edge_df_list, axis=0)\n",
    "edge_df"
   ]
  },
  {
   "cell_type": "code",
   "execution_count": null,
   "metadata": {},
   "outputs": [],
   "source": [
    "all_datasets = np.unique(list(edge_df['dataset_ref']) + list(edge_df['dataset_query']))\n",
    "dataset_id_map = {dataset_id: idx for idx, dataset_id in enumerate(all_datasets)}\n",
    "with open(os.path.join(output_path, 'dataset_id_map.json'), 'w') as f:\n",
    "    json.dump(dataset_id_map, f)"
   ]
  },
  {
   "cell_type": "code",
   "execution_count": null,
   "metadata": {},
   "outputs": [],
   "source": [
    "#edge_files = [\n",
    "#    '/GPUData_xingjie/SCMG/contrastive_embedding_training/edges/intra_dataset/Suo_ImmuneDev_HS_2022_all.parquet',\n",
    "#    '/GPUData_xingjie/SCMG/contrastive_embedding_training/edges/intra_integration/Suo_ImmuneDev_HS_2022_all_intra_0.parquet',\n",
    "#    '/GPUData_xingjie/SCMG/contrastive_embedding_training/edges/intra_integration/Suo_ImmuneDev_HS_2022_all_intra_1.parquet',\n",
    "#    '/GPUData_xingjie/SCMG/contrastive_embedding_training/edges/intra_integration/Suo_ImmuneDev_HS_2022_all_intra_2.parquet',\n",
    "#]\n",
    "#\n",
    "#edge_df_list = []\n",
    "#\n",
    "#for f in edge_files:\n",
    "#    if f.endswith('.parquet'):\n",
    "#        edge_df = pd.read_parquet(f)\n",
    "#        edge_df_list.append(edge_df)\n",
    "#\n",
    "#edge_df = pd.concat(edge_df_list, axis=0)\n",
    "#edge_df"
   ]
  },
  {
   "cell_type": "code",
   "execution_count": null,
   "metadata": {},
   "outputs": [],
   "source": [
    "edge_df['cell_ref_idx'] = edge_df['cell_ref'].map(cell_id_to_idx_map)\n",
    "edge_df['cell_query_idx'] = edge_df['cell_query'].map(cell_id_to_idx_map)\n",
    "\n",
    "from datasets import Dataset\n",
    "\n",
    "edge_dataset = Dataset.from_dict({\n",
    "            'cell_ref_idx': edge_df['cell_ref_idx'].values,\n",
    "            'cell_query_idx': edge_df['cell_query_idx'].values,\n",
    "            'dataset_ref': edge_df['dataset_ref'].values,\n",
    "            'dataset_query': edge_df['dataset_query'].values\n",
    "                                     })\n",
    "\n",
    "edge_dataset.save_to_disk(os.path.join(output_path, 'edge_dataset'))"
   ]
  },
  {
   "cell_type": "code",
   "execution_count": null,
   "metadata": {},
   "outputs": [],
   "source": [
    "#edge_df.iloc[:10].to_csv(os.path.join(output_path, 'done.csv'), index=False)"
   ]
  }
 ],
 "metadata": {
  "kernelspec": {
   "display_name": "scmg",
   "language": "python",
   "name": "python3"
  },
  "language_info": {
   "codemirror_mode": {
    "name": "ipython",
    "version": 3
   },
   "file_extension": ".py",
   "mimetype": "text/x-python",
   "name": "python",
   "nbconvert_exporter": "python",
   "pygments_lexer": "ipython3",
   "version": "3.10.14"
  }
 },
 "nbformat": 4,
 "nbformat_minor": 2
}
