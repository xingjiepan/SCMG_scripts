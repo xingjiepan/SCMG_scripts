{
 "cells": [
  {
   "cell_type": "code",
   "execution_count": null,
   "metadata": {},
   "outputs": [],
   "source": [
    "import os\n",
    "import json\n",
    "\n",
    "import numpy as numpy\n",
    "import pandas as pd"
   ]
  },
  {
   "cell_type": "code",
   "execution_count": null,
   "metadata": {},
   "outputs": [],
   "source": [
    "import json\n",
    "with open('integration_specs.json' ,'r') as f:\n",
    "    i_specs_d = json.load(f)\n",
    "\n",
    "all_ref_datasets = set()\n",
    "for v in i_specs_d.values():\n",
    "    for d in v:\n",
    "        all_ref_datasets.add(d.split('@')[1])\n",
    "\n",
    "all_ref_datasets"
   ]
  },
  {
   "cell_type": "code",
   "execution_count": null,
   "metadata": {},
   "outputs": [],
   "source": [
    "all_ds_pairs = set()\n",
    "for k in i_specs_d.keys():\n",
    "    d_k = k.split('@')[1]\n",
    "    for d in i_specs_d[k]:\n",
    "        d_v = d.split('@')[1]\n",
    "        all_ds_pairs.add((d_k, d_v))\n",
    "\n",
    "len(all_ds_pairs)"
   ]
  },
  {
   "cell_type": "code",
   "execution_count": null,
   "metadata": {},
   "outputs": [],
   "source": [
    "all_ct_pairs = set()\n",
    "\n",
    "for k in i_specs_d.keys():\n",
    "    for d in i_specs_d[k]:\n",
    "        all_ct_pairs.add((k, d))\n",
    "\n",
    "len(all_ct_pairs)"
   ]
  },
  {
   "cell_type": "code",
   "execution_count": null,
   "metadata": {},
   "outputs": [],
   "source": [
    "matched_ct_dict = {\n",
    "    'dataset1': [],\n",
    "    'dataset2': [],\n",
    "    'cell_type1': [],\n",
    "    'cell_type2': [],\n",
    "}\n",
    "\n",
    "for ct1, ct2 in all_ct_pairs:\n",
    "    matched_ct_dict['dataset1'].append(ct1.split('@')[1])\n",
    "    matched_ct_dict['dataset2'].append(ct2.split('@')[1])\n",
    "    matched_ct_dict['cell_type1'].append(ct1.split('@')[0])\n",
    "    matched_ct_dict['cell_type2'].append(ct2.split('@')[0])\n",
    "\n",
    "matched_ct_df = pd.DataFrame(matched_ct_dict).sort_values(['dataset1', 'dataset2'])\n",
    "matched_ct_df.to_csv('matched_cell_types_for_pariwise_integration.csv', index=False)\n",
    "matched_ct_df"
   ]
  },
  {
   "cell_type": "code",
   "execution_count": null,
   "metadata": {},
   "outputs": [],
   "source": []
  }
 ],
 "metadata": {
  "kernelspec": {
   "display_name": "scmg",
   "language": "python",
   "name": "python3"
  },
  "language_info": {
   "codemirror_mode": {
    "name": "ipython",
    "version": 3
   },
   "file_extension": ".py",
   "mimetype": "text/x-python",
   "name": "python",
   "nbconvert_exporter": "python",
   "pygments_lexer": "ipython3",
   "version": "3.10.14"
  }
 },
 "nbformat": 4,
 "nbformat_minor": 2
}
