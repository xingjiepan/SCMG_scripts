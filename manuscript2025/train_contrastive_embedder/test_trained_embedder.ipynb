{
 "cells": [
  {
   "cell_type": "code",
   "execution_count": null,
   "metadata": {},
   "outputs": [],
   "source": [
    "%load_ext autoreload\n",
    "%autoreload 2\n",
    "%config InlineBackend.figure_format='retina'"
   ]
  },
  {
   "cell_type": "code",
   "execution_count": null,
   "metadata": {},
   "outputs": [],
   "source": [
    "import os\n",
    "\n",
    "import numpy as np\n",
    "import pandas as pd\n",
    "\n",
    "import scanpy as sc\n",
    "\n",
    "import torch\n",
    "\n",
    "from scmg.model.contrastive_embedding import CellEmbedder, embed_adata, decode_adata\n",
    "from scmg.preprocessing.data_standardization import GeneNameMapper\n",
    "\n",
    "gene_name_mapper = GeneNameMapper()"
   ]
  },
  {
   "cell_type": "code",
   "execution_count": null,
   "metadata": {},
   "outputs": [],
   "source": [
    "adata = sc.read_h5ad('/GPUData_xingjie/SCMG/test_datasets/blood_dev/Triana_bone_marrow_HS_2021_healthy.h5ad')\n",
    "adata = adata.raw.to_adata()\n",
    "adata"
   ]
  },
  {
   "cell_type": "code",
   "execution_count": null,
   "metadata": {},
   "outputs": [],
   "source": [
    "#adata = sc.read_h5ad('/GPUData_xingjie/cytofuture/test_datasets/organogenesis/Pijuan-Sala_organogenesis_MM_2019.h5ad')\n",
    "#adata.var.index = gene_name_mapper.map_gene_names(adata.var.index, 'mouse', 'human', 'id', 'id')\n",
    "#adata = adata[:, adata.var.index != 'na'].copy()\n",
    "#adata.obs['cell_type'] = adata.obs['celltype']\n",
    "#adata.var_names_make_unique()\n",
    "#adata"
   ]
  },
  {
   "cell_type": "code",
   "execution_count": null,
   "metadata": {},
   "outputs": [],
   "source": [
    "# Load the autoencoder model\n",
    "\n",
    "model_path = 'trained_embedder'\n",
    "\n",
    "model = torch.load(os.path.join(model_path, 'model.pt'))\n",
    "model.load_state_dict(torch.load(os.path.join(model_path, 'best_state_dict.pth')))\n",
    "\n",
    "device = 'cuda'\n",
    "model.to(device)\n",
    "model.eval()"
   ]
  },
  {
   "cell_type": "code",
   "execution_count": null,
   "metadata": {},
   "outputs": [],
   "source": [
    "embed_adata(model, adata)"
   ]
  },
  {
   "cell_type": "code",
   "execution_count": null,
   "metadata": {},
   "outputs": [],
   "source": [
    "sc.pp.neighbors(adata, use_rep='X_ce_latent', n_neighbors=50)\n",
    "sc.tl.umap(adata)"
   ]
  },
  {
   "cell_type": "code",
   "execution_count": null,
   "metadata": {},
   "outputs": [],
   "source": [
    "sc.pl.umap(adata, color='cell_type', legend_loc='on data', legend_fontsize=3)"
   ]
  },
  {
   "cell_type": "code",
   "execution_count": null,
   "metadata": {},
   "outputs": [],
   "source": [
    "model.dataset_id_map"
   ]
  },
  {
   "cell_type": "code",
   "execution_count": null,
   "metadata": {},
   "outputs": [],
   "source": [
    "#adata_ss = sc.pp.subsample(adata, n_obs=10000, copy=True)\n",
    "adata_ss = adata.copy()\n",
    "\n",
    "adata_pred = decode_adata(model, adata_ss, dataset_names=['Suo_ImmuneDev_HS_2022:all'] * adata_ss.shape[0])\n",
    "adata_pred"
   ]
  },
  {
   "cell_type": "code",
   "execution_count": null,
   "metadata": {},
   "outputs": [],
   "source": [
    "\n",
    "\n",
    "adata_ss.var.index = gene_name_mapper.map_gene_names(\n",
    "    adata_ss.var.index, 'human', 'human', 'id', 'name')\n",
    "adata_ss.var_names_make_unique()\n",
    "\n",
    "adata_pred.var.index = gene_name_mapper.map_gene_names(\n",
    "    adata_pred.var.index, 'human', 'human', 'id', 'name')\n",
    "\n",
    "import anndata\n",
    "adata_ss_named = anndata.AnnData(adata_ss.X, \n",
    "                                obs=adata_ss.obs.copy(), var=adata_ss.var.copy())\n",
    "adata_ss_named.obsm['X_umap'] = adata_ss.obsm['X_umap']\n",
    "sc.pp.normalize_total(adata_ss_named, target_sum=1e4)\n",
    "sc.pp.log1p(adata_ss_named)"
   ]
  },
  {
   "cell_type": "code",
   "execution_count": null,
   "metadata": {},
   "outputs": [],
   "source": [
    "genes_to_plot = ['GATA1', 'SPI1', 'IKZF1']\n",
    "\n",
    "sc.pl.umap(adata_ss_named, color=genes_to_plot)\n",
    "sc.pl.umap(adata_pred, color=genes_to_plot)"
   ]
  },
  {
   "cell_type": "code",
   "execution_count": null,
   "metadata": {},
   "outputs": [],
   "source": []
  }
 ],
 "metadata": {
  "kernelspec": {
   "display_name": "scmg",
   "language": "python",
   "name": "python3"
  },
  "language_info": {
   "codemirror_mode": {
    "name": "ipython",
    "version": 3
   },
   "file_extension": ".py",
   "mimetype": "text/x-python",
   "name": "python",
   "nbconvert_exporter": "python",
   "pygments_lexer": "ipython3",
   "version": "3.10.14"
  }
 },
 "nbformat": 4,
 "nbformat_minor": 2
}
