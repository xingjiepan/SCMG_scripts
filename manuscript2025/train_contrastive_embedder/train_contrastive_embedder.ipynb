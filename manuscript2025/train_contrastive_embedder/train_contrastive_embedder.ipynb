{
 "cells": [
  {
   "cell_type": "code",
   "execution_count": null,
   "metadata": {},
   "outputs": [],
   "source": [
    "%load_ext autoreload\n",
    "%autoreload 2\n",
    "%config InlineBackend.figure_format='retina'"
   ]
  },
  {
   "cell_type": "code",
   "execution_count": null,
   "metadata": {},
   "outputs": [],
   "source": [
    "#import time\n",
    "#import os\n",
    "#\n",
    "#while True:\n",
    "#    \n",
    "#    if os.path.exists(\n",
    "#        '/GPUData_xingjie/SCMG/contrastive_embedding_training/training_dataset/done.csv'\n",
    "#    ):\n",
    "#        break\n",
    "#\n",
    "#    time.sleep(10)"
   ]
  },
  {
   "cell_type": "code",
   "execution_count": null,
   "metadata": {},
   "outputs": [],
   "source": [
    "import os\n",
    "import json\n",
    "\n",
    "import numpy as np\n",
    "import pandas as pd\n",
    "import matplotlib.pyplot as plt\n",
    "import seaborn as sns\n",
    "\n",
    "import anndata\n",
    "import scanpy as sc\n",
    "import datasets"
   ]
  },
  {
   "cell_type": "code",
   "execution_count": null,
   "metadata": {},
   "outputs": [],
   "source": [
    "from tqdm.auto import tqdm\n",
    "\n",
    "import torch\n",
    "import torch.nn as nn\n",
    "import torch.nn.functional as F\n",
    "\n",
    "torch.set_float32_matmul_precision('high')"
   ]
  },
  {
   "cell_type": "code",
   "execution_count": null,
   "metadata": {},
   "outputs": [],
   "source": [
    "from scmg.model.contrastive_embedding import (CellEmbedder, \n",
    "                            train_contrastive_embedder)"
   ]
  },
  {
   "cell_type": "code",
   "execution_count": null,
   "metadata": {},
   "outputs": [],
   "source": [
    "input_path = '/GPUData_xingjie/SCMG/contrastive_embedding_training/training_dataset'\n",
    "\n",
    "# Load the expression dataset\n",
    "exp_data = datasets.load_from_disk(os.path.join(input_path, 'combined_exp'))\n",
    "exp_data = exp_data.with_format(\"torch\")\n",
    "print(f'The expression dataset contains {len(exp_data)} points.')\n",
    "\n",
    "# Load the edge dataset\n",
    "edge_data = datasets.load_from_disk(os.path.join(input_path, 'edge_dataset'))\n",
    "edge_data = edge_data.with_format(\"torch\")\n",
    "print(f'The edge dataset contains {len(edge_data)} points.')\n",
    "\n",
    "edge_loader = torch.utils.data.DataLoader(edge_data, 4096, shuffle=True,\n",
    "                                        num_workers=8, persistent_workers=True)\n",
    "\n",
    "with open(os.path.join(input_path, 'dataset_id_map.json')) as json_file:\n",
    "    dataset_id_map = json.load(json_file)"
   ]
  },
  {
   "cell_type": "code",
   "execution_count": null,
   "metadata": {},
   "outputs": [],
   "source": [
    "cell_id_df = pd.read_parquet(os.path.join(input_path, 'cell_id.parquet'))\n",
    "\n",
    "dataset_to_cell_idx_map = {}\n",
    "dataset_to_cell_idx_map['AllenBrain_WB_MM_2023:all'] = cell_id_df[\n",
    "        cell_id_df['dataset_id'].isin(['AllenBrain_WB_MM_2023:all'])].index.values\n",
    "\n",
    "dataset_to_cell_idx_map['Suo_ImmuneDev_HS_2022:all'] = cell_id_df[\n",
    "        cell_id_df['dataset_id'].isin(['Suo_ImmuneDev_HS_2022:all'])].index.values\n",
    "\n",
    "dataset_to_cell_idx_map['Tabula_Sapiens_HS_2022:all'] = cell_id_df[\n",
    "        cell_id_df['dataset_id'].isin(['Tabula_Sapiens_HS_2022:all'])].index.values\n",
    "\n",
    "dataset_to_cell_idx_map['Qiu_Organogenesis_MM_2022:all'] = cell_id_df[\n",
    "        cell_id_df['dataset_id'].isin([\n",
    "        'Qiu_Organogenesis_MM_2022:all', 'Qiu_whole_embryo_dev_MM_2024'])].index.values\n",
    "\n",
    "dataset_to_cell_idx_map['Qiu_whole_embryo_dev_MM_2024:all'] = cell_id_df[\n",
    "        cell_id_df['dataset_id'].isin([\n",
    "        'Qiu_Organogenesis_MM_2022:all', 'Qiu_whole_embryo_dev_MM_2024'])].index.values"
   ]
  },
  {
   "cell_type": "code",
   "execution_count": null,
   "metadata": {},
   "outputs": [],
   "source": [
    "device = 'cuda:1'\n",
    "\n",
    "model = CellEmbedder(\n",
    "    n_genes=exp_data[0]['X_exp'].shape[0],\n",
    "    dataset_id_map=dataset_id_map\n",
    ").to(device)\n",
    "\n",
    "train_contrastive_embedder(\n",
    "    model=model,\n",
    "    edge_loader=edge_loader,\n",
    "    exp_data=exp_data,\n",
    "    dataset_to_cell_idx_map=dataset_to_cell_idx_map,\n",
    "    num_epochs=100,\n",
    "    output_path='/GPUData_xingjie/Softwares/SCMG_dev/tests/contrastive_embedding/trained_embedder',\n",
    ")"
   ]
  },
  {
   "cell_type": "code",
   "execution_count": null,
   "metadata": {},
   "outputs": [],
   "source": [
    "with open('/GPUData_xingjie/Softwares/SCMG_dev/tests/contrastive_embedding/trained_embedder/loss_history.json') as f:\n",
    "    loss_history = json.load(f)\n",
    "\n",
    "start, stop = 1, 1000\n",
    "for k in loss_history:\n",
    "    plt.plot(np.arange(len(loss_history[k]))[start:stop],\n",
    "             np.array(loss_history[k]).mean(axis=1)[start:stop])\n",
    "    plt.title(k)\n",
    "    plt.show()"
   ]
  },
  {
   "cell_type": "code",
   "execution_count": null,
   "metadata": {},
   "outputs": [],
   "source": [
    "## Continue training from the break point\n",
    "#model_path = '/GPUData_xingjie/Softwares/SCMG_dev/tests/contrastive_embedding/trained_embedder/'\n",
    "#\n",
    "#model = torch.load(os.path.join(model_path, 'model.pt'))\n",
    "#model.load_state_dict(torch.load(os.path.join(model_path, 'best_state_dict.pth')))\n",
    "#\n",
    "#device = 'cuda:1'\n",
    "#model.to(device)\n",
    "#\n",
    "#with open('/GPUData_xingjie/Softwares/SCMG_dev/tests/contrastive_embedding/trained_embedder/loss_history.json') as f:\n",
    "#    loss_history = json.load(f)\n",
    "#\n",
    "#train_contrastive_embedder(\n",
    "#    model=model,\n",
    "#    edge_loader=edge_loader,\n",
    "#    exp_data=exp_data,\n",
    "#    dataset_to_cell_idx_map=dataset_to_cell_idx_map,\n",
    "#    num_epochs=100,\n",
    "#    output_path='/GPUData_xingjie/Softwares/SCMG_dev/tests/contrastive_embedding/trained_embedder',\n",
    "#)"
   ]
  },
  {
   "cell_type": "code",
   "execution_count": null,
   "metadata": {},
   "outputs": [],
   "source": []
  }
 ],
 "metadata": {
  "kernelspec": {
   "display_name": "scmg",
   "language": "python",
   "name": "python3"
  },
  "language_info": {
   "codemirror_mode": {
    "name": "ipython",
    "version": 3
   },
   "file_extension": ".py",
   "mimetype": "text/x-python",
   "name": "python",
   "nbconvert_exporter": "python",
   "pygments_lexer": "ipython3",
   "version": "3.10.14"
  }
 },
 "nbformat": 4,
 "nbformat_minor": 2
}
