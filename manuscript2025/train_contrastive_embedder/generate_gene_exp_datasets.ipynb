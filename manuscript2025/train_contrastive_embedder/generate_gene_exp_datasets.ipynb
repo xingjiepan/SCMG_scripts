{
 "cells": [
  {
   "cell_type": "code",
   "execution_count": null,
   "metadata": {},
   "outputs": [],
   "source": [
    "%config InlineBackend.figure_format='retina'"
   ]
  },
  {
   "cell_type": "code",
   "execution_count": null,
   "metadata": {},
   "outputs": [],
   "source": [
    "import os\n",
    "import shutil\n",
    "import numpy as np\n",
    "import pandas as pd\n",
    "import matplotlib.pyplot as plt\n",
    "\n",
    "import anndata\n",
    "import scanpy as sc\n",
    "sc.settings.n_jobs = 64"
   ]
  },
  {
   "cell_type": "code",
   "execution_count": null,
   "metadata": {},
   "outputs": [],
   "source": [
    "import scipy.sparse\n",
    "\n",
    "def get_standard_exp(adata, standard_ids):\n",
    "    if scipy.sparse.issparse(adata.X):\n",
    "        X_adata = adata.X.toarray()\n",
    "    else:\n",
    "        X_adata = adata.X.copy()\n",
    "\n",
    "    adata_var_ids = list(adata.var.index)\n",
    "    common_ids = np.intersect1d(standard_ids, adata_var_ids)\n",
    "    common_in_standard_indices = [standard_ids.index(g) for g in common_ids]\n",
    "    common_in_adata_indices = [adata_var_ids.index(g) for g in common_ids]\n",
    "\n",
    "    X_input = np.zeros((adata.shape[0], len(standard_ids)), dtype=np.float32)\n",
    "    X_input[:, common_in_standard_indices] = X_adata[:, common_in_adata_indices]\n",
    "\n",
    "     # Record which genes are measured in this dataset\n",
    "    X_measure = np.zeros((adata.shape[0], len(standard_ids)), dtype=bool)\n",
    "    X_measure[:, common_in_standard_indices] = True\n",
    "\n",
    "    return X_input, X_measure"
   ]
  },
  {
   "cell_type": "code",
   "execution_count": null,
   "metadata": {},
   "outputs": [],
   "source": [
    "from datasets import Dataset\n",
    "\n",
    "def generate_dataset(dataset_path_prefix, adata_raw, standard_ids):\n",
    "    \n",
    "    # Subset to common genes\n",
    "    common_genes = np.intersect1d(standard_ids, adata_raw.var['human_gene_id'])\n",
    "    adata = adata_raw[:, adata_raw.var['human_gene_id'].isin(common_genes)].copy()\n",
    "    adata.var.index = adata.var['human_gene_id']\n",
    "\n",
    "    # Normalize the expression\n",
    "    sc.pp.normalize_total(adata, target_sum=1e4)\n",
    "    sc.pp.log1p(adata)\n",
    "\n",
    "    # Save the data by chunk\n",
    "    chunk_size = 50000\n",
    "    N_cells = adata.shape[0]\n",
    "    N_chunks = int(np.ceil(N_cells / chunk_size))\n",
    "    \n",
    "    for i in range(N_chunks):\n",
    "        start = i * chunk_size\n",
    "        stop = min((i + 1) * chunk_size, N_cells)\n",
    "        \n",
    "        adata_local = adata[start:stop]\n",
    "        X_exp, X_measure = get_standard_exp(adata_local, standard_ids)\n",
    "\n",
    "        # Save the dataset\n",
    "        dataset = Dataset.from_dict({\n",
    "            'X_exp': X_exp.astype(np.float32),\n",
    "            'X_measure': X_measure.astype(np.float32),\n",
    "            'cell_id': adata_local.obs.index.values,\n",
    "            'dataset_id': adata_local.obs['dataset_id'].values\n",
    "                                     })\n",
    "        \n",
    "        save_path = f'{dataset_path_prefix}_{i}'\n",
    "        if os.path.exists(save_path):\n",
    "            shutil.rmtree(save_path)\n",
    "        dataset.save_to_disk(save_path)"
   ]
  },
  {
   "cell_type": "code",
   "execution_count": null,
   "metadata": {},
   "outputs": [],
   "source": [
    "# Get the input files\n",
    "adata_input_path = '/GPUData_xingjie/SCMG/sc_rna_data/'\n",
    "dataset_names = sorted([f.replace('.h5ad', '') for f in os.listdir(adata_input_path)])\n",
    "\n",
    "standard_gene_df = pd.read_csv(\n",
    "    '/GPUData_xingjie/Softwares/SCMG_dev/scmg/data/standard_genes.csv')\n",
    "standard_ids = list(standard_gene_df['human_id'])\n",
    "\n",
    "# Create the output folder\n",
    "output_path = '/GPUData_xingjie/SCMG/contrastive_embedding_training/exp_data/datasets'\n",
    "os.makedirs(output_path, exist_ok=True)"
   ]
  },
  {
   "cell_type": "code",
   "execution_count": null,
   "metadata": {},
   "outputs": [],
   "source": [
    "os.listdir(adata_input_path)"
   ]
  },
  {
   "cell_type": "code",
   "execution_count": null,
   "metadata": {},
   "outputs": [],
   "source": [
    "dataset_names = [\n",
    "    'AllenBrain_WB_MM_2023_all',\n",
    "    'Allen_BrainAging_MM_2022_all',\n",
    "    'Arutyunyan_Placenta_HS_2023_all',\n",
    "    'Bhaduri_CtxDev_HS_2021_all',\n",
    "    'Cao_dev_HS_2020_all',\n",
    "    'Conde_Immune_HS_2022_all',\n",
    "    'Cowan_Retina_HS_2020_fovea',\n",
    "    'Cowan_Retina_HS_2020_organoid',\n",
    "    'Cowan_Retina_HS_2020_periphery',\n",
    "    'Deng_CarT_HS_2020_all',\n",
    "    'Elmentaite_intestine_HS_2021_all',\n",
    "    'Enge_Pancrea_HS_2017_all',\n",
    "    'Eraslan_MultiTissue_HS_2022_all',\n",
    "    'Fawkner-Corbett_IntestineDev_HS_2021_all',\n",
    "    'Han_HS_2020_all',\n",
    "    'He_LungDev_HS_2022_all',\n",
    "    'Hrovatin_Pancrea_MM_2022_all',\n",
    "    'Jardine_BloodDev_HS_2021_normal',\n",
    "    'Khaled_Breast_HS_2023_all',\n",
    "    'Kuppe_Heart_HS_2022_all',\n",
    "    'LaManno_WBDev_MM_2021_all',\n",
    "    'Lake_Kidney_HS_2023_all',\n",
    "    'Lengyel_FallopianTube_HS_2022_all',\n",
    "    'Litvinukova_Heart_HS_2020_all',\n",
    "    'Park_Thymus_HS_2020_all',\n",
    "    'Qiu_Organogenesis_MM_2022_all',\n",
    "    'Qiu_whole_embryo_dev_MM_2024_all',\n",
    "    'Sikkema_Lung_HS_2023_core',\n",
    "    'Streets_Adipose_HS_2023_all',\n",
    "    'Suo_ImmuneDev_HS_2022_all',\n",
    "    'Tabula_Muris_MM_2020_10x',\n",
    "    'Tabula_Muris_MM_2020_smart-seq',\n",
    "    'Tabula_Sapiens_HS_2022_all',\n",
    "    'Tyser_Embryo_HS_2021_all',\n",
    "    'VentoTormo_Placenta_HS_2018_all',\n",
    "    'Wiedemann_Skin_HS_2023_all',\n",
    "    'Xu_HS_early_organogenesis_2023_all',\n",
    "    'Yanagida_Blastocyst_HS_2021_all',\n",
    "    'Yu_MultiTissue_HS_2021_all'\n",
    "]"
   ]
  },
  {
   "cell_type": "code",
   "execution_count": null,
   "metadata": {},
   "outputs": [],
   "source": [
    "for ds_name in dataset_names:\n",
    "    print(ds_name)\n",
    "\n",
    "    adata = sc.read_h5ad(os.path.join(adata_input_path, f'standard_adata_{ds_name}.h5ad'))\n",
    "    \n",
    "    adata.var.index = list(adata.var['human_gene_id'])\n",
    "    adata.var_names_make_unique()\n",
    "    adata_raw = adata.copy()\n",
    "    display(adata)\n",
    "\n",
    "    output_prefix = os.path.join(output_path, ds_name)\n",
    "    generate_dataset(output_prefix, adata_raw, standard_ids)"
   ]
  }
 ],
 "metadata": {
  "kernelspec": {
   "display_name": "scmg",
   "language": "python",
   "name": "python3"
  },
  "language_info": {
   "codemirror_mode": {
    "name": "ipython",
    "version": 3
   },
   "file_extension": ".py",
   "mimetype": "text/x-python",
   "name": "python",
   "nbconvert_exporter": "python",
   "pygments_lexer": "ipython3",
   "version": "3.10.14"
  }
 },
 "nbformat": 4,
 "nbformat_minor": 2
}
