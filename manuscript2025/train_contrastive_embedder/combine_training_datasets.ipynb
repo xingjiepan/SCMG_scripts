{
 "cells": [
  {
   "cell_type": "code",
   "execution_count": null,
   "metadata": {},
   "outputs": [],
   "source": [
    "%config InlineBackend.figure_format='retina'"
   ]
  },
  {
   "cell_type": "code",
   "execution_count": null,
   "metadata": {},
   "outputs": [],
   "source": [
    "import os\n",
    "import shutil\n",
    "\n",
    "import numpy as np\n",
    "import pandas as pd\n",
    "from tqdm import tqdm\n",
    "\n",
    "import datasets\n",
    "from datasets import Dataset, DatasetDict, concatenate_datasets"
   ]
  },
  {
   "cell_type": "code",
   "execution_count": null,
   "metadata": {},
   "outputs": [],
   "source": [
    "input_path = '/GPUData_xingjie/SCMG/contrastive_embedding_training/exp_data/datasets'\n",
    "\n",
    "os.makedirs('/GPUData_xingjie/SCMG/contrastive_embedding_training/training_dataset',\n",
    "            exist_ok=True)\n",
    "output_path = '/GPUData_xingjie/SCMG/contrastive_embedding_training/training_dataset/combined_exp'\n",
    "\n",
    "subset_list = []\n",
    "\n",
    "for subset in os.listdir(input_path):\n",
    "    subset_list.append(datasets.load_from_disk(\n",
    "        os.path.join(input_path, subset)))\n",
    "        \n",
    "combined_ds = concatenate_datasets(subset_list)\n",
    "\n",
    "if os.path.exists(output_path):\n",
    "    shutil.rmtree(output_path)\n",
    "    \n",
    "combined_ds.save_to_disk(output_path)"
   ]
  },
  {
   "cell_type": "code",
   "execution_count": null,
   "metadata": {},
   "outputs": [],
   "source": []
  }
 ],
 "metadata": {
  "kernelspec": {
   "display_name": "Python 3 (ipykernel)",
   "language": "python",
   "name": "python3"
  },
  "language_info": {
   "codemirror_mode": {
    "name": "ipython",
    "version": 3
   },
   "file_extension": ".py",
   "mimetype": "text/x-python",
   "name": "python",
   "nbconvert_exporter": "python",
   "pygments_lexer": "ipython3",
   "version": "3.10.14"
  }
 },
 "nbformat": 4,
 "nbformat_minor": 2
}
