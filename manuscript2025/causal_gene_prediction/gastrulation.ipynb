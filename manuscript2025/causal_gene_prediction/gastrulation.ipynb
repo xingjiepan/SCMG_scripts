{
 "cells": [
  {
   "cell_type": "code",
   "execution_count": null,
   "metadata": {},
   "outputs": [],
   "source": [
    "%load_ext autoreload\n",
    "%autoreload 2\n",
    "%config InlineBackend.figure_format='retina'"
   ]
  },
  {
   "cell_type": "code",
   "execution_count": null,
   "metadata": {},
   "outputs": [],
   "source": [
    "import os\n",
    "\n",
    "from tqdm import tqdm\n",
    "import numpy as np\n",
    "import pandas as pd\n",
    "import matplotlib.pyplot as plt\n",
    "import seaborn as sns\n",
    "\n",
    "import anndata\n",
    "import scanpy as sc\n",
    "import umap\n",
    "import scipy.stats\n",
    "\n",
    "import torch\n",
    "\n",
    "from scmg.model.contrastive_embedding import (CellEmbedder, \n",
    "                                        decode_cell_state_embedding, embed_adata)\n",
    "\n",
    "from scmg.model.manifold_generation import ConditionalDiffusionModel, generate_cells\n",
    "from scmg.preprocessing.data_standardization import GeneNameMapper\n",
    "gene_name_mapper = GeneNameMapper()\n"
   ]
  },
  {
   "cell_type": "code",
   "execution_count": null,
   "metadata": {},
   "outputs": [],
   "source": [
    "import matplotlib\n",
    "import matplotlib.pyplot as plt\n",
    "import seaborn as sns\n",
    "\n",
    "plt.rcParams[\"figure.autolayout\"] = False\n",
    "matplotlib.rc('pdf', fonttype=42)\n",
    "plt.rcParams['font.family'] = 'FreeSans'\n",
    "sc.set_figure_params(vector_friendly=True, dpi_save=300)\n",
    "plt.rcParams['axes.grid'] = False"
   ]
  },
  {
   "cell_type": "code",
   "execution_count": null,
   "metadata": {},
   "outputs": [],
   "source": [
    "output_path = 'causal_gene_plots'\n",
    "os.makedirs(output_path, exist_ok=True)"
   ]
  },
  {
   "cell_type": "code",
   "execution_count": null,
   "metadata": {},
   "outputs": [],
   "source": [
    "# Load the autoencoder model\n",
    "model_ce_path = '../../contrastive_embedding/trained_embedder/'\n",
    "\n",
    "model_ce = torch.load(os.path.join(model_ce_path, 'model.pt'))\n",
    "model_ce.load_state_dict(torch.load(os.path.join(model_ce_path, 'best_state_dict.pth')))\n",
    "\n",
    "device = 'cuda:0'\n",
    "model_ce.to(device)\n",
    "model_ce.eval()\n",
    "model_ce.dataset_id_map"
   ]
  },
  {
   "cell_type": "code",
   "execution_count": null,
   "metadata": {},
   "outputs": [],
   "source": [
    "pert_data_files = [\n",
    "    '/GPUData_xingjie/SCMG/perturbation_data/AdamsonWeissman2016_GSM2406681_10X010.h5ad',\n",
    "    '/GPUData_xingjie/SCMG/perturbation_data/FrangiehIzar2021_RNA.h5ad',\n",
    "    '/GPUData_xingjie/SCMG/perturbation_data/hESC_TF_screen.h5ad',\n",
    "    '/GPUData_xingjie/SCMG/perturbation_data/JiangSatija2024_IFNB.h5ad',\n",
    "    '/GPUData_xingjie/SCMG/perturbation_data/JiangSatija2024_IFNG.h5ad',\n",
    "    '/GPUData_xingjie/SCMG/perturbation_data/JiangSatija2024_INS.h5ad',\n",
    "    '/GPUData_xingjie/SCMG/perturbation_data/JiangSatija2024_TGFB.h5ad',\n",
    "    '/GPUData_xingjie/SCMG/perturbation_data/JiangSatija2024_TNFA.h5ad',\n",
    "    '/GPUData_xingjie/SCMG/perturbation_data/Joung_TFScreen_HS_2023.h5ad',\n",
    "    '/GPUData_xingjie/SCMG/perturbation_data/knockTF_human.h5ad',\n",
    "    '/GPUData_xingjie/SCMG/perturbation_data/knockTF_mouse.h5ad',\n",
    "    #'/GPUData_xingjie/SCMG/perturbation_data/omnipath.h5ad',\n",
    "    '/GPUData_xingjie/SCMG/perturbation_data/PertOrg.h5ad',\n",
    "    '/GPUData_xingjie/SCMG/perturbation_data/ReplogleWeissman2022_K562_essential.h5ad',\n",
    "    '/GPUData_xingjie/SCMG/perturbation_data/ReplogleWeissman2022_K562_gwps.h5ad',\n",
    "    '/GPUData_xingjie/SCMG/perturbation_data/ReplogleWeissman2022_rpe1.h5ad',\n",
    "    '/GPUData_xingjie/SCMG/perturbation_data/TianKampmann2021_CRISPRa.h5ad',\n",
    "    '/GPUData_xingjie/SCMG/perturbation_data/TianKampmann2021_CRISPRi.h5ad',\n",
    "    #'/GPUData_xingjie/SCMG/hESC_perturb_seq/pseudo_bulk.h5ad', # Test\n",
    "]\n",
    "\n",
    "adata_pert_list = []\n",
    "for pdf in pert_data_files:\n",
    "    adata_pert_list.append(sc.read_h5ad(pdf))\n",
    "    print(os.path.basename(pdf), adata_pert_list[-1].shape[0])\n",
    "\n",
    "adata_pert = anndata.concat(adata_pert_list, axis=0)\n",
    "adata_pert.var['gene_name'] = adata_pert_list[0].var['gene_name']\n",
    "\n",
    "adata_pert"
   ]
  },
  {
   "cell_type": "code",
   "execution_count": null,
   "metadata": {},
   "outputs": [],
   "source": [
    "# Mask out the direct target genes\n",
    "for i in range(adata_pert.shape[0]):\n",
    "    pg = adata_pert.obs['perturbed_gene'].iloc[i]\n",
    "    \n",
    "    if pg in adata_pert.var_names:\n",
    "        adata_pert.X[i, adata_pert.var_names.get_loc(pg)] = 0"
   ]
  },
  {
   "cell_type": "code",
   "execution_count": null,
   "metadata": {},
   "outputs": [],
   "source": [
    "adata_pert_ctl = adata_pert.copy()\n",
    "adata_pert_ctl.X = np.exp(adata_pert_ctl.layers['control']) - 1\n",
    "embed_adata(model_ce, adata_pert_ctl, batch_size=8192)\n",
    "\n",
    "adata_pert.obsm['X_ctl_ce_latent'] = adata_pert_ctl.obsm['X_ce_latent']\n",
    "adata_pert"
   ]
  },
  {
   "cell_type": "code",
   "execution_count": null,
   "metadata": {},
   "outputs": [],
   "source": [
    "# Load the diffusion model\n",
    "model_d_path = '../../manifold_generator/trained_diffusion_model'\n",
    "\n",
    "model_d = torch.load(os.path.join(model_d_path, 'model.pt'))\n",
    "model_d.load_state_dict(torch.load(os.path.join(model_d_path, 'best_state_dict.pth')))\n",
    "\n",
    "device = 'cuda:0'\n",
    "model_d.to(device)\n",
    "model_d.eval()"
   ]
  },
  {
   "cell_type": "code",
   "execution_count": null,
   "metadata": {},
   "outputs": [],
   "source": [
    "target_cell_type_dict = {\n",
    "#    'Inner cell mass' : 300,\n",
    "    'Epiblast' : 300,\n",
    "    'Primitive streak and adjacent ectoderm' : 300,\n",
    "    'Rostral neuroectoderm' : 300,\n",
    "#    'Caudal neuroectoderm' : 300,\n",
    "    'Nascent mesoderm' : 300,\n",
    "    'Anterior primitive streak' : 300,\n",
    "#    'Forebrain/midbrain' : 300,\n",
    "#    'Definitive endoderm' : 300,\n",
    "}\n",
    "\n",
    "#target_cell_type_dict = {\n",
    "#    'hematopoietic multipotent progenitor cell' : 600,\n",
    "#    'megakaryocyte-erythroid progenitor cell' : 300,\n",
    "##    'common myeloid progenitor' : 300,\n",
    "#    'granulocyte monocyte progenitor cell' : 300,\n",
    "##    'megakaryocyte' : 300,\n",
    "##    'erythroid progenitor cell' : 300,\n",
    "#    'common lymphoid progenitor' : 300,\n",
    "#}"
   ]
  },
  {
   "cell_type": "code",
   "execution_count": null,
   "metadata": {},
   "outputs": [],
   "source": [
    "cond_classes = []\n",
    "for cell_type in target_cell_type_dict:\n",
    "    cond_classes.extend([cell_type] * target_cell_type_dict[cell_type])"
   ]
  },
  {
   "cell_type": "code",
   "execution_count": null,
   "metadata": {},
   "outputs": [],
   "source": [
    "generated_cells = generate_cells(model_d, cond_classes)"
   ]
  },
  {
   "cell_type": "code",
   "execution_count": null,
   "metadata": {},
   "outputs": [],
   "source": [
    "adata_generated = decode_cell_state_embedding(model_ce, generated_cells, ['Qiu_Organogenesis_MM_2022:all'] * generated_cells.shape[0])\n",
    "adata_generated.obs['cell_type'] = cond_classes\n",
    "adata_generated"
   ]
  },
  {
   "cell_type": "code",
   "execution_count": null,
   "metadata": {},
   "outputs": [],
   "source": [
    "sc.pp.neighbors(adata_generated, use_rep='X_ce_latent', n_neighbors=30)\n",
    "sc.tl.umap(adata_generated)"
   ]
  },
  {
   "cell_type": "code",
   "execution_count": null,
   "metadata": {},
   "outputs": [],
   "source": [
    "fig, ax = plt.subplots(figsize=(4, 4), dpi=300)\n",
    "\n",
    "sc.pl.umap(adata_generated, color='cell_type', \n",
    "           legend_loc='on data', legend_fontsize=5, ax=ax, frameon=False, show=False)\n",
    "\n",
    "plt.savefig(os.path.join(output_path, 'umap_generated_cells_gastrulation.pdf'))"
   ]
  },
  {
   "cell_type": "code",
   "execution_count": null,
   "metadata": {},
   "outputs": [],
   "source": [
    "from scmg.model.causal_prediction import CausalGenePredictor\n",
    "\n",
    "gene_stats_df = pd.read_parquet(\n",
    "    '/GPUData_xingjie/Softwares/SCMG_dev/tests/manifold_generator/global_marker_genes/global_gene_stats.parquet')\n",
    "\n",
    "causal_gene_predictor = CausalGenePredictor(adata_pert, \n",
    "                        gene_stats_df.loc[adata_pert.var.index.values]['std'].values)"
   ]
  },
  {
   "cell_type": "markdown",
   "metadata": {},
   "source": [
    "# Endoderm"
   ]
  },
  {
   "cell_type": "code",
   "execution_count": null,
   "metadata": {},
   "outputs": [],
   "source": [
    "source_cts = ['Epiblast']\n",
    "target_cts = [\n",
    "    #'Nascent mesoderm',\n",
    "    'Anterior primitive streak',\n",
    "    #'Rostral neuroectoderm',\n",
    "    #'Caudal neuroectoderm',\n",
    "]\n",
    "\n",
    "source_cell_mask = adata_generated.obs['cell_type'].isin(source_cts)\n",
    "target_cell_mask = adata_generated.obs['cell_type'].isin(target_cts)\n",
    "\n",
    "source_mean_exp = adata_generated.X[source_cell_mask].mean(axis=0)\n",
    "target_mean_exp = adata_generated.X[target_cell_mask].mean(axis=0)\n",
    "\n",
    "pert_match_df = causal_gene_predictor.calc_causal_scores(target_mean_exp - source_mean_exp)\n",
    "pert_match_df"
   ]
  },
  {
   "cell_type": "code",
   "execution_count": null,
   "metadata": {},
   "outputs": [],
   "source": [
    "pert_match_df= pert_match_df.sort_values('causal_score', ascending=False)\n",
    "pert_match_df = pert_match_df.drop_duplicates('perturbed_gene', keep='first')"
   ]
  },
  {
   "cell_type": "code",
   "execution_count": null,
   "metadata": {},
   "outputs": [],
   "source": [
    "pert_match_df.sort_values('causal_score', ascending=False)[:20]"
   ]
  },
  {
   "cell_type": "code",
   "execution_count": null,
   "metadata": {},
   "outputs": [],
   "source": [
    "fig, ax = plt.subplots(figsize=(4, 4), dpi=300)\n",
    "\n",
    "ax.axhline(c='grey', lw=0.5)\n",
    "ax.axvline(c='grey', lw=0.5)\n",
    "ax.scatter(pert_match_df['gene_shift_z'], pert_match_df['pert_match_score'], s=1, rasterized=True)\n",
    "\n",
    "label_df = pert_match_df[pert_match_df['perturbed_gene_name'].isin(\n",
    "    ['GSC', 'EOMES', 'LHX1', 'TBXT', 'POU5F1', 'FOXA2', 'SOX2'])]\n",
    "for i, row in label_df.iterrows():\n",
    "    plt.text(row['gene_shift_z'], row['pert_match_score'], row['perturbed_gene_name'], \n",
    "             fontsize=8)\n",
    "    \n",
    "ax.set_xlabel('Gene expression shift (z-score)')\n",
    "ax.set_ylabel('Perturbation match score')\n",
    "ax.set_title('Anterior primitive streak')\n",
    "fig.savefig(os.path.join(output_path, 'scatter_causal_genes_anterior_primitive_streak.pdf'))"
   ]
  },
  {
   "cell_type": "code",
   "execution_count": null,
   "metadata": {},
   "outputs": [],
   "source": [
    "pert_match_df[pert_match_df['perturbed_gene_name'].isin(['POU5F1', 'SOX2', 'EOMES', 'FOXA2', 'LHX1', 'TBXT'])]"
   ]
  },
  {
   "cell_type": "code",
   "execution_count": null,
   "metadata": {},
   "outputs": [],
   "source": [
    "# Plot the relationship between causal genes and perturbation shifts\n",
    "pert_id = 'knockTF_human_DataSet_01_350'\n",
    "\n",
    "x = target_mean_exp - source_mean_exp\n",
    "y = adata_pert[pert_id].X[0]\n",
    "\n",
    "x = x / causal_gene_predictor.gene_stds\n",
    "y = y / causal_gene_predictor.gene_stds\n",
    "\n",
    "match_scores = np.abs(x * y)\n",
    "\n",
    "# Plot\n",
    "plt.axhline(c='grey', lw=0.5)\n",
    "plt.axvline(c='grey', lw=0.5)\n",
    "\n",
    "for i in np.argsort(-match_scores)[:10]:\n",
    "    plt.text(x[i], y[i], causal_gene_predictor.adata_pert.var['gene_name'].iloc[i], fontsize=8)\n",
    "\n",
    "plt.scatter(x, y, s=1)"
   ]
  },
  {
   "cell_type": "code",
   "execution_count": null,
   "metadata": {},
   "outputs": [],
   "source": [
    "adata_named = adata_generated.copy()\n",
    "adata_named.var.index = gene_name_mapper.map_gene_names(\n",
    "    adata_named.var.index.values, 'human', 'human', 'id', 'name')"
   ]
  },
  {
   "cell_type": "code",
   "execution_count": null,
   "metadata": {},
   "outputs": [],
   "source": [
    "genes_to_plot = ['FOXA2']\n",
    "\n",
    "sc.pl.umap(adata_named, color=genes_to_plot, vmax=None, cmap='viridis')"
   ]
  },
  {
   "cell_type": "markdown",
   "metadata": {},
   "source": [
    "# Mesoderm"
   ]
  },
  {
   "cell_type": "code",
   "execution_count": null,
   "metadata": {},
   "outputs": [],
   "source": [
    "source_cts = ['Epiblast']\n",
    "target_cts = [\n",
    "    'Nascent mesoderm',\n",
    "    #'Anterior primitive streak',\n",
    "    #'Rostral neuroectoderm',\n",
    "    #'Caudal neuroectoderm',\n",
    "]\n",
    "\n",
    "source_cell_mask = adata_generated.obs['cell_type'].isin(source_cts)\n",
    "target_cell_mask = adata_generated.obs['cell_type'].isin(target_cts)\n",
    "\n",
    "source_mean_exp = adata_generated.X[source_cell_mask].mean(axis=0)\n",
    "target_mean_exp = adata_generated.X[target_cell_mask].mean(axis=0)\n",
    "\n",
    "pert_match_df = causal_gene_predictor.calc_causal_scores(target_mean_exp - source_mean_exp)\n",
    "pert_match_df"
   ]
  },
  {
   "cell_type": "code",
   "execution_count": null,
   "metadata": {},
   "outputs": [],
   "source": [
    "pert_match_df= pert_match_df.sort_values('causal_score', ascending=False)\n",
    "pert_match_df = pert_match_df.drop_duplicates('perturbed_gene', keep='first')"
   ]
  },
  {
   "cell_type": "code",
   "execution_count": null,
   "metadata": {},
   "outputs": [],
   "source": [
    "pert_match_df.sort_values('causal_score', ascending=False)[:20]"
   ]
  },
  {
   "cell_type": "code",
   "execution_count": null,
   "metadata": {},
   "outputs": [],
   "source": [
    "fig, ax = plt.subplots(figsize=(4, 4), dpi=300)\n",
    "\n",
    "ax.axhline(c='grey', lw=0.5)\n",
    "ax.axvline(c='grey', lw=0.5)\n",
    "ax.scatter(pert_match_df['gene_shift_z'], pert_match_df['pert_match_score'], s=1, rasterized=True)\n",
    "\n",
    "label_df = pert_match_df[pert_match_df['perturbed_gene_name'].isin(\n",
    "    ['EOMES', 'TBXT', 'EVX1', 'POU5F1', 'GSC', 'SNAI1', 'SOX2', 'ETV2', 'LHX1', 'OTX2'])]\n",
    "for i, row in label_df.iterrows():\n",
    "    plt.text(row['gene_shift_z'], row['pert_match_score'], row['perturbed_gene_name'], \n",
    "             fontsize=8)\n",
    "    \n",
    "ax.set_xlabel('Gene expression shift (z-score)')\n",
    "ax.set_ylabel('Perturbation match score')\n",
    "ax.set_title('Nascent mesoderm')\n",
    "fig.savefig(os.path.join(output_path, 'scatter_causal_genes_nascent_mesoderm.pdf'))"
   ]
  },
  {
   "cell_type": "code",
   "execution_count": null,
   "metadata": {},
   "outputs": [],
   "source": [
    "pert_match_df[pert_match_df['perturbed_gene_name'].isin([\n",
    "    'POU5F1', 'SOX2', 'EOMES', 'ETV2', 'TBXT', 'EVX1', 'SNAI1'\n",
    "])]"
   ]
  },
  {
   "cell_type": "code",
   "execution_count": null,
   "metadata": {},
   "outputs": [],
   "source": [
    "# Plot the relationship between causal genes and perturbation shifts\n",
    "pert_id = 'PertOrg_Pertg09141'\n",
    "\n",
    "x = target_mean_exp - source_mean_exp\n",
    "y = adata_pert[pert_id].X[0]\n",
    "\n",
    "x = x / causal_gene_predictor.gene_stds\n",
    "y = y / causal_gene_predictor.gene_stds\n",
    "\n",
    "match_scores = np.abs(x * y)\n",
    "\n",
    "# Plot\n",
    "plt.axhline(c='grey', lw=0.5)\n",
    "plt.axvline(c='grey', lw=0.5)\n",
    "\n",
    "for i in np.argsort(-match_scores)[:10]:\n",
    "    plt.text(x[i], y[i], causal_gene_predictor.adata_pert.var['gene_name'].iloc[i], fontsize=8)\n",
    "\n",
    "plt.scatter(x, y, s=1)"
   ]
  },
  {
   "cell_type": "code",
   "execution_count": null,
   "metadata": {},
   "outputs": [],
   "source": [
    "adata_named = adata_generated.copy()\n",
    "adata_named.var.index = gene_name_mapper.map_gene_names(\n",
    "    adata_named.var.index.values, 'human', 'human', 'id', 'name')"
   ]
  },
  {
   "cell_type": "code",
   "execution_count": null,
   "metadata": {},
   "outputs": [],
   "source": [
    "genes_to_plot = ['OTX2']\n",
    "\n",
    "sc.pl.umap(adata_named, color=genes_to_plot, vmax=None, cmap='viridis')"
   ]
  },
  {
   "cell_type": "markdown",
   "metadata": {},
   "source": [
    "# Ectoderm"
   ]
  },
  {
   "cell_type": "code",
   "execution_count": null,
   "metadata": {},
   "outputs": [],
   "source": [
    "source_cts = ['Epiblast']\n",
    "target_cts = [\n",
    "    #'Nascent mesoderm',\n",
    "    #'Anterior primitive streak',\n",
    "    'Rostral neuroectoderm',\n",
    "    #'Caudal neuroectoderm',\n",
    "]\n",
    "\n",
    "source_cell_mask = adata_generated.obs['cell_type'].isin(source_cts)\n",
    "target_cell_mask = adata_generated.obs['cell_type'].isin(target_cts)\n",
    "\n",
    "source_mean_exp = adata_generated.X[source_cell_mask].mean(axis=0)\n",
    "target_mean_exp = adata_generated.X[target_cell_mask].mean(axis=0)\n",
    "\n",
    "pert_match_df = causal_gene_predictor.calc_causal_scores(target_mean_exp - source_mean_exp)\n",
    "pert_match_df"
   ]
  },
  {
   "cell_type": "code",
   "execution_count": null,
   "metadata": {},
   "outputs": [],
   "source": [
    "pert_match_df= pert_match_df.sort_values('causal_score', ascending=False)\n",
    "pert_match_df = pert_match_df.drop_duplicates('perturbed_gene', keep='first')"
   ]
  },
  {
   "cell_type": "code",
   "execution_count": null,
   "metadata": {},
   "outputs": [],
   "source": [
    "pert_match_df.sort_values('causal_score', ascending=False)[:20]"
   ]
  },
  {
   "cell_type": "code",
   "execution_count": null,
   "metadata": {},
   "outputs": [],
   "source": [
    "fig, ax = plt.subplots(figsize=(4, 4), dpi=300)\n",
    "\n",
    "ax.axhline(c='grey', lw=0.5)\n",
    "ax.axvline(c='grey', lw=0.5)\n",
    "ax.scatter(pert_match_df['gene_shift_z'], pert_match_df['pert_match_score'], s=1, rasterized=True)\n",
    "\n",
    "label_df = pert_match_df[pert_match_df['perturbed_gene_name'].isin(\n",
    "    ['HESX1', 'POU5F1', 'FOXH1', 'DLX5', 'NANOG', 'LMO1', 'FOXB1', 'LHX5', 'SOX2'])]\n",
    "for i, row in label_df.iterrows():\n",
    "    plt.text(row['gene_shift_z'], row['pert_match_score'], row['perturbed_gene_name'], \n",
    "             fontsize=8)\n",
    "    \n",
    "ax.set_xlabel('Gene expression shift (z-score)')\n",
    "ax.set_ylabel('Perturbation match score')\n",
    "ax.set_title('Rostral neuroectoderm')\n",
    "fig.savefig(os.path.join(output_path, 'scatter_causal_genes_rostral_neuroectoderm.pdf'))"
   ]
  },
  {
   "cell_type": "code",
   "execution_count": null,
   "metadata": {},
   "outputs": [],
   "source": [
    "pert_match_df[pert_match_df['perturbed_gene_name'].isin([\n",
    "    'POU5F1', 'NANOG', 'FOXH1', 'SOX2', 'DLX5'\n",
    "])]"
   ]
  },
  {
   "cell_type": "code",
   "execution_count": null,
   "metadata": {},
   "outputs": [],
   "source": [
    "# Plot the relationship between causal genes and perturbation shifts\n",
    "pert_id = 'hESC_TF_screen_DLX5'\n",
    "\n",
    "x = target_mean_exp - source_mean_exp\n",
    "y = adata_pert[pert_id].X[0]\n",
    "\n",
    "x = x / causal_gene_predictor.gene_stds\n",
    "y = y / causal_gene_predictor.gene_stds\n",
    "\n",
    "match_scores = np.abs(x * y)\n",
    "\n",
    "# Plot\n",
    "plt.axhline(c='grey', lw=0.5)\n",
    "plt.axvline(c='grey', lw=0.5)\n",
    "\n",
    "for i in np.argsort(-match_scores)[:10]:\n",
    "    plt.text(x[i], y[i], causal_gene_predictor.adata_pert.var['gene_name'].iloc[i], fontsize=8)\n",
    "\n",
    "plt.scatter(x, y, s=1)"
   ]
  },
  {
   "cell_type": "code",
   "execution_count": null,
   "metadata": {},
   "outputs": [],
   "source": [
    "adata_named = adata_generated.copy()\n",
    "adata_named.var.index = gene_name_mapper.map_gene_names(\n",
    "    adata_named.var.index.values, 'human', 'human', 'id', 'name')"
   ]
  },
  {
   "cell_type": "code",
   "execution_count": null,
   "metadata": {},
   "outputs": [],
   "source": [
    "genes_to_plot = ['DLX5']\n",
    "\n",
    "sc.pl.umap(adata_named, color=genes_to_plot, vmax=None, cmap='viridis')"
   ]
  },
  {
   "cell_type": "code",
   "execution_count": null,
   "metadata": {},
   "outputs": [],
   "source": []
  }
 ],
 "metadata": {
  "kernelspec": {
   "display_name": "scmg",
   "language": "python",
   "name": "python3"
  },
  "language_info": {
   "codemirror_mode": {
    "name": "ipython",
    "version": 3
   },
   "file_extension": ".py",
   "mimetype": "text/x-python",
   "name": "python",
   "nbconvert_exporter": "python",
   "pygments_lexer": "ipython3",
   "version": "3.10.14"
  }
 },
 "nbformat": 4,
 "nbformat_minor": 2
}
